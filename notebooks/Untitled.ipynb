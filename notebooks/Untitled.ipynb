{
 "cells": [
  {
   "cell_type": "code",
   "execution_count": 42,
   "id": "09224cce-65bf-438c-9918-b7c98245ec0c",
   "metadata": {},
   "outputs": [],
   "source": [
    "import pandas as pd\n",
    "from pathlib import Path\n",
    "import numpy as np\n",
    "import plotly.express as px\n",
    "import plotly.graph_objects as go\n",
    "from plotly.subplots import make_subplots\n",
    "import rich\n",
    "\n",
    "from touch_rugby_analyzer.constants import ASSETS_ROOT, ROOT, DATA_ROOT"
   ]
  },
  {
   "cell_type": "code",
   "execution_count": 45,
   "id": "810eef83-eb2d-4a91-93c9-c8ac69bfa151",
   "metadata": {},
   "outputs": [],
   "source": [
    "output_data_root = DATA_ROOT / \"output\"\n",
    "output_data_root.mkdir(parents=True, exist_ok=True)\n",
    "\n",
    "\n",
    "def time_to_n_seconds(time_obj):\n",
    "    return 3600 * time_obj.hour + 60 * time_obj.minute + time_obj.second\n",
    "\n",
    "\n",
    "def load_data(data_path, local_team_name, other_team_name):\n",
    "    data_df = pd.read_csv(data_path)\n",
    "    data_df = data_df.dropna(axis=0, how=\"all\", subset=\"Time\")\n",
    "    # data_df.Time = pd.to_datetime(data_df.Time).dt.time\n",
    "    data_df.Time = pd.to_datetime(data_df.Time)\n",
    "    game_start_events = data_df[data_df[\"Name\"] == \"Game Start\"]\n",
    "    game_end_events = data_df[data_df[\"Name\"] == \"Game End\"]\n",
    "\n",
    "    assert len(game_start_events) == len(game_end_events) == 2\n",
    "\n",
    "    half_time_start_time = game_end_events.Time.to_list()[0]\n",
    "    half_time_end_time = game_start_events.Time.to_list()[1]\n",
    "    half_time_end_index = game_start_events.index.to_list()[1]\n",
    "\n",
    "    new_game_end_time = half_time_start_time + pd.Timedelta(minutes=2)\n",
    "    delta = new_game_end_time - half_time_end_time\n",
    "\n",
    "    halftime_passed = False\n",
    "    ids = []\n",
    "    for i, row in data_df.iterrows():\n",
    "        if i == half_time_end_index:\n",
    "            halftime_passed = True\n",
    "        if halftime_passed:\n",
    "            ids.append(i)\n",
    "    data_df.Time[ids] += delta\n",
    "\n",
    "    data_df[\"Against France\"].fillna(False, inplace=True)\n",
    "    data_df[\"To Review\"].fillna(False, inplace=True)\n",
    "\n",
    "    data_df[\"Team\"] = data_df.apply(\n",
    "        lambda row: (\n",
    "            local_team_name\n",
    "            if (\n",
    "                (row[\"Against France\"] and row[\"Type\"] in [\"Penalty\", \"Turnover\"])\n",
    "                or (\n",
    "                    not row[\"Against France\"]\n",
    "                    and row[\"Type\"] not in [\"Penalty\", \"Turnover\"]\n",
    "                )\n",
    "            )\n",
    "            else other_team_name\n",
    "        ),\n",
    "        axis=1,\n",
    "    )\n",
    "    data_df[\"TeamOld\"] = data_df[\"Against France\"].apply(\n",
    "        lambda x: other_team_name if x else local_team_name\n",
    "    )\n",
    "\n",
    "    def add_team_after(data_df: pd.DataFrame):\n",
    "        ball_owners = []\n",
    "        for i, row in data_df.iterrows():\n",
    "            against_local = row[\"Against France\"]\n",
    "            if i == 0:\n",
    "                new_expected_ball_owner = (\n",
    "                    other_team_name if against_local else local_team_name\n",
    "                )\n",
    "            else:\n",
    "                if row[\"Type\"] == \"Try\":\n",
    "                    if not (\n",
    "                        (against_local and ball_owners[-1] == other_team_name)\n",
    "                        or (not against_local and ball_owners[-1] == local_team_name)\n",
    "                    ):\n",
    "                        rich.print(data_df)\n",
    "                        rich.print(row)\n",
    "                        raise Exception(\"wtf\")\n",
    "                    new_expected_ball_owner = (\n",
    "                        local_team_name if against_local else other_team_name\n",
    "                    )\n",
    "                elif row[\"Type\"] in [\"Penalty\", \"Turnover\"] and (\n",
    "                    (against_local and ball_owners[-1] == local_team_name)\n",
    "                    or (not against_local and ball_owners[-1] == other_team_name)\n",
    "                ):\n",
    "                    new_expected_ball_owner = (\n",
    "                        other_team_name if against_local else local_team_name\n",
    "                    )\n",
    "                elif row[\"Type\"] in [\"Game Event\"]:\n",
    "                    new_expected_ball_owner = (\n",
    "                        other_team_name if against_local else local_team_name\n",
    "                    )\n",
    "                else:\n",
    "                    new_expected_ball_owner = ball_owners[-1]\n",
    "            ball_owners.append(new_expected_ball_owner)\n",
    "        data_df[\"ball_owner\"] = ball_owners\n",
    "\n",
    "    add_team_after(data_df)\n",
    "    return data_df\n",
    "\n",
    "\n",
    "def make_fig_1(data_df, local_team_name, other_team_name):\n",
    "    events = [\"Try\", \"Turnover\", \"Penalty\"]\n",
    "    fig = make_subplots(len(events), 1, subplot_titles=events, shared_xaxes=True)\n",
    "\n",
    "    for i, event_name in enumerate(events):\n",
    "        event_data = []\n",
    "        event_local, event_other = 0, 0\n",
    "        for j, row in data_df[data_df[\"Type\"] == event_name].iterrows():\n",
    "            if row[\"Against France\"]:\n",
    "                event_other += 1\n",
    "            else:\n",
    "                event_local += 1\n",
    "            event_data.append(\n",
    "                [\n",
    "                    row[\"Time\"],\n",
    "                    event_local,\n",
    "                    event_other,\n",
    "                    row[\"Youtube Link\"],\n",
    "                ]\n",
    "            )\n",
    "        event_df = pd.DataFrame(\n",
    "            event_data,\n",
    "            columns=[\n",
    "                \"Time\",\n",
    "                f\"{event_name} {local_team_name}\",\n",
    "                f\"{event_name} {other_team_name}\",\n",
    "                \"Link\",\n",
    "            ],\n",
    "        )\n",
    "\n",
    "        fig.add_trace(\n",
    "            go.Scatter(\n",
    "                x=event_df[\"Time\"],\n",
    "                y=event_df[f\"{event_name} {local_team_name}\"],\n",
    "                name=local_team_name,\n",
    "                mode=\"markers+lines+text\",\n",
    "                marker_color=\"green\",\n",
    "                legendgroup=local_team_name,\n",
    "                showlegend=i == 0,\n",
    "                text=[\n",
    "                    f\"<a href='{row['Link']}'>link</a>\"\n",
    "                    for i, row in event_df.iterrows()\n",
    "                ],\n",
    "                textposition=\"bottom center\",\n",
    "            ),\n",
    "            i + 1,\n",
    "            1,\n",
    "        )\n",
    "        fig.add_trace(\n",
    "            go.Scatter(\n",
    "                x=event_df[\"Time\"],\n",
    "                y=event_df[f\"{event_name} {other_team_name}\"],\n",
    "                name=other_team_name,\n",
    "                mode=\"markers+lines\",\n",
    "                marker_color=\"red\",\n",
    "                legendgroup=other_team_name,\n",
    "                showlegend=i == 0,\n",
    "            ),\n",
    "            i + 1,\n",
    "            1,\n",
    "        )\n",
    "\n",
    "    fig.update_layout(\n",
    "        hovermode=\"x unified\",\n",
    "        title=f\"Statistics for {local_team_name} vs {other_team_name}\",\n",
    "    )\n",
    "    fig.write_html(output_data_root / \"events.html\")\n",
    "    fig.show()\n",
    "    return fig\n",
    "\n",
    "\n",
    "def make_game_fig(data_df, local_team_name, other_team_name):\n",
    "    fig = go.Figure()\n",
    "    score_data = []\n",
    "    against_local, prev_time = None, None\n",
    "\n",
    "    for n, colour in [(local_team_name, \"green\"), (other_team_name, \"red\")]:\n",
    "        points_x, points_y = [], []\n",
    "        for i, row in data_df.iterrows():\n",
    "            if row[\"ball_owner\"] == n:\n",
    "                points_x.append(row[\"Time\"])\n",
    "                points_y.append(n)\n",
    "            else:\n",
    "                if i > 0 and data_df.iloc[i - 1][\"ball_owner\"] == n:\n",
    "                    points_x.append(row[\"Time\"])\n",
    "                    points_y.append(n)\n",
    "                    points_x.append(None)\n",
    "                    points_y.append(None)\n",
    "                else:\n",
    "                    continue\n",
    "        fig.add_trace(\n",
    "            go.Scatter(\n",
    "                x=points_x,\n",
    "                y=points_y,\n",
    "                mode=\"lines\",\n",
    "                hoverinfo=None,\n",
    "                marker_color=colour,\n",
    "                name=n,\n",
    "            )\n",
    "        )\n",
    "\n",
    "    annotations = []\n",
    "    for i, row in data_df.iterrows():\n",
    "        # rich.print(f\"{row['Type']}-{row['Name']} (Against Local={row['Against France']})\")\n",
    "\n",
    "        if row[\"Type\"] == \"Penalty\":\n",
    "            color = \"red\"\n",
    "        elif row[\"Type\"] == \"Turnover\":\n",
    "            color = \"orange\"\n",
    "        elif row[\"Type\"] == \"Game Event\":\n",
    "            color = \"black\"\n",
    "        else:\n",
    "            color = \"green\"\n",
    "        hovertext = f\"{row['Type']}-{row['Name']}\"\n",
    "        fig.add_trace(\n",
    "            go.Scatter(\n",
    "                x=[row[\"Time\"]],\n",
    "                y=[row[\"Team\"]],\n",
    "                mode=\"markers\",\n",
    "                # name=hovertext,\n",
    "                hovertext=hovertext,\n",
    "                marker_color=color,\n",
    "                showlegend=False,\n",
    "            )\n",
    "        )\n",
    "        annotations.append(\n",
    "            dict(\n",
    "                x=row[\"Time\"],\n",
    "                y=row[\"Team\"],\n",
    "                text=f\"<a href='{row['Youtube Link']}'>link</a>\",\n",
    "                showarrow=False,\n",
    "                yshift=10,\n",
    "            )\n",
    "        )\n",
    "\n",
    "    fig.update_layout(annotations=annotations)\n",
    "    # fig.update_layout(hovermode=\"x unified\", annotations)\n",
    "    # fig.write_html(output_data_root / \"events_v2.html\")\n",
    "    fig.show()\n",
    "    return fig\n",
    "\n",
    "\n",
    "def get_stats_df(data_df, local_team_name, other_team_name):\n",
    "    _data_df = data_df[\n",
    "        [\n",
    "            \"Type\",\n",
    "            \"Name\",\n",
    "            \"Team\",\n",
    "        ]\n",
    "    ][data_df.Type.isin([\"Penalty\", \"Turnover\"])]\n",
    "    output = _data_df.groupby([\"Type\", \"Team\", \"Name\"]).size()\n",
    "    output.to_csv(output_data_root / \"stats.csv\", index=True)\n",
    "\n",
    "    penalty_types = list(_data_df[_data_df[\"Type\"] == \"Penalty\"][\"Name\"].unique())\n",
    "    turnover_types = list(_data_df[_data_df[\"Type\"] == \"Turnover\"][\"Name\"].unique())\n",
    "    column_names = penalty_types + turnover_types\n",
    "\n",
    "    new_stats_df = pd.DataFrame(\n",
    "        np.zeros((2, len(column_names)), dtype=int),\n",
    "        index=[local_team_name, other_team_name],\n",
    "        columns=column_names,\n",
    "    )\n",
    "    for i, row in _data_df.iterrows():\n",
    "        new_stats_df.loc[row[\"Team\"], row[\"Name\"]] += 1\n",
    "\n",
    "    # new_stats_df[\"Average Possession Time\"] = [np.mean(local_possesion_ts).round(3), np.mean(other_possesion_ts).round(3)]\n",
    "    # rich.print(f\"{np.mean(local_possesion_ts):.3f}s ({len(local_possesion_ts)} possessions)\")\n",
    "    # rich.print(f\"{np.mean(other_possesion_ts):.3f}s ({len(other_possesion_ts)} possessions)\")\n",
    "    # output\n",
    "    new_stats_df.to_csv(output_data_root / \"stats_v2.csv\", index=True)\n",
    "    return new_stats_df"
   ]
  },
  {
   "cell_type": "code",
   "execution_count": 47,
   "id": "a67b1cfe-36f3-401e-a2d5-4617893c477c",
   "metadata": {},
   "outputs": [
    {
     "name": "stderr",
     "output_type": "stream",
     "text": [
      "C:\\Users\\robin\\AppData\\Local\\Temp\\ipykernel_5076\\3661553388.py:12: UserWarning:\n",
      "\n",
      "Could not infer format, so each element will be parsed individually, falling back to `dateutil`. To ensure parsing is consistent and as-expected, please specify a format.\n",
      "\n",
      "C:\\Users\\robin\\AppData\\Local\\Temp\\ipykernel_5076\\3661553388.py:32: FutureWarning:\n",
      "\n",
      "ChainedAssignmentError: behaviour will change in pandas 3.0!\n",
      "You are setting values through chained assignment. Currently this works in certain cases, but when using Copy-on-Write (which will become the default behaviour in pandas 3.0) this will never work to update the original DataFrame or Series, because the intermediate object on which we are setting values will behave as a copy.\n",
      "A typical example is when you are setting values in a column of a DataFrame, like:\n",
      "\n",
      "df[\"col\"][row_indexer] = value\n",
      "\n",
      "Use `df.loc[row_indexer, \"col\"] = values` instead, to perform the assignment in a single step and ensure this keeps updating the original `df`.\n",
      "\n",
      "See the caveats in the documentation: https://pandas.pydata.org/pandas-docs/stable/user_guide/indexing.html#returning-a-view-versus-a-copy\n",
      "\n",
      "\n",
      "C:\\Users\\robin\\AppData\\Local\\Temp\\ipykernel_5076\\3661553388.py:32: SettingWithCopyWarning:\n",
      "\n",
      "\n",
      "A value is trying to be set on a copy of a slice from a DataFrame\n",
      "\n",
      "See the caveats in the documentation: https://pandas.pydata.org/pandas-docs/stable/user_guide/indexing.html#returning-a-view-versus-a-copy\n",
      "\n",
      "C:\\Users\\robin\\AppData\\Local\\Temp\\ipykernel_5076\\3661553388.py:34: FutureWarning:\n",
      "\n",
      "A value is trying to be set on a copy of a DataFrame or Series through chained assignment using an inplace method.\n",
      "The behavior will change in pandas 3.0. This inplace method will never work because the intermediate object on which we are setting values always behaves as a copy.\n",
      "\n",
      "For example, when doing 'df[col].method(value, inplace=True)', try using 'df.method({col: value}, inplace=True)' or df[col] = df[col].method(value) instead, to perform the operation inplace on the original object.\n",
      "\n",
      "\n",
      "\n",
      "C:\\Users\\robin\\AppData\\Local\\Temp\\ipykernel_5076\\3661553388.py:35: FutureWarning:\n",
      "\n",
      "A value is trying to be set on a copy of a DataFrame or Series through chained assignment using an inplace method.\n",
      "The behavior will change in pandas 3.0. This inplace method will never work because the intermediate object on which we are setting values always behaves as a copy.\n",
      "\n",
      "For example, when doing 'df[col].method(value, inplace=True)', try using 'df.method({col: value}, inplace=True)' or df[col] = df[col].method(value) instead, to perform the operation inplace on the original object.\n",
      "\n",
      "\n",
      "\n"
     ]
    },
    {
     "data": {
      "application/vnd.plotly.v1+json": {
       "config": {
        "plotlyServerURL": "https://plot.ly"
       },
       "data": [
        {
         "legendgroup": "france",
         "marker": {
          "color": "green"
         },
         "mode": "markers+lines+text",
         "name": "france",
         "showlegend": true,
         "text": [
          "<a href='https://youtu.be/OVdyq3oRq_w?si=UqAu1x62-mD_XZPv&t=165'>link</a>",
          "<a href='https://youtu.be/OVdyq3oRq_w?si=UqAu1x62-mD_XZPv&t=411'>link</a>",
          "<a href='https://youtu.be/OVdyq3oRq_w?si=UqAu1x62-mD_XZPv&t=567'>link</a>",
          "<a href='https://youtu.be/OVdyq3oRq_w?si=UqAu1x62-mD_XZPv&t=703'>link</a>",
          "<a href='https://youtu.be/OVdyq3oRq_w?si=UqAu1x62-mD_XZPv&t=1197'>link</a>",
          "<a href='https://youtu.be/OVdyq3oRq_w?si=UqAu1x62-mD_XZPv&t=1709'>link</a>",
          "<a href='https://youtu.be/OVdyq3oRq_w?si=UqAu1x62-mD_XZPv&t=2021'>link</a>",
          "<a href='https://youtu.be/OVdyq3oRq_w?si=UqAu1x62-mD_XZPv&t=2294'>link</a>",
          "<a href='https://youtu.be/OVdyq3oRq_w?si=UqAu1x62-mD_XZPv&t=2439'>link</a>",
          "<a href='https://youtu.be/OVdyq3oRq_w?si=UqAu1x62-mD_XZPv&t=2472'>link</a>",
          "<a href='https://youtu.be/OVdyq3oRq_w?si=UqAu1x62-mD_XZPv&t=2544'>link</a>",
          "<a href='https://youtu.be/OVdyq3oRq_w?si=UqAu1x62-mD_XZPv&t=2768'>link</a>"
         ],
         "textposition": "bottom center",
         "type": "scatter",
         "x": [
          "2025-09-16T00:02:45.000000000",
          "2025-09-16T00:06:51.000000000",
          "2025-09-16T00:09:27.000000000",
          "2025-09-16T00:11:43.000000000",
          "2025-09-16T00:19:57.000000000",
          "2025-09-16T00:25:31.000000000",
          "2025-09-16T00:30:43.000000000",
          "2025-09-16T00:35:16.000000000",
          "2025-09-16T00:37:41.000000000",
          "2025-09-16T00:38:14.000000000",
          "2025-09-16T00:39:26.000000000",
          "2025-09-16T00:43:10.000000000"
         ],
         "xaxis": "x",
         "y": {
          "bdata": "AAABAgMEBAUFBgYH",
          "dtype": "i1"
         },
         "yaxis": "y"
        },
        {
         "legendgroup": "pays-bas",
         "marker": {
          "color": "red"
         },
         "mode": "markers+lines",
         "name": "pays-bas",
         "showlegend": true,
         "type": "scatter",
         "x": [
          "2025-09-16T00:02:45.000000000",
          "2025-09-16T00:06:51.000000000",
          "2025-09-16T00:09:27.000000000",
          "2025-09-16T00:11:43.000000000",
          "2025-09-16T00:19:57.000000000",
          "2025-09-16T00:25:31.000000000",
          "2025-09-16T00:30:43.000000000",
          "2025-09-16T00:35:16.000000000",
          "2025-09-16T00:37:41.000000000",
          "2025-09-16T00:38:14.000000000",
          "2025-09-16T00:39:26.000000000",
          "2025-09-16T00:43:10.000000000"
         ],
         "xaxis": "x",
         "y": {
          "bdata": "AQICAgICAwMEBAUF",
          "dtype": "i1"
         },
         "yaxis": "y"
        },
        {
         "legendgroup": "france",
         "marker": {
          "color": "green"
         },
         "mode": "markers+lines+text",
         "name": "france",
         "showlegend": false,
         "text": [
          "<a href='https://youtu.be/OVdyq3oRq_w?si=UqAu1x62-mD_XZPv&t=234'>link</a>",
          "<a href='https://youtu.be/OVdyq3oRq_w?si=UqAu1x62-mD_XZPv&t=267'>link</a>",
          "<a href='https://youtu.be/OVdyq3oRq_w?si=UqAu1x62-mD_XZPv&t=286'>link</a>",
          "<a href='https://youtu.be/OVdyq3oRq_w?si=UqAu1x62-mD_XZPv&t=328'>link</a>",
          "<a href='https://youtu.be/OVdyq3oRq_w?si=UqAu1x62-mD_XZPv&t=524'>link</a>",
          "<a href='https://youtu.be/OVdyq3oRq_w?si=UqAu1x62-mD_XZPv&t=663'>link</a>",
          "<a href='https://youtu.be/OVdyq3oRq_w?si=UqAu1x62-mD_XZPv&t=750'>link</a>",
          "<a href='https://youtu.be/OVdyq3oRq_w?si=UqAu1x62-mD_XZPv&t=801'>link</a>",
          "<a href='https://youtu.be/OVdyq3oRq_w?si=UqAu1x62-mD_XZPv&t=840'>link</a>",
          "<a href='https://youtu.be/OVdyq3oRq_w?si=UqAu1x62-mD_XZPv&t=870'>link</a>",
          "<a href='https://youtu.be/OVdyq3oRq_w?si=UqAu1x62-mD_XZPv&t=906'>link</a>",
          "<a href='https://youtu.be/OVdyq3oRq_w?si=UqAu1x62-mD_XZPv&t=1020'>link</a>",
          "<a href='https://youtu.be/OVdyq3oRq_w?si=UqAu1x62-mD_XZPv&t=1074'>link</a>",
          "<a href='https://youtu.be/OVdyq3oRq_w?si=UqAu1x62-mD_XZPv&t=1171'>link</a>",
          "<a href='https://youtu.be/OVdyq3oRq_w?si=UqAu1x62-mD_XZPv&t=1247'>link</a>",
          "<a href='https://youtu.be/OVdyq3oRq_w?si=UqAu1x62-mD_XZPv&t=1264'>link</a>",
          "<a href='https://youtu.be/OVdyq3oRq_w?si=UqAu1x62-mD_XZPv&t=1294'>link</a>",
          "<a href='https://youtu.be/OVdyq3oRq_w?si=UqAu1x62-mD_XZPv&t=1642'>link</a>",
          "<a href='https://youtu.be/OVdyq3oRq_w?si=UqAu1x62-mD_XZPv&t=1764'>link</a>",
          "<a href='https://youtu.be/OVdyq3oRq_w?si=UqAu1x62-mD_XZPv&t=1773'>link</a>",
          "<a href='https://youtu.be/OVdyq3oRq_w?si=UqAu1x62-mD_XZPv&t=1833'>link</a>",
          "<a href='https://youtu.be/OVdyq3oRq_w?si=UqAu1x62-mD_XZPv&t=1864'>link</a>",
          "<a href='https://youtu.be/OVdyq3oRq_w?si=UqAu1x62-mD_XZPv&t=1892'>link</a>",
          "<a href='https://youtu.be/OVdyq3oRq_w?si=UqAu1x62-mD_XZPv&t=1926'>link</a>",
          "<a href='https://youtu.be/OVdyq3oRq_w?si=UqAu1x62-mD_XZPv&t=1945'>link</a>",
          "<a href='https://youtu.be/OVdyq3oRq_w?si=UqAu1x62-mD_XZPv&t=1976'>link</a>",
          "<a href='https://youtu.be/OVdyq3oRq_w?si=UqAu1x62-mD_XZPv&t=2006'>link</a>",
          "<a href='https://youtu.be/OVdyq3oRq_w?si=UqAu1x62-mD_XZPv&t=2058'>link</a>",
          "<a href='https://youtu.be/OVdyq3oRq_w?si=UqAu1x62-mD_XZPv&t=2090'>link</a>",
          "<a href='https://youtu.be/OVdyq3oRq_w?si=UqAu1x62-mD_XZPv&t=2143'>link</a>",
          "<a href='https://youtu.be/OVdyq3oRq_w?si=UqAu1x62-mD_XZPv&t=2175'>link</a>",
          "<a href='https://youtu.be/OVdyq3oRq_w?si=UqAu1x62-mD_XZPv&t=2210'>link</a>",
          "<a href='https://youtu.be/OVdyq3oRq_w?si=UqAu1x62-mD_XZPv&t=2368'>link</a>",
          "<a href='https://youtu.be/OVdyq3oRq_w?si=UqAu1x62-mD_XZPv&t=2508'>link</a>",
          "<a href='https://youtu.be/OVdyq3oRq_w?si=UqAu1x62-mD_XZPv&t=2631'>link</a>",
          "<a href='https://youtu.be/OVdyq3oRq_w?si=UqAu1x62-mD_XZPv&t=2659'>link</a>",
          "<a href='https://youtu.be/OVdyq3oRq_w?si=UqAu1x62-mD_XZPv&t=2693'>link</a>",
          "<a href='https://youtu.be/OVdyq3oRq_w?si=UqAu1x62-mD_XZPv&t=2735'>link</a>",
          "<a href='https://youtu.be/OVdyq3oRq_w?si=UqAu1x62-mD_XZPv&t=2818'>link</a>"
         ],
         "textposition": "bottom center",
         "type": "scatter",
         "x": [
          "2025-09-16T00:03:54.000000000",
          "2025-09-16T00:04:27.000000000",
          "2025-09-16T00:04:46.000000000",
          "2025-09-16T00:05:28.000000000",
          "2025-09-16T00:08:44.000000000",
          "2025-09-16T00:11:03.000000000",
          "2025-09-16T00:12:30.000000000",
          "2025-09-16T00:13:21.000000000",
          "2025-09-16T00:14:00.000000000",
          "2025-09-16T00:14:30.000000000",
          "2025-09-16T00:15:06.000000000",
          "2025-09-16T00:17:00.000000000",
          "2025-09-16T00:17:54.000000000",
          "2025-09-16T00:19:31.000000000",
          "2025-09-16T00:20:47.000000000",
          "2025-09-16T00:21:04.000000000",
          "2025-09-16T00:21:34.000000000",
          "2025-09-16T00:24:24.000000000",
          "2025-09-16T00:26:26.000000000",
          "2025-09-16T00:26:35.000000000",
          "2025-09-16T00:27:35.000000000",
          "2025-09-16T00:28:06.000000000",
          "2025-09-16T00:28:34.000000000",
          "2025-09-16T00:29:08.000000000",
          "2025-09-16T00:29:27.000000000",
          "2025-09-16T00:29:58.000000000",
          "2025-09-16T00:30:28.000000000",
          "2025-09-16T00:31:20.000000000",
          "2025-09-16T00:31:52.000000000",
          "2025-09-16T00:32:45.000000000",
          "2025-09-16T00:33:17.000000000",
          "2025-09-16T00:33:52.000000000",
          "2025-09-16T00:36:30.000000000",
          "2025-09-16T00:38:50.000000000",
          "2025-09-16T00:40:53.000000000",
          "2025-09-16T00:41:21.000000000",
          "2025-09-16T00:41:55.000000000",
          "2025-09-16T00:42:37.000000000",
          "2025-09-16T00:44:00.000000000"
         ],
         "xaxis": "x2",
         "y": {
          "bdata": "AAEBAgMEBQUGBgcICQoLCwwMDQ0ODg8PEBAQEBARERISEhMTFBUW",
          "dtype": "i1"
         },
         "yaxis": "y2"
        },
        {
         "legendgroup": "pays-bas",
         "marker": {
          "color": "red"
         },
         "mode": "markers+lines",
         "name": "pays-bas",
         "showlegend": false,
         "type": "scatter",
         "x": [
          "2025-09-16T00:03:54.000000000",
          "2025-09-16T00:04:27.000000000",
          "2025-09-16T00:04:46.000000000",
          "2025-09-16T00:05:28.000000000",
          "2025-09-16T00:08:44.000000000",
          "2025-09-16T00:11:03.000000000",
          "2025-09-16T00:12:30.000000000",
          "2025-09-16T00:13:21.000000000",
          "2025-09-16T00:14:00.000000000",
          "2025-09-16T00:14:30.000000000",
          "2025-09-16T00:15:06.000000000",
          "2025-09-16T00:17:00.000000000",
          "2025-09-16T00:17:54.000000000",
          "2025-09-16T00:19:31.000000000",
          "2025-09-16T00:20:47.000000000",
          "2025-09-16T00:21:04.000000000",
          "2025-09-16T00:21:34.000000000",
          "2025-09-16T00:24:24.000000000",
          "2025-09-16T00:26:26.000000000",
          "2025-09-16T00:26:35.000000000",
          "2025-09-16T00:27:35.000000000",
          "2025-09-16T00:28:06.000000000",
          "2025-09-16T00:28:34.000000000",
          "2025-09-16T00:29:08.000000000",
          "2025-09-16T00:29:27.000000000",
          "2025-09-16T00:29:58.000000000",
          "2025-09-16T00:30:28.000000000",
          "2025-09-16T00:31:20.000000000",
          "2025-09-16T00:31:52.000000000",
          "2025-09-16T00:32:45.000000000",
          "2025-09-16T00:33:17.000000000",
          "2025-09-16T00:33:52.000000000",
          "2025-09-16T00:36:30.000000000",
          "2025-09-16T00:38:50.000000000",
          "2025-09-16T00:40:53.000000000",
          "2025-09-16T00:41:21.000000000",
          "2025-09-16T00:41:55.000000000",
          "2025-09-16T00:42:37.000000000",
          "2025-09-16T00:44:00.000000000"
         ],
         "xaxis": "x2",
         "y": {
          "bdata": "AQECAgICAgMDBAQEBAQEBQUGBgcHCAgJCQoLDA0NDg4PEBARERER",
          "dtype": "i1"
         },
         "yaxis": "y2"
        },
        {
         "legendgroup": "france",
         "marker": {
          "color": "green"
         },
         "mode": "markers+lines+text",
         "name": "france",
         "showlegend": false,
         "text": [
          "<a href='https://youtu.be/OVdyq3oRq_w?si=UqAu1x62-mD_XZPv&t=368'>link</a>",
          "<a href='https://youtu.be/OVdyq3oRq_w?si=UqAu1x62-mD_XZPv&t=463'>link</a>",
          "<a href='https://youtu.be/OVdyq3oRq_w?si=UqAu1x62-mD_XZPv&t=785'>link</a>",
          "<a href='https://youtu.be/OVdyq3oRq_w?si=UqAu1x62-mD_XZPv&t=920'>link</a>",
          "<a href='https://youtu.be/OVdyq3oRq_w?si=UqAu1x62-mD_XZPv&t=965'>link</a>",
          "<a href='https://youtu.be/OVdyq3oRq_w?si=UqAu1x62-mD_XZPv&t=1044'>link</a>",
          "<a href='https://youtu.be/OVdyq3oRq_w?si=UqAu1x62-mD_XZPv&t=1099'>link</a>",
          "<a href='https://youtu.be/OVdyq3oRq_w?si=UqAu1x62-mD_XZPv&t=1135'>link</a>",
          "<a href='https://youtu.be/OVdyq3oRq_w?si=UqAu1x62-mD_XZPv&t=1317'>link</a>",
          "<a href='https://youtu.be/OVdyq3oRq_w?si=UqAu1x62-mD_XZPv&t=1663'>link</a>",
          "<a href='https://youtu.be/OVdyq3oRq_w?si=UqAu1x62-mD_XZPv&t=1792'>link</a>",
          "<a href='https://youtu.be/OVdyq3oRq_w?si=UqAu1x62-mD_XZPv&t=2234'>link</a>",
          "<a href='https://youtu.be/OVdyq3oRq_w?si=UqAu1x62-mD_XZPv&t=2252'>link</a>",
          "<a href='https://youtu.be/OVdyq3oRq_w?si=UqAu1x62-mD_XZPv&t=2324'>link</a>",
          "<a href='https://youtu.be/OVdyq3oRq_w?si=UqAu1x62-mD_XZPv&t=2391'>link</a>",
          "<a href='https://youtu.be/OVdyq3oRq_w?si=UqAu1x62-mD_XZPv&t=2598'>link</a>",
          "<a href='https://youtu.be/OVdyq3oRq_w?si=UqAu1x62-mD_XZPv&t=2704'>link</a>"
         ],
         "textposition": "bottom center",
         "type": "scatter",
         "x": [
          "2025-09-16T00:06:08.000000000",
          "2025-09-16T00:07:43.000000000",
          "2025-09-16T00:13:05.000000000",
          "2025-09-16T00:15:20.000000000",
          "2025-09-16T00:16:05.000000000",
          "2025-09-16T00:17:24.000000000",
          "2025-09-16T00:18:19.000000000",
          "2025-09-16T00:18:55.000000000",
          "2025-09-16T00:21:57.000000000",
          "2025-09-16T00:24:45.000000000",
          "2025-09-16T00:26:54.000000000",
          "2025-09-16T00:34:16.000000000",
          "2025-09-16T00:34:34.000000000",
          "2025-09-16T00:35:46.000000000",
          "2025-09-16T00:36:53.000000000",
          "2025-09-16T00:40:20.000000000",
          "2025-09-16T00:42:06.000000000"
         ],
         "xaxis": "x3",
         "y": {
          "bdata": "AAABAQEBAgIDBAQFBgcHBwc=",
          "dtype": "i1"
         },
         "yaxis": "y3"
        },
        {
         "legendgroup": "pays-bas",
         "marker": {
          "color": "red"
         },
         "mode": "markers+lines",
         "name": "pays-bas",
         "showlegend": false,
         "type": "scatter",
         "x": [
          "2025-09-16T00:06:08.000000000",
          "2025-09-16T00:07:43.000000000",
          "2025-09-16T00:13:05.000000000",
          "2025-09-16T00:15:20.000000000",
          "2025-09-16T00:16:05.000000000",
          "2025-09-16T00:17:24.000000000",
          "2025-09-16T00:18:19.000000000",
          "2025-09-16T00:18:55.000000000",
          "2025-09-16T00:21:57.000000000",
          "2025-09-16T00:24:45.000000000",
          "2025-09-16T00:26:54.000000000",
          "2025-09-16T00:34:16.000000000",
          "2025-09-16T00:34:34.000000000",
          "2025-09-16T00:35:46.000000000",
          "2025-09-16T00:36:53.000000000",
          "2025-09-16T00:40:20.000000000",
          "2025-09-16T00:42:06.000000000"
         ],
         "xaxis": "x3",
         "y": {
          "bdata": "AQICAwQFBQYGBgcHBwcICQo=",
          "dtype": "i1"
         },
         "yaxis": "y3"
        }
       ],
       "layout": {
        "annotations": [
         {
          "font": {
           "size": 16
          },
          "showarrow": false,
          "text": "Try",
          "x": 0.5,
          "xanchor": "center",
          "xref": "paper",
          "y": 1,
          "yanchor": "bottom",
          "yref": "paper"
         },
         {
          "font": {
           "size": 16
          },
          "showarrow": false,
          "text": "Turnover",
          "x": 0.5,
          "xanchor": "center",
          "xref": "paper",
          "y": 0.6111111111111112,
          "yanchor": "bottom",
          "yref": "paper"
         },
         {
          "font": {
           "size": 16
          },
          "showarrow": false,
          "text": "Penalty",
          "x": 0.5,
          "xanchor": "center",
          "xref": "paper",
          "y": 0.22222222222222224,
          "yanchor": "bottom",
          "yref": "paper"
         }
        ],
        "hovermode": "x unified",
        "template": {
         "data": {
          "bar": [
           {
            "error_x": {
             "color": "#2a3f5f"
            },
            "error_y": {
             "color": "#2a3f5f"
            },
            "marker": {
             "line": {
              "color": "#E5ECF6",
              "width": 0.5
             },
             "pattern": {
              "fillmode": "overlay",
              "size": 10,
              "solidity": 0.2
             }
            },
            "type": "bar"
           }
          ],
          "barpolar": [
           {
            "marker": {
             "line": {
              "color": "#E5ECF6",
              "width": 0.5
             },
             "pattern": {
              "fillmode": "overlay",
              "size": 10,
              "solidity": 0.2
             }
            },
            "type": "barpolar"
           }
          ],
          "carpet": [
           {
            "aaxis": {
             "endlinecolor": "#2a3f5f",
             "gridcolor": "white",
             "linecolor": "white",
             "minorgridcolor": "white",
             "startlinecolor": "#2a3f5f"
            },
            "baxis": {
             "endlinecolor": "#2a3f5f",
             "gridcolor": "white",
             "linecolor": "white",
             "minorgridcolor": "white",
             "startlinecolor": "#2a3f5f"
            },
            "type": "carpet"
           }
          ],
          "choropleth": [
           {
            "colorbar": {
             "outlinewidth": 0,
             "ticks": ""
            },
            "type": "choropleth"
           }
          ],
          "contour": [
           {
            "colorbar": {
             "outlinewidth": 0,
             "ticks": ""
            },
            "colorscale": [
             [
              0,
              "#0d0887"
             ],
             [
              0.1111111111111111,
              "#46039f"
             ],
             [
              0.2222222222222222,
              "#7201a8"
             ],
             [
              0.3333333333333333,
              "#9c179e"
             ],
             [
              0.4444444444444444,
              "#bd3786"
             ],
             [
              0.5555555555555556,
              "#d8576b"
             ],
             [
              0.6666666666666666,
              "#ed7953"
             ],
             [
              0.7777777777777778,
              "#fb9f3a"
             ],
             [
              0.8888888888888888,
              "#fdca26"
             ],
             [
              1,
              "#f0f921"
             ]
            ],
            "type": "contour"
           }
          ],
          "contourcarpet": [
           {
            "colorbar": {
             "outlinewidth": 0,
             "ticks": ""
            },
            "type": "contourcarpet"
           }
          ],
          "heatmap": [
           {
            "colorbar": {
             "outlinewidth": 0,
             "ticks": ""
            },
            "colorscale": [
             [
              0,
              "#0d0887"
             ],
             [
              0.1111111111111111,
              "#46039f"
             ],
             [
              0.2222222222222222,
              "#7201a8"
             ],
             [
              0.3333333333333333,
              "#9c179e"
             ],
             [
              0.4444444444444444,
              "#bd3786"
             ],
             [
              0.5555555555555556,
              "#d8576b"
             ],
             [
              0.6666666666666666,
              "#ed7953"
             ],
             [
              0.7777777777777778,
              "#fb9f3a"
             ],
             [
              0.8888888888888888,
              "#fdca26"
             ],
             [
              1,
              "#f0f921"
             ]
            ],
            "type": "heatmap"
           }
          ],
          "histogram": [
           {
            "marker": {
             "pattern": {
              "fillmode": "overlay",
              "size": 10,
              "solidity": 0.2
             }
            },
            "type": "histogram"
           }
          ],
          "histogram2d": [
           {
            "colorbar": {
             "outlinewidth": 0,
             "ticks": ""
            },
            "colorscale": [
             [
              0,
              "#0d0887"
             ],
             [
              0.1111111111111111,
              "#46039f"
             ],
             [
              0.2222222222222222,
              "#7201a8"
             ],
             [
              0.3333333333333333,
              "#9c179e"
             ],
             [
              0.4444444444444444,
              "#bd3786"
             ],
             [
              0.5555555555555556,
              "#d8576b"
             ],
             [
              0.6666666666666666,
              "#ed7953"
             ],
             [
              0.7777777777777778,
              "#fb9f3a"
             ],
             [
              0.8888888888888888,
              "#fdca26"
             ],
             [
              1,
              "#f0f921"
             ]
            ],
            "type": "histogram2d"
           }
          ],
          "histogram2dcontour": [
           {
            "colorbar": {
             "outlinewidth": 0,
             "ticks": ""
            },
            "colorscale": [
             [
              0,
              "#0d0887"
             ],
             [
              0.1111111111111111,
              "#46039f"
             ],
             [
              0.2222222222222222,
              "#7201a8"
             ],
             [
              0.3333333333333333,
              "#9c179e"
             ],
             [
              0.4444444444444444,
              "#bd3786"
             ],
             [
              0.5555555555555556,
              "#d8576b"
             ],
             [
              0.6666666666666666,
              "#ed7953"
             ],
             [
              0.7777777777777778,
              "#fb9f3a"
             ],
             [
              0.8888888888888888,
              "#fdca26"
             ],
             [
              1,
              "#f0f921"
             ]
            ],
            "type": "histogram2dcontour"
           }
          ],
          "mesh3d": [
           {
            "colorbar": {
             "outlinewidth": 0,
             "ticks": ""
            },
            "type": "mesh3d"
           }
          ],
          "parcoords": [
           {
            "line": {
             "colorbar": {
              "outlinewidth": 0,
              "ticks": ""
             }
            },
            "type": "parcoords"
           }
          ],
          "pie": [
           {
            "automargin": true,
            "type": "pie"
           }
          ],
          "scatter": [
           {
            "fillpattern": {
             "fillmode": "overlay",
             "size": 10,
             "solidity": 0.2
            },
            "type": "scatter"
           }
          ],
          "scatter3d": [
           {
            "line": {
             "colorbar": {
              "outlinewidth": 0,
              "ticks": ""
             }
            },
            "marker": {
             "colorbar": {
              "outlinewidth": 0,
              "ticks": ""
             }
            },
            "type": "scatter3d"
           }
          ],
          "scattercarpet": [
           {
            "marker": {
             "colorbar": {
              "outlinewidth": 0,
              "ticks": ""
             }
            },
            "type": "scattercarpet"
           }
          ],
          "scattergeo": [
           {
            "marker": {
             "colorbar": {
              "outlinewidth": 0,
              "ticks": ""
             }
            },
            "type": "scattergeo"
           }
          ],
          "scattergl": [
           {
            "marker": {
             "colorbar": {
              "outlinewidth": 0,
              "ticks": ""
             }
            },
            "type": "scattergl"
           }
          ],
          "scattermap": [
           {
            "marker": {
             "colorbar": {
              "outlinewidth": 0,
              "ticks": ""
             }
            },
            "type": "scattermap"
           }
          ],
          "scattermapbox": [
           {
            "marker": {
             "colorbar": {
              "outlinewidth": 0,
              "ticks": ""
             }
            },
            "type": "scattermapbox"
           }
          ],
          "scatterpolar": [
           {
            "marker": {
             "colorbar": {
              "outlinewidth": 0,
              "ticks": ""
             }
            },
            "type": "scatterpolar"
           }
          ],
          "scatterpolargl": [
           {
            "marker": {
             "colorbar": {
              "outlinewidth": 0,
              "ticks": ""
             }
            },
            "type": "scatterpolargl"
           }
          ],
          "scatterternary": [
           {
            "marker": {
             "colorbar": {
              "outlinewidth": 0,
              "ticks": ""
             }
            },
            "type": "scatterternary"
           }
          ],
          "surface": [
           {
            "colorbar": {
             "outlinewidth": 0,
             "ticks": ""
            },
            "colorscale": [
             [
              0,
              "#0d0887"
             ],
             [
              0.1111111111111111,
              "#46039f"
             ],
             [
              0.2222222222222222,
              "#7201a8"
             ],
             [
              0.3333333333333333,
              "#9c179e"
             ],
             [
              0.4444444444444444,
              "#bd3786"
             ],
             [
              0.5555555555555556,
              "#d8576b"
             ],
             [
              0.6666666666666666,
              "#ed7953"
             ],
             [
              0.7777777777777778,
              "#fb9f3a"
             ],
             [
              0.8888888888888888,
              "#fdca26"
             ],
             [
              1,
              "#f0f921"
             ]
            ],
            "type": "surface"
           }
          ],
          "table": [
           {
            "cells": {
             "fill": {
              "color": "#EBF0F8"
             },
             "line": {
              "color": "white"
             }
            },
            "header": {
             "fill": {
              "color": "#C8D4E3"
             },
             "line": {
              "color": "white"
             }
            },
            "type": "table"
           }
          ]
         },
         "layout": {
          "annotationdefaults": {
           "arrowcolor": "#2a3f5f",
           "arrowhead": 0,
           "arrowwidth": 1
          },
          "autotypenumbers": "strict",
          "coloraxis": {
           "colorbar": {
            "outlinewidth": 0,
            "ticks": ""
           }
          },
          "colorscale": {
           "diverging": [
            [
             0,
             "#8e0152"
            ],
            [
             0.1,
             "#c51b7d"
            ],
            [
             0.2,
             "#de77ae"
            ],
            [
             0.3,
             "#f1b6da"
            ],
            [
             0.4,
             "#fde0ef"
            ],
            [
             0.5,
             "#f7f7f7"
            ],
            [
             0.6,
             "#e6f5d0"
            ],
            [
             0.7,
             "#b8e186"
            ],
            [
             0.8,
             "#7fbc41"
            ],
            [
             0.9,
             "#4d9221"
            ],
            [
             1,
             "#276419"
            ]
           ],
           "sequential": [
            [
             0,
             "#0d0887"
            ],
            [
             0.1111111111111111,
             "#46039f"
            ],
            [
             0.2222222222222222,
             "#7201a8"
            ],
            [
             0.3333333333333333,
             "#9c179e"
            ],
            [
             0.4444444444444444,
             "#bd3786"
            ],
            [
             0.5555555555555556,
             "#d8576b"
            ],
            [
             0.6666666666666666,
             "#ed7953"
            ],
            [
             0.7777777777777778,
             "#fb9f3a"
            ],
            [
             0.8888888888888888,
             "#fdca26"
            ],
            [
             1,
             "#f0f921"
            ]
           ],
           "sequentialminus": [
            [
             0,
             "#0d0887"
            ],
            [
             0.1111111111111111,
             "#46039f"
            ],
            [
             0.2222222222222222,
             "#7201a8"
            ],
            [
             0.3333333333333333,
             "#9c179e"
            ],
            [
             0.4444444444444444,
             "#bd3786"
            ],
            [
             0.5555555555555556,
             "#d8576b"
            ],
            [
             0.6666666666666666,
             "#ed7953"
            ],
            [
             0.7777777777777778,
             "#fb9f3a"
            ],
            [
             0.8888888888888888,
             "#fdca26"
            ],
            [
             1,
             "#f0f921"
            ]
           ]
          },
          "colorway": [
           "#636efa",
           "#EF553B",
           "#00cc96",
           "#ab63fa",
           "#FFA15A",
           "#19d3f3",
           "#FF6692",
           "#B6E880",
           "#FF97FF",
           "#FECB52"
          ],
          "font": {
           "color": "#2a3f5f"
          },
          "geo": {
           "bgcolor": "white",
           "lakecolor": "white",
           "landcolor": "#E5ECF6",
           "showlakes": true,
           "showland": true,
           "subunitcolor": "white"
          },
          "hoverlabel": {
           "align": "left"
          },
          "hovermode": "closest",
          "mapbox": {
           "style": "light"
          },
          "paper_bgcolor": "white",
          "plot_bgcolor": "#E5ECF6",
          "polar": {
           "angularaxis": {
            "gridcolor": "white",
            "linecolor": "white",
            "ticks": ""
           },
           "bgcolor": "#E5ECF6",
           "radialaxis": {
            "gridcolor": "white",
            "linecolor": "white",
            "ticks": ""
           }
          },
          "scene": {
           "xaxis": {
            "backgroundcolor": "#E5ECF6",
            "gridcolor": "white",
            "gridwidth": 2,
            "linecolor": "white",
            "showbackground": true,
            "ticks": "",
            "zerolinecolor": "white"
           },
           "yaxis": {
            "backgroundcolor": "#E5ECF6",
            "gridcolor": "white",
            "gridwidth": 2,
            "linecolor": "white",
            "showbackground": true,
            "ticks": "",
            "zerolinecolor": "white"
           },
           "zaxis": {
            "backgroundcolor": "#E5ECF6",
            "gridcolor": "white",
            "gridwidth": 2,
            "linecolor": "white",
            "showbackground": true,
            "ticks": "",
            "zerolinecolor": "white"
           }
          },
          "shapedefaults": {
           "line": {
            "color": "#2a3f5f"
           }
          },
          "ternary": {
           "aaxis": {
            "gridcolor": "white",
            "linecolor": "white",
            "ticks": ""
           },
           "baxis": {
            "gridcolor": "white",
            "linecolor": "white",
            "ticks": ""
           },
           "bgcolor": "#E5ECF6",
           "caxis": {
            "gridcolor": "white",
            "linecolor": "white",
            "ticks": ""
           }
          },
          "title": {
           "x": 0.05
          },
          "xaxis": {
           "automargin": true,
           "gridcolor": "white",
           "linecolor": "white",
           "ticks": "",
           "title": {
            "standoff": 15
           },
           "zerolinecolor": "white",
           "zerolinewidth": 2
          },
          "yaxis": {
           "automargin": true,
           "gridcolor": "white",
           "linecolor": "white",
           "ticks": "",
           "title": {
            "standoff": 15
           },
           "zerolinecolor": "white",
           "zerolinewidth": 2
          }
         }
        },
        "title": {
         "text": "Statistics for france vs pays-bas"
        },
        "xaxis": {
         "anchor": "y",
         "domain": [
          0,
          1
         ],
         "matches": "x3",
         "showticklabels": false
        },
        "xaxis2": {
         "anchor": "y2",
         "domain": [
          0,
          1
         ],
         "matches": "x3",
         "showticklabels": false
        },
        "xaxis3": {
         "anchor": "y3",
         "domain": [
          0,
          1
         ]
        },
        "yaxis": {
         "anchor": "x",
         "domain": [
          0.7777777777777778,
          1
         ]
        },
        "yaxis2": {
         "anchor": "x2",
         "domain": [
          0.3888888888888889,
          0.6111111111111112
         ]
        },
        "yaxis3": {
         "anchor": "x3",
         "domain": [
          0,
          0.22222222222222224
         ]
        }
       }
      },
      "image/png": "[encoded data removed]"
     },
     "metadata": {},
     "output_type": "display_data"
    },
    {
     "data": {
      "application/vnd.plotly.v1+json": {
       "config": {
        "plotlyServerURL": "https://plot.ly"
       },
       "data": [
        {
         "marker": {
          "color": "green"
         },
         "mode": "lines",
         "name": "france",
         "type": "scatter",
         "x": [
          "2025-09-16T00:02:45",
          "2025-09-16T00:03:54",
          null,
          "2025-09-16T00:04:27",
          "2025-09-16T00:04:46",
          null,
          "2025-09-16T00:05:28",
          "2025-09-16T00:06:08",
          null,
          "2025-09-16T00:06:51",
          "2025-09-16T00:07:43",
          null,
          "2025-09-16T00:08:44",
          "2025-09-16T00:09:27",
          null,
          "2025-09-16T00:11:03",
          "2025-09-16T00:11:43",
          null,
          "2025-09-16T00:12:30",
          "2025-09-16T00:13:05",
          "2025-09-16T00:13:21",
          null,
          "2025-09-16T00:14:00",
          "2025-09-16T00:14:30",
          null,
          "2025-09-16T00:15:06",
          "2025-09-16T00:15:20",
          null,
          "2025-09-16T00:17:00",
          "2025-09-16T00:17:05",
          "2025-09-16T00:17:24",
          null,
          "2025-09-16T00:17:54",
          "2025-09-16T00:18:19",
          "2025-09-16T00:18:55",
          null,
          "2025-09-16T00:19:31",
          "2025-09-16T00:19:57",
          null,
          "2025-09-16T00:20:47",
          "2025-09-16T00:21:04",
          null,
          "2025-09-16T00:21:34",
          "2025-09-16T00:21:48",
          "2025-09-16T00:21:57",
          "2025-09-16T00:22:03",
          "2025-09-16T00:22:15",
          "2025-09-16T00:24:15",
          "2025-09-16T00:24:24",
          null,
          "2025-09-16T00:24:45",
          "2025-09-16T00:25:31",
          null,
          "2025-09-16T00:26:26",
          "2025-09-16T00:26:35",
          null,
          "2025-09-16T00:27:35",
          "2025-09-16T00:28:06",
          null,
          "2025-09-16T00:28:34",
          "2025-09-16T00:29:08",
          null,
          "2025-09-16T00:29:27",
          "2025-09-16T00:29:58",
          null,
          "2025-09-16T00:30:43",
          "2025-09-16T00:31:20",
          null,
          "2025-09-16T00:32:45",
          "2025-09-16T00:33:17",
          null,
          "2025-09-16T00:33:52",
          "2025-09-16T00:34:16",
          "2025-09-16T00:34:34",
          "2025-09-16T00:35:16",
          null,
          "2025-09-16T00:35:46",
          "2025-09-16T00:36:30",
          null,
          "2025-09-16T00:37:41",
          "2025-09-16T00:38:14",
          null,
          "2025-09-16T00:39:26",
          "2025-09-16T00:40:20",
          null,
          "2025-09-16T00:40:53",
          "2025-09-16T00:41:21",
          null,
          "2025-09-16T00:41:55",
          "2025-09-16T00:42:06",
          null,
          "2025-09-16T00:42:37",
          "2025-09-16T00:43:10",
          null,
          "2025-09-16T00:44:00",
          "2025-09-16T00:44:19"
         ],
         "y": [
          "france",
          "france",
          null,
          "france",
          "france",
          null,
          "france",
          "france",
          null,
          "france",
          "france",
          null,
          "france",
          "france",
          null,
          "france",
          "france",
          null,
          "france",
          "france",
          "france",
          null,
          "france",
          "france",
          null,
          "france",
          "france",
          null,
          "france",
          "france",
          "france",
          null,
          "france",
          "france",
          "france",
          null,
          "france",
          "france",
          null,
          "france",
          "france",
          null,
          "france",
          "france",
          "france",
          "france",
          "france",
          "france",
          "france",
          null,
          "france",
          "france",
          null,
          "france",
          "france",
          null,
          "france",
          "france",
          null,
          "france",
          "france",
          null,
          "france",
          "france",
          null,
          "france",
          "france",
          null,
          "france",
          "france",
          null,
          "france",
          "france",
          "france",
          "france",
          null,
          "france",
          "france",
          null,
          "france",
          "france",
          null,
          "france",
          "france",
          null,
          "france",
          "france",
          null,
          "france",
          "france",
          null,
          "france",
          "france",
          null,
          "france",
          "france"
         ]
        },
        {
         "marker": {
          "color": "red"
         },
         "mode": "lines",
         "name": "pays-bas",
         "type": "scatter",
         "x": [
          "2025-09-16T00:02:14",
          "2025-09-16T00:02:45",
          null,
          "2025-09-16T00:03:54",
          "2025-09-16T00:04:27",
          null,
          "2025-09-16T00:04:46",
          "2025-09-16T00:05:28",
          null,
          "2025-09-16T00:06:08",
          "2025-09-16T00:06:51",
          null,
          "2025-09-16T00:07:43",
          "2025-09-16T00:08:44",
          null,
          "2025-09-16T00:09:27",
          "2025-09-16T00:11:03",
          null,
          "2025-09-16T00:11:43",
          "2025-09-16T00:12:30",
          null,
          "2025-09-16T00:13:21",
          "2025-09-16T00:14:00",
          null,
          "2025-09-16T00:14:30",
          "2025-09-16T00:15:06",
          null,
          "2025-09-16T00:15:20",
          "2025-09-16T00:16:05",
          "2025-09-16T00:16:20",
          "2025-09-16T00:17:00",
          null,
          "2025-09-16T00:17:24",
          "2025-09-16T00:17:54",
          null,
          "2025-09-16T00:18:55",
          "2025-09-16T00:19:31",
          null,
          "2025-09-16T00:19:57",
          "2025-09-16T00:20:47",
          null,
          "2025-09-16T00:21:04",
          "2025-09-16T00:21:34",
          null,
          "2025-09-16T00:24:24",
          "2025-09-16T00:24:45",
          null,
          "2025-09-16T00:25:31",
          "2025-09-16T00:26:26",
          null,
          "2025-09-16T00:26:35",
          "2025-09-16T00:26:54",
          "2025-09-16T00:27:35",
          null,
          "2025-09-16T00:28:06",
          "2025-09-16T00:28:34",
          null,
          "2025-09-16T00:29:08",
          "2025-09-16T00:29:27",
          null,
          "2025-09-16T00:29:58",
          "2025-09-16T00:30:28",
          "2025-09-16T00:30:43",
          null,
          "2025-09-16T00:31:20",
          "2025-09-16T00:31:52",
          "2025-09-16T00:32:45",
          null,
          "2025-09-16T00:33:17",
          "2025-09-16T00:33:52",
          null,
          "2025-09-16T00:35:16",
          "2025-09-16T00:35:46",
          null,
          "2025-09-16T00:36:30",
          "2025-09-16T00:36:53",
          "2025-09-16T00:37:41",
          null,
          "2025-09-16T00:38:14",
          "2025-09-16T00:38:50",
          "2025-09-16T00:39:26",
          null,
          "2025-09-16T00:40:20",
          "2025-09-16T00:40:53",
          null,
          "2025-09-16T00:41:21",
          "2025-09-16T00:41:55",
          null,
          "2025-09-16T00:42:06",
          "2025-09-16T00:42:37",
          null,
          "2025-09-16T00:43:10",
          "2025-09-16T00:43:37",
          "2025-09-16T00:44:00",
          null
         ],
         "y": [
          "pays-bas",
          "pays-bas",
          null,
          "pays-bas",
          "pays-bas",
          null,
          "pays-bas",
          "pays-bas",
          null,
          "pays-bas",
          "pays-bas",
          null,
          "pays-bas",
          "pays-bas",
          null,
          "pays-bas",
          "pays-bas",
          null,
          "pays-bas",
          "pays-bas",
          null,
          "pays-bas",
          "pays-bas",
          null,
          "pays-bas",
          "pays-bas",
          null,
          "pays-bas",
          "pays-bas",
          "pays-bas",
          "pays-bas",
          null,
          "pays-bas",
          "pays-bas",
          null,
          "pays-bas",
          "pays-bas",
          null,
          "pays-bas",
          "pays-bas",
          null,
          "pays-bas",
          "pays-bas",
          null,
          "pays-bas",
          "pays-bas",
          null,
          "pays-bas",
          "pays-bas",
          null,
          "pays-bas",
          "pays-bas",
          "pays-bas",
          null,
          "pays-bas",
          "pays-bas",
          null,
          "pays-bas",
          "pays-bas",
          null,
          "pays-bas",
          "pays-bas",
          "pays-bas",
          null,
          "pays-bas",
          "pays-bas",
          "pays-bas",
          null,
          "pays-bas",
          "pays-bas",
          null,
          "pays-bas",
          "pays-bas",
          null,
          "pays-bas",
          "pays-bas",
          "pays-bas",
          null,
          "pays-bas",
          "pays-bas",
          "pays-bas",
          null,
          "pays-bas",
          "pays-bas",
          null,
          "pays-bas",
          "pays-bas",
          null,
          "pays-bas",
          "pays-bas",
          null,
          "pays-bas",
          "pays-bas",
          "pays-bas",
          null
         ]
        },
        {
         "hovertext": "Game Event-Game Start",
         "marker": {
          "color": "black"
         },
         "mode": "markers",
         "showlegend": false,
         "type": "scatter",
         "x": [
          "2025-09-16T00:02:14"
         ],
         "y": [
          "pays-bas"
         ]
        },
        {
         "hovertext": "Try-Try",
         "marker": {
          "color": "green"
         },
         "mode": "markers",
         "showlegend": false,
         "type": "scatter",
         "x": [
          "2025-09-16T00:02:45"
         ],
         "y": [
          "pays-bas"
         ]
        },
        {
         "hovertext": "Turnover-6th Touch",
         "marker": {
          "color": "orange"
         },
         "mode": "markers",
         "showlegend": false,
         "type": "scatter",
         "x": [
          "2025-09-16T00:03:54"
         ],
         "y": [
          "france"
         ]
        },
        {
         "hovertext": "Turnover-Ball Down",
         "marker": {
          "color": "orange"
         },
         "mode": "markers",
         "showlegend": false,
         "type": "scatter",
         "x": [
          "2025-09-16T00:04:27"
         ],
         "y": [
          "pays-bas"
         ]
        },
        {
         "hovertext": "Turnover-6th Touch",
         "marker": {
          "color": "orange"
         },
         "mode": "markers",
         "showlegend": false,
         "type": "scatter",
         "x": [
          "2025-09-16T00:04:46"
         ],
         "y": [
          "france"
         ]
        },
        {
         "hovertext": "Turnover-6th Touch",
         "marker": {
          "color": "orange"
         },
         "mode": "markers",
         "showlegend": false,
         "type": "scatter",
         "x": [
          "2025-09-16T00:05:28"
         ],
         "y": [
          "pays-bas"
         ]
        },
        {
         "hovertext": "Penalty-Touch and Pass",
         "marker": {
          "color": "red"
         },
         "mode": "markers",
         "showlegend": false,
         "type": "scatter",
         "x": [
          "2025-09-16T00:06:08"
         ],
         "y": [
          "france"
         ]
        },
        {
         "hovertext": "Try-Try",
         "marker": {
          "color": "green"
         },
         "mode": "markers",
         "showlegend": false,
         "type": "scatter",
         "x": [
          "2025-09-16T00:06:51"
         ],
         "y": [
          "pays-bas"
         ]
        },
        {
         "hovertext": "Penalty-Forward Pass",
         "marker": {
          "color": "red"
         },
         "mode": "markers",
         "showlegend": false,
         "type": "scatter",
         "x": [
          "2025-09-16T00:07:43"
         ],
         "y": [
          "france"
         ]
        },
        {
         "hovertext": "Turnover-Ball Down",
         "marker": {
          "color": "orange"
         },
         "mode": "markers",
         "showlegend": false,
         "type": "scatter",
         "x": [
          "2025-09-16T00:08:44"
         ],
         "y": [
          "pays-bas"
         ]
        },
        {
         "hovertext": "Try-Try",
         "marker": {
          "color": "green"
         },
         "mode": "markers",
         "showlegend": false,
         "type": "scatter",
         "x": [
          "2025-09-16T00:09:27"
         ],
         "y": [
          "france"
         ]
        },
        {
         "hovertext": "Turnover-Ball Down",
         "marker": {
          "color": "orange"
         },
         "mode": "markers",
         "showlegend": false,
         "type": "scatter",
         "x": [
          "2025-09-16T00:11:03"
         ],
         "y": [
          "pays-bas"
         ]
        },
        {
         "hovertext": "Try-Try",
         "marker": {
          "color": "green"
         },
         "mode": "markers",
         "showlegend": false,
         "type": "scatter",
         "x": [
          "2025-09-16T00:11:43"
         ],
         "y": [
          "france"
         ]
        },
        {
         "hovertext": "Turnover-Ball Down",
         "marker": {
          "color": "orange"
         },
         "mode": "markers",
         "showlegend": false,
         "type": "scatter",
         "x": [
          "2025-09-16T00:12:30"
         ],
         "y": [
          "pays-bas"
         ]
        },
        {
         "hovertext": "Penalty-Offside",
         "marker": {
          "color": "red"
         },
         "mode": "markers",
         "showlegend": false,
         "type": "scatter",
         "x": [
          "2025-09-16T00:13:05"
         ],
         "y": [
          "pays-bas"
         ]
        },
        {
         "hovertext": "Turnover-Ball Down",
         "marker": {
          "color": "orange"
         },
         "mode": "markers",
         "showlegend": false,
         "type": "scatter",
         "x": [
          "2025-09-16T00:13:21"
         ],
         "y": [
          "france"
         ]
        },
        {
         "hovertext": "Turnover-6th Touch",
         "marker": {
          "color": "orange"
         },
         "mode": "markers",
         "showlegend": false,
         "type": "scatter",
         "x": [
          "2025-09-16T00:14:00"
         ],
         "y": [
          "pays-bas"
         ]
        },
        {
         "hovertext": "Turnover-Dummy Touch",
         "marker": {
          "color": "orange"
         },
         "mode": "markers",
         "showlegend": false,
         "type": "scatter",
         "x": [
          "2025-09-16T00:14:30"
         ],
         "y": [
          "france"
         ]
        },
        {
         "hovertext": "Turnover-6th Touch",
         "marker": {
          "color": "orange"
         },
         "mode": "markers",
         "showlegend": false,
         "type": "scatter",
         "x": [
          "2025-09-16T00:15:06"
         ],
         "y": [
          "pays-bas"
         ]
        },
        {
         "hovertext": "Penalty-Forward Pass",
         "marker": {
          "color": "red"
         },
         "mode": "markers",
         "showlegend": false,
         "type": "scatter",
         "x": [
          "2025-09-16T00:15:20"
         ],
         "y": [
          "france"
         ]
        },
        {
         "hovertext": "Penalty-Offside",
         "marker": {
          "color": "red"
         },
         "mode": "markers",
         "showlegend": false,
         "type": "scatter",
         "x": [
          "2025-09-16T00:16:05"
         ],
         "y": [
          "france"
         ]
        },
        {
         "hovertext": "To Review-Bad Roll",
         "marker": {
          "color": "green"
         },
         "mode": "markers",
         "showlegend": false,
         "type": "scatter",
         "x": [
          "2025-09-16T00:16:20"
         ],
         "y": [
          "france"
         ]
        },
        {
         "hovertext": "Turnover-Interception",
         "marker": {
          "color": "orange"
         },
         "mode": "markers",
         "showlegend": false,
         "type": "scatter",
         "x": [
          "2025-09-16T00:17:00"
         ],
         "y": [
          "pays-bas"
         ]
        },
        {
         "hovertext": "To Review-Bad Roll",
         "marker": {
          "color": "green"
         },
         "mode": "markers",
         "showlegend": false,
         "type": "scatter",
         "x": [
          "2025-09-16T00:17:05"
         ],
         "y": [
          "pays-bas"
         ]
        },
        {
         "hovertext": "Penalty-Delay of Play",
         "marker": {
          "color": "red"
         },
         "mode": "markers",
         "showlegend": false,
         "type": "scatter",
         "x": [
          "2025-09-16T00:17:24"
         ],
         "y": [
          "france"
         ]
        },
        {
         "hovertext": "Turnover-6th Touch",
         "marker": {
          "color": "orange"
         },
         "mode": "markers",
         "showlegend": false,
         "type": "scatter",
         "x": [
          "2025-09-16T00:17:54"
         ],
         "y": [
          "pays-bas"
         ]
        },
        {
         "hovertext": "Penalty-Hard Touch",
         "marker": {
          "color": "red"
         },
         "mode": "markers",
         "showlegend": false,
         "type": "scatter",
         "x": [
          "2025-09-16T00:18:19"
         ],
         "y": [
          "pays-bas"
         ]
        },
        {
         "hovertext": "Penalty-Forward Pass",
         "marker": {
          "color": "red"
         },
         "mode": "markers",
         "showlegend": false,
         "type": "scatter",
         "x": [
          "2025-09-16T00:18:55"
         ],
         "y": [
          "france"
         ]
        },
        {
         "hovertext": "Turnover-Ball Down",
         "marker": {
          "color": "orange"
         },
         "mode": "markers",
         "showlegend": false,
         "type": "scatter",
         "x": [
          "2025-09-16T00:19:31"
         ],
         "y": [
          "pays-bas"
         ]
        },
        {
         "hovertext": "Try-Try",
         "marker": {
          "color": "green"
         },
         "mode": "markers",
         "showlegend": false,
         "type": "scatter",
         "x": [
          "2025-09-16T00:19:57"
         ],
         "y": [
          "france"
         ]
        },
        {
         "hovertext": "Turnover-6th Touch",
         "marker": {
          "color": "orange"
         },
         "mode": "markers",
         "showlegend": false,
         "type": "scatter",
         "x": [
          "2025-09-16T00:20:47"
         ],
         "y": [
          "pays-bas"
         ]
        },
        {
         "hovertext": "Turnover-Ball Down",
         "marker": {
          "color": "orange"
         },
         "mode": "markers",
         "showlegend": false,
         "type": "scatter",
         "x": [
          "2025-09-16T00:21:04"
         ],
         "y": [
          "france"
         ]
        },
        {
         "hovertext": "Turnover-Ball Down",
         "marker": {
          "color": "orange"
         },
         "mode": "markers",
         "showlegend": false,
         "type": "scatter",
         "x": [
          "2025-09-16T00:21:34"
         ],
         "y": [
          "pays-bas"
         ]
        },
        {
         "hovertext": "To Review-In The Ruck",
         "marker": {
          "color": "green"
         },
         "mode": "markers",
         "showlegend": false,
         "type": "scatter",
         "x": [
          "2025-09-16T00:21:48"
         ],
         "y": [
          "france"
         ]
        },
        {
         "hovertext": "Penalty-Offside",
         "marker": {
          "color": "red"
         },
         "mode": "markers",
         "showlegend": false,
         "type": "scatter",
         "x": [
          "2025-09-16T00:21:57"
         ],
         "y": [
          "pays-bas"
         ]
        },
        {
         "hovertext": "To Review-Other",
         "marker": {
          "color": "green"
         },
         "mode": "markers",
         "showlegend": false,
         "type": "scatter",
         "x": [
          "2025-09-16T00:22:03"
         ],
         "y": [
          "france"
         ]
        },
        {
         "hovertext": "Game Event-Game End",
         "marker": {
          "color": "black"
         },
         "mode": "markers",
         "showlegend": false,
         "type": "scatter",
         "x": [
          "2025-09-16T00:22:15"
         ],
         "y": [
          "france"
         ]
        },
        {
         "hovertext": "Game Event-Game Start",
         "marker": {
          "color": "black"
         },
         "mode": "markers",
         "showlegend": false,
         "type": "scatter",
         "x": [
          "2025-09-16T00:24:15"
         ],
         "y": [
          "france"
         ]
        },
        {
         "hovertext": "Turnover-Ball Down",
         "marker": {
          "color": "orange"
         },
         "mode": "markers",
         "showlegend": false,
         "type": "scatter",
         "x": [
          "2025-09-16T00:24:24"
         ],
         "y": [
          "france"
         ]
        },
        {
         "hovertext": "Penalty-Forward Pass",
         "marker": {
          "color": "red"
         },
         "mode": "markers",
         "showlegend": false,
         "type": "scatter",
         "x": [
          "2025-09-16T00:24:45"
         ],
         "y": [
          "pays-bas"
         ]
        },
        {
         "hovertext": "Try-Try",
         "marker": {
          "color": "green"
         },
         "mode": "markers",
         "showlegend": false,
         "type": "scatter",
         "x": [
          "2025-09-16T00:25:31"
         ],
         "y": [
          "france"
         ]
        },
        {
         "hovertext": "Turnover-6th Touch",
         "marker": {
          "color": "orange"
         },
         "mode": "markers",
         "showlegend": false,
         "type": "scatter",
         "x": [
          "2025-09-16T00:26:26"
         ],
         "y": [
          "pays-bas"
         ]
        },
        {
         "hovertext": "Turnover-Ball Down",
         "marker": {
          "color": "orange"
         },
         "mode": "markers",
         "showlegend": false,
         "type": "scatter",
         "x": [
          "2025-09-16T00:26:35"
         ],
         "y": [
          "france"
         ]
        },
        {
         "hovertext": "Penalty-In The Ruck",
         "marker": {
          "color": "red"
         },
         "mode": "markers",
         "showlegend": false,
         "type": "scatter",
         "x": [
          "2025-09-16T00:26:54"
         ],
         "y": [
          "france"
         ]
        },
        {
         "hovertext": "Turnover-Ball Down",
         "marker": {
          "color": "orange"
         },
         "mode": "markers",
         "showlegend": false,
         "type": "scatter",
         "x": [
          "2025-09-16T00:27:35"
         ],
         "y": [
          "pays-bas"
         ]
        },
        {
         "hovertext": "Turnover-6th Touch",
         "marker": {
          "color": "orange"
         },
         "mode": "markers",
         "showlegend": false,
         "type": "scatter",
         "x": [
          "2025-09-16T00:28:06"
         ],
         "y": [
          "france"
         ]
        },
        {
         "hovertext": "Turnover-6th Touch",
         "marker": {
          "color": "orange"
         },
         "mode": "markers",
         "showlegend": false,
         "type": "scatter",
         "x": [
          "2025-09-16T00:28:34"
         ],
         "y": [
          "pays-bas"
         ]
        },
        {
         "hovertext": "Turnover-6th Touch",
         "marker": {
          "color": "orange"
         },
         "mode": "markers",
         "showlegend": false,
         "type": "scatter",
         "x": [
          "2025-09-16T00:29:08"
         ],
         "y": [
          "france"
         ]
        },
        {
         "hovertext": "Turnover-Ball Down",
         "marker": {
          "color": "orange"
         },
         "mode": "markers",
         "showlegend": false,
         "type": "scatter",
         "x": [
          "2025-09-16T00:29:27"
         ],
         "y": [
          "pays-bas"
         ]
        },
        {
         "hovertext": "Turnover-Ball Down",
         "marker": {
          "color": "orange"
         },
         "mode": "markers",
         "showlegend": false,
         "type": "scatter",
         "x": [
          "2025-09-16T00:29:58"
         ],
         "y": [
          "france"
         ]
        },
        {
         "hovertext": "Turnover-6 Again",
         "marker": {
          "color": "orange"
         },
         "mode": "markers",
         "showlegend": false,
         "type": "scatter",
         "x": [
          "2025-09-16T00:30:28"
         ],
         "y": [
          "france"
         ]
        },
        {
         "hovertext": "Try-Try",
         "marker": {
          "color": "green"
         },
         "mode": "markers",
         "showlegend": false,
         "type": "scatter",
         "x": [
          "2025-09-16T00:30:43"
         ],
         "y": [
          "pays-bas"
         ]
        },
        {
         "hovertext": "Turnover-Ball Down",
         "marker": {
          "color": "orange"
         },
         "mode": "markers",
         "showlegend": false,
         "type": "scatter",
         "x": [
          "2025-09-16T00:31:20"
         ],
         "y": [
          "france"
         ]
        },
        {
         "hovertext": "Turnover-6 Again",
         "marker": {
          "color": "orange"
         },
         "mode": "markers",
         "showlegend": false,
         "type": "scatter",
         "x": [
          "2025-09-16T00:31:52"
         ],
         "y": [
          "france"
         ]
        },
        {
         "hovertext": "Turnover-6th Touch",
         "marker": {
          "color": "orange"
         },
         "mode": "markers",
         "showlegend": false,
         "type": "scatter",
         "x": [
          "2025-09-16T00:32:45"
         ],
         "y": [
          "pays-bas"
         ]
        },
        {
         "hovertext": "Turnover-Ball Down",
         "marker": {
          "color": "orange"
         },
         "mode": "markers",
         "showlegend": false,
         "type": "scatter",
         "x": [
          "2025-09-16T00:33:17"
         ],
         "y": [
          "france"
         ]
        },
        {
         "hovertext": "Turnover-Ball Down",
         "marker": {
          "color": "orange"
         },
         "mode": "markers",
         "showlegend": false,
         "type": "scatter",
         "x": [
          "2025-09-16T00:33:52"
         ],
         "y": [
          "pays-bas"
         ]
        },
        {
         "hovertext": "Penalty-Hard Touch",
         "marker": {
          "color": "red"
         },
         "mode": "markers",
         "showlegend": false,
         "type": "scatter",
         "x": [
          "2025-09-16T00:34:16"
         ],
         "y": [
          "pays-bas"
         ]
        },
        {
         "hovertext": "Penalty-Forward Pass",
         "marker": {
          "color": "red"
         },
         "mode": "markers",
         "showlegend": false,
         "type": "scatter",
         "x": [
          "2025-09-16T00:34:34"
         ],
         "y": [
          "pays-bas"
         ]
        },
        {
         "hovertext": "Try-Try",
         "marker": {
          "color": "green"
         },
         "mode": "markers",
         "showlegend": false,
         "type": "scatter",
         "x": [
          "2025-09-16T00:35:16"
         ],
         "y": [
          "france"
         ]
        },
        {
         "hovertext": "Penalty-Forward Pass",
         "marker": {
          "color": "red"
         },
         "mode": "markers",
         "showlegend": false,
         "type": "scatter",
         "x": [
          "2025-09-16T00:35:46"
         ],
         "y": [
          "pays-bas"
         ]
        },
        {
         "hovertext": "Turnover-Ball Down",
         "marker": {
          "color": "orange"
         },
         "mode": "markers",
         "showlegend": false,
         "type": "scatter",
         "x": [
          "2025-09-16T00:36:30"
         ],
         "y": [
          "france"
         ]
        },
        {
         "hovertext": "Penalty-In The Ruck",
         "marker": {
          "color": "red"
         },
         "mode": "markers",
         "showlegend": false,
         "type": "scatter",
         "x": [
          "2025-09-16T00:36:53"
         ],
         "y": [
          "france"
         ]
        },
        {
         "hovertext": "Try-Try",
         "marker": {
          "color": "green"
         },
         "mode": "markers",
         "showlegend": false,
         "type": "scatter",
         "x": [
          "2025-09-16T00:37:41"
         ],
         "y": [
          "pays-bas"
         ]
        },
        {
         "hovertext": "Try-Try",
         "marker": {
          "color": "green"
         },
         "mode": "markers",
         "showlegend": false,
         "type": "scatter",
         "x": [
          "2025-09-16T00:38:14"
         ],
         "y": [
          "france"
         ]
        },
        {
         "hovertext": "Turnover-6 Again",
         "marker": {
          "color": "orange"
         },
         "mode": "markers",
         "showlegend": false,
         "type": "scatter",
         "x": [
          "2025-09-16T00:38:50"
         ],
         "y": [
          "france"
         ]
        },
        {
         "hovertext": "Try-Try",
         "marker": {
          "color": "green"
         },
         "mode": "markers",
         "showlegend": false,
         "type": "scatter",
         "x": [
          "2025-09-16T00:39:26"
         ],
         "y": [
          "pays-bas"
         ]
        },
        {
         "hovertext": "Penalty-Forward Pass",
         "marker": {
          "color": "red"
         },
         "mode": "markers",
         "showlegend": false,
         "type": "scatter",
         "x": [
          "2025-09-16T00:40:20"
         ],
         "y": [
          "france"
         ]
        },
        {
         "hovertext": "Turnover-6th Touch",
         "marker": {
          "color": "orange"
         },
         "mode": "markers",
         "showlegend": false,
         "type": "scatter",
         "x": [
          "2025-09-16T00:40:53"
         ],
         "y": [
          "pays-bas"
         ]
        },
        {
         "hovertext": "Turnover-Ball Down",
         "marker": {
          "color": "orange"
         },
         "mode": "markers",
         "showlegend": false,
         "type": "scatter",
         "x": [
          "2025-09-16T00:41:21"
         ],
         "y": [
          "france"
         ]
        },
        {
         "hovertext": "Turnover-Ball Down",
         "marker": {
          "color": "orange"
         },
         "mode": "markers",
         "showlegend": false,
         "type": "scatter",
         "x": [
          "2025-09-16T00:41:55"
         ],
         "y": [
          "pays-bas"
         ]
        },
        {
         "hovertext": "Penalty-Shoulder",
         "marker": {
          "color": "red"
         },
         "mode": "markers",
         "showlegend": false,
         "type": "scatter",
         "x": [
          "2025-09-16T00:42:06"
         ],
         "y": [
          "france"
         ]
        },
        {
         "hovertext": "Turnover-Ball Down",
         "marker": {
          "color": "orange"
         },
         "mode": "markers",
         "showlegend": false,
         "type": "scatter",
         "x": [
          "2025-09-16T00:42:37"
         ],
         "y": [
          "pays-bas"
         ]
        },
        {
         "hovertext": "Try-Try",
         "marker": {
          "color": "green"
         },
         "mode": "markers",
         "showlegend": false,
         "type": "scatter",
         "x": [
          "2025-09-16T00:43:10"
         ],
         "y": [
          "france"
         ]
        },
        {
         "hovertext": "To Review-Other",
         "marker": {
          "color": "green"
         },
         "mode": "markers",
         "showlegend": false,
         "type": "scatter",
         "x": [
          "2025-09-16T00:43:37"
         ],
         "y": [
          "france"
         ]
        },
        {
         "hovertext": "Turnover-6th Touch",
         "marker": {
          "color": "orange"
         },
         "mode": "markers",
         "showlegend": false,
         "type": "scatter",
         "x": [
          "2025-09-16T00:44:00"
         ],
         "y": [
          "pays-bas"
         ]
        },
        {
         "hovertext": "Game Event-Game End",
         "marker": {
          "color": "black"
         },
         "mode": "markers",
         "showlegend": false,
         "type": "scatter",
         "x": [
          "2025-09-16T00:44:19"
         ],
         "y": [
          "france"
         ]
        }
       ],
       "layout": {
        "annotations": [
         {
          "showarrow": false,
          "text": "<a href='https://youtu.be/OVdyq3oRq_w?si=UqAu1x62-mD_XZPv&t=134'>link</a>",
          "x": "2025-09-16T00:02:14",
          "y": "pays-bas",
          "yshift": 10
         },
         {
          "showarrow": false,
          "text": "<a href='https://youtu.be/OVdyq3oRq_w?si=UqAu1x62-mD_XZPv&t=165'>link</a>",
          "x": "2025-09-16T00:02:45",
          "y": "pays-bas",
          "yshift": 10
         },
         {
          "showarrow": false,
          "text": "<a href='https://youtu.be/OVdyq3oRq_w?si=UqAu1x62-mD_XZPv&t=234'>link</a>",
          "x": "2025-09-16T00:03:54",
          "y": "france",
          "yshift": 10
         },
         {
          "showarrow": false,
          "text": "<a href='https://youtu.be/OVdyq3oRq_w?si=UqAu1x62-mD_XZPv&t=267'>link</a>",
          "x": "2025-09-16T00:04:27",
          "y": "pays-bas",
          "yshift": 10
         },
         {
          "showarrow": false,
          "text": "<a href='https://youtu.be/OVdyq3oRq_w?si=UqAu1x62-mD_XZPv&t=286'>link</a>",
          "x": "2025-09-16T00:04:46",
          "y": "france",
          "yshift": 10
         },
         {
          "showarrow": false,
          "text": "<a href='https://youtu.be/OVdyq3oRq_w?si=UqAu1x62-mD_XZPv&t=328'>link</a>",
          "x": "2025-09-16T00:05:28",
          "y": "pays-bas",
          "yshift": 10
         },
         {
          "showarrow": false,
          "text": "<a href='https://youtu.be/OVdyq3oRq_w?si=UqAu1x62-mD_XZPv&t=368'>link</a>",
          "x": "2025-09-16T00:06:08",
          "y": "france",
          "yshift": 10
         },
         {
          "showarrow": false,
          "text": "<a href='https://youtu.be/OVdyq3oRq_w?si=UqAu1x62-mD_XZPv&t=411'>link</a>",
          "x": "2025-09-16T00:06:51",
          "y": "pays-bas",
          "yshift": 10
         },
         {
          "showarrow": false,
          "text": "<a href='https://youtu.be/OVdyq3oRq_w?si=UqAu1x62-mD_XZPv&t=463'>link</a>",
          "x": "2025-09-16T00:07:43",
          "y": "france",
          "yshift": 10
         },
         {
          "showarrow": false,
          "text": "<a href='https://youtu.be/OVdyq3oRq_w?si=UqAu1x62-mD_XZPv&t=524'>link</a>",
          "x": "2025-09-16T00:08:44",
          "y": "pays-bas",
          "yshift": 10
         },
         {
          "showarrow": false,
          "text": "<a href='https://youtu.be/OVdyq3oRq_w?si=UqAu1x62-mD_XZPv&t=567'>link</a>",
          "x": "2025-09-16T00:09:27",
          "y": "france",
          "yshift": 10
         },
         {
          "showarrow": false,
          "text": "<a href='https://youtu.be/OVdyq3oRq_w?si=UqAu1x62-mD_XZPv&t=663'>link</a>",
          "x": "2025-09-16T00:11:03",
          "y": "pays-bas",
          "yshift": 10
         },
         {
          "showarrow": false,
          "text": "<a href='https://youtu.be/OVdyq3oRq_w?si=UqAu1x62-mD_XZPv&t=703'>link</a>",
          "x": "2025-09-16T00:11:43",
          "y": "france",
          "yshift": 10
         },
         {
          "showarrow": false,
          "text": "<a href='https://youtu.be/OVdyq3oRq_w?si=UqAu1x62-mD_XZPv&t=750'>link</a>",
          "x": "2025-09-16T00:12:30",
          "y": "pays-bas",
          "yshift": 10
         },
         {
          "showarrow": false,
          "text": "<a href='https://youtu.be/OVdyq3oRq_w?si=UqAu1x62-mD_XZPv&t=785'>link</a>",
          "x": "2025-09-16T00:13:05",
          "y": "pays-bas",
          "yshift": 10
         },
         {
          "showarrow": false,
          "text": "<a href='https://youtu.be/OVdyq3oRq_w?si=UqAu1x62-mD_XZPv&t=801'>link</a>",
          "x": "2025-09-16T00:13:21",
          "y": "france",
          "yshift": 10
         },
         {
          "showarrow": false,
          "text": "<a href='https://youtu.be/OVdyq3oRq_w?si=UqAu1x62-mD_XZPv&t=840'>link</a>",
          "x": "2025-09-16T00:14:00",
          "y": "pays-bas",
          "yshift": 10
         },
         {
          "showarrow": false,
          "text": "<a href='https://youtu.be/OVdyq3oRq_w?si=UqAu1x62-mD_XZPv&t=870'>link</a>",
          "x": "2025-09-16T00:14:30",
          "y": "france",
          "yshift": 10
         },
         {
          "showarrow": false,
          "text": "<a href='https://youtu.be/OVdyq3oRq_w?si=UqAu1x62-mD_XZPv&t=906'>link</a>",
          "x": "2025-09-16T00:15:06",
          "y": "pays-bas",
          "yshift": 10
         },
         {
          "showarrow": false,
          "text": "<a href='https://youtu.be/OVdyq3oRq_w?si=UqAu1x62-mD_XZPv&t=920'>link</a>",
          "x": "2025-09-16T00:15:20",
          "y": "france",
          "yshift": 10
         },
         {
          "showarrow": false,
          "text": "<a href='https://youtu.be/OVdyq3oRq_w?si=UqAu1x62-mD_XZPv&t=965'>link</a>",
          "x": "2025-09-16T00:16:05",
          "y": "france",
          "yshift": 10
         },
         {
          "showarrow": false,
          "text": "<a href='https://youtu.be/OVdyq3oRq_w?si=UqAu1x62-mD_XZPv&t=980'>link</a>",
          "x": "2025-09-16T00:16:20",
          "y": "france",
          "yshift": 10
         },
         {
          "showarrow": false,
          "text": "<a href='https://youtu.be/OVdyq3oRq_w?si=UqAu1x62-mD_XZPv&t=1020'>link</a>",
          "x": "2025-09-16T00:17:00",
          "y": "pays-bas",
          "yshift": 10
         },
         {
          "showarrow": false,
          "text": "<a href='https://youtu.be/OVdyq3oRq_w?si=UqAu1x62-mD_XZPv&t=1025'>link</a>",
          "x": "2025-09-16T00:17:05",
          "y": "pays-bas",
          "yshift": 10
         },
         {
          "showarrow": false,
          "text": "<a href='https://youtu.be/OVdyq3oRq_w?si=UqAu1x62-mD_XZPv&t=1044'>link</a>",
          "x": "2025-09-16T00:17:24",
          "y": "france",
          "yshift": 10
         },
         {
          "showarrow": false,
          "text": "<a href='https://youtu.be/OVdyq3oRq_w?si=UqAu1x62-mD_XZPv&t=1074'>link</a>",
          "x": "2025-09-16T00:17:54",
          "y": "pays-bas",
          "yshift": 10
         },
         {
          "showarrow": false,
          "text": "<a href='https://youtu.be/OVdyq3oRq_w?si=UqAu1x62-mD_XZPv&t=1099'>link</a>",
          "x": "2025-09-16T00:18:19",
          "y": "pays-bas",
          "yshift": 10
         },
         {
          "showarrow": false,
          "text": "<a href='https://youtu.be/OVdyq3oRq_w?si=UqAu1x62-mD_XZPv&t=1135'>link</a>",
          "x": "2025-09-16T00:18:55",
          "y": "france",
          "yshift": 10
         },
         {
          "showarrow": false,
          "text": "<a href='https://youtu.be/OVdyq3oRq_w?si=UqAu1x62-mD_XZPv&t=1171'>link</a>",
          "x": "2025-09-16T00:19:31",
          "y": "pays-bas",
          "yshift": 10
         },
         {
          "showarrow": false,
          "text": "<a href='https://youtu.be/OVdyq3oRq_w?si=UqAu1x62-mD_XZPv&t=1197'>link</a>",
          "x": "2025-09-16T00:19:57",
          "y": "france",
          "yshift": 10
         },
         {
          "showarrow": false,
          "text": "<a href='https://youtu.be/OVdyq3oRq_w?si=UqAu1x62-mD_XZPv&t=1247'>link</a>",
          "x": "2025-09-16T00:20:47",
          "y": "pays-bas",
          "yshift": 10
         },
         {
          "showarrow": false,
          "text": "<a href='https://youtu.be/OVdyq3oRq_w?si=UqAu1x62-mD_XZPv&t=1264'>link</a>",
          "x": "2025-09-16T00:21:04",
          "y": "france",
          "yshift": 10
         },
         {
          "showarrow": false,
          "text": "<a href='https://youtu.be/OVdyq3oRq_w?si=UqAu1x62-mD_XZPv&t=1294'>link</a>",
          "x": "2025-09-16T00:21:34",
          "y": "pays-bas",
          "yshift": 10
         },
         {
          "showarrow": false,
          "text": "<a href='https://youtu.be/OVdyq3oRq_w?si=UqAu1x62-mD_XZPv&t=1308'>link</a>",
          "x": "2025-09-16T00:21:48",
          "y": "france",
          "yshift": 10
         },
         {
          "showarrow": false,
          "text": "<a href='https://youtu.be/OVdyq3oRq_w?si=UqAu1x62-mD_XZPv&t=1317'>link</a>",
          "x": "2025-09-16T00:21:57",
          "y": "pays-bas",
          "yshift": 10
         },
         {
          "showarrow": false,
          "text": "<a href='https://youtu.be/OVdyq3oRq_w?si=UqAu1x62-mD_XZPv&t=1323'>link</a>",
          "x": "2025-09-16T00:22:03",
          "y": "france",
          "yshift": 10
         },
         {
          "showarrow": false,
          "text": "<a href='https://youtu.be/OVdyq3oRq_w?si=UqAu1x62-mD_XZPv&t=1335'>link</a>",
          "x": "2025-09-16T00:22:15",
          "y": "france",
          "yshift": 10
         },
         {
          "showarrow": false,
          "text": "<a href='https://youtu.be/OVdyq3oRq_w?si=UqAu1x62-mD_XZPv&t=1633'>link</a>",
          "x": "2025-09-16T00:24:15",
          "y": "france",
          "yshift": 10
         },
         {
          "showarrow": false,
          "text": "<a href='https://youtu.be/OVdyq3oRq_w?si=UqAu1x62-mD_XZPv&t=1642'>link</a>",
          "x": "2025-09-16T00:24:24",
          "y": "france",
          "yshift": 10
         },
         {
          "showarrow": false,
          "text": "<a href='https://youtu.be/OVdyq3oRq_w?si=UqAu1x62-mD_XZPv&t=1663'>link</a>",
          "x": "2025-09-16T00:24:45",
          "y": "pays-bas",
          "yshift": 10
         },
         {
          "showarrow": false,
          "text": "<a href='https://youtu.be/OVdyq3oRq_w?si=UqAu1x62-mD_XZPv&t=1709'>link</a>",
          "x": "2025-09-16T00:25:31",
          "y": "france",
          "yshift": 10
         },
         {
          "showarrow": false,
          "text": "<a href='https://youtu.be/OVdyq3oRq_w?si=UqAu1x62-mD_XZPv&t=1764'>link</a>",
          "x": "2025-09-16T00:26:26",
          "y": "pays-bas",
          "yshift": 10
         },
         {
          "showarrow": false,
          "text": "<a href='https://youtu.be/OVdyq3oRq_w?si=UqAu1x62-mD_XZPv&t=1773'>link</a>",
          "x": "2025-09-16T00:26:35",
          "y": "france",
          "yshift": 10
         },
         {
          "showarrow": false,
          "text": "<a href='https://youtu.be/OVdyq3oRq_w?si=UqAu1x62-mD_XZPv&t=1792'>link</a>",
          "x": "2025-09-16T00:26:54",
          "y": "france",
          "yshift": 10
         },
         {
          "showarrow": false,
          "text": "<a href='https://youtu.be/OVdyq3oRq_w?si=UqAu1x62-mD_XZPv&t=1833'>link</a>",
          "x": "2025-09-16T00:27:35",
          "y": "pays-bas",
          "yshift": 10
         },
         {
          "showarrow": false,
          "text": "<a href='https://youtu.be/OVdyq3oRq_w?si=UqAu1x62-mD_XZPv&t=1864'>link</a>",
          "x": "2025-09-16T00:28:06",
          "y": "france",
          "yshift": 10
         },
         {
          "showarrow": false,
          "text": "<a href='https://youtu.be/OVdyq3oRq_w?si=UqAu1x62-mD_XZPv&t=1892'>link</a>",
          "x": "2025-09-16T00:28:34",
          "y": "pays-bas",
          "yshift": 10
         },
         {
          "showarrow": false,
          "text": "<a href='https://youtu.be/OVdyq3oRq_w?si=UqAu1x62-mD_XZPv&t=1926'>link</a>",
          "x": "2025-09-16T00:29:08",
          "y": "france",
          "yshift": 10
         },
         {
          "showarrow": false,
          "text": "<a href='https://youtu.be/OVdyq3oRq_w?si=UqAu1x62-mD_XZPv&t=1945'>link</a>",
          "x": "2025-09-16T00:29:27",
          "y": "pays-bas",
          "yshift": 10
         },
         {
          "showarrow": false,
          "text": "<a href='https://youtu.be/OVdyq3oRq_w?si=UqAu1x62-mD_XZPv&t=1976'>link</a>",
          "x": "2025-09-16T00:29:58",
          "y": "france",
          "yshift": 10
         },
         {
          "showarrow": false,
          "text": "<a href='https://youtu.be/OVdyq3oRq_w?si=UqAu1x62-mD_XZPv&t=2006'>link</a>",
          "x": "2025-09-16T00:30:28",
          "y": "france",
          "yshift": 10
         },
         {
          "showarrow": false,
          "text": "<a href='https://youtu.be/OVdyq3oRq_w?si=UqAu1x62-mD_XZPv&t=2021'>link</a>",
          "x": "2025-09-16T00:30:43",
          "y": "pays-bas",
          "yshift": 10
         },
         {
          "showarrow": false,
          "text": "<a href='https://youtu.be/OVdyq3oRq_w?si=UqAu1x62-mD_XZPv&t=2058'>link</a>",
          "x": "2025-09-16T00:31:20",
          "y": "france",
          "yshift": 10
         },
         {
          "showarrow": false,
          "text": "<a href='https://youtu.be/OVdyq3oRq_w?si=UqAu1x62-mD_XZPv&t=2090'>link</a>",
          "x": "2025-09-16T00:31:52",
          "y": "france",
          "yshift": 10
         },
         {
          "showarrow": false,
          "text": "<a href='https://youtu.be/OVdyq3oRq_w?si=UqAu1x62-mD_XZPv&t=2143'>link</a>",
          "x": "2025-09-16T00:32:45",
          "y": "pays-bas",
          "yshift": 10
         },
         {
          "showarrow": false,
          "text": "<a href='https://youtu.be/OVdyq3oRq_w?si=UqAu1x62-mD_XZPv&t=2175'>link</a>",
          "x": "2025-09-16T00:33:17",
          "y": "france",
          "yshift": 10
         },
         {
          "showarrow": false,
          "text": "<a href='https://youtu.be/OVdyq3oRq_w?si=UqAu1x62-mD_XZPv&t=2210'>link</a>",
          "x": "2025-09-16T00:33:52",
          "y": "pays-bas",
          "yshift": 10
         },
         {
          "showarrow": false,
          "text": "<a href='https://youtu.be/OVdyq3oRq_w?si=UqAu1x62-mD_XZPv&t=2234'>link</a>",
          "x": "2025-09-16T00:34:16",
          "y": "pays-bas",
          "yshift": 10
         },
         {
          "showarrow": false,
          "text": "<a href='https://youtu.be/OVdyq3oRq_w?si=UqAu1x62-mD_XZPv&t=2252'>link</a>",
          "x": "2025-09-16T00:34:34",
          "y": "pays-bas",
          "yshift": 10
         },
         {
          "showarrow": false,
          "text": "<a href='https://youtu.be/OVdyq3oRq_w?si=UqAu1x62-mD_XZPv&t=2294'>link</a>",
          "x": "2025-09-16T00:35:16",
          "y": "france",
          "yshift": 10
         },
         {
          "showarrow": false,
          "text": "<a href='https://youtu.be/OVdyq3oRq_w?si=UqAu1x62-mD_XZPv&t=2324'>link</a>",
          "x": "2025-09-16T00:35:46",
          "y": "pays-bas",
          "yshift": 10
         },
         {
          "showarrow": false,
          "text": "<a href='https://youtu.be/OVdyq3oRq_w?si=UqAu1x62-mD_XZPv&t=2368'>link</a>",
          "x": "2025-09-16T00:36:30",
          "y": "france",
          "yshift": 10
         },
         {
          "showarrow": false,
          "text": "<a href='https://youtu.be/OVdyq3oRq_w?si=UqAu1x62-mD_XZPv&t=2391'>link</a>",
          "x": "2025-09-16T00:36:53",
          "y": "france",
          "yshift": 10
         },
         {
          "showarrow": false,
          "text": "<a href='https://youtu.be/OVdyq3oRq_w?si=UqAu1x62-mD_XZPv&t=2439'>link</a>",
          "x": "2025-09-16T00:37:41",
          "y": "pays-bas",
          "yshift": 10
         },
         {
          "showarrow": false,
          "text": "<a href='https://youtu.be/OVdyq3oRq_w?si=UqAu1x62-mD_XZPv&t=2472'>link</a>",
          "x": "2025-09-16T00:38:14",
          "y": "france",
          "yshift": 10
         },
         {
          "showarrow": false,
          "text": "<a href='https://youtu.be/OVdyq3oRq_w?si=UqAu1x62-mD_XZPv&t=2508'>link</a>",
          "x": "2025-09-16T00:38:50",
          "y": "france",
          "yshift": 10
         },
         {
          "showarrow": false,
          "text": "<a href='https://youtu.be/OVdyq3oRq_w?si=UqAu1x62-mD_XZPv&t=2544'>link</a>",
          "x": "2025-09-16T00:39:26",
          "y": "pays-bas",
          "yshift": 10
         },
         {
          "showarrow": false,
          "text": "<a href='https://youtu.be/OVdyq3oRq_w?si=UqAu1x62-mD_XZPv&t=2598'>link</a>",
          "x": "2025-09-16T00:40:20",
          "y": "france",
          "yshift": 10
         },
         {
          "showarrow": false,
          "text": "<a href='https://youtu.be/OVdyq3oRq_w?si=UqAu1x62-mD_XZPv&t=2631'>link</a>",
          "x": "2025-09-16T00:40:53",
          "y": "pays-bas",
          "yshift": 10
         },
         {
          "showarrow": false,
          "text": "<a href='https://youtu.be/OVdyq3oRq_w?si=UqAu1x62-mD_XZPv&t=2659'>link</a>",
          "x": "2025-09-16T00:41:21",
          "y": "france",
          "yshift": 10
         },
         {
          "showarrow": false,
          "text": "<a href='https://youtu.be/OVdyq3oRq_w?si=UqAu1x62-mD_XZPv&t=2693'>link</a>",
          "x": "2025-09-16T00:41:55",
          "y": "pays-bas",
          "yshift": 10
         },
         {
          "showarrow": false,
          "text": "<a href='https://youtu.be/OVdyq3oRq_w?si=UqAu1x62-mD_XZPv&t=2704'>link</a>",
          "x": "2025-09-16T00:42:06",
          "y": "france",
          "yshift": 10
         },
         {
          "showarrow": false,
          "text": "<a href='https://youtu.be/OVdyq3oRq_w?si=UqAu1x62-mD_XZPv&t=2735'>link</a>",
          "x": "2025-09-16T00:42:37",
          "y": "pays-bas",
          "yshift": 10
         },
         {
          "showarrow": false,
          "text": "<a href='https://youtu.be/OVdyq3oRq_w?si=UqAu1x62-mD_XZPv&t=2768'>link</a>",
          "x": "2025-09-16T00:43:10",
          "y": "france",
          "yshift": 10
         },
         {
          "showarrow": false,
          "text": "<a href='https://youtu.be/OVdyq3oRq_w?si=UqAu1x62-mD_XZPv&t=2795'>link</a>",
          "x": "2025-09-16T00:43:37",
          "y": "france",
          "yshift": 10
         },
         {
          "showarrow": false,
          "text": "<a href='https://youtu.be/OVdyq3oRq_w?si=UqAu1x62-mD_XZPv&t=2818'>link</a>",
          "x": "2025-09-16T00:44:00",
          "y": "pays-bas",
          "yshift": 10
         },
         {
          "showarrow": false,
          "text": "<a href='https://youtu.be/OVdyq3oRq_w?si=UqAu1x62-mD_XZPv&t=2837'>link</a>",
          "x": "2025-09-16T00:44:19",
          "y": "france",
          "yshift": 10
         }
        ],
        "template": {
         "data": {
          "bar": [
           {
            "error_x": {
             "color": "#2a3f5f"
            },
            "error_y": {
             "color": "#2a3f5f"
            },
            "marker": {
             "line": {
              "color": "#E5ECF6",
              "width": 0.5
             },
             "pattern": {
              "fillmode": "overlay",
              "size": 10,
              "solidity": 0.2
             }
            },
            "type": "bar"
           }
          ],
          "barpolar": [
           {
            "marker": {
             "line": {
              "color": "#E5ECF6",
              "width": 0.5
             },
             "pattern": {
              "fillmode": "overlay",
              "size": 10,
              "solidity": 0.2
             }
            },
            "type": "barpolar"
           }
          ],
          "carpet": [
           {
            "aaxis": {
             "endlinecolor": "#2a3f5f",
             "gridcolor": "white",
             "linecolor": "white",
             "minorgridcolor": "white",
             "startlinecolor": "#2a3f5f"
            },
            "baxis": {
             "endlinecolor": "#2a3f5f",
             "gridcolor": "white",
             "linecolor": "white",
             "minorgridcolor": "white",
             "startlinecolor": "#2a3f5f"
            },
            "type": "carpet"
           }
          ],
          "choropleth": [
           {
            "colorbar": {
             "outlinewidth": 0,
             "ticks": ""
            },
            "type": "choropleth"
           }
          ],
          "contour": [
           {
            "colorbar": {
             "outlinewidth": 0,
             "ticks": ""
            },
            "colorscale": [
             [
              0,
              "#0d0887"
             ],
             [
              0.1111111111111111,
              "#46039f"
             ],
             [
              0.2222222222222222,
              "#7201a8"
             ],
             [
              0.3333333333333333,
              "#9c179e"
             ],
             [
              0.4444444444444444,
              "#bd3786"
             ],
             [
              0.5555555555555556,
              "#d8576b"
             ],
             [
              0.6666666666666666,
              "#ed7953"
             ],
             [
              0.7777777777777778,
              "#fb9f3a"
             ],
             [
              0.8888888888888888,
              "#fdca26"
             ],
             [
              1,
              "#f0f921"
             ]
            ],
            "type": "contour"
           }
          ],
          "contourcarpet": [
           {
            "colorbar": {
             "outlinewidth": 0,
             "ticks": ""
            },
            "type": "contourcarpet"
           }
          ],
          "heatmap": [
           {
            "colorbar": {
             "outlinewidth": 0,
             "ticks": ""
            },
            "colorscale": [
             [
              0,
              "#0d0887"
             ],
             [
              0.1111111111111111,
              "#46039f"
             ],
             [
              0.2222222222222222,
              "#7201a8"
             ],
             [
              0.3333333333333333,
              "#9c179e"
             ],
             [
              0.4444444444444444,
              "#bd3786"
             ],
             [
              0.5555555555555556,
              "#d8576b"
             ],
             [
              0.6666666666666666,
              "#ed7953"
             ],
             [
              0.7777777777777778,
              "#fb9f3a"
             ],
             [
              0.8888888888888888,
              "#fdca26"
             ],
             [
              1,
              "#f0f921"
             ]
            ],
            "type": "heatmap"
           }
          ],
          "histogram": [
           {
            "marker": {
             "pattern": {
              "fillmode": "overlay",
              "size": 10,
              "solidity": 0.2
             }
            },
            "type": "histogram"
           }
          ],
          "histogram2d": [
           {
            "colorbar": {
             "outlinewidth": 0,
             "ticks": ""
            },
            "colorscale": [
             [
              0,
              "#0d0887"
             ],
             [
              0.1111111111111111,
              "#46039f"
             ],
             [
              0.2222222222222222,
              "#7201a8"
             ],
             [
              0.3333333333333333,
              "#9c179e"
             ],
             [
              0.4444444444444444,
              "#bd3786"
             ],
             [
              0.5555555555555556,
              "#d8576b"
             ],
             [
              0.6666666666666666,
              "#ed7953"
             ],
             [
              0.7777777777777778,
              "#fb9f3a"
             ],
             [
              0.8888888888888888,
              "#fdca26"
             ],
             [
              1,
              "#f0f921"
             ]
            ],
            "type": "histogram2d"
           }
          ],
          "histogram2dcontour": [
           {
            "colorbar": {
             "outlinewidth": 0,
             "ticks": ""
            },
            "colorscale": [
             [
              0,
              "#0d0887"
             ],
             [
              0.1111111111111111,
              "#46039f"
             ],
             [
              0.2222222222222222,
              "#7201a8"
             ],
             [
              0.3333333333333333,
              "#9c179e"
             ],
             [
              0.4444444444444444,
              "#bd3786"
             ],
             [
              0.5555555555555556,
              "#d8576b"
             ],
             [
              0.6666666666666666,
              "#ed7953"
             ],
             [
              0.7777777777777778,
              "#fb9f3a"
             ],
             [
              0.8888888888888888,
              "#fdca26"
             ],
             [
              1,
              "#f0f921"
             ]
            ],
            "type": "histogram2dcontour"
           }
          ],
          "mesh3d": [
           {
            "colorbar": {
             "outlinewidth": 0,
             "ticks": ""
            },
            "type": "mesh3d"
           }
          ],
          "parcoords": [
           {
            "line": {
             "colorbar": {
              "outlinewidth": 0,
              "ticks": ""
             }
            },
            "type": "parcoords"
           }
          ],
          "pie": [
           {
            "automargin": true,
            "type": "pie"
           }
          ],
          "scatter": [
           {
            "fillpattern": {
             "fillmode": "overlay",
             "size": 10,
             "solidity": 0.2
            },
            "type": "scatter"
           }
          ],
          "scatter3d": [
           {
            "line": {
             "colorbar": {
              "outlinewidth": 0,
              "ticks": ""
             }
            },
            "marker": {
             "colorbar": {
              "outlinewidth": 0,
              "ticks": ""
             }
            },
            "type": "scatter3d"
           }
          ],
          "scattercarpet": [
           {
            "marker": {
             "colorbar": {
              "outlinewidth": 0,
              "ticks": ""
             }
            },
            "type": "scattercarpet"
           }
          ],
          "scattergeo": [
           {
            "marker": {
             "colorbar": {
              "outlinewidth": 0,
              "ticks": ""
             }
            },
            "type": "scattergeo"
           }
          ],
          "scattergl": [
           {
            "marker": {
             "colorbar": {
              "outlinewidth": 0,
              "ticks": ""
             }
            },
            "type": "scattergl"
           }
          ],
          "scattermap": [
           {
            "marker": {
             "colorbar": {
              "outlinewidth": 0,
              "ticks": ""
             }
            },
            "type": "scattermap"
           }
          ],
          "scattermapbox": [
           {
            "marker": {
             "colorbar": {
              "outlinewidth": 0,
              "ticks": ""
             }
            },
            "type": "scattermapbox"
           }
          ],
          "scatterpolar": [
           {
            "marker": {
             "colorbar": {
              "outlinewidth": 0,
              "ticks": ""
             }
            },
            "type": "scatterpolar"
           }
          ],
          "scatterpolargl": [
           {
            "marker": {
             "colorbar": {
              "outlinewidth": 0,
              "ticks": ""
             }
            },
            "type": "scatterpolargl"
           }
          ],
          "scatterternary": [
           {
            "marker": {
             "colorbar": {
              "outlinewidth": 0,
              "ticks": ""
             }
            },
            "type": "scatterternary"
           }
          ],
          "surface": [
           {
            "colorbar": {
             "outlinewidth": 0,
             "ticks": ""
            },
            "colorscale": [
             [
              0,
              "#0d0887"
             ],
             [
              0.1111111111111111,
              "#46039f"
             ],
             [
              0.2222222222222222,
              "#7201a8"
             ],
             [
              0.3333333333333333,
              "#9c179e"
             ],
             [
              0.4444444444444444,
              "#bd3786"
             ],
             [
              0.5555555555555556,
              "#d8576b"
             ],
             [
              0.6666666666666666,
              "#ed7953"
             ],
             [
              0.7777777777777778,
              "#fb9f3a"
             ],
             [
              0.8888888888888888,
              "#fdca26"
             ],
             [
              1,
              "#f0f921"
             ]
            ],
            "type": "surface"
           }
          ],
          "table": [
           {
            "cells": {
             "fill": {
              "color": "#EBF0F8"
             },
             "line": {
              "color": "white"
             }
            },
            "header": {
             "fill": {
              "color": "#C8D4E3"
             },
             "line": {
              "color": "white"
             }
            },
            "type": "table"
           }
          ]
         },
         "layout": {
          "annotationdefaults": {
           "arrowcolor": "#2a3f5f",
           "arrowhead": 0,
           "arrowwidth": 1
          },
          "autotypenumbers": "strict",
          "coloraxis": {
           "colorbar": {
            "outlinewidth": 0,
            "ticks": ""
           }
          },
          "colorscale": {
           "diverging": [
            [
             0,
             "#8e0152"
            ],
            [
             0.1,
             "#c51b7d"
            ],
            [
             0.2,
             "#de77ae"
            ],
            [
             0.3,
             "#f1b6da"
            ],
            [
             0.4,
             "#fde0ef"
            ],
            [
             0.5,
             "#f7f7f7"
            ],
            [
             0.6,
             "#e6f5d0"
            ],
            [
             0.7,
             "#b8e186"
            ],
            [
             0.8,
             "#7fbc41"
            ],
            [
             0.9,
             "#4d9221"
            ],
            [
             1,
             "#276419"
            ]
           ],
           "sequential": [
            [
             0,
             "#0d0887"
            ],
            [
             0.1111111111111111,
             "#46039f"
            ],
            [
             0.2222222222222222,
             "#7201a8"
            ],
            [
             0.3333333333333333,
             "#9c179e"
            ],
            [
             0.4444444444444444,
             "#bd3786"
            ],
            [
             0.5555555555555556,
             "#d8576b"
            ],
            [
             0.6666666666666666,
             "#ed7953"
            ],
            [
             0.7777777777777778,
             "#fb9f3a"
            ],
            [
             0.8888888888888888,
             "#fdca26"
            ],
            [
             1,
             "#f0f921"
            ]
           ],
           "sequentialminus": [
            [
             0,
             "#0d0887"
            ],
            [
             0.1111111111111111,
             "#46039f"
            ],
            [
             0.2222222222222222,
             "#7201a8"
            ],
            [
             0.3333333333333333,
             "#9c179e"
            ],
            [
             0.4444444444444444,
             "#bd3786"
            ],
            [
             0.5555555555555556,
             "#d8576b"
            ],
            [
             0.6666666666666666,
             "#ed7953"
            ],
            [
             0.7777777777777778,
             "#fb9f3a"
            ],
            [
             0.8888888888888888,
             "#fdca26"
            ],
            [
             1,
             "#f0f921"
            ]
           ]
          },
          "colorway": [
           "#636efa",
           "#EF553B",
           "#00cc96",
           "#ab63fa",
           "#FFA15A",
           "#19d3f3",
           "#FF6692",
           "#B6E880",
           "#FF97FF",
           "#FECB52"
          ],
          "font": {
           "color": "#2a3f5f"
          },
          "geo": {
           "bgcolor": "white",
           "lakecolor": "white",
           "landcolor": "#E5ECF6",
           "showlakes": true,
           "showland": true,
           "subunitcolor": "white"
          },
          "hoverlabel": {
           "align": "left"
          },
          "hovermode": "closest",
          "mapbox": {
           "style": "light"
          },
          "paper_bgcolor": "white",
          "plot_bgcolor": "#E5ECF6",
          "polar": {
           "angularaxis": {
            "gridcolor": "white",
            "linecolor": "white",
            "ticks": ""
           },
           "bgcolor": "#E5ECF6",
           "radialaxis": {
            "gridcolor": "white",
            "linecolor": "white",
            "ticks": ""
           }
          },
          "scene": {
           "xaxis": {
            "backgroundcolor": "#E5ECF6",
            "gridcolor": "white",
            "gridwidth": 2,
            "linecolor": "white",
            "showbackground": true,
            "ticks": "",
            "zerolinecolor": "white"
           },
           "yaxis": {
            "backgroundcolor": "#E5ECF6",
            "gridcolor": "white",
            "gridwidth": 2,
            "linecolor": "white",
            "showbackground": true,
            "ticks": "",
            "zerolinecolor": "white"
           },
           "zaxis": {
            "backgroundcolor": "#E5ECF6",
            "gridcolor": "white",
            "gridwidth": 2,
            "linecolor": "white",
            "showbackground": true,
            "ticks": "",
            "zerolinecolor": "white"
           }
          },
          "shapedefaults": {
           "line": {
            "color": "#2a3f5f"
           }
          },
          "ternary": {
           "aaxis": {
            "gridcolor": "white",
            "linecolor": "white",
            "ticks": ""
           },
           "baxis": {
            "gridcolor": "white",
            "linecolor": "white",
            "ticks": ""
           },
           "bgcolor": "#E5ECF6",
           "caxis": {
            "gridcolor": "white",
            "linecolor": "white",
            "ticks": ""
           }
          },
          "title": {
           "x": 0.05
          },
          "xaxis": {
           "automargin": true,
           "gridcolor": "white",
           "linecolor": "white",
           "ticks": "",
           "title": {
            "standoff": 15
           },
           "zerolinecolor": "white",
           "zerolinewidth": 2
          },
          "yaxis": {
           "automargin": true,
           "gridcolor": "white",
           "linecolor": "white",
           "ticks": "",
           "title": {
            "standoff": 15
           },
           "zerolinecolor": "white",
           "zerolinewidth": 2
          }
         }
        }
       }
      },
      "image/png": "[encoded data removed]"
     },
     "metadata": {},
     "output_type": "display_data"
    },
    {
     "name": "stderr",
     "output_type": "stream",
     "text": [
      "C:\\Users\\robin\\AppData\\Local\\Temp\\ipykernel_5076\\3661553388.py:12: UserWarning:\n",
      "\n",
      "Could not infer format, so each element will be parsed individually, falling back to `dateutil`. To ensure parsing is consistent and as-expected, please specify a format.\n",
      "\n",
      "C:\\Users\\robin\\AppData\\Local\\Temp\\ipykernel_5076\\3661553388.py:32: FutureWarning:\n",
      "\n",
      "ChainedAssignmentError: behaviour will change in pandas 3.0!\n",
      "You are setting values through chained assignment. Currently this works in certain cases, but when using Copy-on-Write (which will become the default behaviour in pandas 3.0) this will never work to update the original DataFrame or Series, because the intermediate object on which we are setting values will behave as a copy.\n",
      "A typical example is when you are setting values in a column of a DataFrame, like:\n",
      "\n",
      "df[\"col\"][row_indexer] = value\n",
      "\n",
      "Use `df.loc[row_indexer, \"col\"] = values` instead, to perform the assignment in a single step and ensure this keeps updating the original `df`.\n",
      "\n",
      "See the caveats in the documentation: https://pandas.pydata.org/pandas-docs/stable/user_guide/indexing.html#returning-a-view-versus-a-copy\n",
      "\n",
      "\n",
      "C:\\Users\\robin\\AppData\\Local\\Temp\\ipykernel_5076\\3661553388.py:32: SettingWithCopyWarning:\n",
      "\n",
      "\n",
      "A value is trying to be set on a copy of a slice from a DataFrame\n",
      "\n",
      "See the caveats in the documentation: https://pandas.pydata.org/pandas-docs/stable/user_guide/indexing.html#returning-a-view-versus-a-copy\n",
      "\n",
      "C:\\Users\\robin\\AppData\\Local\\Temp\\ipykernel_5076\\3661553388.py:34: FutureWarning:\n",
      "\n",
      "A value is trying to be set on a copy of a DataFrame or Series through chained assignment using an inplace method.\n",
      "The behavior will change in pandas 3.0. This inplace method will never work because the intermediate object on which we are setting values always behaves as a copy.\n",
      "\n",
      "For example, when doing 'df[col].method(value, inplace=True)', try using 'df.method({col: value}, inplace=True)' or df[col] = df[col].method(value) instead, to perform the operation inplace on the original object.\n",
      "\n",
      "\n",
      "\n",
      "C:\\Users\\robin\\AppData\\Local\\Temp\\ipykernel_5076\\3661553388.py:34: FutureWarning:\n",
      "\n",
      "Downcasting object dtype arrays on .fillna, .ffill, .bfill is deprecated and will change in a future version. Call result.infer_objects(copy=False) instead. To opt-in to the future behavior, set `pd.set_option('future.no_silent_downcasting', True)`\n",
      "\n",
      "C:\\Users\\robin\\AppData\\Local\\Temp\\ipykernel_5076\\3661553388.py:35: FutureWarning:\n",
      "\n",
      "A value is trying to be set on a copy of a DataFrame or Series through chained assignment using an inplace method.\n",
      "The behavior will change in pandas 3.0. This inplace method will never work because the intermediate object on which we are setting values always behaves as a copy.\n",
      "\n",
      "For example, when doing 'df[col].method(value, inplace=True)', try using 'df.method({col: value}, inplace=True)' or df[col] = df[col].method(value) instead, to perform the operation inplace on the original object.\n",
      "\n",
      "\n",
      "\n",
      "C:\\Users\\robin\\AppData\\Local\\Temp\\ipykernel_5076\\3661553388.py:35: FutureWarning:\n",
      "\n",
      "Downcasting object dtype arrays on .fillna, .ffill, .bfill is deprecated and will change in a future version. Call result.infer_objects(copy=False) instead. To opt-in to the future behavior, set `pd.set_option('future.no_silent_downcasting', True)`\n",
      "\n"
     ]
    },
    {
     "data": {
      "application/vnd.plotly.v1+json": {
       "config": {
        "plotlyServerURL": "https://plot.ly"
       },
       "data": [
        {
         "legendgroup": "france",
         "marker": {
          "color": "green"
         },
         "mode": "markers+lines+text",
         "name": "france",
         "showlegend": true,
         "text": [
          "<a href='https://youtu.be/QBGuR92a3dU?si=CNI-tmLU5PdLZN1W&t=91'>link</a>",
          "<a href='https://youtu.be/QBGuR92a3dU?si=CNI-tmLU5PdLZN1W&t=384'>link</a>",
          "<a href='https://youtu.be/QBGuR92a3dU?si=CNI-tmLU5PdLZN1W&t=478'>link</a>",
          "<a href='https://youtu.be/QBGuR92a3dU?si=CNI-tmLU5PdLZN1W&t=557'>link</a>",
          "<a href='https://youtu.be/QBGuR92a3dU?si=CNI-tmLU5PdLZN1W&t=783'>link</a>",
          "<a href='https://youtu.be/QBGuR92a3dU?si=CNI-tmLU5PdLZN1W&t=865'>link</a>",
          "<a href='https://youtu.be/QBGuR92a3dU?si=CNI-tmLU5PdLZN1W&t=902'>link</a>",
          "<a href='https://youtu.be/QBGuR92a3dU?si=CNI-tmLU5PdLZN1W&t=1177'>link</a>",
          "<a href='https://youtu.be/swCTy3CCMfc?si=1OErpfB94Bkzr5_5&t=182'>link</a>",
          "<a href='https://youtu.be/swCTy3CCMfc?si=1OErpfB94Bkzr5_5&t=432'>link</a>",
          "<a href='https://youtu.be/swCTy3CCMfc?si=1OErpfB94Bkzr5_5&t=727'>link</a>",
          "<a href='https://youtu.be/swCTy3CCMfc?si=1OErpfB94Bkzr5_5&t=1079'>link</a>",
          "<a href='https://youtu.be/swCTy3CCMfc?si=1OErpfB94Bkzr5_5&t=1113'>link</a>"
         ],
         "textposition": "bottom center",
         "type": "scatter",
         "x": [
          "2025-09-16T00:01:31.000000000",
          "2025-09-16T00:06:24.000000000",
          "2025-09-16T00:07:58.000000000",
          "2025-09-16T00:09:17.000000000",
          "2025-09-16T00:13:03.000000000",
          "2025-09-16T00:14:25.000000000",
          "2025-09-16T00:15:02.000000000",
          "2025-09-16T00:19:37.000000000",
          "2025-09-16T00:25:05.000000000",
          "2025-09-16T00:29:15.000000000",
          "2025-09-16T00:34:10.000000000",
          "2025-09-16T00:40:02.000000000",
          "2025-09-16T00:40:36.000000000"
         ],
         "xaxis": "x",
         "y": {
          "bdata": "AAAAAAABAQEBAQECAg==",
          "dtype": "i1"
         },
         "yaxis": "y"
        },
        {
         "legendgroup": "england",
         "marker": {
          "color": "red"
         },
         "mode": "markers+lines",
         "name": "england",
         "showlegend": true,
         "type": "scatter",
         "x": [
          "2025-09-16T00:01:31.000000000",
          "2025-09-16T00:06:24.000000000",
          "2025-09-16T00:07:58.000000000",
          "2025-09-16T00:09:17.000000000",
          "2025-09-16T00:13:03.000000000",
          "2025-09-16T00:14:25.000000000",
          "2025-09-16T00:15:02.000000000",
          "2025-09-16T00:19:37.000000000",
          "2025-09-16T00:25:05.000000000",
          "2025-09-16T00:29:15.000000000",
          "2025-09-16T00:34:10.000000000",
          "2025-09-16T00:40:02.000000000",
          "2025-09-16T00:40:36.000000000"
         ],
         "xaxis": "x",
         "y": {
          "bdata": "AQIDBAUFBgcICQoKCw==",
          "dtype": "i1"
         },
         "yaxis": "y"
        },
        {
         "legendgroup": "france",
         "marker": {
          "color": "green"
         },
         "mode": "markers+lines+text",
         "name": "france",
         "showlegend": false,
         "text": [
          "<a href='https://youtu.be/QBGuR92a3dU?si=CNI-tmLU5PdLZN1W&t=25'>link</a>",
          "<a href='https://youtu.be/QBGuR92a3dU?si=CNI-tmLU5PdLZN1W&t=65'>link</a>",
          "<a href='https://youtu.be/QBGuR92a3dU?si=CNI-tmLU5PdLZN1W&t=133'>link</a>",
          "<a href='https://youtu.be/QBGuR92a3dU?si=CNI-tmLU5PdLZN1W&t=167'>link</a>",
          "<a href='https://youtu.be/QBGuR92a3dU?si=CNI-tmLU5PdLZN1W&t=210'>link</a>",
          "<a href='https://youtu.be/QBGuR92a3dU?si=CNI-tmLU5PdLZN1W&t=238'>link</a>",
          "<a href='https://youtu.be/QBGuR92a3dU?si=CNI-tmLU5PdLZN1W&t=270'>link</a>",
          "<a href='https://youtu.be/QBGuR92a3dU?si=CNI-tmLU5PdLZN1W&t=325'>link</a>",
          "<a href='https://youtu.be/QBGuR92a3dU?si=CNI-tmLU5PdLZN1W&t=342'>link</a>",
          "<a href='https://youtu.be/QBGuR92a3dU?si=CNI-tmLU5PdLZN1W&t=440'>link</a>",
          "<a href='https://youtu.be/QBGuR92a3dU?si=CNI-tmLU5PdLZN1W&t=518'>link</a>",
          "<a href='https://youtu.be/QBGuR92a3dU?si=CNI-tmLU5PdLZN1W&t=544'>link</a>",
          "<a href='https://youtu.be/QBGuR92a3dU?si=CNI-tmLU5PdLZN1W&t=595'>link</a>",
          "<a href='https://youtu.be/QBGuR92a3dU?si=CNI-tmLU5PdLZN1W&t=636'>link</a>",
          "<a href='https://youtu.be/QBGuR92a3dU?si=CNI-tmLU5PdLZN1W&t=720'>link</a>",
          "<a href='https://youtu.be/QBGuR92a3dU?si=CNI-tmLU5PdLZN1W&t=752'>link</a>",
          "<a href='https://youtu.be/QBGuR92a3dU?si=CNI-tmLU5PdLZN1W&t=955'>link</a>",
          "<a href='https://youtu.be/QBGuR92a3dU?si=CNI-tmLU5PdLZN1W&t=977'>link</a>",
          "<a href='https://youtu.be/QBGuR92a3dU?si=CNI-tmLU5PdLZN1W&t=1028'>link</a>",
          "<a href='https://youtu.be/QBGuR92a3dU?si=CNI-tmLU5PdLZN1W&t=1067'>link</a>",
          "<a href='https://youtu.be/QBGuR92a3dU?si=CNI-tmLU5PdLZN1W&t=1095'>link</a>",
          "<a href='https://youtu.be/QBGuR92a3dU?si=CNI-tmLU5PdLZN1W&t=1122'>link</a>",
          "<a href='https://youtu.be/QBGuR92a3dU?si=CNI-tmLU5PdLZN1W&t=1154'>link</a>",
          "<a href='https://youtu.be/swCTy3CCMfc?si=1OErpfB94Bkzr5_5&t=29'>link</a>",
          "<a href='https://youtu.be/swCTy3CCMfc?si=1OErpfB94Bkzr5_5&t=56'>link</a>",
          "<a href='https://youtu.be/swCTy3CCMfc?si=1OErpfB94Bkzr5_5&t=88'>link</a>",
          "<a href='https://youtu.be/swCTy3CCMfc?si=1OErpfB94Bkzr5_5&t=155'>link</a>",
          "<a href='https://youtu.be/swCTy3CCMfc?si=1OErpfB94Bkzr5_5&t=240'>link</a>",
          "<a href='https://youtu.be/swCTy3CCMfc?si=1OErpfB94Bkzr5_5&t=282'>link</a>",
          "<a href='https://youtu.be/swCTy3CCMfc?si=1OErpfB94Bkzr5_5&t=308'>link</a>",
          "<a href='https://youtu.be/swCTy3CCMfc?si=1OErpfB94Bkzr5_5&t=341'>link</a>",
          "<a href='https://youtu.be/swCTy3CCMfc?si=1OErpfB94Bkzr5_5&t=362'>link</a>",
          "<a href='https://youtu.be/swCTy3CCMfc?si=1OErpfB94Bkzr5_5&t=481'>link</a>",
          "<a href='https://youtu.be/swCTy3CCMfc?si=1OErpfB94Bkzr5_5&t=501'>link</a>",
          "<a href='https://youtu.be/swCTy3CCMfc?si=1OErpfB94Bkzr5_5&t=532'>link</a>",
          "<a href='https://youtu.be/swCTy3CCMfc?si=1OErpfB94Bkzr5_5&t=567'>link</a>",
          "<a href='https://youtu.be/swCTy3CCMfc?si=1OErpfB94Bkzr5_5&t=605'>link</a>",
          "<a href='https://youtu.be/swCTy3CCMfc?si=1OErpfB94Bkzr5_5&t=618'>link</a>",
          "<a href='https://youtu.be/swCTy3CCMfc?si=1OErpfB94Bkzr5_5&t=660'>link</a>",
          "<a href='https://youtu.be/swCTy3CCMfc?si=1OErpfB94Bkzr5_5&t=780'>link</a>",
          "<a href='https://youtu.be/swCTy3CCMfc?si=1OErpfB94Bkzr5_5&t=838'>link</a>",
          "<a href='https://youtu.be/swCTy3CCMfc?si=1OErpfB94Bkzr5_5&t=947'>link</a>",
          "<a href='https://youtu.be/swCTy3CCMfc?si=1OErpfB94Bkzr5_5&t=984'>link</a>",
          "<a href='https://youtu.be/swCTy3CCMfc?si=1OErpfB94Bkzr5_5&t=1016'>link</a>",
          "<a href='https://youtu.be/swCTy3CCMfc?si=1OErpfB94Bkzr5_5&t=1041'>link</a>"
         ],
         "textposition": "bottom center",
         "type": "scatter",
         "x": [
          "2025-09-16T00:00:25.000000000",
          "2025-09-16T00:01:05.000000000",
          "2025-09-16T00:02:13.000000000",
          "2025-09-16T00:02:47.000000000",
          "2025-09-16T00:03:30.000000000",
          "2025-09-16T00:03:58.000000000",
          "2025-09-16T00:04:30.000000000",
          "2025-09-16T00:05:25.000000000",
          "2025-09-16T00:05:42.000000000",
          "2025-09-16T00:07:20.000000000",
          "2025-09-16T00:08:38.000000000",
          "2025-09-16T00:09:04.000000000",
          "2025-09-16T00:09:55.000000000",
          "2025-09-16T00:10:36.000000000",
          "2025-09-16T00:12:00.000000000",
          "2025-09-16T00:12:32.000000000",
          "2025-09-16T00:15:55.000000000",
          "2025-09-16T00:16:17.000000000",
          "2025-09-16T00:17:08.000000000",
          "2025-09-16T00:17:47.000000000",
          "2025-09-16T00:18:15.000000000",
          "2025-09-16T00:18:42.000000000",
          "2025-09-16T00:19:14.000000000",
          "2025-09-16T00:22:32.000000000",
          "2025-09-16T00:22:59.000000000",
          "2025-09-16T00:23:31.000000000",
          "2025-09-16T00:24:38.000000000",
          "2025-09-16T00:26:03.000000000",
          "2025-09-16T00:26:45.000000000",
          "2025-09-16T00:27:11.000000000",
          "2025-09-16T00:27:44.000000000",
          "2025-09-16T00:28:05.000000000",
          "2025-09-16T00:30:04.000000000",
          "2025-09-16T00:30:24.000000000",
          "2025-09-16T00:30:55.000000000",
          "2025-09-16T00:31:30.000000000",
          "2025-09-16T00:32:08.000000000",
          "2025-09-16T00:32:21.000000000",
          "2025-09-16T00:33:03.000000000",
          "2025-09-16T00:35:03.000000000",
          "2025-09-16T00:36:01.000000000",
          "2025-09-16T00:37:50.000000000",
          "2025-09-16T00:38:27.000000000",
          "2025-09-16T00:38:59.000000000",
          "2025-09-16T00:39:24.000000000"
         ],
         "xaxis": "x2",
         "y": {
          "bdata": "AQEBAgIDAwQEBAQEBAUFBQUGBgcHBwcHCAgICAgJCQoKCwsMDA0NDQ0NDg4P",
          "dtype": "i1"
         },
         "yaxis": "y2"
        },
        {
         "legendgroup": "england",
         "marker": {
          "color": "red"
         },
         "mode": "markers+lines",
         "name": "england",
         "showlegend": false,
         "type": "scatter",
         "x": [
          "2025-09-16T00:00:25.000000000",
          "2025-09-16T00:01:05.000000000",
          "2025-09-16T00:02:13.000000000",
          "2025-09-16T00:02:47.000000000",
          "2025-09-16T00:03:30.000000000",
          "2025-09-16T00:03:58.000000000",
          "2025-09-16T00:04:30.000000000",
          "2025-09-16T00:05:25.000000000",
          "2025-09-16T00:05:42.000000000",
          "2025-09-16T00:07:20.000000000",
          "2025-09-16T00:08:38.000000000",
          "2025-09-16T00:09:04.000000000",
          "2025-09-16T00:09:55.000000000",
          "2025-09-16T00:10:36.000000000",
          "2025-09-16T00:12:00.000000000",
          "2025-09-16T00:12:32.000000000",
          "2025-09-16T00:15:55.000000000",
          "2025-09-16T00:16:17.000000000",
          "2025-09-16T00:17:08.000000000",
          "2025-09-16T00:17:47.000000000",
          "2025-09-16T00:18:15.000000000",
          "2025-09-16T00:18:42.000000000",
          "2025-09-16T00:19:14.000000000",
          "2025-09-16T00:22:32.000000000",
          "2025-09-16T00:22:59.000000000",
          "2025-09-16T00:23:31.000000000",
          "2025-09-16T00:24:38.000000000",
          "2025-09-16T00:26:03.000000000",
          "2025-09-16T00:26:45.000000000",
          "2025-09-16T00:27:11.000000000",
          "2025-09-16T00:27:44.000000000",
          "2025-09-16T00:28:05.000000000",
          "2025-09-16T00:30:04.000000000",
          "2025-09-16T00:30:24.000000000",
          "2025-09-16T00:30:55.000000000",
          "2025-09-16T00:31:30.000000000",
          "2025-09-16T00:32:08.000000000",
          "2025-09-16T00:32:21.000000000",
          "2025-09-16T00:33:03.000000000",
          "2025-09-16T00:35:03.000000000",
          "2025-09-16T00:36:01.000000000",
          "2025-09-16T00:37:50.000000000",
          "2025-09-16T00:38:27.000000000",
          "2025-09-16T00:38:59.000000000",
          "2025-09-16T00:39:24.000000000"
         ],
         "xaxis": "x2",
         "y": {
          "bdata": "AAECAgMDBAQFBgcICQkKCwwMDQ0ODxARERITFBUVFhYXFxgYGRkaGxwdHR4e",
          "dtype": "i1"
         },
         "yaxis": "y2"
        },
        {
         "legendgroup": "france",
         "marker": {
          "color": "green"
         },
         "mode": "markers+lines+text",
         "name": "france",
         "showlegend": false,
         "text": [
          "<a href='https://youtu.be/QBGuR92a3dU?si=CNI-tmLU5PdLZN1W&t=34'>link</a>",
          "<a href='https://youtu.be/QBGuR92a3dU?si=CNI-tmLU5PdLZN1W&t=45'>link</a>",
          "<a href='https://youtu.be/QBGuR92a3dU?si=CNI-tmLU5PdLZN1W&t=187'>link</a>",
          "<a href='https://youtu.be/QBGuR92a3dU?si=CNI-tmLU5PdLZN1W&t=290'>link</a>",
          "<a href='https://youtu.be/QBGuR92a3dU?si=CNI-tmLU5PdLZN1W&t=654'>link</a>",
          "<a href='https://youtu.be/QBGuR92a3dU?si=CNI-tmLU5PdLZN1W&t=674'>link</a>",
          "<a href='https://youtu.be/QBGuR92a3dU?si=CNI-tmLU5PdLZN1W&t=825'>link</a>",
          "<a href='https://youtu.be/swCTy3CCMfc?si=1OErpfB94Bkzr5_5&t=259'>link</a>",
          "<a href='https://youtu.be/swCTy3CCMfc?si=1OErpfB94Bkzr5_5&t=400'>link</a>",
          "<a href='https://youtu.be/swCTy3CCMfc?si=1OErpfB94Bkzr5_5&t=698'>link</a>",
          "<a href='https://youtu.be/swCTy3CCMfc?si=1OErpfB94Bkzr5_5&t=792'>link</a>",
          "<a href='https://youtu.be/swCTy3CCMfc?si=1OErpfB94Bkzr5_5&t=900'>link</a>"
         ],
         "textposition": "bottom center",
         "type": "scatter",
         "x": [
          "2025-09-16T00:00:34.000000000",
          "2025-09-16T00:00:45.000000000",
          "2025-09-16T00:03:07.000000000",
          "2025-09-16T00:04:50.000000000",
          "2025-09-16T00:10:54.000000000",
          "2025-09-16T00:11:14.000000000",
          "2025-09-16T00:13:45.000000000",
          "2025-09-16T00:26:22.000000000",
          "2025-09-16T00:28:43.000000000",
          "2025-09-16T00:33:41.000000000",
          "2025-09-16T00:35:15.000000000",
          "2025-09-16T00:37:03.000000000"
         ],
         "xaxis": "x3",
         "y": {
          "bdata": "AQIDAwQFBgcHBwgJ",
          "dtype": "i1"
         },
         "yaxis": "y3"
        },
        {
         "legendgroup": "england",
         "marker": {
          "color": "red"
         },
         "mode": "markers+lines",
         "name": "england",
         "showlegend": false,
         "type": "scatter",
         "x": [
          "2025-09-16T00:00:34.000000000",
          "2025-09-16T00:00:45.000000000",
          "2025-09-16T00:03:07.000000000",
          "2025-09-16T00:04:50.000000000",
          "2025-09-16T00:10:54.000000000",
          "2025-09-16T00:11:14.000000000",
          "2025-09-16T00:13:45.000000000",
          "2025-09-16T00:26:22.000000000",
          "2025-09-16T00:28:43.000000000",
          "2025-09-16T00:33:41.000000000",
          "2025-09-16T00:35:15.000000000",
          "2025-09-16T00:37:03.000000000"
         ],
         "xaxis": "x3",
         "y": {
          "bdata": "AAAAAQEBAQECAwMD",
          "dtype": "i1"
         },
         "yaxis": "y3"
        }
       ],
       "layout": {
        "annotations": [
         {
          "font": {
           "size": 16
          },
          "showarrow": false,
          "text": "Try",
          "x": 0.5,
          "xanchor": "center",
          "xref": "paper",
          "y": 1,
          "yanchor": "bottom",
          "yref": "paper"
         },
         {
          "font": {
           "size": 16
          },
          "showarrow": false,
          "text": "Turnover",
          "x": 0.5,
          "xanchor": "center",
          "xref": "paper",
          "y": 0.6111111111111112,
          "yanchor": "bottom",
          "yref": "paper"
         },
         {
          "font": {
           "size": 16
          },
          "showarrow": false,
          "text": "Penalty",
          "x": 0.5,
          "xanchor": "center",
          "xref": "paper",
          "y": 0.22222222222222224,
          "yanchor": "bottom",
          "yref": "paper"
         }
        ],
        "hovermode": "x unified",
        "template": {
         "data": {
          "bar": [
           {
            "error_x": {
             "color": "#2a3f5f"
            },
            "error_y": {
             "color": "#2a3f5f"
            },
            "marker": {
             "line": {
              "color": "#E5ECF6",
              "width": 0.5
             },
             "pattern": {
              "fillmode": "overlay",
              "size": 10,
              "solidity": 0.2
             }
            },
            "type": "bar"
           }
          ],
          "barpolar": [
           {
            "marker": {
             "line": {
              "color": "#E5ECF6",
              "width": 0.5
             },
             "pattern": {
              "fillmode": "overlay",
              "size": 10,
              "solidity": 0.2
             }
            },
            "type": "barpolar"
           }
          ],
          "carpet": [
           {
            "aaxis": {
             "endlinecolor": "#2a3f5f",
             "gridcolor": "white",
             "linecolor": "white",
             "minorgridcolor": "white",
             "startlinecolor": "#2a3f5f"
            },
            "baxis": {
             "endlinecolor": "#2a3f5f",
             "gridcolor": "white",
             "linecolor": "white",
             "minorgridcolor": "white",
             "startlinecolor": "#2a3f5f"
            },
            "type": "carpet"
           }
          ],
          "choropleth": [
           {
            "colorbar": {
             "outlinewidth": 0,
             "ticks": ""
            },
            "type": "choropleth"
           }
          ],
          "contour": [
           {
            "colorbar": {
             "outlinewidth": 0,
             "ticks": ""
            },
            "colorscale": [
             [
              0,
              "#0d0887"
             ],
             [
              0.1111111111111111,
              "#46039f"
             ],
             [
              0.2222222222222222,
              "#7201a8"
             ],
             [
              0.3333333333333333,
              "#9c179e"
             ],
             [
              0.4444444444444444,
              "#bd3786"
             ],
             [
              0.5555555555555556,
              "#d8576b"
             ],
             [
              0.6666666666666666,
              "#ed7953"
             ],
             [
              0.7777777777777778,
              "#fb9f3a"
             ],
             [
              0.8888888888888888,
              "#fdca26"
             ],
             [
              1,
              "#f0f921"
             ]
            ],
            "type": "contour"
           }
          ],
          "contourcarpet": [
           {
            "colorbar": {
             "outlinewidth": 0,
             "ticks": ""
            },
            "type": "contourcarpet"
           }
          ],
          "heatmap": [
           {
            "colorbar": {
             "outlinewidth": 0,
             "ticks": ""
            },
            "colorscale": [
             [
              0,
              "#0d0887"
             ],
             [
              0.1111111111111111,
              "#46039f"
             ],
             [
              0.2222222222222222,
              "#7201a8"
             ],
             [
              0.3333333333333333,
              "#9c179e"
             ],
             [
              0.4444444444444444,
              "#bd3786"
             ],
             [
              0.5555555555555556,
              "#d8576b"
             ],
             [
              0.6666666666666666,
              "#ed7953"
             ],
             [
              0.7777777777777778,
              "#fb9f3a"
             ],
             [
              0.8888888888888888,
              "#fdca26"
             ],
             [
              1,
              "#f0f921"
             ]
            ],
            "type": "heatmap"
           }
          ],
          "histogram": [
           {
            "marker": {
             "pattern": {
              "fillmode": "overlay",
              "size": 10,
              "solidity": 0.2
             }
            },
            "type": "histogram"
           }
          ],
          "histogram2d": [
           {
            "colorbar": {
             "outlinewidth": 0,
             "ticks": ""
            },
            "colorscale": [
             [
              0,
              "#0d0887"
             ],
             [
              0.1111111111111111,
              "#46039f"
             ],
             [
              0.2222222222222222,
              "#7201a8"
             ],
             [
              0.3333333333333333,
              "#9c179e"
             ],
             [
              0.4444444444444444,
              "#bd3786"
             ],
             [
              0.5555555555555556,
              "#d8576b"
             ],
             [
              0.6666666666666666,
              "#ed7953"
             ],
             [
              0.7777777777777778,
              "#fb9f3a"
             ],
             [
              0.8888888888888888,
              "#fdca26"
             ],
             [
              1,
              "#f0f921"
             ]
            ],
            "type": "histogram2d"
           }
          ],
          "histogram2dcontour": [
           {
            "colorbar": {
             "outlinewidth": 0,
             "ticks": ""
            },
            "colorscale": [
             [
              0,
              "#0d0887"
             ],
             [
              0.1111111111111111,
              "#46039f"
             ],
             [
              0.2222222222222222,
              "#7201a8"
             ],
             [
              0.3333333333333333,
              "#9c179e"
             ],
             [
              0.4444444444444444,
              "#bd3786"
             ],
             [
              0.5555555555555556,
              "#d8576b"
             ],
             [
              0.6666666666666666,
              "#ed7953"
             ],
             [
              0.7777777777777778,
              "#fb9f3a"
             ],
             [
              0.8888888888888888,
              "#fdca26"
             ],
             [
              1,
              "#f0f921"
             ]
            ],
            "type": "histogram2dcontour"
           }
          ],
          "mesh3d": [
           {
            "colorbar": {
             "outlinewidth": 0,
             "ticks": ""
            },
            "type": "mesh3d"
           }
          ],
          "parcoords": [
           {
            "line": {
             "colorbar": {
              "outlinewidth": 0,
              "ticks": ""
             }
            },
            "type": "parcoords"
           }
          ],
          "pie": [
           {
            "automargin": true,
            "type": "pie"
           }
          ],
          "scatter": [
           {
            "fillpattern": {
             "fillmode": "overlay",
             "size": 10,
             "solidity": 0.2
            },
            "type": "scatter"
           }
          ],
          "scatter3d": [
           {
            "line": {
             "colorbar": {
              "outlinewidth": 0,
              "ticks": ""
             }
            },
            "marker": {
             "colorbar": {
              "outlinewidth": 0,
              "ticks": ""
             }
            },
            "type": "scatter3d"
           }
          ],
          "scattercarpet": [
           {
            "marker": {
             "colorbar": {
              "outlinewidth": 0,
              "ticks": ""
             }
            },
            "type": "scattercarpet"
           }
          ],
          "scattergeo": [
           {
            "marker": {
             "colorbar": {
              "outlinewidth": 0,
              "ticks": ""
             }
            },
            "type": "scattergeo"
           }
          ],
          "scattergl": [
           {
            "marker": {
             "colorbar": {
              "outlinewidth": 0,
              "ticks": ""
             }
            },
            "type": "scattergl"
           }
          ],
          "scattermap": [
           {
            "marker": {
             "colorbar": {
              "outlinewidth": 0,
              "ticks": ""
             }
            },
            "type": "scattermap"
           }
          ],
          "scattermapbox": [
           {
            "marker": {
             "colorbar": {
              "outlinewidth": 0,
              "ticks": ""
             }
            },
            "type": "scattermapbox"
           }
          ],
          "scatterpolar": [
           {
            "marker": {
             "colorbar": {
              "outlinewidth": 0,
              "ticks": ""
             }
            },
            "type": "scatterpolar"
           }
          ],
          "scatterpolargl": [
           {
            "marker": {
             "colorbar": {
              "outlinewidth": 0,
              "ticks": ""
             }
            },
            "type": "scatterpolargl"
           }
          ],
          "scatterternary": [
           {
            "marker": {
             "colorbar": {
              "outlinewidth": 0,
              "ticks": ""
             }
            },
            "type": "scatterternary"
           }
          ],
          "surface": [
           {
            "colorbar": {
             "outlinewidth": 0,
             "ticks": ""
            },
            "colorscale": [
             [
              0,
              "#0d0887"
             ],
             [
              0.1111111111111111,
              "#46039f"
             ],
             [
              0.2222222222222222,
              "#7201a8"
             ],
             [
              0.3333333333333333,
              "#9c179e"
             ],
             [
              0.4444444444444444,
              "#bd3786"
             ],
             [
              0.5555555555555556,
              "#d8576b"
             ],
             [
              0.6666666666666666,
              "#ed7953"
             ],
             [
              0.7777777777777778,
              "#fb9f3a"
             ],
             [
              0.8888888888888888,
              "#fdca26"
             ],
             [
              1,
              "#f0f921"
             ]
            ],
            "type": "surface"
           }
          ],
          "table": [
           {
            "cells": {
             "fill": {
              "color": "#EBF0F8"
             },
             "line": {
              "color": "white"
             }
            },
            "header": {
             "fill": {
              "color": "#C8D4E3"
             },
             "line": {
              "color": "white"
             }
            },
            "type": "table"
           }
          ]
         },
         "layout": {
          "annotationdefaults": {
           "arrowcolor": "#2a3f5f",
           "arrowhead": 0,
           "arrowwidth": 1
          },
          "autotypenumbers": "strict",
          "coloraxis": {
           "colorbar": {
            "outlinewidth": 0,
            "ticks": ""
           }
          },
          "colorscale": {
           "diverging": [
            [
             0,
             "#8e0152"
            ],
            [
             0.1,
             "#c51b7d"
            ],
            [
             0.2,
             "#de77ae"
            ],
            [
             0.3,
             "#f1b6da"
            ],
            [
             0.4,
             "#fde0ef"
            ],
            [
             0.5,
             "#f7f7f7"
            ],
            [
             0.6,
             "#e6f5d0"
            ],
            [
             0.7,
             "#b8e186"
            ],
            [
             0.8,
             "#7fbc41"
            ],
            [
             0.9,
             "#4d9221"
            ],
            [
             1,
             "#276419"
            ]
           ],
           "sequential": [
            [
             0,
             "#0d0887"
            ],
            [
             0.1111111111111111,
             "#46039f"
            ],
            [
             0.2222222222222222,
             "#7201a8"
            ],
            [
             0.3333333333333333,
             "#9c179e"
            ],
            [
             0.4444444444444444,
             "#bd3786"
            ],
            [
             0.5555555555555556,
             "#d8576b"
            ],
            [
             0.6666666666666666,
             "#ed7953"
            ],
            [
             0.7777777777777778,
             "#fb9f3a"
            ],
            [
             0.8888888888888888,
             "#fdca26"
            ],
            [
             1,
             "#f0f921"
            ]
           ],
           "sequentialminus": [
            [
             0,
             "#0d0887"
            ],
            [
             0.1111111111111111,
             "#46039f"
            ],
            [
             0.2222222222222222,
             "#7201a8"
            ],
            [
             0.3333333333333333,
             "#9c179e"
            ],
            [
             0.4444444444444444,
             "#bd3786"
            ],
            [
             0.5555555555555556,
             "#d8576b"
            ],
            [
             0.6666666666666666,
             "#ed7953"
            ],
            [
             0.7777777777777778,
             "#fb9f3a"
            ],
            [
             0.8888888888888888,
             "#fdca26"
            ],
            [
             1,
             "#f0f921"
            ]
           ]
          },
          "colorway": [
           "#636efa",
           "#EF553B",
           "#00cc96",
           "#ab63fa",
           "#FFA15A",
           "#19d3f3",
           "#FF6692",
           "#B6E880",
           "#FF97FF",
           "#FECB52"
          ],
          "font": {
           "color": "#2a3f5f"
          },
          "geo": {
           "bgcolor": "white",
           "lakecolor": "white",
           "landcolor": "#E5ECF6",
           "showlakes": true,
           "showland": true,
           "subunitcolor": "white"
          },
          "hoverlabel": {
           "align": "left"
          },
          "hovermode": "closest",
          "mapbox": {
           "style": "light"
          },
          "paper_bgcolor": "white",
          "plot_bgcolor": "#E5ECF6",
          "polar": {
           "angularaxis": {
            "gridcolor": "white",
            "linecolor": "white",
            "ticks": ""
           },
           "bgcolor": "#E5ECF6",
           "radialaxis": {
            "gridcolor": "white",
            "linecolor": "white",
            "ticks": ""
           }
          },
          "scene": {
           "xaxis": {
            "backgroundcolor": "#E5ECF6",
            "gridcolor": "white",
            "gridwidth": 2,
            "linecolor": "white",
            "showbackground": true,
            "ticks": "",
            "zerolinecolor": "white"
           },
           "yaxis": {
            "backgroundcolor": "#E5ECF6",
            "gridcolor": "white",
            "gridwidth": 2,
            "linecolor": "white",
            "showbackground": true,
            "ticks": "",
            "zerolinecolor": "white"
           },
           "zaxis": {
            "backgroundcolor": "#E5ECF6",
            "gridcolor": "white",
            "gridwidth": 2,
            "linecolor": "white",
            "showbackground": true,
            "ticks": "",
            "zerolinecolor": "white"
           }
          },
          "shapedefaults": {
           "line": {
            "color": "#2a3f5f"
           }
          },
          "ternary": {
           "aaxis": {
            "gridcolor": "white",
            "linecolor": "white",
            "ticks": ""
           },
           "baxis": {
            "gridcolor": "white",
            "linecolor": "white",
            "ticks": ""
           },
           "bgcolor": "#E5ECF6",
           "caxis": {
            "gridcolor": "white",
            "linecolor": "white",
            "ticks": ""
           }
          },
          "title": {
           "x": 0.05
          },
          "xaxis": {
           "automargin": true,
           "gridcolor": "white",
           "linecolor": "white",
           "ticks": "",
           "title": {
            "standoff": 15
           },
           "zerolinecolor": "white",
           "zerolinewidth": 2
          },
          "yaxis": {
           "automargin": true,
           "gridcolor": "white",
           "linecolor": "white",
           "ticks": "",
           "title": {
            "standoff": 15
           },
           "zerolinecolor": "white",
           "zerolinewidth": 2
          }
         }
        },
        "title": {
         "text": "Statistics for france vs england"
        },
        "xaxis": {
         "anchor": "y",
         "domain": [
          0,
          1
         ],
         "matches": "x3",
         "showticklabels": false
        },
        "xaxis2": {
         "anchor": "y2",
         "domain": [
          0,
          1
         ],
         "matches": "x3",
         "showticklabels": false
        },
        "xaxis3": {
         "anchor": "y3",
         "domain": [
          0,
          1
         ]
        },
        "yaxis": {
         "anchor": "x",
         "domain": [
          0.7777777777777778,
          1
         ]
        },
        "yaxis2": {
         "anchor": "x2",
         "domain": [
          0.3888888888888889,
          0.6111111111111112
         ]
        },
        "yaxis3": {
         "anchor": "x3",
         "domain": [
          0,
          0.22222222222222224
         ]
        }
       }
      },
      "image/png": "[encoded data removed]"
     },
     "metadata": {},
     "output_type": "display_data"
    },
    {
     "data": {
      "application/vnd.plotly.v1+json": {
       "config": {
        "plotlyServerURL": "https://plot.ly"
       },
       "data": [
        {
         "marker": {
          "color": "green"
         },
         "mode": "lines",
         "name": "france",
         "type": "scatter",
         "x": [
          "2025-09-16T00:00:25",
          "2025-09-16T00:00:34",
          "2025-09-16T00:00:45",
          "2025-09-16T00:01:05",
          null,
          "2025-09-16T00:01:31",
          "2025-09-16T00:02:13",
          null,
          "2025-09-16T00:02:47",
          "2025-09-16T00:03:07",
          "2025-09-16T00:03:30",
          null,
          "2025-09-16T00:03:58",
          "2025-09-16T00:04:30",
          null,
          "2025-09-16T00:05:25",
          "2025-09-16T00:05:42",
          null,
          "2025-09-16T00:06:24",
          "2025-09-16T00:07:20",
          null,
          "2025-09-16T00:07:58",
          "2025-09-16T00:08:38",
          null,
          "2025-09-16T00:09:17",
          "2025-09-16T00:09:55",
          null,
          "2025-09-16T00:10:36",
          "2025-09-16T00:10:54",
          "2025-09-16T00:11:14",
          "2025-09-16T00:12:00",
          null,
          "2025-09-16T00:13:03",
          "2025-09-16T00:13:45",
          "2025-09-16T00:14:25",
          null,
          "2025-09-16T00:15:02",
          "2025-09-16T00:15:55",
          null,
          "2025-09-16T00:16:17",
          "2025-09-16T00:17:08",
          null,
          "2025-09-16T00:17:47",
          "2025-09-16T00:18:15",
          null,
          "2025-09-16T00:19:37",
          "2025-09-16T00:20:05",
          "2025-09-16T00:22:05",
          "2025-09-16T00:22:32",
          null,
          "2025-09-16T00:22:59",
          "2025-09-16T00:23:31",
          null,
          "2025-09-16T00:25:05",
          "2025-09-16T00:26:03",
          null,
          "2025-09-16T00:26:22",
          "2025-09-16T00:26:45",
          null,
          "2025-09-16T00:27:11",
          "2025-09-16T00:27:44",
          null,
          "2025-09-16T00:28:05",
          "2025-09-16T00:28:43",
          null,
          "2025-09-16T00:29:15",
          "2025-09-16T00:30:04",
          null,
          "2025-09-16T00:30:24",
          "2025-09-16T00:30:55",
          null,
          "2025-09-16T00:31:30",
          "2025-09-16T00:32:08",
          null,
          "2025-09-16T00:32:21",
          "2025-09-16T00:33:03",
          null,
          "2025-09-16T00:34:10",
          "2025-09-16T00:35:03",
          null,
          "2025-09-16T00:35:15",
          "2025-09-16T00:36:01",
          null,
          "2025-09-16T00:37:03",
          "2025-09-16T00:37:50",
          null,
          "2025-09-16T00:38:27",
          "2025-09-16T00:38:59",
          null,
          "2025-09-16T00:39:24",
          "2025-09-16T00:40:02",
          null,
          "2025-09-16T00:40:36",
          "2025-09-16T00:42:06",
          null
         ],
         "y": [
          "france",
          "france",
          "france",
          "france",
          null,
          "france",
          "france",
          null,
          "france",
          "france",
          "france",
          null,
          "france",
          "france",
          null,
          "france",
          "france",
          null,
          "france",
          "france",
          null,
          "france",
          "france",
          null,
          "france",
          "france",
          null,
          "france",
          "france",
          "france",
          "france",
          null,
          "france",
          "france",
          "france",
          null,
          "france",
          "france",
          null,
          "france",
          "france",
          null,
          "france",
          "france",
          null,
          "france",
          "france",
          "france",
          "france",
          null,
          "france",
          "france",
          null,
          "france",
          "france",
          null,
          "france",
          "france",
          null,
          "france",
          "france",
          null,
          "france",
          "france",
          null,
          "france",
          "france",
          null,
          "france",
          "france",
          null,
          "france",
          "france",
          null,
          "france",
          "france",
          null,
          "france",
          "france",
          null,
          "france",
          "france",
          null,
          "france",
          "france",
          null,
          "france",
          "france",
          null,
          "france",
          "france",
          null,
          "france",
          "france",
          null
         ]
        },
        {
         "marker": {
          "color": "red"
         },
         "mode": "lines",
         "name": "england",
         "type": "scatter",
         "x": [
          "2025-09-16T00:00:00",
          "2025-09-16T00:00:25",
          null,
          "2025-09-16T00:01:05",
          "2025-09-16T00:01:31",
          null,
          "2025-09-16T00:02:13",
          "2025-09-16T00:02:47",
          null,
          "2025-09-16T00:03:30",
          "2025-09-16T00:03:58",
          null,
          "2025-09-16T00:04:30",
          "2025-09-16T00:04:50",
          "2025-09-16T00:05:25",
          null,
          "2025-09-16T00:05:42",
          "2025-09-16T00:06:24",
          null,
          "2025-09-16T00:07:20",
          "2025-09-16T00:07:58",
          null,
          "2025-09-16T00:08:38",
          "2025-09-16T00:09:04",
          "2025-09-16T00:09:17",
          null,
          "2025-09-16T00:09:55",
          "2025-09-16T00:10:36",
          null,
          "2025-09-16T00:12:00",
          "2025-09-16T00:12:32",
          "2025-09-16T00:12:48",
          "2025-09-16T00:13:03",
          null,
          "2025-09-16T00:14:25",
          "2025-09-16T00:15:02",
          null,
          "2025-09-16T00:15:55",
          "2025-09-16T00:16:17",
          null,
          "2025-09-16T00:17:08",
          "2025-09-16T00:17:47",
          null,
          "2025-09-16T00:18:15",
          "2025-09-16T00:18:42",
          "2025-09-16T00:19:14",
          "2025-09-16T00:19:37",
          null,
          "2025-09-16T00:22:32",
          "2025-09-16T00:22:59",
          null,
          "2025-09-16T00:23:31",
          "2025-09-16T00:24:38",
          "2025-09-16T00:25:05",
          null,
          "2025-09-16T00:26:03",
          "2025-09-16T00:26:22",
          null,
          "2025-09-16T00:26:45",
          "2025-09-16T00:27:11",
          null,
          "2025-09-16T00:27:44",
          "2025-09-16T00:28:05",
          null,
          "2025-09-16T00:28:43",
          "2025-09-16T00:29:15",
          null,
          "2025-09-16T00:30:04",
          "2025-09-16T00:30:24",
          null,
          "2025-09-16T00:30:55",
          "2025-09-16T00:31:30",
          null,
          "2025-09-16T00:32:08",
          "2025-09-16T00:32:21",
          null,
          "2025-09-16T00:33:03",
          "2025-09-16T00:33:41",
          "2025-09-16T00:34:10",
          null,
          "2025-09-16T00:35:03",
          "2025-09-16T00:35:15",
          null,
          "2025-09-16T00:36:01",
          "2025-09-16T00:37:03",
          null,
          "2025-09-16T00:37:50",
          "2025-09-16T00:38:27",
          null,
          "2025-09-16T00:38:59",
          "2025-09-16T00:39:24",
          null,
          "2025-09-16T00:40:02",
          "2025-09-16T00:40:36",
          null,
          "2025-09-16T00:42:06"
         ],
         "y": [
          "england",
          "england",
          null,
          "england",
          "england",
          null,
          "england",
          "england",
          null,
          "england",
          "england",
          null,
          "england",
          "england",
          "england",
          null,
          "england",
          "england",
          null,
          "england",
          "england",
          null,
          "england",
          "england",
          "england",
          null,
          "england",
          "england",
          null,
          "england",
          "england",
          "england",
          "england",
          null,
          "england",
          "england",
          null,
          "england",
          "england",
          null,
          "england",
          "england",
          null,
          "england",
          "england",
          "england",
          "england",
          null,
          "england",
          "england",
          null,
          "england",
          "england",
          "england",
          null,
          "england",
          "england",
          null,
          "england",
          "england",
          null,
          "england",
          "england",
          null,
          "england",
          "england",
          null,
          "england",
          "england",
          null,
          "england",
          "england",
          null,
          "england",
          "england",
          null,
          "england",
          "england",
          "england",
          null,
          "england",
          "england",
          null,
          "england",
          "england",
          null,
          "england",
          "england",
          null,
          "england",
          "england",
          null,
          "england",
          "england",
          null,
          "england"
         ]
        },
        {
         "hovertext": "Game Event-Game Start",
         "marker": {
          "color": "black"
         },
         "mode": "markers",
         "showlegend": false,
         "type": "scatter",
         "x": [
          "2025-09-16T00:00:00"
         ],
         "y": [
          "england"
         ]
        },
        {
         "hovertext": "Turnover-Ball Down",
         "marker": {
          "color": "orange"
         },
         "mode": "markers",
         "showlegend": false,
         "type": "scatter",
         "x": [
          "2025-09-16T00:00:25"
         ],
         "y": [
          "england"
         ]
        },
        {
         "hovertext": "Penalty-Offside",
         "marker": {
          "color": "red"
         },
         "mode": "markers",
         "showlegend": false,
         "type": "scatter",
         "x": [
          "2025-09-16T00:00:34"
         ],
         "y": [
          "england"
         ]
        },
        {
         "hovertext": "Penalty-In The Ruck",
         "marker": {
          "color": "red"
         },
         "mode": "markers",
         "showlegend": false,
         "type": "scatter",
         "x": [
          "2025-09-16T00:00:45"
         ],
         "y": [
          "england"
         ]
        },
        {
         "hovertext": "Turnover-Ball Down",
         "marker": {
          "color": "orange"
         },
         "mode": "markers",
         "showlegend": false,
         "type": "scatter",
         "x": [
          "2025-09-16T00:01:05"
         ],
         "y": [
          "france"
         ]
        },
        {
         "hovertext": "Try-Scoop",
         "marker": {
          "color": "green"
         },
         "mode": "markers",
         "showlegend": false,
         "type": "scatter",
         "x": [
          "2025-09-16T00:01:31"
         ],
         "y": [
          "england"
         ]
        },
        {
         "hovertext": "Turnover-Ball Down",
         "marker": {
          "color": "orange"
         },
         "mode": "markers",
         "showlegend": false,
         "type": "scatter",
         "x": [
          "2025-09-16T00:02:13"
         ],
         "y": [
          "france"
         ]
        },
        {
         "hovertext": "Turnover-Ball Down",
         "marker": {
          "color": "orange"
         },
         "mode": "markers",
         "showlegend": false,
         "type": "scatter",
         "x": [
          "2025-09-16T00:02:47"
         ],
         "y": [
          "england"
         ]
        },
        {
         "hovertext": "Penalty-Offside",
         "marker": {
          "color": "red"
         },
         "mode": "markers",
         "showlegend": false,
         "type": "scatter",
         "x": [
          "2025-09-16T00:03:07"
         ],
         "y": [
          "england"
         ]
        },
        {
         "hovertext": "Turnover-Ball Down",
         "marker": {
          "color": "orange"
         },
         "mode": "markers",
         "showlegend": false,
         "type": "scatter",
         "x": [
          "2025-09-16T00:03:30"
         ],
         "y": [
          "france"
         ]
        },
        {
         "hovertext": "Turnover-Ball Down",
         "marker": {
          "color": "orange"
         },
         "mode": "markers",
         "showlegend": false,
         "type": "scatter",
         "x": [
          "2025-09-16T00:03:58"
         ],
         "y": [
          "england"
         ]
        },
        {
         "hovertext": "Turnover-6th Touch",
         "marker": {
          "color": "orange"
         },
         "mode": "markers",
         "showlegend": false,
         "type": "scatter",
         "x": [
          "2025-09-16T00:04:30"
         ],
         "y": [
          "france"
         ]
        },
        {
         "hovertext": "Penalty-Hard Touch",
         "marker": {
          "color": "red"
         },
         "mode": "markers",
         "showlegend": false,
         "type": "scatter",
         "x": [
          "2025-09-16T00:04:50"
         ],
         "y": [
          "france"
         ]
        },
        {
         "hovertext": "Turnover-6th Touch",
         "marker": {
          "color": "orange"
         },
         "mode": "markers",
         "showlegend": false,
         "type": "scatter",
         "x": [
          "2025-09-16T00:05:25"
         ],
         "y": [
          "england"
         ]
        },
        {
         "hovertext": "Turnover-Ball Down",
         "marker": {
          "color": "orange"
         },
         "mode": "markers",
         "showlegend": false,
         "type": "scatter",
         "x": [
          "2025-09-16T00:05:42"
         ],
         "y": [
          "france"
         ]
        },
        {
         "hovertext": "Try-32 - Long Ball",
         "marker": {
          "color": "green"
         },
         "mode": "markers",
         "showlegend": false,
         "type": "scatter",
         "x": [
          "2025-09-16T00:06:24"
         ],
         "y": [
          "england"
         ]
        },
        {
         "hovertext": "Turnover-6th Touch",
         "marker": {
          "color": "orange"
         },
         "mode": "markers",
         "showlegend": false,
         "type": "scatter",
         "x": [
          "2025-09-16T00:07:20"
         ],
         "y": [
          "france"
         ]
        },
        {
         "hovertext": "Try-Scoop",
         "marker": {
          "color": "green"
         },
         "mode": "markers",
         "showlegend": false,
         "type": "scatter",
         "x": [
          "2025-09-16T00:07:58"
         ],
         "y": [
          "england"
         ]
        },
        {
         "hovertext": "Turnover-Ball Down",
         "marker": {
          "color": "orange"
         },
         "mode": "markers",
         "showlegend": false,
         "type": "scatter",
         "x": [
          "2025-09-16T00:08:38"
         ],
         "y": [
          "france"
         ]
        },
        {
         "hovertext": "Turnover-6 Again",
         "marker": {
          "color": "orange"
         },
         "mode": "markers",
         "showlegend": false,
         "type": "scatter",
         "x": [
          "2025-09-16T00:09:04"
         ],
         "y": [
          "france"
         ]
        },
        {
         "hovertext": "Try-33 - Quicky",
         "marker": {
          "color": "green"
         },
         "mode": "markers",
         "showlegend": false,
         "type": "scatter",
         "x": [
          "2025-09-16T00:09:17"
         ],
         "y": [
          "england"
         ]
        },
        {
         "hovertext": "Turnover-Ball Down",
         "marker": {
          "color": "orange"
         },
         "mode": "markers",
         "showlegend": false,
         "type": "scatter",
         "x": [
          "2025-09-16T00:09:55"
         ],
         "y": [
          "france"
         ]
        },
        {
         "hovertext": "Turnover-Ball Down",
         "marker": {
          "color": "orange"
         },
         "mode": "markers",
         "showlegend": false,
         "type": "scatter",
         "x": [
          "2025-09-16T00:10:36"
         ],
         "y": [
          "england"
         ]
        },
        {
         "hovertext": "Penalty-Hard Touch",
         "marker": {
          "color": "red"
         },
         "mode": "markers",
         "showlegend": false,
         "type": "scatter",
         "x": [
          "2025-09-16T00:10:54"
         ],
         "y": [
          "england"
         ]
        },
        {
         "hovertext": "Penalty-Not Moving Forward",
         "marker": {
          "color": "red"
         },
         "mode": "markers",
         "showlegend": false,
         "type": "scatter",
         "x": [
          "2025-09-16T00:11:14"
         ],
         "y": [
          "england"
         ]
        },
        {
         "hovertext": "Turnover-6th Touch",
         "marker": {
          "color": "orange"
         },
         "mode": "markers",
         "showlegend": false,
         "type": "scatter",
         "x": [
          "2025-09-16T00:12:00"
         ],
         "y": [
          "france"
         ]
        },
        {
         "hovertext": "Turnover-6 Again",
         "marker": {
          "color": "orange"
         },
         "mode": "markers",
         "showlegend": false,
         "type": "scatter",
         "x": [
          "2025-09-16T00:12:32"
         ],
         "y": [
          "france"
         ]
        },
        {
         "hovertext": "To Review-Bad Roll",
         "marker": {
          "color": "green"
         },
         "mode": "markers",
         "showlegend": false,
         "type": "scatter",
         "x": [
          "2025-09-16T00:12:48"
         ],
         "y": [
          "france"
         ]
        },
        {
         "hovertext": "Try-33",
         "marker": {
          "color": "green"
         },
         "mode": "markers",
         "showlegend": false,
         "type": "scatter",
         "x": [
          "2025-09-16T00:13:03"
         ],
         "y": [
          "england"
         ]
        },
        {
         "hovertext": "Penalty-Not Moving Forward",
         "marker": {
          "color": "red"
         },
         "mode": "markers",
         "showlegend": false,
         "type": "scatter",
         "x": [
          "2025-09-16T00:13:45"
         ],
         "y": [
          "england"
         ]
        },
        {
         "hovertext": "Try-Scoop",
         "marker": {
          "color": "green"
         },
         "mode": "markers",
         "showlegend": false,
         "type": "scatter",
         "x": [
          "2025-09-16T00:14:25"
         ],
         "y": [
          "france"
         ]
        },
        {
         "hovertext": "Try-33 - Quicky",
         "marker": {
          "color": "green"
         },
         "mode": "markers",
         "showlegend": false,
         "type": "scatter",
         "x": [
          "2025-09-16T00:15:02"
         ],
         "y": [
          "england"
         ]
        },
        {
         "hovertext": "Turnover-6th Touch",
         "marker": {
          "color": "orange"
         },
         "mode": "markers",
         "showlegend": false,
         "type": "scatter",
         "x": [
          "2025-09-16T00:15:55"
         ],
         "y": [
          "france"
         ]
        },
        {
         "hovertext": "Turnover-Ball Down",
         "marker": {
          "color": "orange"
         },
         "mode": "markers",
         "showlegend": false,
         "type": "scatter",
         "x": [
          "2025-09-16T00:16:17"
         ],
         "y": [
          "england"
         ]
        },
        {
         "hovertext": "Turnover-Ball Down",
         "marker": {
          "color": "orange"
         },
         "mode": "markers",
         "showlegend": false,
         "type": "scatter",
         "x": [
          "2025-09-16T00:17:08"
         ],
         "y": [
          "france"
         ]
        },
        {
         "hovertext": "Turnover-Ball Down",
         "marker": {
          "color": "orange"
         },
         "mode": "markers",
         "showlegend": false,
         "type": "scatter",
         "x": [
          "2025-09-16T00:17:47"
         ],
         "y": [
          "england"
         ]
        },
        {
         "hovertext": "Turnover-6th Touch",
         "marker": {
          "color": "orange"
         },
         "mode": "markers",
         "showlegend": false,
         "type": "scatter",
         "x": [
          "2025-09-16T00:18:15"
         ],
         "y": [
          "france"
         ]
        },
        {
         "hovertext": "Turnover-6th Touch",
         "marker": {
          "color": "orange"
         },
         "mode": "markers",
         "showlegend": false,
         "type": "scatter",
         "x": [
          "2025-09-16T00:18:42"
         ],
         "y": [
          "france"
         ]
        },
        {
         "hovertext": "Turnover-Interception",
         "marker": {
          "color": "orange"
         },
         "mode": "markers",
         "showlegend": false,
         "type": "scatter",
         "x": [
          "2025-09-16T00:19:14"
         ],
         "y": [
          "france"
         ]
        },
        {
         "hovertext": "Try-Scoop",
         "marker": {
          "color": "green"
         },
         "mode": "markers",
         "showlegend": false,
         "type": "scatter",
         "x": [
          "2025-09-16T00:19:37"
         ],
         "y": [
          "england"
         ]
        },
        {
         "hovertext": "Game Event-Game End",
         "marker": {
          "color": "black"
         },
         "mode": "markers",
         "showlegend": false,
         "type": "scatter",
         "x": [
          "2025-09-16T00:20:05"
         ],
         "y": [
          "france"
         ]
        },
        {
         "hovertext": "Game Event-Game Start",
         "marker": {
          "color": "black"
         },
         "mode": "markers",
         "showlegend": false,
         "type": "scatter",
         "x": [
          "2025-09-16T00:22:05"
         ],
         "y": [
          "france"
         ]
        },
        {
         "hovertext": "Turnover-Interception",
         "marker": {
          "color": "orange"
         },
         "mode": "markers",
         "showlegend": false,
         "type": "scatter",
         "x": [
          "2025-09-16T00:22:32"
         ],
         "y": [
          "france"
         ]
        },
        {
         "hovertext": "Turnover-Ball Down",
         "marker": {
          "color": "orange"
         },
         "mode": "markers",
         "showlegend": false,
         "type": "scatter",
         "x": [
          "2025-09-16T00:22:59"
         ],
         "y": [
          "england"
         ]
        },
        {
         "hovertext": "Turnover-6th Touch",
         "marker": {
          "color": "orange"
         },
         "mode": "markers",
         "showlegend": false,
         "type": "scatter",
         "x": [
          "2025-09-16T00:23:31"
         ],
         "y": [
          "france"
         ]
        },
        {
         "hovertext": "Turnover-6 Again",
         "marker": {
          "color": "orange"
         },
         "mode": "markers",
         "showlegend": false,
         "type": "scatter",
         "x": [
          "2025-09-16T00:24:38"
         ],
         "y": [
          "france"
         ]
        },
        {
         "hovertext": "Try-33 - Quicky",
         "marker": {
          "color": "green"
         },
         "mode": "markers",
         "showlegend": false,
         "type": "scatter",
         "x": [
          "2025-09-16T00:25:05"
         ],
         "y": [
          "england"
         ]
        },
        {
         "hovertext": "Turnover-Ball Down",
         "marker": {
          "color": "orange"
         },
         "mode": "markers",
         "showlegend": false,
         "type": "scatter",
         "x": [
          "2025-09-16T00:26:03"
         ],
         "y": [
          "france"
         ]
        },
        {
         "hovertext": "Penalty-Forward Pass",
         "marker": {
          "color": "red"
         },
         "mode": "markers",
         "showlegend": false,
         "type": "scatter",
         "x": [
          "2025-09-16T00:26:22"
         ],
         "y": [
          "england"
         ]
        },
        {
         "hovertext": "Turnover-Ball Down",
         "marker": {
          "color": "orange"
         },
         "mode": "markers",
         "showlegend": false,
         "type": "scatter",
         "x": [
          "2025-09-16T00:26:45"
         ],
         "y": [
          "france"
         ]
        },
        {
         "hovertext": "Turnover-Ball Down",
         "marker": {
          "color": "orange"
         },
         "mode": "markers",
         "showlegend": false,
         "type": "scatter",
         "x": [
          "2025-09-16T00:27:11"
         ],
         "y": [
          "england"
         ]
        },
        {
         "hovertext": "Turnover-Ball Down",
         "marker": {
          "color": "orange"
         },
         "mode": "markers",
         "showlegend": false,
         "type": "scatter",
         "x": [
          "2025-09-16T00:27:44"
         ],
         "y": [
          "france"
         ]
        },
        {
         "hovertext": "Turnover-Ball Down",
         "marker": {
          "color": "orange"
         },
         "mode": "markers",
         "showlegend": false,
         "type": "scatter",
         "x": [
          "2025-09-16T00:28:05"
         ],
         "y": [
          "england"
         ]
        },
        {
         "hovertext": "Penalty-Forward Pass",
         "marker": {
          "color": "red"
         },
         "mode": "markers",
         "showlegend": false,
         "type": "scatter",
         "x": [
          "2025-09-16T00:28:43"
         ],
         "y": [
          "france"
         ]
        },
        {
         "hovertext": "Try-32 - Cut",
         "marker": {
          "color": "green"
         },
         "mode": "markers",
         "showlegend": false,
         "type": "scatter",
         "x": [
          "2025-09-16T00:29:15"
         ],
         "y": [
          "england"
         ]
        },
        {
         "hovertext": "Turnover-Ball Down",
         "marker": {
          "color": "orange"
         },
         "mode": "markers",
         "showlegend": false,
         "type": "scatter",
         "x": [
          "2025-09-16T00:30:04"
         ],
         "y": [
          "france"
         ]
        },
        {
         "hovertext": "Turnover-Ball Down",
         "marker": {
          "color": "orange"
         },
         "mode": "markers",
         "showlegend": false,
         "type": "scatter",
         "x": [
          "2025-09-16T00:30:24"
         ],
         "y": [
          "england"
         ]
        },
        {
         "hovertext": "Turnover-6th Touch",
         "marker": {
          "color": "orange"
         },
         "mode": "markers",
         "showlegend": false,
         "type": "scatter",
         "x": [
          "2025-09-16T00:30:55"
         ],
         "y": [
          "france"
         ]
        },
        {
         "hovertext": "Turnover-Ball Down",
         "marker": {
          "color": "orange"
         },
         "mode": "markers",
         "showlegend": false,
         "type": "scatter",
         "x": [
          "2025-09-16T00:31:30"
         ],
         "y": [
          "england"
         ]
        },
        {
         "hovertext": "Turnover-Ball Down",
         "marker": {
          "color": "orange"
         },
         "mode": "markers",
         "showlegend": false,
         "type": "scatter",
         "x": [
          "2025-09-16T00:32:08"
         ],
         "y": [
          "france"
         ]
        },
        {
         "hovertext": "Turnover-Ball Down",
         "marker": {
          "color": "orange"
         },
         "mode": "markers",
         "showlegend": false,
         "type": "scatter",
         "x": [
          "2025-09-16T00:32:21"
         ],
         "y": [
          "england"
         ]
        },
        {
         "hovertext": "Turnover-Ball Down",
         "marker": {
          "color": "orange"
         },
         "mode": "markers",
         "showlegend": false,
         "type": "scatter",
         "x": [
          "2025-09-16T00:33:03"
         ],
         "y": [
          "france"
         ]
        },
        {
         "hovertext": "Penalty-Offside",
         "marker": {
          "color": "red"
         },
         "mode": "markers",
         "showlegend": false,
         "type": "scatter",
         "x": [
          "2025-09-16T00:33:41"
         ],
         "y": [
          "france"
         ]
        },
        {
         "hovertext": "Try-33 - Quicky",
         "marker": {
          "color": "green"
         },
         "mode": "markers",
         "showlegend": false,
         "type": "scatter",
         "x": [
          "2025-09-16T00:34:10"
         ],
         "y": [
          "england"
         ]
        },
        {
         "hovertext": "Turnover-6th Touch",
         "marker": {
          "color": "orange"
         },
         "mode": "markers",
         "showlegend": false,
         "type": "scatter",
         "x": [
          "2025-09-16T00:35:03"
         ],
         "y": [
          "france"
         ]
        },
        {
         "hovertext": "Penalty-Off The Mark",
         "marker": {
          "color": "red"
         },
         "mode": "markers",
         "showlegend": false,
         "type": "scatter",
         "x": [
          "2025-09-16T00:35:15"
         ],
         "y": [
          "england"
         ]
        },
        {
         "hovertext": "Turnover-6th Touch",
         "marker": {
          "color": "orange"
         },
         "mode": "markers",
         "showlegend": false,
         "type": "scatter",
         "x": [
          "2025-09-16T00:36:01"
         ],
         "y": [
          "france"
         ]
        },
        {
         "hovertext": "Penalty-Forward Pass",
         "marker": {
          "color": "red"
         },
         "mode": "markers",
         "showlegend": false,
         "type": "scatter",
         "x": [
          "2025-09-16T00:37:03"
         ],
         "y": [
          "england"
         ]
        },
        {
         "hovertext": "Turnover-6th Touch",
         "marker": {
          "color": "orange"
         },
         "mode": "markers",
         "showlegend": false,
         "type": "scatter",
         "x": [
          "2025-09-16T00:37:50"
         ],
         "y": [
          "france"
         ]
        },
        {
         "hovertext": "Turnover-Ball Down",
         "marker": {
          "color": "orange"
         },
         "mode": "markers",
         "showlegend": false,
         "type": "scatter",
         "x": [
          "2025-09-16T00:38:27"
         ],
         "y": [
          "england"
         ]
        },
        {
         "hovertext": "Turnover-Ball Down",
         "marker": {
          "color": "orange"
         },
         "mode": "markers",
         "showlegend": false,
         "type": "scatter",
         "x": [
          "2025-09-16T00:38:59"
         ],
         "y": [
          "france"
         ]
        },
        {
         "hovertext": "Turnover-Ball Down",
         "marker": {
          "color": "orange"
         },
         "mode": "markers",
         "showlegend": false,
         "type": "scatter",
         "x": [
          "2025-09-16T00:39:24"
         ],
         "y": [
          "england"
         ]
        },
        {
         "hovertext": "Try-French Flair",
         "marker": {
          "color": "green"
         },
         "mode": "markers",
         "showlegend": false,
         "type": "scatter",
         "x": [
          "2025-09-16T00:40:02"
         ],
         "y": [
          "france"
         ]
        },
        {
         "hovertext": "Try-32 - Cut",
         "marker": {
          "color": "green"
         },
         "mode": "markers",
         "showlegend": false,
         "type": "scatter",
         "x": [
          "2025-09-16T00:40:36"
         ],
         "y": [
          "england"
         ]
        },
        {
         "hovertext": "Game Event-Game End",
         "marker": {
          "color": "black"
         },
         "mode": "markers",
         "showlegend": false,
         "type": "scatter",
         "x": [
          "2025-09-16T00:42:06"
         ],
         "y": [
          "england"
         ]
        }
       ],
       "layout": {
        "annotations": [
         {
          "showarrow": false,
          "text": "<a href='https://youtu.be/QBGuR92a3dU?si=CNI-tmLU5PdLZN1W&t=0'>link</a>",
          "x": "2025-09-16T00:00:00",
          "y": "england",
          "yshift": 10
         },
         {
          "showarrow": false,
          "text": "<a href='https://youtu.be/QBGuR92a3dU?si=CNI-tmLU5PdLZN1W&t=25'>link</a>",
          "x": "2025-09-16T00:00:25",
          "y": "england",
          "yshift": 10
         },
         {
          "showarrow": false,
          "text": "<a href='https://youtu.be/QBGuR92a3dU?si=CNI-tmLU5PdLZN1W&t=34'>link</a>",
          "x": "2025-09-16T00:00:34",
          "y": "england",
          "yshift": 10
         },
         {
          "showarrow": false,
          "text": "<a href='https://youtu.be/QBGuR92a3dU?si=CNI-tmLU5PdLZN1W&t=45'>link</a>",
          "x": "2025-09-16T00:00:45",
          "y": "england",
          "yshift": 10
         },
         {
          "showarrow": false,
          "text": "<a href='https://youtu.be/QBGuR92a3dU?si=CNI-tmLU5PdLZN1W&t=65'>link</a>",
          "x": "2025-09-16T00:01:05",
          "y": "france",
          "yshift": 10
         },
         {
          "showarrow": false,
          "text": "<a href='https://youtu.be/QBGuR92a3dU?si=CNI-tmLU5PdLZN1W&t=91'>link</a>",
          "x": "2025-09-16T00:01:31",
          "y": "england",
          "yshift": 10
         },
         {
          "showarrow": false,
          "text": "<a href='https://youtu.be/QBGuR92a3dU?si=CNI-tmLU5PdLZN1W&t=133'>link</a>",
          "x": "2025-09-16T00:02:13",
          "y": "france",
          "yshift": 10
         },
         {
          "showarrow": false,
          "text": "<a href='https://youtu.be/QBGuR92a3dU?si=CNI-tmLU5PdLZN1W&t=167'>link</a>",
          "x": "2025-09-16T00:02:47",
          "y": "england",
          "yshift": 10
         },
         {
          "showarrow": false,
          "text": "<a href='https://youtu.be/QBGuR92a3dU?si=CNI-tmLU5PdLZN1W&t=187'>link</a>",
          "x": "2025-09-16T00:03:07",
          "y": "england",
          "yshift": 10
         },
         {
          "showarrow": false,
          "text": "<a href='https://youtu.be/QBGuR92a3dU?si=CNI-tmLU5PdLZN1W&t=210'>link</a>",
          "x": "2025-09-16T00:03:30",
          "y": "france",
          "yshift": 10
         },
         {
          "showarrow": false,
          "text": "<a href='https://youtu.be/QBGuR92a3dU?si=CNI-tmLU5PdLZN1W&t=238'>link</a>",
          "x": "2025-09-16T00:03:58",
          "y": "england",
          "yshift": 10
         },
         {
          "showarrow": false,
          "text": "<a href='https://youtu.be/QBGuR92a3dU?si=CNI-tmLU5PdLZN1W&t=270'>link</a>",
          "x": "2025-09-16T00:04:30",
          "y": "france",
          "yshift": 10
         },
         {
          "showarrow": false,
          "text": "<a href='https://youtu.be/QBGuR92a3dU?si=CNI-tmLU5PdLZN1W&t=290'>link</a>",
          "x": "2025-09-16T00:04:50",
          "y": "france",
          "yshift": 10
         },
         {
          "showarrow": false,
          "text": "<a href='https://youtu.be/QBGuR92a3dU?si=CNI-tmLU5PdLZN1W&t=325'>link</a>",
          "x": "2025-09-16T00:05:25",
          "y": "england",
          "yshift": 10
         },
         {
          "showarrow": false,
          "text": "<a href='https://youtu.be/QBGuR92a3dU?si=CNI-tmLU5PdLZN1W&t=342'>link</a>",
          "x": "2025-09-16T00:05:42",
          "y": "france",
          "yshift": 10
         },
         {
          "showarrow": false,
          "text": "<a href='https://youtu.be/QBGuR92a3dU?si=CNI-tmLU5PdLZN1W&t=384'>link</a>",
          "x": "2025-09-16T00:06:24",
          "y": "england",
          "yshift": 10
         },
         {
          "showarrow": false,
          "text": "<a href='https://youtu.be/QBGuR92a3dU?si=CNI-tmLU5PdLZN1W&t=440'>link</a>",
          "x": "2025-09-16T00:07:20",
          "y": "france",
          "yshift": 10
         },
         {
          "showarrow": false,
          "text": "<a href='https://youtu.be/QBGuR92a3dU?si=CNI-tmLU5PdLZN1W&t=478'>link</a>",
          "x": "2025-09-16T00:07:58",
          "y": "england",
          "yshift": 10
         },
         {
          "showarrow": false,
          "text": "<a href='https://youtu.be/QBGuR92a3dU?si=CNI-tmLU5PdLZN1W&t=518'>link</a>",
          "x": "2025-09-16T00:08:38",
          "y": "france",
          "yshift": 10
         },
         {
          "showarrow": false,
          "text": "<a href='https://youtu.be/QBGuR92a3dU?si=CNI-tmLU5PdLZN1W&t=544'>link</a>",
          "x": "2025-09-16T00:09:04",
          "y": "france",
          "yshift": 10
         },
         {
          "showarrow": false,
          "text": "<a href='https://youtu.be/QBGuR92a3dU?si=CNI-tmLU5PdLZN1W&t=557'>link</a>",
          "x": "2025-09-16T00:09:17",
          "y": "england",
          "yshift": 10
         },
         {
          "showarrow": false,
          "text": "<a href='https://youtu.be/QBGuR92a3dU?si=CNI-tmLU5PdLZN1W&t=595'>link</a>",
          "x": "2025-09-16T00:09:55",
          "y": "france",
          "yshift": 10
         },
         {
          "showarrow": false,
          "text": "<a href='https://youtu.be/QBGuR92a3dU?si=CNI-tmLU5PdLZN1W&t=636'>link</a>",
          "x": "2025-09-16T00:10:36",
          "y": "england",
          "yshift": 10
         },
         {
          "showarrow": false,
          "text": "<a href='https://youtu.be/QBGuR92a3dU?si=CNI-tmLU5PdLZN1W&t=654'>link</a>",
          "x": "2025-09-16T00:10:54",
          "y": "england",
          "yshift": 10
         },
         {
          "showarrow": false,
          "text": "<a href='https://youtu.be/QBGuR92a3dU?si=CNI-tmLU5PdLZN1W&t=674'>link</a>",
          "x": "2025-09-16T00:11:14",
          "y": "england",
          "yshift": 10
         },
         {
          "showarrow": false,
          "text": "<a href='https://youtu.be/QBGuR92a3dU?si=CNI-tmLU5PdLZN1W&t=720'>link</a>",
          "x": "2025-09-16T00:12:00",
          "y": "france",
          "yshift": 10
         },
         {
          "showarrow": false,
          "text": "<a href='https://youtu.be/QBGuR92a3dU?si=CNI-tmLU5PdLZN1W&t=752'>link</a>",
          "x": "2025-09-16T00:12:32",
          "y": "france",
          "yshift": 10
         },
         {
          "showarrow": false,
          "text": "<a href='https://youtu.be/QBGuR92a3dU?si=CNI-tmLU5PdLZN1W&t=768'>link</a>",
          "x": "2025-09-16T00:12:48",
          "y": "france",
          "yshift": 10
         },
         {
          "showarrow": false,
          "text": "<a href='https://youtu.be/QBGuR92a3dU?si=CNI-tmLU5PdLZN1W&t=783'>link</a>",
          "x": "2025-09-16T00:13:03",
          "y": "england",
          "yshift": 10
         },
         {
          "showarrow": false,
          "text": "<a href='https://youtu.be/QBGuR92a3dU?si=CNI-tmLU5PdLZN1W&t=825'>link</a>",
          "x": "2025-09-16T00:13:45",
          "y": "england",
          "yshift": 10
         },
         {
          "showarrow": false,
          "text": "<a href='https://youtu.be/QBGuR92a3dU?si=CNI-tmLU5PdLZN1W&t=865'>link</a>",
          "x": "2025-09-16T00:14:25",
          "y": "france",
          "yshift": 10
         },
         {
          "showarrow": false,
          "text": "<a href='https://youtu.be/QBGuR92a3dU?si=CNI-tmLU5PdLZN1W&t=902'>link</a>",
          "x": "2025-09-16T00:15:02",
          "y": "england",
          "yshift": 10
         },
         {
          "showarrow": false,
          "text": "<a href='https://youtu.be/QBGuR92a3dU?si=CNI-tmLU5PdLZN1W&t=955'>link</a>",
          "x": "2025-09-16T00:15:55",
          "y": "france",
          "yshift": 10
         },
         {
          "showarrow": false,
          "text": "<a href='https://youtu.be/QBGuR92a3dU?si=CNI-tmLU5PdLZN1W&t=977'>link</a>",
          "x": "2025-09-16T00:16:17",
          "y": "england",
          "yshift": 10
         },
         {
          "showarrow": false,
          "text": "<a href='https://youtu.be/QBGuR92a3dU?si=CNI-tmLU5PdLZN1W&t=1028'>link</a>",
          "x": "2025-09-16T00:17:08",
          "y": "france",
          "yshift": 10
         },
         {
          "showarrow": false,
          "text": "<a href='https://youtu.be/QBGuR92a3dU?si=CNI-tmLU5PdLZN1W&t=1067'>link</a>",
          "x": "2025-09-16T00:17:47",
          "y": "england",
          "yshift": 10
         },
         {
          "showarrow": false,
          "text": "<a href='https://youtu.be/QBGuR92a3dU?si=CNI-tmLU5PdLZN1W&t=1095'>link</a>",
          "x": "2025-09-16T00:18:15",
          "y": "france",
          "yshift": 10
         },
         {
          "showarrow": false,
          "text": "<a href='https://youtu.be/QBGuR92a3dU?si=CNI-tmLU5PdLZN1W&t=1122'>link</a>",
          "x": "2025-09-16T00:18:42",
          "y": "france",
          "yshift": 10
         },
         {
          "showarrow": false,
          "text": "<a href='https://youtu.be/QBGuR92a3dU?si=CNI-tmLU5PdLZN1W&t=1154'>link</a>",
          "x": "2025-09-16T00:19:14",
          "y": "france",
          "yshift": 10
         },
         {
          "showarrow": false,
          "text": "<a href='https://youtu.be/QBGuR92a3dU?si=CNI-tmLU5PdLZN1W&t=1177'>link</a>",
          "x": "2025-09-16T00:19:37",
          "y": "england",
          "yshift": 10
         },
         {
          "showarrow": false,
          "text": "<a href='https://youtu.be/QBGuR92a3dU?si=CNI-tmLU5PdLZN1W&t=1205'>link</a>",
          "x": "2025-09-16T00:20:05",
          "y": "france",
          "yshift": 10
         },
         {
          "showarrow": false,
          "text": "<a href='https://youtu.be/swCTy3CCMfc?si=1OErpfB94Bkzr5_5&t=2'>link</a>",
          "x": "2025-09-16T00:22:05",
          "y": "france",
          "yshift": 10
         },
         {
          "showarrow": false,
          "text": "<a href='https://youtu.be/swCTy3CCMfc?si=1OErpfB94Bkzr5_5&t=29'>link</a>",
          "x": "2025-09-16T00:22:32",
          "y": "france",
          "yshift": 10
         },
         {
          "showarrow": false,
          "text": "<a href='https://youtu.be/swCTy3CCMfc?si=1OErpfB94Bkzr5_5&t=56'>link</a>",
          "x": "2025-09-16T00:22:59",
          "y": "england",
          "yshift": 10
         },
         {
          "showarrow": false,
          "text": "<a href='https://youtu.be/swCTy3CCMfc?si=1OErpfB94Bkzr5_5&t=88'>link</a>",
          "x": "2025-09-16T00:23:31",
          "y": "france",
          "yshift": 10
         },
         {
          "showarrow": false,
          "text": "<a href='https://youtu.be/swCTy3CCMfc?si=1OErpfB94Bkzr5_5&t=155'>link</a>",
          "x": "2025-09-16T00:24:38",
          "y": "france",
          "yshift": 10
         },
         {
          "showarrow": false,
          "text": "<a href='https://youtu.be/swCTy3CCMfc?si=1OErpfB94Bkzr5_5&t=182'>link</a>",
          "x": "2025-09-16T00:25:05",
          "y": "england",
          "yshift": 10
         },
         {
          "showarrow": false,
          "text": "<a href='https://youtu.be/swCTy3CCMfc?si=1OErpfB94Bkzr5_5&t=240'>link</a>",
          "x": "2025-09-16T00:26:03",
          "y": "france",
          "yshift": 10
         },
         {
          "showarrow": false,
          "text": "<a href='https://youtu.be/swCTy3CCMfc?si=1OErpfB94Bkzr5_5&t=259'>link</a>",
          "x": "2025-09-16T00:26:22",
          "y": "england",
          "yshift": 10
         },
         {
          "showarrow": false,
          "text": "<a href='https://youtu.be/swCTy3CCMfc?si=1OErpfB94Bkzr5_5&t=282'>link</a>",
          "x": "2025-09-16T00:26:45",
          "y": "france",
          "yshift": 10
         },
         {
          "showarrow": false,
          "text": "<a href='https://youtu.be/swCTy3CCMfc?si=1OErpfB94Bkzr5_5&t=308'>link</a>",
          "x": "2025-09-16T00:27:11",
          "y": "england",
          "yshift": 10
         },
         {
          "showarrow": false,
          "text": "<a href='https://youtu.be/swCTy3CCMfc?si=1OErpfB94Bkzr5_5&t=341'>link</a>",
          "x": "2025-09-16T00:27:44",
          "y": "france",
          "yshift": 10
         },
         {
          "showarrow": false,
          "text": "<a href='https://youtu.be/swCTy3CCMfc?si=1OErpfB94Bkzr5_5&t=362'>link</a>",
          "x": "2025-09-16T00:28:05",
          "y": "england",
          "yshift": 10
         },
         {
          "showarrow": false,
          "text": "<a href='https://youtu.be/swCTy3CCMfc?si=1OErpfB94Bkzr5_5&t=400'>link</a>",
          "x": "2025-09-16T00:28:43",
          "y": "france",
          "yshift": 10
         },
         {
          "showarrow": false,
          "text": "<a href='https://youtu.be/swCTy3CCMfc?si=1OErpfB94Bkzr5_5&t=432'>link</a>",
          "x": "2025-09-16T00:29:15",
          "y": "england",
          "yshift": 10
         },
         {
          "showarrow": false,
          "text": "<a href='https://youtu.be/swCTy3CCMfc?si=1OErpfB94Bkzr5_5&t=481'>link</a>",
          "x": "2025-09-16T00:30:04",
          "y": "france",
          "yshift": 10
         },
         {
          "showarrow": false,
          "text": "<a href='https://youtu.be/swCTy3CCMfc?si=1OErpfB94Bkzr5_5&t=501'>link</a>",
          "x": "2025-09-16T00:30:24",
          "y": "england",
          "yshift": 10
         },
         {
          "showarrow": false,
          "text": "<a href='https://youtu.be/swCTy3CCMfc?si=1OErpfB94Bkzr5_5&t=532'>link</a>",
          "x": "2025-09-16T00:30:55",
          "y": "france",
          "yshift": 10
         },
         {
          "showarrow": false,
          "text": "<a href='https://youtu.be/swCTy3CCMfc?si=1OErpfB94Bkzr5_5&t=567'>link</a>",
          "x": "2025-09-16T00:31:30",
          "y": "england",
          "yshift": 10
         },
         {
          "showarrow": false,
          "text": "<a href='https://youtu.be/swCTy3CCMfc?si=1OErpfB94Bkzr5_5&t=605'>link</a>",
          "x": "2025-09-16T00:32:08",
          "y": "france",
          "yshift": 10
         },
         {
          "showarrow": false,
          "text": "<a href='https://youtu.be/swCTy3CCMfc?si=1OErpfB94Bkzr5_5&t=618'>link</a>",
          "x": "2025-09-16T00:32:21",
          "y": "england",
          "yshift": 10
         },
         {
          "showarrow": false,
          "text": "<a href='https://youtu.be/swCTy3CCMfc?si=1OErpfB94Bkzr5_5&t=660'>link</a>",
          "x": "2025-09-16T00:33:03",
          "y": "france",
          "yshift": 10
         },
         {
          "showarrow": false,
          "text": "<a href='https://youtu.be/swCTy3CCMfc?si=1OErpfB94Bkzr5_5&t=698'>link</a>",
          "x": "2025-09-16T00:33:41",
          "y": "france",
          "yshift": 10
         },
         {
          "showarrow": false,
          "text": "<a href='https://youtu.be/swCTy3CCMfc?si=1OErpfB94Bkzr5_5&t=727'>link</a>",
          "x": "2025-09-16T00:34:10",
          "y": "england",
          "yshift": 10
         },
         {
          "showarrow": false,
          "text": "<a href='https://youtu.be/swCTy3CCMfc?si=1OErpfB94Bkzr5_5&t=780'>link</a>",
          "x": "2025-09-16T00:35:03",
          "y": "france",
          "yshift": 10
         },
         {
          "showarrow": false,
          "text": "<a href='https://youtu.be/swCTy3CCMfc?si=1OErpfB94Bkzr5_5&t=792'>link</a>",
          "x": "2025-09-16T00:35:15",
          "y": "england",
          "yshift": 10
         },
         {
          "showarrow": false,
          "text": "<a href='https://youtu.be/swCTy3CCMfc?si=1OErpfB94Bkzr5_5&t=838'>link</a>",
          "x": "2025-09-16T00:36:01",
          "y": "france",
          "yshift": 10
         },
         {
          "showarrow": false,
          "text": "<a href='https://youtu.be/swCTy3CCMfc?si=1OErpfB94Bkzr5_5&t=900'>link</a>",
          "x": "2025-09-16T00:37:03",
          "y": "england",
          "yshift": 10
         },
         {
          "showarrow": false,
          "text": "<a href='https://youtu.be/swCTy3CCMfc?si=1OErpfB94Bkzr5_5&t=947'>link</a>",
          "x": "2025-09-16T00:37:50",
          "y": "france",
          "yshift": 10
         },
         {
          "showarrow": false,
          "text": "<a href='https://youtu.be/swCTy3CCMfc?si=1OErpfB94Bkzr5_5&t=984'>link</a>",
          "x": "2025-09-16T00:38:27",
          "y": "england",
          "yshift": 10
         },
         {
          "showarrow": false,
          "text": "<a href='https://youtu.be/swCTy3CCMfc?si=1OErpfB94Bkzr5_5&t=1016'>link</a>",
          "x": "2025-09-16T00:38:59",
          "y": "france",
          "yshift": 10
         },
         {
          "showarrow": false,
          "text": "<a href='https://youtu.be/swCTy3CCMfc?si=1OErpfB94Bkzr5_5&t=1041'>link</a>",
          "x": "2025-09-16T00:39:24",
          "y": "england",
          "yshift": 10
         },
         {
          "showarrow": false,
          "text": "<a href='https://youtu.be/swCTy3CCMfc?si=1OErpfB94Bkzr5_5&t=1079'>link</a>",
          "x": "2025-09-16T00:40:02",
          "y": "france",
          "yshift": 10
         },
         {
          "showarrow": false,
          "text": "<a href='https://youtu.be/swCTy3CCMfc?si=1OErpfB94Bkzr5_5&t=1113'>link</a>",
          "x": "2025-09-16T00:40:36",
          "y": "england",
          "yshift": 10
         },
         {
          "showarrow": false,
          "text": "<a href='https://youtu.be/swCTy3CCMfc?si=1OErpfB94Bkzr5_5&t=1203'>link</a>",
          "x": "2025-09-16T00:42:06",
          "y": "england",
          "yshift": 10
         }
        ],
        "template": {
         "data": {
          "bar": [
           {
            "error_x": {
             "color": "#2a3f5f"
            },
            "error_y": {
             "color": "#2a3f5f"
            },
            "marker": {
             "line": {
              "color": "#E5ECF6",
              "width": 0.5
             },
             "pattern": {
              "fillmode": "overlay",
              "size": 10,
              "solidity": 0.2
             }
            },
            "type": "bar"
           }
          ],
          "barpolar": [
           {
            "marker": {
             "line": {
              "color": "#E5ECF6",
              "width": 0.5
             },
             "pattern": {
              "fillmode": "overlay",
              "size": 10,
              "solidity": 0.2
             }
            },
            "type": "barpolar"
           }
          ],
          "carpet": [
           {
            "aaxis": {
             "endlinecolor": "#2a3f5f",
             "gridcolor": "white",
             "linecolor": "white",
             "minorgridcolor": "white",
             "startlinecolor": "#2a3f5f"
            },
            "baxis": {
             "endlinecolor": "#2a3f5f",
             "gridcolor": "white",
             "linecolor": "white",
             "minorgridcolor": "white",
             "startlinecolor": "#2a3f5f"
            },
            "type": "carpet"
           }
          ],
          "choropleth": [
           {
            "colorbar": {
             "outlinewidth": 0,
             "ticks": ""
            },
            "type": "choropleth"
           }
          ],
          "contour": [
           {
            "colorbar": {
             "outlinewidth": 0,
             "ticks": ""
            },
            "colorscale": [
             [
              0,
              "#0d0887"
             ],
             [
              0.1111111111111111,
              "#46039f"
             ],
             [
              0.2222222222222222,
              "#7201a8"
             ],
             [
              0.3333333333333333,
              "#9c179e"
             ],
             [
              0.4444444444444444,
              "#bd3786"
             ],
             [
              0.5555555555555556,
              "#d8576b"
             ],
             [
              0.6666666666666666,
              "#ed7953"
             ],
             [
              0.7777777777777778,
              "#fb9f3a"
             ],
             [
              0.8888888888888888,
              "#fdca26"
             ],
             [
              1,
              "#f0f921"
             ]
            ],
            "type": "contour"
           }
          ],
          "contourcarpet": [
           {
            "colorbar": {
             "outlinewidth": 0,
             "ticks": ""
            },
            "type": "contourcarpet"
           }
          ],
          "heatmap": [
           {
            "colorbar": {
             "outlinewidth": 0,
             "ticks": ""
            },
            "colorscale": [
             [
              0,
              "#0d0887"
             ],
             [
              0.1111111111111111,
              "#46039f"
             ],
             [
              0.2222222222222222,
              "#7201a8"
             ],
             [
              0.3333333333333333,
              "#9c179e"
             ],
             [
              0.4444444444444444,
              "#bd3786"
             ],
             [
              0.5555555555555556,
              "#d8576b"
             ],
             [
              0.6666666666666666,
              "#ed7953"
             ],
             [
              0.7777777777777778,
              "#fb9f3a"
             ],
             [
              0.8888888888888888,
              "#fdca26"
             ],
             [
              1,
              "#f0f921"
             ]
            ],
            "type": "heatmap"
           }
          ],
          "histogram": [
           {
            "marker": {
             "pattern": {
              "fillmode": "overlay",
              "size": 10,
              "solidity": 0.2
             }
            },
            "type": "histogram"
           }
          ],
          "histogram2d": [
           {
            "colorbar": {
             "outlinewidth": 0,
             "ticks": ""
            },
            "colorscale": [
             [
              0,
              "#0d0887"
             ],
             [
              0.1111111111111111,
              "#46039f"
             ],
             [
              0.2222222222222222,
              "#7201a8"
             ],
             [
              0.3333333333333333,
              "#9c179e"
             ],
             [
              0.4444444444444444,
              "#bd3786"
             ],
             [
              0.5555555555555556,
              "#d8576b"
             ],
             [
              0.6666666666666666,
              "#ed7953"
             ],
             [
              0.7777777777777778,
              "#fb9f3a"
             ],
             [
              0.8888888888888888,
              "#fdca26"
             ],
             [
              1,
              "#f0f921"
             ]
            ],
            "type": "histogram2d"
           }
          ],
          "histogram2dcontour": [
           {
            "colorbar": {
             "outlinewidth": 0,
             "ticks": ""
            },
            "colorscale": [
             [
              0,
              "#0d0887"
             ],
             [
              0.1111111111111111,
              "#46039f"
             ],
             [
              0.2222222222222222,
              "#7201a8"
             ],
             [
              0.3333333333333333,
              "#9c179e"
             ],
             [
              0.4444444444444444,
              "#bd3786"
             ],
             [
              0.5555555555555556,
              "#d8576b"
             ],
             [
              0.6666666666666666,
              "#ed7953"
             ],
             [
              0.7777777777777778,
              "#fb9f3a"
             ],
             [
              0.8888888888888888,
              "#fdca26"
             ],
             [
              1,
              "#f0f921"
             ]
            ],
            "type": "histogram2dcontour"
           }
          ],
          "mesh3d": [
           {
            "colorbar": {
             "outlinewidth": 0,
             "ticks": ""
            },
            "type": "mesh3d"
           }
          ],
          "parcoords": [
           {
            "line": {
             "colorbar": {
              "outlinewidth": 0,
              "ticks": ""
             }
            },
            "type": "parcoords"
           }
          ],
          "pie": [
           {
            "automargin": true,
            "type": "pie"
           }
          ],
          "scatter": [
           {
            "fillpattern": {
             "fillmode": "overlay",
             "size": 10,
             "solidity": 0.2
            },
            "type": "scatter"
           }
          ],
          "scatter3d": [
           {
            "line": {
             "colorbar": {
              "outlinewidth": 0,
              "ticks": ""
             }
            },
            "marker": {
             "colorbar": {
              "outlinewidth": 0,
              "ticks": ""
             }
            },
            "type": "scatter3d"
           }
          ],
          "scattercarpet": [
           {
            "marker": {
             "colorbar": {
              "outlinewidth": 0,
              "ticks": ""
             }
            },
            "type": "scattercarpet"
           }
          ],
          "scattergeo": [
           {
            "marker": {
             "colorbar": {
              "outlinewidth": 0,
              "ticks": ""
             }
            },
            "type": "scattergeo"
           }
          ],
          "scattergl": [
           {
            "marker": {
             "colorbar": {
              "outlinewidth": 0,
              "ticks": ""
             }
            },
            "type": "scattergl"
           }
          ],
          "scattermap": [
           {
            "marker": {
             "colorbar": {
              "outlinewidth": 0,
              "ticks": ""
             }
            },
            "type": "scattermap"
           }
          ],
          "scattermapbox": [
           {
            "marker": {
             "colorbar": {
              "outlinewidth": 0,
              "ticks": ""
             }
            },
            "type": "scattermapbox"
           }
          ],
          "scatterpolar": [
           {
            "marker": {
             "colorbar": {
              "outlinewidth": 0,
              "ticks": ""
             }
            },
            "type": "scatterpolar"
           }
          ],
          "scatterpolargl": [
           {
            "marker": {
             "colorbar": {
              "outlinewidth": 0,
              "ticks": ""
             }
            },
            "type": "scatterpolargl"
           }
          ],
          "scatterternary": [
           {
            "marker": {
             "colorbar": {
              "outlinewidth": 0,
              "ticks": ""
             }
            },
            "type": "scatterternary"
           }
          ],
          "surface": [
           {
            "colorbar": {
             "outlinewidth": 0,
             "ticks": ""
            },
            "colorscale": [
             [
              0,
              "#0d0887"
             ],
             [
              0.1111111111111111,
              "#46039f"
             ],
             [
              0.2222222222222222,
              "#7201a8"
             ],
             [
              0.3333333333333333,
              "#9c179e"
             ],
             [
              0.4444444444444444,
              "#bd3786"
             ],
             [
              0.5555555555555556,
              "#d8576b"
             ],
             [
              0.6666666666666666,
              "#ed7953"
             ],
             [
              0.7777777777777778,
              "#fb9f3a"
             ],
             [
              0.8888888888888888,
              "#fdca26"
             ],
             [
              1,
              "#f0f921"
             ]
            ],
            "type": "surface"
           }
          ],
          "table": [
           {
            "cells": {
             "fill": {
              "color": "#EBF0F8"
             },
             "line": {
              "color": "white"
             }
            },
            "header": {
             "fill": {
              "color": "#C8D4E3"
             },
             "line": {
              "color": "white"
             }
            },
            "type": "table"
           }
          ]
         },
         "layout": {
          "annotationdefaults": {
           "arrowcolor": "#2a3f5f",
           "arrowhead": 0,
           "arrowwidth": 1
          },
          "autotypenumbers": "strict",
          "coloraxis": {
           "colorbar": {
            "outlinewidth": 0,
            "ticks": ""
           }
          },
          "colorscale": {
           "diverging": [
            [
             0,
             "#8e0152"
            ],
            [
             0.1,
             "#c51b7d"
            ],
            [
             0.2,
             "#de77ae"
            ],
            [
             0.3,
             "#f1b6da"
            ],
            [
             0.4,
             "#fde0ef"
            ],
            [
             0.5,
             "#f7f7f7"
            ],
            [
             0.6,
             "#e6f5d0"
            ],
            [
             0.7,
             "#b8e186"
            ],
            [
             0.8,
             "#7fbc41"
            ],
            [
             0.9,
             "#4d9221"
            ],
            [
             1,
             "#276419"
            ]
           ],
           "sequential": [
            [
             0,
             "#0d0887"
            ],
            [
             0.1111111111111111,
             "#46039f"
            ],
            [
             0.2222222222222222,
             "#7201a8"
            ],
            [
             0.3333333333333333,
             "#9c179e"
            ],
            [
             0.4444444444444444,
             "#bd3786"
            ],
            [
             0.5555555555555556,
             "#d8576b"
            ],
            [
             0.6666666666666666,
             "#ed7953"
            ],
            [
             0.7777777777777778,
             "#fb9f3a"
            ],
            [
             0.8888888888888888,
             "#fdca26"
            ],
            [
             1,
             "#f0f921"
            ]
           ],
           "sequentialminus": [
            [
             0,
             "#0d0887"
            ],
            [
             0.1111111111111111,
             "#46039f"
            ],
            [
             0.2222222222222222,
             "#7201a8"
            ],
            [
             0.3333333333333333,
             "#9c179e"
            ],
            [
             0.4444444444444444,
             "#bd3786"
            ],
            [
             0.5555555555555556,
             "#d8576b"
            ],
            [
             0.6666666666666666,
             "#ed7953"
            ],
            [
             0.7777777777777778,
             "#fb9f3a"
            ],
            [
             0.8888888888888888,
             "#fdca26"
            ],
            [
             1,
             "#f0f921"
            ]
           ]
          },
          "colorway": [
           "#636efa",
           "#EF553B",
           "#00cc96",
           "#ab63fa",
           "#FFA15A",
           "#19d3f3",
           "#FF6692",
           "#B6E880",
           "#FF97FF",
           "#FECB52"
          ],
          "font": {
           "color": "#2a3f5f"
          },
          "geo": {
           "bgcolor": "white",
           "lakecolor": "white",
           "landcolor": "#E5ECF6",
           "showlakes": true,
           "showland": true,
           "subunitcolor": "white"
          },
          "hoverlabel": {
           "align": "left"
          },
          "hovermode": "closest",
          "mapbox": {
           "style": "light"
          },
          "paper_bgcolor": "white",
          "plot_bgcolor": "#E5ECF6",
          "polar": {
           "angularaxis": {
            "gridcolor": "white",
            "linecolor": "white",
            "ticks": ""
           },
           "bgcolor": "#E5ECF6",
           "radialaxis": {
            "gridcolor": "white",
            "linecolor": "white",
            "ticks": ""
           }
          },
          "scene": {
           "xaxis": {
            "backgroundcolor": "#E5ECF6",
            "gridcolor": "white",
            "gridwidth": 2,
            "linecolor": "white",
            "showbackground": true,
            "ticks": "",
            "zerolinecolor": "white"
           },
           "yaxis": {
            "backgroundcolor": "#E5ECF6",
            "gridcolor": "white",
            "gridwidth": 2,
            "linecolor": "white",
            "showbackground": true,
            "ticks": "",
            "zerolinecolor": "white"
           },
           "zaxis": {
            "backgroundcolor": "#E5ECF6",
            "gridcolor": "white",
            "gridwidth": 2,
            "linecolor": "white",
            "showbackground": true,
            "ticks": "",
            "zerolinecolor": "white"
           }
          },
          "shapedefaults": {
           "line": {
            "color": "#2a3f5f"
           }
          },
          "ternary": {
           "aaxis": {
            "gridcolor": "white",
            "linecolor": "white",
            "ticks": ""
           },
           "baxis": {
            "gridcolor": "white",
            "linecolor": "white",
            "ticks": ""
           },
           "bgcolor": "#E5ECF6",
           "caxis": {
            "gridcolor": "white",
            "linecolor": "white",
            "ticks": ""
           }
          },
          "title": {
           "x": 0.05
          },
          "xaxis": {
           "automargin": true,
           "gridcolor": "white",
           "linecolor": "white",
           "ticks": "",
           "title": {
            "standoff": 15
           },
           "zerolinecolor": "white",
           "zerolinewidth": 2
          },
          "yaxis": {
           "automargin": true,
           "gridcolor": "white",
           "linecolor": "white",
           "ticks": "",
           "title": {
            "standoff": 15
           },
           "zerolinecolor": "white",
           "zerolinewidth": 2
          }
         }
        }
       }
      },
      "image/png": "[encoded data removed]"
     },
     "metadata": {},
     "output_type": "display_data"
    }
   ],
   "source": [
    "from jinja2 import Template\n",
    "\n",
    "\n",
    "def get_names(data_path):\n",
    "    name_1 = data_path.stem.split(\"_\")[0]\n",
    "    name_2 = data_path.stem.split(\"_\")[1]\n",
    "    return name_1, name_2\n",
    "\n",
    "\n",
    "input_template_path = ASSETS_ROOT / \"template.html\"\n",
    "for i, data_path in enumerate(\n",
    "    [\n",
    "        DATA_ROOT / \"france_pays-bas.csv\",\n",
    "        DATA_ROOT / \"france_england.csv\",\n",
    "    ]\n",
    "):\n",
    "    output_html_path = ROOT / f\"game_{i}.html\"\n",
    "    local_team_name, other_team_name = get_names(data_path)\n",
    "    data_df = load_data(data_path, local_team_name, other_team_name)\n",
    "\n",
    "    new_stats_df = get_stats_df(data_df, local_team_name, other_team_name)\n",
    "    trend_fig = make_fig_1(data_df, local_team_name, other_team_name)\n",
    "    game_fig = make_game_fig(data_df, local_team_name, other_team_name)\n",
    "\n",
    "    plotly_jinja_data = {\n",
    "        \"game_fig\": game_fig.to_html(full_html=False),\n",
    "        \"trend_fig\": trend_fig.to_html(full_html=False),\n",
    "        \"stats_table\": new_stats_df.to_html(),\n",
    "    }\n",
    "    # consider also defining the include_plotlyjs parameter to point to an external Plotly.js as described above\n",
    "\n",
    "    with output_html_path.open(\"w\", encoding=\"utf-8\") as output_file:\n",
    "        with input_template_path.open() as template_file:\n",
    "            j2_template = Template(template_file.read())\n",
    "            output_file.write(j2_template.render(plotly_jinja_data))"
   ]
  },
  {
   "cell_type": "code",
   "execution_count": 34,
   "id": "46b2b4d4-dc50-45df-816f-1a96c5294ed6",
   "metadata": {},
   "outputs": [
    {
     "data": {
      "application/vnd.plotly.v1+json": {
       "config": {
        "plotlyServerURL": "https://plot.ly"
       },
       "data": [
        {
         "customdata": [
          [
           null
          ],
          [
           null
          ],
          [
           null
          ],
          [
           null
          ]
         ],
         "hovertemplate": "<b>%{hovertext}</b><br><br>Type=Game Event<br>Time=%{x}<br>Team=%{y}<br>Comment=%{customdata[0]}<extra></extra>",
         "hovertext": [
          "Game Start",
          "Game End",
          "Game Start",
          "Game End"
         ],
         "legendgroup": "Game Event",
         "marker": {
          "color": "#636efa",
          "symbol": "circle"
         },
         "mode": "markers",
         "name": "Game Event",
         "orientation": "v",
         "showlegend": true,
         "type": "scatter",
         "x": [
          "2025-09-14T00:02:14.000000000",
          "2025-09-14T00:22:15.000000000",
          "2025-09-14T00:27:13.000000000",
          "2025-09-14T00:47:17.000000000"
         ],
         "xaxis": "x",
         "y": [
          "Ned",
          "France",
          "France",
          "France"
         ],
         "yaxis": "y"
        },
        {
         "customdata": [
          [
           null
          ],
          [
           null
          ],
          [
           null
          ],
          [
           null
          ],
          [
           null
          ],
          [
           null
          ],
          [
           null
          ],
          [
           null
          ],
          [
           null
          ],
          [
           null
          ],
          [
           null
          ],
          [
           null
          ]
         ],
         "hovertemplate": "<b>%{hovertext}</b><br><br>Type=Try<br>Time=%{x}<br>Team=%{y}<br>Comment=%{customdata[0]}<extra></extra>",
         "hovertext": [
          "Try",
          "Try",
          "Try",
          "Try",
          "Try",
          "Try",
          "Try",
          "Try",
          "Try",
          "Try",
          "Try",
          "Try"
         ],
         "legendgroup": "Try",
         "marker": {
          "color": "#EF553B",
          "symbol": "circle"
         },
         "mode": "markers",
         "name": "Try",
         "orientation": "v",
         "showlegend": true,
         "type": "scatter",
         "x": [
          "2025-09-14T00:02:45.000000000",
          "2025-09-14T00:06:51.000000000",
          "2025-09-14T00:09:27.000000000",
          "2025-09-14T00:11:43.000000000",
          "2025-09-14T00:19:57.000000000",
          "2025-09-14T00:28:29.000000000",
          "2025-09-14T00:33:41.000000000",
          "2025-09-14T00:38:14.000000000",
          "2025-09-14T00:40:39.000000000",
          "2025-09-14T00:41:12.000000000",
          "2025-09-14T00:42:24.000000000",
          "2025-09-14T00:46:08.000000000"
         ],
         "xaxis": "x",
         "y": [
          "Ned",
          "Ned",
          "France",
          "France",
          "France",
          "France",
          "Ned",
          "France",
          "Ned",
          "France",
          "Ned",
          "France"
         ],
         "yaxis": "y"
        },
        {
         "customdata": [
          [
           null
          ],
          [
           null
          ],
          [
           null
          ],
          [
           null
          ],
          [
           null
          ],
          [
           null
          ],
          [
           null
          ],
          [
           null
          ],
          [
           null
          ],
          [
           null
          ],
          [
           "Possible Touch and Pass"
          ],
          [
           null
          ],
          [
           null
          ],
          [
           null
          ],
          [
           null
          ],
          [
           null
          ],
          [
           null
          ],
          [
           null
          ],
          [
           null
          ],
          [
           null
          ],
          [
           null
          ],
          [
           null
          ],
          [
           null
          ],
          [
           null
          ],
          [
           null
          ],
          [
           null
          ],
          [
           null
          ],
          [
           null
          ],
          [
           "6 again or not?"
          ],
          [
           null
          ],
          [
           null
          ],
          [
           null
          ],
          [
           null
          ],
          [
           "6 again or not?"
          ],
          [
           null
          ],
          [
           null
          ],
          [
           null
          ],
          [
           null
          ],
          [
           null
          ]
         ],
         "hovertemplate": "<b>%{hovertext}</b><br><br>Type=Turnover<br>Time=%{x}<br>Team=%{y}<br>Comment=%{customdata[0]}<extra></extra>",
         "hovertext": [
          "6th Touch",
          "Ball Down",
          "6th Touch",
          "6th Touch",
          "Ball Down",
          "Ball Down",
          "Ball Down",
          "Ball Down",
          "6th Touch",
          "Dummy Touch",
          "6th Touch",
          "Interception",
          "6th Touch",
          "Ball Down",
          "6th Touch",
          "Ball Down",
          "Ball Down",
          "Ball Down",
          "6th Touch",
          "Ball Down",
          "Ball Down",
          "6th Touch",
          "6th Touch",
          "6th Touch",
          "Ball Down",
          "Ball Down",
          "6 Again",
          "Ball Down",
          "6 Again",
          "6th Touch",
          "Ball Down",
          "Ball Down",
          "Ball Down",
          "6 Again",
          "6th Touch",
          "Ball Down",
          "Ball Down",
          "Ball Down",
          "6th Touch"
         ],
         "legendgroup": "Turnover",
         "marker": {
          "color": "#00cc96",
          "symbol": "circle"
         },
         "mode": "markers",
         "name": "Turnover",
         "orientation": "v",
         "showlegend": true,
         "type": "scatter",
         "x": [
          "2025-09-14T00:03:54.000000000",
          "2025-09-14T00:04:27.000000000",
          "2025-09-14T00:04:46.000000000",
          "2025-09-14T00:05:28.000000000",
          "2025-09-14T00:08:44.000000000",
          "2025-09-14T00:11:03.000000000",
          "2025-09-14T00:12:30.000000000",
          "2025-09-14T00:13:21.000000000",
          "2025-09-14T00:14:00.000000000",
          "2025-09-14T00:14:30.000000000",
          "2025-09-14T00:15:06.000000000",
          "2025-09-14T00:17:00.000000000",
          "2025-09-14T00:17:54.000000000",
          "2025-09-14T00:19:31.000000000",
          "2025-09-14T00:20:47.000000000",
          "2025-09-14T00:21:04.000000000",
          "2025-09-14T00:21:34.000000000",
          "2025-09-14T00:27:22.000000000",
          "2025-09-14T00:29:24.000000000",
          "2025-09-14T00:29:33.000000000",
          "2025-09-14T00:30:33.000000000",
          "2025-09-14T00:31:04.000000000",
          "2025-09-14T00:31:32.000000000",
          "2025-09-14T00:32:06.000000000",
          "2025-09-14T00:32:25.000000000",
          "2025-09-14T00:32:56.000000000",
          "2025-09-14T00:33:26.000000000",
          "2025-09-14T00:34:18.000000000",
          "2025-09-14T00:34:50.000000000",
          "2025-09-14T00:35:43.000000000",
          "2025-09-14T00:36:15.000000000",
          "2025-09-14T00:36:50.000000000",
          "2025-09-14T00:39:28.000000000",
          "2025-09-14T00:41:48.000000000",
          "2025-09-14T00:43:51.000000000",
          "2025-09-14T00:44:19.000000000",
          "2025-09-14T00:44:53.000000000",
          "2025-09-14T00:45:35.000000000",
          "2025-09-14T00:46:58.000000000"
         ],
         "xaxis": "x",
         "y": [
          "France",
          "Ned",
          "France",
          "Ned",
          "Ned",
          "Ned",
          "Ned",
          "France",
          "Ned",
          "France",
          "Ned",
          "Ned",
          "Ned",
          "Ned",
          "Ned",
          "France",
          "Ned",
          "France",
          "Ned",
          "France",
          "Ned",
          "France",
          "Ned",
          "France",
          "Ned",
          "France",
          "France",
          "France",
          "France",
          "Ned",
          "France",
          "Ned",
          "France",
          "France",
          "Ned",
          "France",
          "Ned",
          "Ned",
          "Ned"
         ],
         "yaxis": "y"
        },
        {
         "customdata": [
          [
           "To compare"
          ],
          [
           null
          ],
          [
           "Not sure if offside or not moving up"
          ],
          [
           null
          ],
          [
           "Not sure if offside or early drop"
          ],
          [
           "Harsh ?"
          ],
          [
           null
          ],
          [
           null
          ],
          [
           null
          ],
          [
           null
          ],
          [
           null
          ],
          [
           null
          ],
          [
           null
          ],
          [
           "Not sure which one"
          ],
          [
           "I really don't understand this one, seems more like an overstep"
          ],
          [
           null
          ],
          [
           "When we freeze frame seems like there is an arm"
          ]
         ],
         "hovertemplate": "<b>%{hovertext}</b><br><br>Type=Penalty<br>Time=%{x}<br>Team=%{y}<br>Comment=%{customdata[0]}<extra></extra>",
         "hovertext": [
          "Touch and Pass",
          "Forward Pass",
          "Offside",
          "Forward Pass",
          "Offside",
          "Delay of Play",
          "Hard Touch",
          "Forward Pass",
          "Offside",
          "Forward Pass",
          "In The Ruck",
          "Hard Touch",
          "Forward Pass",
          "Forward Pass",
          "In The Ruck",
          "Forward Pass",
          "Shoulder"
         ],
         "legendgroup": "Penalty",
         "marker": {
          "color": "#ab63fa",
          "symbol": "circle"
         },
         "mode": "markers",
         "name": "Penalty",
         "orientation": "v",
         "showlegend": true,
         "type": "scatter",
         "x": [
          "2025-09-14T00:06:08.000000000",
          "2025-09-14T00:07:43.000000000",
          "2025-09-14T00:13:05.000000000",
          "2025-09-14T00:15:20.000000000",
          "2025-09-14T00:16:05.000000000",
          "2025-09-14T00:17:24.000000000",
          "2025-09-14T00:18:19.000000000",
          "2025-09-14T00:18:55.000000000",
          "2025-09-14T00:21:57.000000000",
          "2025-09-14T00:27:43.000000000",
          "2025-09-14T00:29:52.000000000",
          "2025-09-14T00:37:14.000000000",
          "2025-09-14T00:37:32.000000000",
          "2025-09-14T00:38:44.000000000",
          "2025-09-14T00:39:51.000000000",
          "2025-09-14T00:43:18.000000000",
          "2025-09-14T00:45:04.000000000"
         ],
         "xaxis": "x",
         "y": [
          "France",
          "France",
          "Ned",
          "France",
          "France",
          "France",
          "Ned",
          "France",
          "Ned",
          "Ned",
          "France",
          "Ned",
          "Ned",
          "Ned",
          "France",
          "France",
          "France"
         ],
         "yaxis": "y"
        },
        {
         "customdata": [
          [
           "Missed not over the ball?"
          ],
          [
           "Clear not over the ball"
          ],
          [
           "In the ruck ?"
          ],
          [
           "Off the ball skirmish"
          ],
          [
           "Seems like the same as the shoulder against France above"
          ]
         ],
         "hovertemplate": "<b>%{hovertext}</b><br><br>Type=To Review<br>Time=%{x}<br>Team=%{y}<br>Comment=%{customdata[0]}<extra></extra>",
         "hovertext": [
          "Bad Roll",
          "Bad Roll",
          "In The Ruck",
          "Other",
          "Other"
         ],
         "legendgroup": "To Review",
         "marker": {
          "color": "#FFA15A",
          "symbol": "circle"
         },
         "mode": "markers",
         "name": "To Review",
         "orientation": "v",
         "showlegend": true,
         "type": "scatter",
         "x": [
          "2025-09-14T00:16:20.000000000",
          "2025-09-14T00:17:05.000000000",
          "2025-09-14T00:21:48.000000000",
          "2025-09-14T00:22:03.000000000",
          "2025-09-14T00:46:35.000000000"
         ],
         "xaxis": "x",
         "y": [
          "France",
          "Ned",
          "France",
          "France",
          "France"
         ],
         "yaxis": "y"
        }
       ],
       "layout": {
        "legend": {
         "title": {
          "text": "Type"
         },
         "tracegroupgap": 0
        },
        "margin": {
         "t": 60
        },
        "template": {
         "data": {
          "bar": [
           {
            "error_x": {
             "color": "#2a3f5f"
            },
            "error_y": {
             "color": "#2a3f5f"
            },
            "marker": {
             "line": {
              "color": "#E5ECF6",
              "width": 0.5
             },
             "pattern": {
              "fillmode": "overlay",
              "size": 10,
              "solidity": 0.2
             }
            },
            "type": "bar"
           }
          ],
          "barpolar": [
           {
            "marker": {
             "line": {
              "color": "#E5ECF6",
              "width": 0.5
             },
             "pattern": {
              "fillmode": "overlay",
              "size": 10,
              "solidity": 0.2
             }
            },
            "type": "barpolar"
           }
          ],
          "carpet": [
           {
            "aaxis": {
             "endlinecolor": "#2a3f5f",
             "gridcolor": "white",
             "linecolor": "white",
             "minorgridcolor": "white",
             "startlinecolor": "#2a3f5f"
            },
            "baxis": {
             "endlinecolor": "#2a3f5f",
             "gridcolor": "white",
             "linecolor": "white",
             "minorgridcolor": "white",
             "startlinecolor": "#2a3f5f"
            },
            "type": "carpet"
           }
          ],
          "choropleth": [
           {
            "colorbar": {
             "outlinewidth": 0,
             "ticks": ""
            },
            "type": "choropleth"
           }
          ],
          "contour": [
           {
            "colorbar": {
             "outlinewidth": 0,
             "ticks": ""
            },
            "colorscale": [
             [
              0,
              "#0d0887"
             ],
             [
              0.1111111111111111,
              "#46039f"
             ],
             [
              0.2222222222222222,
              "#7201a8"
             ],
             [
              0.3333333333333333,
              "#9c179e"
             ],
             [
              0.4444444444444444,
              "#bd3786"
             ],
             [
              0.5555555555555556,
              "#d8576b"
             ],
             [
              0.6666666666666666,
              "#ed7953"
             ],
             [
              0.7777777777777778,
              "#fb9f3a"
             ],
             [
              0.8888888888888888,
              "#fdca26"
             ],
             [
              1,
              "#f0f921"
             ]
            ],
            "type": "contour"
           }
          ],
          "contourcarpet": [
           {
            "colorbar": {
             "outlinewidth": 0,
             "ticks": ""
            },
            "type": "contourcarpet"
           }
          ],
          "heatmap": [
           {
            "colorbar": {
             "outlinewidth": 0,
             "ticks": ""
            },
            "colorscale": [
             [
              0,
              "#0d0887"
             ],
             [
              0.1111111111111111,
              "#46039f"
             ],
             [
              0.2222222222222222,
              "#7201a8"
             ],
             [
              0.3333333333333333,
              "#9c179e"
             ],
             [
              0.4444444444444444,
              "#bd3786"
             ],
             [
              0.5555555555555556,
              "#d8576b"
             ],
             [
              0.6666666666666666,
              "#ed7953"
             ],
             [
              0.7777777777777778,
              "#fb9f3a"
             ],
             [
              0.8888888888888888,
              "#fdca26"
             ],
             [
              1,
              "#f0f921"
             ]
            ],
            "type": "heatmap"
           }
          ],
          "histogram": [
           {
            "marker": {
             "pattern": {
              "fillmode": "overlay",
              "size": 10,
              "solidity": 0.2
             }
            },
            "type": "histogram"
           }
          ],
          "histogram2d": [
           {
            "colorbar": {
             "outlinewidth": 0,
             "ticks": ""
            },
            "colorscale": [
             [
              0,
              "#0d0887"
             ],
             [
              0.1111111111111111,
              "#46039f"
             ],
             [
              0.2222222222222222,
              "#7201a8"
             ],
             [
              0.3333333333333333,
              "#9c179e"
             ],
             [
              0.4444444444444444,
              "#bd3786"
             ],
             [
              0.5555555555555556,
              "#d8576b"
             ],
             [
              0.6666666666666666,
              "#ed7953"
             ],
             [
              0.7777777777777778,
              "#fb9f3a"
             ],
             [
              0.8888888888888888,
              "#fdca26"
             ],
             [
              1,
              "#f0f921"
             ]
            ],
            "type": "histogram2d"
           }
          ],
          "histogram2dcontour": [
           {
            "colorbar": {
             "outlinewidth": 0,
             "ticks": ""
            },
            "colorscale": [
             [
              0,
              "#0d0887"
             ],
             [
              0.1111111111111111,
              "#46039f"
             ],
             [
              0.2222222222222222,
              "#7201a8"
             ],
             [
              0.3333333333333333,
              "#9c179e"
             ],
             [
              0.4444444444444444,
              "#bd3786"
             ],
             [
              0.5555555555555556,
              "#d8576b"
             ],
             [
              0.6666666666666666,
              "#ed7953"
             ],
             [
              0.7777777777777778,
              "#fb9f3a"
             ],
             [
              0.8888888888888888,
              "#fdca26"
             ],
             [
              1,
              "#f0f921"
             ]
            ],
            "type": "histogram2dcontour"
           }
          ],
          "mesh3d": [
           {
            "colorbar": {
             "outlinewidth": 0,
             "ticks": ""
            },
            "type": "mesh3d"
           }
          ],
          "parcoords": [
           {
            "line": {
             "colorbar": {
              "outlinewidth": 0,
              "ticks": ""
             }
            },
            "type": "parcoords"
           }
          ],
          "pie": [
           {
            "automargin": true,
            "type": "pie"
           }
          ],
          "scatter": [
           {
            "fillpattern": {
             "fillmode": "overlay",
             "size": 10,
             "solidity": 0.2
            },
            "type": "scatter"
           }
          ],
          "scatter3d": [
           {
            "line": {
             "colorbar": {
              "outlinewidth": 0,
              "ticks": ""
             }
            },
            "marker": {
             "colorbar": {
              "outlinewidth": 0,
              "ticks": ""
             }
            },
            "type": "scatter3d"
           }
          ],
          "scattercarpet": [
           {
            "marker": {
             "colorbar": {
              "outlinewidth": 0,
              "ticks": ""
             }
            },
            "type": "scattercarpet"
           }
          ],
          "scattergeo": [
           {
            "marker": {
             "colorbar": {
              "outlinewidth": 0,
              "ticks": ""
             }
            },
            "type": "scattergeo"
           }
          ],
          "scattergl": [
           {
            "marker": {
             "colorbar": {
              "outlinewidth": 0,
              "ticks": ""
             }
            },
            "type": "scattergl"
           }
          ],
          "scattermap": [
           {
            "marker": {
             "colorbar": {
              "outlinewidth": 0,
              "ticks": ""
             }
            },
            "type": "scattermap"
           }
          ],
          "scattermapbox": [
           {
            "marker": {
             "colorbar": {
              "outlinewidth": 0,
              "ticks": ""
             }
            },
            "type": "scattermapbox"
           }
          ],
          "scatterpolar": [
           {
            "marker": {
             "colorbar": {
              "outlinewidth": 0,
              "ticks": ""
             }
            },
            "type": "scatterpolar"
           }
          ],
          "scatterpolargl": [
           {
            "marker": {
             "colorbar": {
              "outlinewidth": 0,
              "ticks": ""
             }
            },
            "type": "scatterpolargl"
           }
          ],
          "scatterternary": [
           {
            "marker": {
             "colorbar": {
              "outlinewidth": 0,
              "ticks": ""
             }
            },
            "type": "scatterternary"
           }
          ],
          "surface": [
           {
            "colorbar": {
             "outlinewidth": 0,
             "ticks": ""
            },
            "colorscale": [
             [
              0,
              "#0d0887"
             ],
             [
              0.1111111111111111,
              "#46039f"
             ],
             [
              0.2222222222222222,
              "#7201a8"
             ],
             [
              0.3333333333333333,
              "#9c179e"
             ],
             [
              0.4444444444444444,
              "#bd3786"
             ],
             [
              0.5555555555555556,
              "#d8576b"
             ],
             [
              0.6666666666666666,
              "#ed7953"
             ],
             [
              0.7777777777777778,
              "#fb9f3a"
             ],
             [
              0.8888888888888888,
              "#fdca26"
             ],
             [
              1,
              "#f0f921"
             ]
            ],
            "type": "surface"
           }
          ],
          "table": [
           {
            "cells": {
             "fill": {
              "color": "#EBF0F8"
             },
             "line": {
              "color": "white"
             }
            },
            "header": {
             "fill": {
              "color": "#C8D4E3"
             },
             "line": {
              "color": "white"
             }
            },
            "type": "table"
           }
          ]
         },
         "layout": {
          "annotationdefaults": {
           "arrowcolor": "#2a3f5f",
           "arrowhead": 0,
           "arrowwidth": 1
          },
          "autotypenumbers": "strict",
          "coloraxis": {
           "colorbar": {
            "outlinewidth": 0,
            "ticks": ""
           }
          },
          "colorscale": {
           "diverging": [
            [
             0,
             "#8e0152"
            ],
            [
             0.1,
             "#c51b7d"
            ],
            [
             0.2,
             "#de77ae"
            ],
            [
             0.3,
             "#f1b6da"
            ],
            [
             0.4,
             "#fde0ef"
            ],
            [
             0.5,
             "#f7f7f7"
            ],
            [
             0.6,
             "#e6f5d0"
            ],
            [
             0.7,
             "#b8e186"
            ],
            [
             0.8,
             "#7fbc41"
            ],
            [
             0.9,
             "#4d9221"
            ],
            [
             1,
             "#276419"
            ]
           ],
           "sequential": [
            [
             0,
             "#0d0887"
            ],
            [
             0.1111111111111111,
             "#46039f"
            ],
            [
             0.2222222222222222,
             "#7201a8"
            ],
            [
             0.3333333333333333,
             "#9c179e"
            ],
            [
             0.4444444444444444,
             "#bd3786"
            ],
            [
             0.5555555555555556,
             "#d8576b"
            ],
            [
             0.6666666666666666,
             "#ed7953"
            ],
            [
             0.7777777777777778,
             "#fb9f3a"
            ],
            [
             0.8888888888888888,
             "#fdca26"
            ],
            [
             1,
             "#f0f921"
            ]
           ],
           "sequentialminus": [
            [
             0,
             "#0d0887"
            ],
            [
             0.1111111111111111,
             "#46039f"
            ],
            [
             0.2222222222222222,
             "#7201a8"
            ],
            [
             0.3333333333333333,
             "#9c179e"
            ],
            [
             0.4444444444444444,
             "#bd3786"
            ],
            [
             0.5555555555555556,
             "#d8576b"
            ],
            [
             0.6666666666666666,
             "#ed7953"
            ],
            [
             0.7777777777777778,
             "#fb9f3a"
            ],
            [
             0.8888888888888888,
             "#fdca26"
            ],
            [
             1,
             "#f0f921"
            ]
           ]
          },
          "colorway": [
           "#636efa",
           "#EF553B",
           "#00cc96",
           "#ab63fa",
           "#FFA15A",
           "#19d3f3",
           "#FF6692",
           "#B6E880",
           "#FF97FF",
           "#FECB52"
          ],
          "font": {
           "color": "#2a3f5f"
          },
          "geo": {
           "bgcolor": "white",
           "lakecolor": "white",
           "landcolor": "#E5ECF6",
           "showlakes": true,
           "showland": true,
           "subunitcolor": "white"
          },
          "hoverlabel": {
           "align": "left"
          },
          "hovermode": "closest",
          "mapbox": {
           "style": "light"
          },
          "paper_bgcolor": "white",
          "plot_bgcolor": "#E5ECF6",
          "polar": {
           "angularaxis": {
            "gridcolor": "white",
            "linecolor": "white",
            "ticks": ""
           },
           "bgcolor": "#E5ECF6",
           "radialaxis": {
            "gridcolor": "white",
            "linecolor": "white",
            "ticks": ""
           }
          },
          "scene": {
           "xaxis": {
            "backgroundcolor": "#E5ECF6",
            "gridcolor": "white",
            "gridwidth": 2,
            "linecolor": "white",
            "showbackground": true,
            "ticks": "",
            "zerolinecolor": "white"
           },
           "yaxis": {
            "backgroundcolor": "#E5ECF6",
            "gridcolor": "white",
            "gridwidth": 2,
            "linecolor": "white",
            "showbackground": true,
            "ticks": "",
            "zerolinecolor": "white"
           },
           "zaxis": {
            "backgroundcolor": "#E5ECF6",
            "gridcolor": "white",
            "gridwidth": 2,
            "linecolor": "white",
            "showbackground": true,
            "ticks": "",
            "zerolinecolor": "white"
           }
          },
          "shapedefaults": {
           "line": {
            "color": "#2a3f5f"
           }
          },
          "ternary": {
           "aaxis": {
            "gridcolor": "white",
            "linecolor": "white",
            "ticks": ""
           },
           "baxis": {
            "gridcolor": "white",
            "linecolor": "white",
            "ticks": ""
           },
           "bgcolor": "#E5ECF6",
           "caxis": {
            "gridcolor": "white",
            "linecolor": "white",
            "ticks": ""
           }
          },
          "title": {
           "x": 0.05
          },
          "xaxis": {
           "automargin": true,
           "gridcolor": "white",
           "linecolor": "white",
           "ticks": "",
           "title": {
            "standoff": 15
           },
           "zerolinecolor": "white",
           "zerolinewidth": 2
          },
          "yaxis": {
           "automargin": true,
           "gridcolor": "white",
           "linecolor": "white",
           "ticks": "",
           "title": {
            "standoff": 15
           },
           "zerolinecolor": "white",
           "zerolinewidth": 2
          }
         }
        },
        "xaxis": {
         "anchor": "y",
         "domain": [
          0,
          1
         ],
         "title": {
          "text": "Time"
         }
        },
        "yaxis": {
         "anchor": "x",
         "categoryarray": [
          "France",
          "Ned"
         ],
         "categoryorder": "array",
         "domain": [
          0,
          1
         ],
         "title": {
          "text": "Team"
         }
        }
       }
      },
      "image/png": "[encoded data removed]"
     },
     "metadata": {},
     "output_type": "display_data"
    }
   ],
   "source": [
    "fig = px.scatter(\n",
    "    data_df,\n",
    "    x=\"Time\",\n",
    "    y=\"Team\",\n",
    "    hover_name=\"Name\",\n",
    "    hover_data=\"Comment\",\n",
    "    color=\"Type\",\n",
    "    category_orders={\"Team\": [OTHER_TEAM_NAME, \"France\"]},\n",
    ")\n",
    "fig.write_html(output_data_root / \"recap.html\")\n",
    "fig.show()"
   ]
  },
  {
   "cell_type": "code",
   "execution_count": 35,
   "id": "a22d7763-362b-4522-8c40-32fdc581ede0",
   "metadata": {},
   "outputs": [
    {
     "data": {
      "application/vnd.plotly.v1+json": {
       "config": {
        "plotlyServerURL": "https://plot.ly"
       },
       "data": [
        {
         "mode": "markers+lines",
         "name": "France",
         "type": "scatter",
         "x": [
          "2025-09-14T00:02:45.000000000",
          "2025-09-14T00:06:51.000000000",
          "2025-09-14T00:09:27.000000000",
          "2025-09-14T00:11:43.000000000",
          "2025-09-14T00:19:57.000000000",
          "2025-09-14T00:28:29.000000000",
          "2025-09-14T00:33:41.000000000",
          "2025-09-14T00:38:14.000000000",
          "2025-09-14T00:40:39.000000000",
          "2025-09-14T00:41:12.000000000",
          "2025-09-14T00:42:24.000000000",
          "2025-09-14T00:46:08.000000000"
         ],
         "y": {
          "bdata": "AAABAgMEBAUFBgYH",
          "dtype": "i1"
         }
        },
        {
         "mode": "markers+lines",
         "name": "Ned",
         "type": "scatter",
         "x": [
          "2025-09-14T00:02:45.000000000",
          "2025-09-14T00:06:51.000000000",
          "2025-09-14T00:09:27.000000000",
          "2025-09-14T00:11:43.000000000",
          "2025-09-14T00:19:57.000000000",
          "2025-09-14T00:28:29.000000000",
          "2025-09-14T00:33:41.000000000",
          "2025-09-14T00:38:14.000000000",
          "2025-09-14T00:40:39.000000000",
          "2025-09-14T00:41:12.000000000",
          "2025-09-14T00:42:24.000000000",
          "2025-09-14T00:46:08.000000000"
         ],
         "y": {
          "bdata": "AQICAgICAwMEBAUF",
          "dtype": "i1"
         }
        }
       ],
       "layout": {
        "hovermode": "x unified",
        "template": {
         "data": {
          "bar": [
           {
            "error_x": {
             "color": "#2a3f5f"
            },
            "error_y": {
             "color": "#2a3f5f"
            },
            "marker": {
             "line": {
              "color": "#E5ECF6",
              "width": 0.5
             },
             "pattern": {
              "fillmode": "overlay",
              "size": 10,
              "solidity": 0.2
             }
            },
            "type": "bar"
           }
          ],
          "barpolar": [
           {
            "marker": {
             "line": {
              "color": "#E5ECF6",
              "width": 0.5
             },
             "pattern": {
              "fillmode": "overlay",
              "size": 10,
              "solidity": 0.2
             }
            },
            "type": "barpolar"
           }
          ],
          "carpet": [
           {
            "aaxis": {
             "endlinecolor": "#2a3f5f",
             "gridcolor": "white",
             "linecolor": "white",
             "minorgridcolor": "white",
             "startlinecolor": "#2a3f5f"
            },
            "baxis": {
             "endlinecolor": "#2a3f5f",
             "gridcolor": "white",
             "linecolor": "white",
             "minorgridcolor": "white",
             "startlinecolor": "#2a3f5f"
            },
            "type": "carpet"
           }
          ],
          "choropleth": [
           {
            "colorbar": {
             "outlinewidth": 0,
             "ticks": ""
            },
            "type": "choropleth"
           }
          ],
          "contour": [
           {
            "colorbar": {
             "outlinewidth": 0,
             "ticks": ""
            },
            "colorscale": [
             [
              0,
              "#0d0887"
             ],
             [
              0.1111111111111111,
              "#46039f"
             ],
             [
              0.2222222222222222,
              "#7201a8"
             ],
             [
              0.3333333333333333,
              "#9c179e"
             ],
             [
              0.4444444444444444,
              "#bd3786"
             ],
             [
              0.5555555555555556,
              "#d8576b"
             ],
             [
              0.6666666666666666,
              "#ed7953"
             ],
             [
              0.7777777777777778,
              "#fb9f3a"
             ],
             [
              0.8888888888888888,
              "#fdca26"
             ],
             [
              1,
              "#f0f921"
             ]
            ],
            "type": "contour"
           }
          ],
          "contourcarpet": [
           {
            "colorbar": {
             "outlinewidth": 0,
             "ticks": ""
            },
            "type": "contourcarpet"
           }
          ],
          "heatmap": [
           {
            "colorbar": {
             "outlinewidth": 0,
             "ticks": ""
            },
            "colorscale": [
             [
              0,
              "#0d0887"
             ],
             [
              0.1111111111111111,
              "#46039f"
             ],
             [
              0.2222222222222222,
              "#7201a8"
             ],
             [
              0.3333333333333333,
              "#9c179e"
             ],
             [
              0.4444444444444444,
              "#bd3786"
             ],
             [
              0.5555555555555556,
              "#d8576b"
             ],
             [
              0.6666666666666666,
              "#ed7953"
             ],
             [
              0.7777777777777778,
              "#fb9f3a"
             ],
             [
              0.8888888888888888,
              "#fdca26"
             ],
             [
              1,
              "#f0f921"
             ]
            ],
            "type": "heatmap"
           }
          ],
          "histogram": [
           {
            "marker": {
             "pattern": {
              "fillmode": "overlay",
              "size": 10,
              "solidity": 0.2
             }
            },
            "type": "histogram"
           }
          ],
          "histogram2d": [
           {
            "colorbar": {
             "outlinewidth": 0,
             "ticks": ""
            },
            "colorscale": [
             [
              0,
              "#0d0887"
             ],
             [
              0.1111111111111111,
              "#46039f"
             ],
             [
              0.2222222222222222,
              "#7201a8"
             ],
             [
              0.3333333333333333,
              "#9c179e"
             ],
             [
              0.4444444444444444,
              "#bd3786"
             ],
             [
              0.5555555555555556,
              "#d8576b"
             ],
             [
              0.6666666666666666,
              "#ed7953"
             ],
             [
              0.7777777777777778,
              "#fb9f3a"
             ],
             [
              0.8888888888888888,
              "#fdca26"
             ],
             [
              1,
              "#f0f921"
             ]
            ],
            "type": "histogram2d"
           }
          ],
          "histogram2dcontour": [
           {
            "colorbar": {
             "outlinewidth": 0,
             "ticks": ""
            },
            "colorscale": [
             [
              0,
              "#0d0887"
             ],
             [
              0.1111111111111111,
              "#46039f"
             ],
             [
              0.2222222222222222,
              "#7201a8"
             ],
             [
              0.3333333333333333,
              "#9c179e"
             ],
             [
              0.4444444444444444,
              "#bd3786"
             ],
             [
              0.5555555555555556,
              "#d8576b"
             ],
             [
              0.6666666666666666,
              "#ed7953"
             ],
             [
              0.7777777777777778,
              "#fb9f3a"
             ],
             [
              0.8888888888888888,
              "#fdca26"
             ],
             [
              1,
              "#f0f921"
             ]
            ],
            "type": "histogram2dcontour"
           }
          ],
          "mesh3d": [
           {
            "colorbar": {
             "outlinewidth": 0,
             "ticks": ""
            },
            "type": "mesh3d"
           }
          ],
          "parcoords": [
           {
            "line": {
             "colorbar": {
              "outlinewidth": 0,
              "ticks": ""
             }
            },
            "type": "parcoords"
           }
          ],
          "pie": [
           {
            "automargin": true,
            "type": "pie"
           }
          ],
          "scatter": [
           {
            "fillpattern": {
             "fillmode": "overlay",
             "size": 10,
             "solidity": 0.2
            },
            "type": "scatter"
           }
          ],
          "scatter3d": [
           {
            "line": {
             "colorbar": {
              "outlinewidth": 0,
              "ticks": ""
             }
            },
            "marker": {
             "colorbar": {
              "outlinewidth": 0,
              "ticks": ""
             }
            },
            "type": "scatter3d"
           }
          ],
          "scattercarpet": [
           {
            "marker": {
             "colorbar": {
              "outlinewidth": 0,
              "ticks": ""
             }
            },
            "type": "scattercarpet"
           }
          ],
          "scattergeo": [
           {
            "marker": {
             "colorbar": {
              "outlinewidth": 0,
              "ticks": ""
             }
            },
            "type": "scattergeo"
           }
          ],
          "scattergl": [
           {
            "marker": {
             "colorbar": {
              "outlinewidth": 0,
              "ticks": ""
             }
            },
            "type": "scattergl"
           }
          ],
          "scattermap": [
           {
            "marker": {
             "colorbar": {
              "outlinewidth": 0,
              "ticks": ""
             }
            },
            "type": "scattermap"
           }
          ],
          "scattermapbox": [
           {
            "marker": {
             "colorbar": {
              "outlinewidth": 0,
              "ticks": ""
             }
            },
            "type": "scattermapbox"
           }
          ],
          "scatterpolar": [
           {
            "marker": {
             "colorbar": {
              "outlinewidth": 0,
              "ticks": ""
             }
            },
            "type": "scatterpolar"
           }
          ],
          "scatterpolargl": [
           {
            "marker": {
             "colorbar": {
              "outlinewidth": 0,
              "ticks": ""
             }
            },
            "type": "scatterpolargl"
           }
          ],
          "scatterternary": [
           {
            "marker": {
             "colorbar": {
              "outlinewidth": 0,
              "ticks": ""
             }
            },
            "type": "scatterternary"
           }
          ],
          "surface": [
           {
            "colorbar": {
             "outlinewidth": 0,
             "ticks": ""
            },
            "colorscale": [
             [
              0,
              "#0d0887"
             ],
             [
              0.1111111111111111,
              "#46039f"
             ],
             [
              0.2222222222222222,
              "#7201a8"
             ],
             [
              0.3333333333333333,
              "#9c179e"
             ],
             [
              0.4444444444444444,
              "#bd3786"
             ],
             [
              0.5555555555555556,
              "#d8576b"
             ],
             [
              0.6666666666666666,
              "#ed7953"
             ],
             [
              0.7777777777777778,
              "#fb9f3a"
             ],
             [
              0.8888888888888888,
              "#fdca26"
             ],
             [
              1,
              "#f0f921"
             ]
            ],
            "type": "surface"
           }
          ],
          "table": [
           {
            "cells": {
             "fill": {
              "color": "#EBF0F8"
             },
             "line": {
              "color": "white"
             }
            },
            "header": {
             "fill": {
              "color": "#C8D4E3"
             },
             "line": {
              "color": "white"
             }
            },
            "type": "table"
           }
          ]
         },
         "layout": {
          "annotationdefaults": {
           "arrowcolor": "#2a3f5f",
           "arrowhead": 0,
           "arrowwidth": 1
          },
          "autotypenumbers": "strict",
          "coloraxis": {
           "colorbar": {
            "outlinewidth": 0,
            "ticks": ""
           }
          },
          "colorscale": {
           "diverging": [
            [
             0,
             "#8e0152"
            ],
            [
             0.1,
             "#c51b7d"
            ],
            [
             0.2,
             "#de77ae"
            ],
            [
             0.3,
             "#f1b6da"
            ],
            [
             0.4,
             "#fde0ef"
            ],
            [
             0.5,
             "#f7f7f7"
            ],
            [
             0.6,
             "#e6f5d0"
            ],
            [
             0.7,
             "#b8e186"
            ],
            [
             0.8,
             "#7fbc41"
            ],
            [
             0.9,
             "#4d9221"
            ],
            [
             1,
             "#276419"
            ]
           ],
           "sequential": [
            [
             0,
             "#0d0887"
            ],
            [
             0.1111111111111111,
             "#46039f"
            ],
            [
             0.2222222222222222,
             "#7201a8"
            ],
            [
             0.3333333333333333,
             "#9c179e"
            ],
            [
             0.4444444444444444,
             "#bd3786"
            ],
            [
             0.5555555555555556,
             "#d8576b"
            ],
            [
             0.6666666666666666,
             "#ed7953"
            ],
            [
             0.7777777777777778,
             "#fb9f3a"
            ],
            [
             0.8888888888888888,
             "#fdca26"
            ],
            [
             1,
             "#f0f921"
            ]
           ],
           "sequentialminus": [
            [
             0,
             "#0d0887"
            ],
            [
             0.1111111111111111,
             "#46039f"
            ],
            [
             0.2222222222222222,
             "#7201a8"
            ],
            [
             0.3333333333333333,
             "#9c179e"
            ],
            [
             0.4444444444444444,
             "#bd3786"
            ],
            [
             0.5555555555555556,
             "#d8576b"
            ],
            [
             0.6666666666666666,
             "#ed7953"
            ],
            [
             0.7777777777777778,
             "#fb9f3a"
            ],
            [
             0.8888888888888888,
             "#fdca26"
            ],
            [
             1,
             "#f0f921"
            ]
           ]
          },
          "colorway": [
           "#636efa",
           "#EF553B",
           "#00cc96",
           "#ab63fa",
           "#FFA15A",
           "#19d3f3",
           "#FF6692",
           "#B6E880",
           "#FF97FF",
           "#FECB52"
          ],
          "font": {
           "color": "#2a3f5f"
          },
          "geo": {
           "bgcolor": "white",
           "lakecolor": "white",
           "landcolor": "#E5ECF6",
           "showlakes": true,
           "showland": true,
           "subunitcolor": "white"
          },
          "hoverlabel": {
           "align": "left"
          },
          "hovermode": "closest",
          "mapbox": {
           "style": "light"
          },
          "paper_bgcolor": "white",
          "plot_bgcolor": "#E5ECF6",
          "polar": {
           "angularaxis": {
            "gridcolor": "white",
            "linecolor": "white",
            "ticks": ""
           },
           "bgcolor": "#E5ECF6",
           "radialaxis": {
            "gridcolor": "white",
            "linecolor": "white",
            "ticks": ""
           }
          },
          "scene": {
           "xaxis": {
            "backgroundcolor": "#E5ECF6",
            "gridcolor": "white",
            "gridwidth": 2,
            "linecolor": "white",
            "showbackground": true,
            "ticks": "",
            "zerolinecolor": "white"
           },
           "yaxis": {
            "backgroundcolor": "#E5ECF6",
            "gridcolor": "white",
            "gridwidth": 2,
            "linecolor": "white",
            "showbackground": true,
            "ticks": "",
            "zerolinecolor": "white"
           },
           "zaxis": {
            "backgroundcolor": "#E5ECF6",
            "gridcolor": "white",
            "gridwidth": 2,
            "linecolor": "white",
            "showbackground": true,
            "ticks": "",
            "zerolinecolor": "white"
           }
          },
          "shapedefaults": {
           "line": {
            "color": "#2a3f5f"
           }
          },
          "ternary": {
           "aaxis": {
            "gridcolor": "white",
            "linecolor": "white",
            "ticks": ""
           },
           "baxis": {
            "gridcolor": "white",
            "linecolor": "white",
            "ticks": ""
           },
           "bgcolor": "#E5ECF6",
           "caxis": {
            "gridcolor": "white",
            "linecolor": "white",
            "ticks": ""
           }
          },
          "title": {
           "x": 0.05
          },
          "xaxis": {
           "automargin": true,
           "gridcolor": "white",
           "linecolor": "white",
           "ticks": "",
           "title": {
            "standoff": 15
           },
           "zerolinecolor": "white",
           "zerolinewidth": 2
          },
          "yaxis": {
           "automargin": true,
           "gridcolor": "white",
           "linecolor": "white",
           "ticks": "",
           "title": {
            "standoff": 15
           },
           "zerolinecolor": "white",
           "zerolinewidth": 2
          }
         }
        }
       }
      },
      "image/png": "[encoded data removed]"
     },
     "metadata": {},
     "output_type": "display_data"
    }
   ],
   "source": [
    "score_data = []\n",
    "score_local = 0\n",
    "score_other = 0\n",
    "for i, row in data_df[data_df[\"Type\"] == \"Try\"].iterrows():\n",
    "    if row[\"Against France\"]:\n",
    "        score_other += 1\n",
    "    else:\n",
    "        score_local += 1\n",
    "    score_data.append([row[\"Time\"], score_local, score_other])\n",
    "score_df = pd.DataFrame(\n",
    "    score_data, columns=[\"Time\", f\"Score {LOCAL_TEAM_NAME}\", f\"Score {OTHER_TEAM_NAME}\"]\n",
    ")\n",
    "\n",
    "\n",
    "fig = go.Figure()\n",
    "fig.add_scatter(\n",
    "    x=score_df[\"Time\"],\n",
    "    y=score_df[f\"Score {LOCAL_TEAM_NAME}\"],\n",
    "    name=LOCAL_TEAM_NAME,\n",
    "    mode=\"markers+lines\",\n",
    ")\n",
    "fig.add_scatter(\n",
    "    x=score_df[\"Time\"],\n",
    "    y=score_df[f\"Score {OTHER_TEAM_NAME}\"],\n",
    "    name=OTHER_TEAM_NAME,\n",
    "    mode=\"markers+lines\",\n",
    ")\n",
    "fig.update_layout(hovermode=\"x unified\")\n",
    "fig.write_html(output_data_root / \"score.html\")\n",
    "fig.show()"
   ]
  },
  {
   "cell_type": "code",
   "execution_count": 39,
   "id": "6f074a81-5d75-4d9d-b225-5fe81b82f63e",
   "metadata": {},
   "outputs": [
    {
     "data": {
      "application/vnd.plotly.v1+json": {
       "config": {
        "plotlyServerURL": "https://plot.ly"
       },
       "data": [
        {
         "marker": {
          "color": "green"
         },
         "mode": "lines",
         "name": "France",
         "type": "scatter",
         "x": [
          "2025-09-14T00:02:45",
          "2025-09-14T00:03:54",
          null,
          "2025-09-14T00:04:27",
          "2025-09-14T00:04:46",
          null,
          "2025-09-14T00:05:28",
          "2025-09-14T00:06:08",
          null,
          "2025-09-14T00:06:51",
          "2025-09-14T00:07:43",
          null,
          "2025-09-14T00:08:44",
          "2025-09-14T00:09:27",
          null,
          "2025-09-14T00:11:03",
          "2025-09-14T00:11:43",
          null,
          "2025-09-14T00:12:30",
          "2025-09-14T00:13:05",
          "2025-09-14T00:13:21",
          null,
          "2025-09-14T00:14:00",
          "2025-09-14T00:14:30",
          null,
          "2025-09-14T00:15:06",
          "2025-09-14T00:15:20",
          null,
          "2025-09-14T00:17:00",
          "2025-09-14T00:17:05",
          "2025-09-14T00:17:24",
          null,
          "2025-09-14T00:17:54",
          "2025-09-14T00:18:19",
          "2025-09-14T00:18:55",
          null,
          "2025-09-14T00:19:31",
          "2025-09-14T00:19:57",
          null,
          "2025-09-14T00:20:47",
          "2025-09-14T00:21:04",
          null,
          "2025-09-14T00:21:34",
          "2025-09-14T00:21:48",
          "2025-09-14T00:21:57",
          "2025-09-14T00:22:03",
          "2025-09-14T00:22:15",
          "2025-09-14T00:27:13",
          "2025-09-14T00:27:22",
          null,
          "2025-09-14T00:27:43",
          "2025-09-14T00:28:29",
          null,
          "2025-09-14T00:29:24",
          "2025-09-14T00:29:33",
          null,
          "2025-09-14T00:30:33",
          "2025-09-14T00:31:04",
          null,
          "2025-09-14T00:31:32",
          "2025-09-14T00:32:06",
          null,
          "2025-09-14T00:32:25",
          "2025-09-14T00:32:56",
          null,
          "2025-09-14T00:33:41",
          "2025-09-14T00:34:18",
          null,
          "2025-09-14T00:35:43",
          "2025-09-14T00:36:15",
          null,
          "2025-09-14T00:36:50",
          "2025-09-14T00:37:14",
          "2025-09-14T00:37:32",
          "2025-09-14T00:38:14",
          null,
          "2025-09-14T00:38:44",
          "2025-09-14T00:39:28",
          null,
          "2025-09-14T00:40:39",
          "2025-09-14T00:41:12",
          null,
          "2025-09-14T00:42:24",
          "2025-09-14T00:43:18",
          null,
          "2025-09-14T00:43:51",
          "2025-09-14T00:44:19",
          null,
          "2025-09-14T00:44:53",
          "2025-09-14T00:45:04",
          null,
          "2025-09-14T00:45:35",
          "2025-09-14T00:46:08",
          null,
          "2025-09-14T00:46:58",
          "2025-09-14T00:47:17"
         ],
         "y": [
          "France",
          "France",
          null,
          "France",
          "France",
          null,
          "France",
          "France",
          null,
          "France",
          "France",
          null,
          "France",
          "France",
          null,
          "France",
          "France",
          null,
          "France",
          "France",
          "France",
          null,
          "France",
          "France",
          null,
          "France",
          "France",
          null,
          "France",
          "France",
          "France",
          null,
          "France",
          "France",
          "France",
          null,
          "France",
          "France",
          null,
          "France",
          "France",
          null,
          "France",
          "France",
          "France",
          "France",
          "France",
          "France",
          "France",
          null,
          "France",
          "France",
          null,
          "France",
          "France",
          null,
          "France",
          "France",
          null,
          "France",
          "France",
          null,
          "France",
          "France",
          null,
          "France",
          "France",
          null,
          "France",
          "France",
          null,
          "France",
          "France",
          "France",
          "France",
          null,
          "France",
          "France",
          null,
          "France",
          "France",
          null,
          "France",
          "France",
          null,
          "France",
          "France",
          null,
          "France",
          "France",
          null,
          "France",
          "France",
          null,
          "France",
          "France"
         ]
        },
        {
         "marker": {
          "color": "red"
         },
         "mode": "lines",
         "name": "Ned",
         "type": "scatter",
         "x": [
          "2025-09-14T00:02:14",
          "2025-09-14T00:02:45",
          null,
          "2025-09-14T00:03:54",
          "2025-09-14T00:04:27",
          null,
          "2025-09-14T00:04:46",
          "2025-09-14T00:05:28",
          null,
          "2025-09-14T00:06:08",
          "2025-09-14T00:06:51",
          null,
          "2025-09-14T00:07:43",
          "2025-09-14T00:08:44",
          null,
          "2025-09-14T00:09:27",
          "2025-09-14T00:11:03",
          null,
          "2025-09-14T00:11:43",
          "2025-09-14T00:12:30",
          null,
          "2025-09-14T00:13:21",
          "2025-09-14T00:14:00",
          null,
          "2025-09-14T00:14:30",
          "2025-09-14T00:15:06",
          null,
          "2025-09-14T00:15:20",
          "2025-09-14T00:16:05",
          "2025-09-14T00:16:20",
          "2025-09-14T00:17:00",
          null,
          "2025-09-14T00:17:24",
          "2025-09-14T00:17:54",
          null,
          "2025-09-14T00:18:55",
          "2025-09-14T00:19:31",
          null,
          "2025-09-14T00:19:57",
          "2025-09-14T00:20:47",
          null,
          "2025-09-14T00:21:04",
          "2025-09-14T00:21:34",
          null,
          "2025-09-14T00:27:22",
          "2025-09-14T00:27:43",
          null,
          "2025-09-14T00:28:29",
          "2025-09-14T00:29:24",
          null,
          "2025-09-14T00:29:33",
          "2025-09-14T00:29:52",
          "2025-09-14T00:30:33",
          null,
          "2025-09-14T00:31:04",
          "2025-09-14T00:31:32",
          null,
          "2025-09-14T00:32:06",
          "2025-09-14T00:32:25",
          null,
          "2025-09-14T00:32:56",
          "2025-09-14T00:33:26",
          "2025-09-14T00:33:41",
          null,
          "2025-09-14T00:34:18",
          "2025-09-14T00:34:50",
          "2025-09-14T00:35:43",
          null,
          "2025-09-14T00:36:15",
          "2025-09-14T00:36:50",
          null,
          "2025-09-14T00:38:14",
          "2025-09-14T00:38:44",
          null,
          "2025-09-14T00:39:28",
          "2025-09-14T00:39:51",
          "2025-09-14T00:40:39",
          null,
          "2025-09-14T00:41:12",
          "2025-09-14T00:41:48",
          "2025-09-14T00:42:24",
          null,
          "2025-09-14T00:43:18",
          "2025-09-14T00:43:51",
          null,
          "2025-09-14T00:44:19",
          "2025-09-14T00:44:53",
          null,
          "2025-09-14T00:45:04",
          "2025-09-14T00:45:35",
          null,
          "2025-09-14T00:46:08",
          "2025-09-14T00:46:35",
          "2025-09-14T00:46:58",
          null
         ],
         "y": [
          "Ned",
          "Ned",
          null,
          "Ned",
          "Ned",
          null,
          "Ned",
          "Ned",
          null,
          "Ned",
          "Ned",
          null,
          "Ned",
          "Ned",
          null,
          "Ned",
          "Ned",
          null,
          "Ned",
          "Ned",
          null,
          "Ned",
          "Ned",
          null,
          "Ned",
          "Ned",
          null,
          "Ned",
          "Ned",
          "Ned",
          "Ned",
          null,
          "Ned",
          "Ned",
          null,
          "Ned",
          "Ned",
          null,
          "Ned",
          "Ned",
          null,
          "Ned",
          "Ned",
          null,
          "Ned",
          "Ned",
          null,
          "Ned",
          "Ned",
          null,
          "Ned",
          "Ned",
          "Ned",
          null,
          "Ned",
          "Ned",
          null,
          "Ned",
          "Ned",
          null,
          "Ned",
          "Ned",
          "Ned",
          null,
          "Ned",
          "Ned",
          "Ned",
          null,
          "Ned",
          "Ned",
          null,
          "Ned",
          "Ned",
          null,
          "Ned",
          "Ned",
          "Ned",
          null,
          "Ned",
          "Ned",
          "Ned",
          null,
          "Ned",
          "Ned",
          null,
          "Ned",
          "Ned",
          null,
          "Ned",
          "Ned",
          null,
          "Ned",
          "Ned",
          "Ned",
          null
         ]
        },
        {
         "hovertext": "Game Event-Game Start",
         "marker": {
          "color": "black"
         },
         "mode": "markers",
         "showlegend": false,
         "type": "scatter",
         "x": [
          "2025-09-14T00:02:14"
         ],
         "y": [
          "Ned"
         ]
        },
        {
         "hovertext": "Try-Try",
         "marker": {
          "color": "green"
         },
         "mode": "markers",
         "showlegend": false,
         "type": "scatter",
         "x": [
          "2025-09-14T00:02:45"
         ],
         "y": [
          "Ned"
         ]
        },
        {
         "hovertext": "Turnover-6th Touch",
         "marker": {
          "color": "orange"
         },
         "mode": "markers",
         "showlegend": false,
         "type": "scatter",
         "x": [
          "2025-09-14T00:03:54"
         ],
         "y": [
          "France"
         ]
        },
        {
         "hovertext": "Turnover-Ball Down",
         "marker": {
          "color": "orange"
         },
         "mode": "markers",
         "showlegend": false,
         "type": "scatter",
         "x": [
          "2025-09-14T00:04:27"
         ],
         "y": [
          "Ned"
         ]
        },
        {
         "hovertext": "Turnover-6th Touch",
         "marker": {
          "color": "orange"
         },
         "mode": "markers",
         "showlegend": false,
         "type": "scatter",
         "x": [
          "2025-09-14T00:04:46"
         ],
         "y": [
          "France"
         ]
        },
        {
         "hovertext": "Turnover-6th Touch",
         "marker": {
          "color": "orange"
         },
         "mode": "markers",
         "showlegend": false,
         "type": "scatter",
         "x": [
          "2025-09-14T00:05:28"
         ],
         "y": [
          "Ned"
         ]
        },
        {
         "hovertext": "Penalty-Touch and Pass",
         "marker": {
          "color": "red"
         },
         "mode": "markers",
         "showlegend": false,
         "type": "scatter",
         "x": [
          "2025-09-14T00:06:08"
         ],
         "y": [
          "France"
         ]
        },
        {
         "hovertext": "Try-Try",
         "marker": {
          "color": "green"
         },
         "mode": "markers",
         "showlegend": false,
         "type": "scatter",
         "x": [
          "2025-09-14T00:06:51"
         ],
         "y": [
          "Ned"
         ]
        },
        {
         "hovertext": "Penalty-Forward Pass",
         "marker": {
          "color": "red"
         },
         "mode": "markers",
         "showlegend": false,
         "type": "scatter",
         "x": [
          "2025-09-14T00:07:43"
         ],
         "y": [
          "France"
         ]
        },
        {
         "hovertext": "Turnover-Ball Down",
         "marker": {
          "color": "orange"
         },
         "mode": "markers",
         "showlegend": false,
         "type": "scatter",
         "x": [
          "2025-09-14T00:08:44"
         ],
         "y": [
          "Ned"
         ]
        },
        {
         "hovertext": "Try-Try",
         "marker": {
          "color": "green"
         },
         "mode": "markers",
         "showlegend": false,
         "type": "scatter",
         "x": [
          "2025-09-14T00:09:27"
         ],
         "y": [
          "France"
         ]
        },
        {
         "hovertext": "Turnover-Ball Down",
         "marker": {
          "color": "orange"
         },
         "mode": "markers",
         "showlegend": false,
         "type": "scatter",
         "x": [
          "2025-09-14T00:11:03"
         ],
         "y": [
          "Ned"
         ]
        },
        {
         "hovertext": "Try-Try",
         "marker": {
          "color": "green"
         },
         "mode": "markers",
         "showlegend": false,
         "type": "scatter",
         "x": [
          "2025-09-14T00:11:43"
         ],
         "y": [
          "France"
         ]
        },
        {
         "hovertext": "Turnover-Ball Down",
         "marker": {
          "color": "orange"
         },
         "mode": "markers",
         "showlegend": false,
         "type": "scatter",
         "x": [
          "2025-09-14T00:12:30"
         ],
         "y": [
          "Ned"
         ]
        },
        {
         "hovertext": "Penalty-Offside",
         "marker": {
          "color": "red"
         },
         "mode": "markers",
         "showlegend": false,
         "type": "scatter",
         "x": [
          "2025-09-14T00:13:05"
         ],
         "y": [
          "Ned"
         ]
        },
        {
         "hovertext": "Turnover-Ball Down",
         "marker": {
          "color": "orange"
         },
         "mode": "markers",
         "showlegend": false,
         "type": "scatter",
         "x": [
          "2025-09-14T00:13:21"
         ],
         "y": [
          "France"
         ]
        },
        {
         "hovertext": "Turnover-6th Touch",
         "marker": {
          "color": "orange"
         },
         "mode": "markers",
         "showlegend": false,
         "type": "scatter",
         "x": [
          "2025-09-14T00:14:00"
         ],
         "y": [
          "Ned"
         ]
        },
        {
         "hovertext": "Turnover-Dummy Touch",
         "marker": {
          "color": "orange"
         },
         "mode": "markers",
         "showlegend": false,
         "type": "scatter",
         "x": [
          "2025-09-14T00:14:30"
         ],
         "y": [
          "France"
         ]
        },
        {
         "hovertext": "Turnover-6th Touch",
         "marker": {
          "color": "orange"
         },
         "mode": "markers",
         "showlegend": false,
         "type": "scatter",
         "x": [
          "2025-09-14T00:15:06"
         ],
         "y": [
          "Ned"
         ]
        },
        {
         "hovertext": "Penalty-Forward Pass",
         "marker": {
          "color": "red"
         },
         "mode": "markers",
         "showlegend": false,
         "type": "scatter",
         "x": [
          "2025-09-14T00:15:20"
         ],
         "y": [
          "France"
         ]
        },
        {
         "hovertext": "Penalty-Offside",
         "marker": {
          "color": "red"
         },
         "mode": "markers",
         "showlegend": false,
         "type": "scatter",
         "x": [
          "2025-09-14T00:16:05"
         ],
         "y": [
          "France"
         ]
        },
        {
         "hovertext": "To Review-Bad Roll",
         "marker": {
          "color": "green"
         },
         "mode": "markers",
         "showlegend": false,
         "type": "scatter",
         "x": [
          "2025-09-14T00:16:20"
         ],
         "y": [
          "France"
         ]
        },
        {
         "hovertext": "Turnover-Interception",
         "marker": {
          "color": "orange"
         },
         "mode": "markers",
         "showlegend": false,
         "type": "scatter",
         "x": [
          "2025-09-14T00:17:00"
         ],
         "y": [
          "Ned"
         ]
        },
        {
         "hovertext": "To Review-Bad Roll",
         "marker": {
          "color": "green"
         },
         "mode": "markers",
         "showlegend": false,
         "type": "scatter",
         "x": [
          "2025-09-14T00:17:05"
         ],
         "y": [
          "Ned"
         ]
        },
        {
         "hovertext": "Penalty-Delay of Play",
         "marker": {
          "color": "red"
         },
         "mode": "markers",
         "showlegend": false,
         "type": "scatter",
         "x": [
          "2025-09-14T00:17:24"
         ],
         "y": [
          "France"
         ]
        },
        {
         "hovertext": "Turnover-6th Touch",
         "marker": {
          "color": "orange"
         },
         "mode": "markers",
         "showlegend": false,
         "type": "scatter",
         "x": [
          "2025-09-14T00:17:54"
         ],
         "y": [
          "Ned"
         ]
        },
        {
         "hovertext": "Penalty-Hard Touch",
         "marker": {
          "color": "red"
         },
         "mode": "markers",
         "showlegend": false,
         "type": "scatter",
         "x": [
          "2025-09-14T00:18:19"
         ],
         "y": [
          "Ned"
         ]
        },
        {
         "hovertext": "Penalty-Forward Pass",
         "marker": {
          "color": "red"
         },
         "mode": "markers",
         "showlegend": false,
         "type": "scatter",
         "x": [
          "2025-09-14T00:18:55"
         ],
         "y": [
          "France"
         ]
        },
        {
         "hovertext": "Turnover-Ball Down",
         "marker": {
          "color": "orange"
         },
         "mode": "markers",
         "showlegend": false,
         "type": "scatter",
         "x": [
          "2025-09-14T00:19:31"
         ],
         "y": [
          "Ned"
         ]
        },
        {
         "hovertext": "Try-Try",
         "marker": {
          "color": "green"
         },
         "mode": "markers",
         "showlegend": false,
         "type": "scatter",
         "x": [
          "2025-09-14T00:19:57"
         ],
         "y": [
          "France"
         ]
        },
        {
         "hovertext": "Turnover-6th Touch",
         "marker": {
          "color": "orange"
         },
         "mode": "markers",
         "showlegend": false,
         "type": "scatter",
         "x": [
          "2025-09-14T00:20:47"
         ],
         "y": [
          "Ned"
         ]
        },
        {
         "hovertext": "Turnover-Ball Down",
         "marker": {
          "color": "orange"
         },
         "mode": "markers",
         "showlegend": false,
         "type": "scatter",
         "x": [
          "2025-09-14T00:21:04"
         ],
         "y": [
          "France"
         ]
        },
        {
         "hovertext": "Turnover-Ball Down",
         "marker": {
          "color": "orange"
         },
         "mode": "markers",
         "showlegend": false,
         "type": "scatter",
         "x": [
          "2025-09-14T00:21:34"
         ],
         "y": [
          "Ned"
         ]
        },
        {
         "hovertext": "To Review-In The Ruck",
         "marker": {
          "color": "green"
         },
         "mode": "markers",
         "showlegend": false,
         "type": "scatter",
         "x": [
          "2025-09-14T00:21:48"
         ],
         "y": [
          "France"
         ]
        },
        {
         "hovertext": "Penalty-Offside",
         "marker": {
          "color": "red"
         },
         "mode": "markers",
         "showlegend": false,
         "type": "scatter",
         "x": [
          "2025-09-14T00:21:57"
         ],
         "y": [
          "Ned"
         ]
        },
        {
         "hovertext": "To Review-Other",
         "marker": {
          "color": "green"
         },
         "mode": "markers",
         "showlegend": false,
         "type": "scatter",
         "x": [
          "2025-09-14T00:22:03"
         ],
         "y": [
          "France"
         ]
        },
        {
         "hovertext": "Game Event-Game End",
         "marker": {
          "color": "black"
         },
         "mode": "markers",
         "showlegend": false,
         "type": "scatter",
         "x": [
          "2025-09-14T00:22:15"
         ],
         "y": [
          "France"
         ]
        },
        {
         "hovertext": "Game Event-Game Start",
         "marker": {
          "color": "black"
         },
         "mode": "markers",
         "showlegend": false,
         "type": "scatter",
         "x": [
          "2025-09-14T00:27:13"
         ],
         "y": [
          "France"
         ]
        },
        {
         "hovertext": "Turnover-Ball Down",
         "marker": {
          "color": "orange"
         },
         "mode": "markers",
         "showlegend": false,
         "type": "scatter",
         "x": [
          "2025-09-14T00:27:22"
         ],
         "y": [
          "France"
         ]
        },
        {
         "hovertext": "Penalty-Forward Pass",
         "marker": {
          "color": "red"
         },
         "mode": "markers",
         "showlegend": false,
         "type": "scatter",
         "x": [
          "2025-09-14T00:27:43"
         ],
         "y": [
          "Ned"
         ]
        },
        {
         "hovertext": "Try-Try",
         "marker": {
          "color": "green"
         },
         "mode": "markers",
         "showlegend": false,
         "type": "scatter",
         "x": [
          "2025-09-14T00:28:29"
         ],
         "y": [
          "France"
         ]
        },
        {
         "hovertext": "Turnover-6th Touch",
         "marker": {
          "color": "orange"
         },
         "mode": "markers",
         "showlegend": false,
         "type": "scatter",
         "x": [
          "2025-09-14T00:29:24"
         ],
         "y": [
          "Ned"
         ]
        },
        {
         "hovertext": "Turnover-Ball Down",
         "marker": {
          "color": "orange"
         },
         "mode": "markers",
         "showlegend": false,
         "type": "scatter",
         "x": [
          "2025-09-14T00:29:33"
         ],
         "y": [
          "France"
         ]
        },
        {
         "hovertext": "Penalty-In The Ruck",
         "marker": {
          "color": "red"
         },
         "mode": "markers",
         "showlegend": false,
         "type": "scatter",
         "x": [
          "2025-09-14T00:29:52"
         ],
         "y": [
          "France"
         ]
        },
        {
         "hovertext": "Turnover-Ball Down",
         "marker": {
          "color": "orange"
         },
         "mode": "markers",
         "showlegend": false,
         "type": "scatter",
         "x": [
          "2025-09-14T00:30:33"
         ],
         "y": [
          "Ned"
         ]
        },
        {
         "hovertext": "Turnover-6th Touch",
         "marker": {
          "color": "orange"
         },
         "mode": "markers",
         "showlegend": false,
         "type": "scatter",
         "x": [
          "2025-09-14T00:31:04"
         ],
         "y": [
          "France"
         ]
        },
        {
         "hovertext": "Turnover-6th Touch",
         "marker": {
          "color": "orange"
         },
         "mode": "markers",
         "showlegend": false,
         "type": "scatter",
         "x": [
          "2025-09-14T00:31:32"
         ],
         "y": [
          "Ned"
         ]
        },
        {
         "hovertext": "Turnover-6th Touch",
         "marker": {
          "color": "orange"
         },
         "mode": "markers",
         "showlegend": false,
         "type": "scatter",
         "x": [
          "2025-09-14T00:32:06"
         ],
         "y": [
          "France"
         ]
        },
        {
         "hovertext": "Turnover-Ball Down",
         "marker": {
          "color": "orange"
         },
         "mode": "markers",
         "showlegend": false,
         "type": "scatter",
         "x": [
          "2025-09-14T00:32:25"
         ],
         "y": [
          "Ned"
         ]
        },
        {
         "hovertext": "Turnover-Ball Down",
         "marker": {
          "color": "orange"
         },
         "mode": "markers",
         "showlegend": false,
         "type": "scatter",
         "x": [
          "2025-09-14T00:32:56"
         ],
         "y": [
          "France"
         ]
        },
        {
         "hovertext": "Turnover-6 Again",
         "marker": {
          "color": "orange"
         },
         "mode": "markers",
         "showlegend": false,
         "type": "scatter",
         "x": [
          "2025-09-14T00:33:26"
         ],
         "y": [
          "France"
         ]
        },
        {
         "hovertext": "Try-Try",
         "marker": {
          "color": "green"
         },
         "mode": "markers",
         "showlegend": false,
         "type": "scatter",
         "x": [
          "2025-09-14T00:33:41"
         ],
         "y": [
          "Ned"
         ]
        },
        {
         "hovertext": "Turnover-Ball Down",
         "marker": {
          "color": "orange"
         },
         "mode": "markers",
         "showlegend": false,
         "type": "scatter",
         "x": [
          "2025-09-14T00:34:18"
         ],
         "y": [
          "France"
         ]
        },
        {
         "hovertext": "Turnover-6 Again",
         "marker": {
          "color": "orange"
         },
         "mode": "markers",
         "showlegend": false,
         "type": "scatter",
         "x": [
          "2025-09-14T00:34:50"
         ],
         "y": [
          "France"
         ]
        },
        {
         "hovertext": "Turnover-6th Touch",
         "marker": {
          "color": "orange"
         },
         "mode": "markers",
         "showlegend": false,
         "type": "scatter",
         "x": [
          "2025-09-14T00:35:43"
         ],
         "y": [
          "Ned"
         ]
        },
        {
         "hovertext": "Turnover-Ball Down",
         "marker": {
          "color": "orange"
         },
         "mode": "markers",
         "showlegend": false,
         "type": "scatter",
         "x": [
          "2025-09-14T00:36:15"
         ],
         "y": [
          "France"
         ]
        },
        {
         "hovertext": "Turnover-Ball Down",
         "marker": {
          "color": "orange"
         },
         "mode": "markers",
         "showlegend": false,
         "type": "scatter",
         "x": [
          "2025-09-14T00:36:50"
         ],
         "y": [
          "Ned"
         ]
        },
        {
         "hovertext": "Penalty-Hard Touch",
         "marker": {
          "color": "red"
         },
         "mode": "markers",
         "showlegend": false,
         "type": "scatter",
         "x": [
          "2025-09-14T00:37:14"
         ],
         "y": [
          "Ned"
         ]
        },
        {
         "hovertext": "Penalty-Forward Pass",
         "marker": {
          "color": "red"
         },
         "mode": "markers",
         "showlegend": false,
         "type": "scatter",
         "x": [
          "2025-09-14T00:37:32"
         ],
         "y": [
          "Ned"
         ]
        },
        {
         "hovertext": "Try-Try",
         "marker": {
          "color": "green"
         },
         "mode": "markers",
         "showlegend": false,
         "type": "scatter",
         "x": [
          "2025-09-14T00:38:14"
         ],
         "y": [
          "France"
         ]
        },
        {
         "hovertext": "Penalty-Forward Pass",
         "marker": {
          "color": "red"
         },
         "mode": "markers",
         "showlegend": false,
         "type": "scatter",
         "x": [
          "2025-09-14T00:38:44"
         ],
         "y": [
          "Ned"
         ]
        },
        {
         "hovertext": "Turnover-Ball Down",
         "marker": {
          "color": "orange"
         },
         "mode": "markers",
         "showlegend": false,
         "type": "scatter",
         "x": [
          "2025-09-14T00:39:28"
         ],
         "y": [
          "France"
         ]
        },
        {
         "hovertext": "Penalty-In The Ruck",
         "marker": {
          "color": "red"
         },
         "mode": "markers",
         "showlegend": false,
         "type": "scatter",
         "x": [
          "2025-09-14T00:39:51"
         ],
         "y": [
          "France"
         ]
        },
        {
         "hovertext": "Try-Try",
         "marker": {
          "color": "green"
         },
         "mode": "markers",
         "showlegend": false,
         "type": "scatter",
         "x": [
          "2025-09-14T00:40:39"
         ],
         "y": [
          "Ned"
         ]
        },
        {
         "hovertext": "Try-Try",
         "marker": {
          "color": "green"
         },
         "mode": "markers",
         "showlegend": false,
         "type": "scatter",
         "x": [
          "2025-09-14T00:41:12"
         ],
         "y": [
          "France"
         ]
        },
        {
         "hovertext": "Turnover-6 Again",
         "marker": {
          "color": "orange"
         },
         "mode": "markers",
         "showlegend": false,
         "type": "scatter",
         "x": [
          "2025-09-14T00:41:48"
         ],
         "y": [
          "France"
         ]
        },
        {
         "hovertext": "Try-Try",
         "marker": {
          "color": "green"
         },
         "mode": "markers",
         "showlegend": false,
         "type": "scatter",
         "x": [
          "2025-09-14T00:42:24"
         ],
         "y": [
          "Ned"
         ]
        },
        {
         "hovertext": "Penalty-Forward Pass",
         "marker": {
          "color": "red"
         },
         "mode": "markers",
         "showlegend": false,
         "type": "scatter",
         "x": [
          "2025-09-14T00:43:18"
         ],
         "y": [
          "France"
         ]
        },
        {
         "hovertext": "Turnover-6th Touch",
         "marker": {
          "color": "orange"
         },
         "mode": "markers",
         "showlegend": false,
         "type": "scatter",
         "x": [
          "2025-09-14T00:43:51"
         ],
         "y": [
          "Ned"
         ]
        },
        {
         "hovertext": "Turnover-Ball Down",
         "marker": {
          "color": "orange"
         },
         "mode": "markers",
         "showlegend": false,
         "type": "scatter",
         "x": [
          "2025-09-14T00:44:19"
         ],
         "y": [
          "France"
         ]
        },
        {
         "hovertext": "Turnover-Ball Down",
         "marker": {
          "color": "orange"
         },
         "mode": "markers",
         "showlegend": false,
         "type": "scatter",
         "x": [
          "2025-09-14T00:44:53"
         ],
         "y": [
          "Ned"
         ]
        },
        {
         "hovertext": "Penalty-Shoulder",
         "marker": {
          "color": "red"
         },
         "mode": "markers",
         "showlegend": false,
         "type": "scatter",
         "x": [
          "2025-09-14T00:45:04"
         ],
         "y": [
          "France"
         ]
        },
        {
         "hovertext": "Turnover-Ball Down",
         "marker": {
          "color": "orange"
         },
         "mode": "markers",
         "showlegend": false,
         "type": "scatter",
         "x": [
          "2025-09-14T00:45:35"
         ],
         "y": [
          "Ned"
         ]
        },
        {
         "hovertext": "Try-Try",
         "marker": {
          "color": "green"
         },
         "mode": "markers",
         "showlegend": false,
         "type": "scatter",
         "x": [
          "2025-09-14T00:46:08"
         ],
         "y": [
          "France"
         ]
        },
        {
         "hovertext": "To Review-Other",
         "marker": {
          "color": "green"
         },
         "mode": "markers",
         "showlegend": false,
         "type": "scatter",
         "x": [
          "2025-09-14T00:46:35"
         ],
         "y": [
          "France"
         ]
        },
        {
         "hovertext": "Turnover-6th Touch",
         "marker": {
          "color": "orange"
         },
         "mode": "markers",
         "showlegend": false,
         "type": "scatter",
         "x": [
          "2025-09-14T00:46:58"
         ],
         "y": [
          "Ned"
         ]
        },
        {
         "hovertext": "Game Event-Game End",
         "marker": {
          "color": "black"
         },
         "mode": "markers",
         "showlegend": false,
         "type": "scatter",
         "x": [
          "2025-09-14T00:47:17"
         ],
         "y": [
          "France"
         ]
        }
       ],
       "layout": {
        "annotations": [
         {
          "showarrow": false,
          "text": "<a href='https://youtu.be/OVdyq3oRq_w?si=UqAu1x62-mD_XZPv&t=134'>link</a>",
          "x": "2025-09-14T00:02:14",
          "y": "Ned",
          "yshift": 10
         },
         {
          "showarrow": false,
          "text": "<a href='https://youtu.be/OVdyq3oRq_w?si=UqAu1x62-mD_XZPv&t=165'>link</a>",
          "x": "2025-09-14T00:02:45",
          "y": "Ned",
          "yshift": 10
         },
         {
          "showarrow": false,
          "text": "<a href='https://youtu.be/OVdyq3oRq_w?si=UqAu1x62-mD_XZPv&t=234'>link</a>",
          "x": "2025-09-14T00:03:54",
          "y": "France",
          "yshift": 10
         },
         {
          "showarrow": false,
          "text": "<a href='https://youtu.be/OVdyq3oRq_w?si=UqAu1x62-mD_XZPv&t=267'>link</a>",
          "x": "2025-09-14T00:04:27",
          "y": "Ned",
          "yshift": 10
         },
         {
          "showarrow": false,
          "text": "<a href='https://youtu.be/OVdyq3oRq_w?si=UqAu1x62-mD_XZPv&t=286'>link</a>",
          "x": "2025-09-14T00:04:46",
          "y": "France",
          "yshift": 10
         },
         {
          "showarrow": false,
          "text": "<a href='https://youtu.be/OVdyq3oRq_w?si=UqAu1x62-mD_XZPv&t=328'>link</a>",
          "x": "2025-09-14T00:05:28",
          "y": "Ned",
          "yshift": 10
         },
         {
          "showarrow": false,
          "text": "<a href='https://youtu.be/OVdyq3oRq_w?si=UqAu1x62-mD_XZPv&t=368'>link</a>",
          "x": "2025-09-14T00:06:08",
          "y": "France",
          "yshift": 10
         },
         {
          "showarrow": false,
          "text": "<a href='https://youtu.be/OVdyq3oRq_w?si=UqAu1x62-mD_XZPv&t=411'>link</a>",
          "x": "2025-09-14T00:06:51",
          "y": "Ned",
          "yshift": 10
         },
         {
          "showarrow": false,
          "text": "<a href='https://youtu.be/OVdyq3oRq_w?si=UqAu1x62-mD_XZPv&t=463'>link</a>",
          "x": "2025-09-14T00:07:43",
          "y": "France",
          "yshift": 10
         },
         {
          "showarrow": false,
          "text": "<a href='https://youtu.be/OVdyq3oRq_w?si=UqAu1x62-mD_XZPv&t=524'>link</a>",
          "x": "2025-09-14T00:08:44",
          "y": "Ned",
          "yshift": 10
         },
         {
          "showarrow": false,
          "text": "<a href='https://youtu.be/OVdyq3oRq_w?si=UqAu1x62-mD_XZPv&t=567'>link</a>",
          "x": "2025-09-14T00:09:27",
          "y": "France",
          "yshift": 10
         },
         {
          "showarrow": false,
          "text": "<a href='https://youtu.be/OVdyq3oRq_w?si=UqAu1x62-mD_XZPv&t=663'>link</a>",
          "x": "2025-09-14T00:11:03",
          "y": "Ned",
          "yshift": 10
         },
         {
          "showarrow": false,
          "text": "<a href='https://youtu.be/OVdyq3oRq_w?si=UqAu1x62-mD_XZPv&t=703'>link</a>",
          "x": "2025-09-14T00:11:43",
          "y": "France",
          "yshift": 10
         },
         {
          "showarrow": false,
          "text": "<a href='https://youtu.be/OVdyq3oRq_w?si=UqAu1x62-mD_XZPv&t=750'>link</a>",
          "x": "2025-09-14T00:12:30",
          "y": "Ned",
          "yshift": 10
         },
         {
          "showarrow": false,
          "text": "<a href='https://youtu.be/OVdyq3oRq_w?si=UqAu1x62-mD_XZPv&t=785'>link</a>",
          "x": "2025-09-14T00:13:05",
          "y": "Ned",
          "yshift": 10
         },
         {
          "showarrow": false,
          "text": "<a href='https://youtu.be/OVdyq3oRq_w?si=UqAu1x62-mD_XZPv&t=801'>link</a>",
          "x": "2025-09-14T00:13:21",
          "y": "France",
          "yshift": 10
         },
         {
          "showarrow": false,
          "text": "<a href='https://youtu.be/OVdyq3oRq_w?si=UqAu1x62-mD_XZPv&t=840'>link</a>",
          "x": "2025-09-14T00:14:00",
          "y": "Ned",
          "yshift": 10
         },
         {
          "showarrow": false,
          "text": "<a href='https://youtu.be/OVdyq3oRq_w?si=UqAu1x62-mD_XZPv&t=870'>link</a>",
          "x": "2025-09-14T00:14:30",
          "y": "France",
          "yshift": 10
         },
         {
          "showarrow": false,
          "text": "<a href='https://youtu.be/OVdyq3oRq_w?si=UqAu1x62-mD_XZPv&t=906'>link</a>",
          "x": "2025-09-14T00:15:06",
          "y": "Ned",
          "yshift": 10
         },
         {
          "showarrow": false,
          "text": "<a href='https://youtu.be/OVdyq3oRq_w?si=UqAu1x62-mD_XZPv&t=920'>link</a>",
          "x": "2025-09-14T00:15:20",
          "y": "France",
          "yshift": 10
         },
         {
          "showarrow": false,
          "text": "<a href='https://youtu.be/OVdyq3oRq_w?si=UqAu1x62-mD_XZPv&t=965'>link</a>",
          "x": "2025-09-14T00:16:05",
          "y": "France",
          "yshift": 10
         },
         {
          "showarrow": false,
          "text": "<a href='https://youtu.be/OVdyq3oRq_w?si=UqAu1x62-mD_XZPv&t=980'>link</a>",
          "x": "2025-09-14T00:16:20",
          "y": "France",
          "yshift": 10
         },
         {
          "showarrow": false,
          "text": "<a href='https://youtu.be/OVdyq3oRq_w?si=UqAu1x62-mD_XZPv&t=1020'>link</a>",
          "x": "2025-09-14T00:17:00",
          "y": "Ned",
          "yshift": 10
         },
         {
          "showarrow": false,
          "text": "<a href='https://youtu.be/OVdyq3oRq_w?si=UqAu1x62-mD_XZPv&t=1025'>link</a>",
          "x": "2025-09-14T00:17:05",
          "y": "Ned",
          "yshift": 10
         },
         {
          "showarrow": false,
          "text": "<a href='https://youtu.be/OVdyq3oRq_w?si=UqAu1x62-mD_XZPv&t=1044'>link</a>",
          "x": "2025-09-14T00:17:24",
          "y": "France",
          "yshift": 10
         },
         {
          "showarrow": false,
          "text": "<a href='https://youtu.be/OVdyq3oRq_w?si=UqAu1x62-mD_XZPv&t=1074'>link</a>",
          "x": "2025-09-14T00:17:54",
          "y": "Ned",
          "yshift": 10
         },
         {
          "showarrow": false,
          "text": "<a href='https://youtu.be/OVdyq3oRq_w?si=UqAu1x62-mD_XZPv&t=1099'>link</a>",
          "x": "2025-09-14T00:18:19",
          "y": "Ned",
          "yshift": 10
         },
         {
          "showarrow": false,
          "text": "<a href='https://youtu.be/OVdyq3oRq_w?si=UqAu1x62-mD_XZPv&t=1135'>link</a>",
          "x": "2025-09-14T00:18:55",
          "y": "France",
          "yshift": 10
         },
         {
          "showarrow": false,
          "text": "<a href='https://youtu.be/OVdyq3oRq_w?si=UqAu1x62-mD_XZPv&t=1171'>link</a>",
          "x": "2025-09-14T00:19:31",
          "y": "Ned",
          "yshift": 10
         },
         {
          "showarrow": false,
          "text": "<a href='https://youtu.be/OVdyq3oRq_w?si=UqAu1x62-mD_XZPv&t=1197'>link</a>",
          "x": "2025-09-14T00:19:57",
          "y": "France",
          "yshift": 10
         },
         {
          "showarrow": false,
          "text": "<a href='https://youtu.be/OVdyq3oRq_w?si=UqAu1x62-mD_XZPv&t=1247'>link</a>",
          "x": "2025-09-14T00:20:47",
          "y": "Ned",
          "yshift": 10
         },
         {
          "showarrow": false,
          "text": "<a href='https://youtu.be/OVdyq3oRq_w?si=UqAu1x62-mD_XZPv&t=1264'>link</a>",
          "x": "2025-09-14T00:21:04",
          "y": "France",
          "yshift": 10
         },
         {
          "showarrow": false,
          "text": "<a href='https://youtu.be/OVdyq3oRq_w?si=UqAu1x62-mD_XZPv&t=1294'>link</a>",
          "x": "2025-09-14T00:21:34",
          "y": "Ned",
          "yshift": 10
         },
         {
          "showarrow": false,
          "text": "<a href='https://youtu.be/OVdyq3oRq_w?si=UqAu1x62-mD_XZPv&t=1308'>link</a>",
          "x": "2025-09-14T00:21:48",
          "y": "France",
          "yshift": 10
         },
         {
          "showarrow": false,
          "text": "<a href='https://youtu.be/OVdyq3oRq_w?si=UqAu1x62-mD_XZPv&t=1317'>link</a>",
          "x": "2025-09-14T00:21:57",
          "y": "Ned",
          "yshift": 10
         },
         {
          "showarrow": false,
          "text": "<a href='https://youtu.be/OVdyq3oRq_w?si=UqAu1x62-mD_XZPv&t=1323'>link</a>",
          "x": "2025-09-14T00:22:03",
          "y": "France",
          "yshift": 10
         },
         {
          "showarrow": false,
          "text": "<a href='https://youtu.be/OVdyq3oRq_w?si=UqAu1x62-mD_XZPv&t=1335'>link</a>",
          "x": "2025-09-14T00:22:15",
          "y": "France",
          "yshift": 10
         },
         {
          "showarrow": false,
          "text": "<a href='https://youtu.be/OVdyq3oRq_w?si=UqAu1x62-mD_XZPv&t=1633'>link</a>",
          "x": "2025-09-14T00:27:13",
          "y": "France",
          "yshift": 10
         },
         {
          "showarrow": false,
          "text": "<a href='https://youtu.be/OVdyq3oRq_w?si=UqAu1x62-mD_XZPv&t=1642'>link</a>",
          "x": "2025-09-14T00:27:22",
          "y": "France",
          "yshift": 10
         },
         {
          "showarrow": false,
          "text": "<a href='https://youtu.be/OVdyq3oRq_w?si=UqAu1x62-mD_XZPv&t=1663'>link</a>",
          "x": "2025-09-14T00:27:43",
          "y": "Ned",
          "yshift": 10
         },
         {
          "showarrow": false,
          "text": "<a href='https://youtu.be/OVdyq3oRq_w?si=UqAu1x62-mD_XZPv&t=1709'>link</a>",
          "x": "2025-09-14T00:28:29",
          "y": "France",
          "yshift": 10
         },
         {
          "showarrow": false,
          "text": "<a href='https://youtu.be/OVdyq3oRq_w?si=UqAu1x62-mD_XZPv&t=1764'>link</a>",
          "x": "2025-09-14T00:29:24",
          "y": "Ned",
          "yshift": 10
         },
         {
          "showarrow": false,
          "text": "<a href='https://youtu.be/OVdyq3oRq_w?si=UqAu1x62-mD_XZPv&t=1773'>link</a>",
          "x": "2025-09-14T00:29:33",
          "y": "France",
          "yshift": 10
         },
         {
          "showarrow": false,
          "text": "<a href='https://youtu.be/OVdyq3oRq_w?si=UqAu1x62-mD_XZPv&t=1792'>link</a>",
          "x": "2025-09-14T00:29:52",
          "y": "France",
          "yshift": 10
         },
         {
          "showarrow": false,
          "text": "<a href='https://youtu.be/OVdyq3oRq_w?si=UqAu1x62-mD_XZPv&t=1833'>link</a>",
          "x": "2025-09-14T00:30:33",
          "y": "Ned",
          "yshift": 10
         },
         {
          "showarrow": false,
          "text": "<a href='https://youtu.be/OVdyq3oRq_w?si=UqAu1x62-mD_XZPv&t=1864'>link</a>",
          "x": "2025-09-14T00:31:04",
          "y": "France",
          "yshift": 10
         },
         {
          "showarrow": false,
          "text": "<a href='https://youtu.be/OVdyq3oRq_w?si=UqAu1x62-mD_XZPv&t=1892'>link</a>",
          "x": "2025-09-14T00:31:32",
          "y": "Ned",
          "yshift": 10
         },
         {
          "showarrow": false,
          "text": "<a href='https://youtu.be/OVdyq3oRq_w?si=UqAu1x62-mD_XZPv&t=1926'>link</a>",
          "x": "2025-09-14T00:32:06",
          "y": "France",
          "yshift": 10
         },
         {
          "showarrow": false,
          "text": "<a href='https://youtu.be/OVdyq3oRq_w?si=UqAu1x62-mD_XZPv&t=1945'>link</a>",
          "x": "2025-09-14T00:32:25",
          "y": "Ned",
          "yshift": 10
         },
         {
          "showarrow": false,
          "text": "<a href='https://youtu.be/OVdyq3oRq_w?si=UqAu1x62-mD_XZPv&t=1976'>link</a>",
          "x": "2025-09-14T00:32:56",
          "y": "France",
          "yshift": 10
         },
         {
          "showarrow": false,
          "text": "<a href='https://youtu.be/OVdyq3oRq_w?si=UqAu1x62-mD_XZPv&t=2006'>link</a>",
          "x": "2025-09-14T00:33:26",
          "y": "France",
          "yshift": 10
         },
         {
          "showarrow": false,
          "text": "<a href='https://youtu.be/OVdyq3oRq_w?si=UqAu1x62-mD_XZPv&t=2021'>link</a>",
          "x": "2025-09-14T00:33:41",
          "y": "Ned",
          "yshift": 10
         },
         {
          "showarrow": false,
          "text": "<a href='https://youtu.be/OVdyq3oRq_w?si=UqAu1x62-mD_XZPv&t=2058'>link</a>",
          "x": "2025-09-14T00:34:18",
          "y": "France",
          "yshift": 10
         },
         {
          "showarrow": false,
          "text": "<a href='https://youtu.be/OVdyq3oRq_w?si=UqAu1x62-mD_XZPv&t=2090'>link</a>",
          "x": "2025-09-14T00:34:50",
          "y": "France",
          "yshift": 10
         },
         {
          "showarrow": false,
          "text": "<a href='https://youtu.be/OVdyq3oRq_w?si=UqAu1x62-mD_XZPv&t=2143'>link</a>",
          "x": "2025-09-14T00:35:43",
          "y": "Ned",
          "yshift": 10
         },
         {
          "showarrow": false,
          "text": "<a href='https://youtu.be/OVdyq3oRq_w?si=UqAu1x62-mD_XZPv&t=2175'>link</a>",
          "x": "2025-09-14T00:36:15",
          "y": "France",
          "yshift": 10
         },
         {
          "showarrow": false,
          "text": "<a href='https://youtu.be/OVdyq3oRq_w?si=UqAu1x62-mD_XZPv&t=2210'>link</a>",
          "x": "2025-09-14T00:36:50",
          "y": "Ned",
          "yshift": 10
         },
         {
          "showarrow": false,
          "text": "<a href='https://youtu.be/OVdyq3oRq_w?si=UqAu1x62-mD_XZPv&t=2234'>link</a>",
          "x": "2025-09-14T00:37:14",
          "y": "Ned",
          "yshift": 10
         },
         {
          "showarrow": false,
          "text": "<a href='https://youtu.be/OVdyq3oRq_w?si=UqAu1x62-mD_XZPv&t=2252'>link</a>",
          "x": "2025-09-14T00:37:32",
          "y": "Ned",
          "yshift": 10
         },
         {
          "showarrow": false,
          "text": "<a href='https://youtu.be/OVdyq3oRq_w?si=UqAu1x62-mD_XZPv&t=2294'>link</a>",
          "x": "2025-09-14T00:38:14",
          "y": "France",
          "yshift": 10
         },
         {
          "showarrow": false,
          "text": "<a href='https://youtu.be/OVdyq3oRq_w?si=UqAu1x62-mD_XZPv&t=2324'>link</a>",
          "x": "2025-09-14T00:38:44",
          "y": "Ned",
          "yshift": 10
         },
         {
          "showarrow": false,
          "text": "<a href='https://youtu.be/OVdyq3oRq_w?si=UqAu1x62-mD_XZPv&t=2368'>link</a>",
          "x": "2025-09-14T00:39:28",
          "y": "France",
          "yshift": 10
         },
         {
          "showarrow": false,
          "text": "<a href='https://youtu.be/OVdyq3oRq_w?si=UqAu1x62-mD_XZPv&t=2391'>link</a>",
          "x": "2025-09-14T00:39:51",
          "y": "France",
          "yshift": 10
         },
         {
          "showarrow": false,
          "text": "<a href='https://youtu.be/OVdyq3oRq_w?si=UqAu1x62-mD_XZPv&t=2439'>link</a>",
          "x": "2025-09-14T00:40:39",
          "y": "Ned",
          "yshift": 10
         },
         {
          "showarrow": false,
          "text": "<a href='https://youtu.be/OVdyq3oRq_w?si=UqAu1x62-mD_XZPv&t=2472'>link</a>",
          "x": "2025-09-14T00:41:12",
          "y": "France",
          "yshift": 10
         },
         {
          "showarrow": false,
          "text": "<a href='https://youtu.be/OVdyq3oRq_w?si=UqAu1x62-mD_XZPv&t=2508'>link</a>",
          "x": "2025-09-14T00:41:48",
          "y": "France",
          "yshift": 10
         },
         {
          "showarrow": false,
          "text": "<a href='https://youtu.be/OVdyq3oRq_w?si=UqAu1x62-mD_XZPv&t=2544'>link</a>",
          "x": "2025-09-14T00:42:24",
          "y": "Ned",
          "yshift": 10
         },
         {
          "showarrow": false,
          "text": "<a href='https://youtu.be/OVdyq3oRq_w?si=UqAu1x62-mD_XZPv&t=2598'>link</a>",
          "x": "2025-09-14T00:43:18",
          "y": "France",
          "yshift": 10
         },
         {
          "showarrow": false,
          "text": "<a href='https://youtu.be/OVdyq3oRq_w?si=UqAu1x62-mD_XZPv&t=2631'>link</a>",
          "x": "2025-09-14T00:43:51",
          "y": "Ned",
          "yshift": 10
         },
         {
          "showarrow": false,
          "text": "<a href='https://youtu.be/OVdyq3oRq_w?si=UqAu1x62-mD_XZPv&t=2659'>link</a>",
          "x": "2025-09-14T00:44:19",
          "y": "France",
          "yshift": 10
         },
         {
          "showarrow": false,
          "text": "<a href='https://youtu.be/OVdyq3oRq_w?si=UqAu1x62-mD_XZPv&t=2693'>link</a>",
          "x": "2025-09-14T00:44:53",
          "y": "Ned",
          "yshift": 10
         },
         {
          "showarrow": false,
          "text": "<a href='https://youtu.be/OVdyq3oRq_w?si=UqAu1x62-mD_XZPv&t=2704'>link</a>",
          "x": "2025-09-14T00:45:04",
          "y": "France",
          "yshift": 10
         },
         {
          "showarrow": false,
          "text": "<a href='https://youtu.be/OVdyq3oRq_w?si=UqAu1x62-mD_XZPv&t=2735'>link</a>",
          "x": "2025-09-14T00:45:35",
          "y": "Ned",
          "yshift": 10
         },
         {
          "showarrow": false,
          "text": "<a href='https://youtu.be/OVdyq3oRq_w?si=UqAu1x62-mD_XZPv&t=2768'>link</a>",
          "x": "2025-09-14T00:46:08",
          "y": "France",
          "yshift": 10
         },
         {
          "showarrow": false,
          "text": "<a href='https://youtu.be/OVdyq3oRq_w?si=UqAu1x62-mD_XZPv&t=2795'>link</a>",
          "x": "2025-09-14T00:46:35",
          "y": "France",
          "yshift": 10
         },
         {
          "showarrow": false,
          "text": "<a href='https://youtu.be/OVdyq3oRq_w?si=UqAu1x62-mD_XZPv&t=2818'>link</a>",
          "x": "2025-09-14T00:46:58",
          "y": "Ned",
          "yshift": 10
         },
         {
          "showarrow": false,
          "text": "<a href='https://youtu.be/OVdyq3oRq_w?si=UqAu1x62-mD_XZPv&t=2837'>link</a>",
          "x": "2025-09-14T00:47:17",
          "y": "France",
          "yshift": 10
         }
        ],
        "template": {
         "data": {
          "bar": [
           {
            "error_x": {
             "color": "#2a3f5f"
            },
            "error_y": {
             "color": "#2a3f5f"
            },
            "marker": {
             "line": {
              "color": "#E5ECF6",
              "width": 0.5
             },
             "pattern": {
              "fillmode": "overlay",
              "size": 10,
              "solidity": 0.2
             }
            },
            "type": "bar"
           }
          ],
          "barpolar": [
           {
            "marker": {
             "line": {
              "color": "#E5ECF6",
              "width": 0.5
             },
             "pattern": {
              "fillmode": "overlay",
              "size": 10,
              "solidity": 0.2
             }
            },
            "type": "barpolar"
           }
          ],
          "carpet": [
           {
            "aaxis": {
             "endlinecolor": "#2a3f5f",
             "gridcolor": "white",
             "linecolor": "white",
             "minorgridcolor": "white",
             "startlinecolor": "#2a3f5f"
            },
            "baxis": {
             "endlinecolor": "#2a3f5f",
             "gridcolor": "white",
             "linecolor": "white",
             "minorgridcolor": "white",
             "startlinecolor": "#2a3f5f"
            },
            "type": "carpet"
           }
          ],
          "choropleth": [
           {
            "colorbar": {
             "outlinewidth": 0,
             "ticks": ""
            },
            "type": "choropleth"
           }
          ],
          "contour": [
           {
            "colorbar": {
             "outlinewidth": 0,
             "ticks": ""
            },
            "colorscale": [
             [
              0,
              "#0d0887"
             ],
             [
              0.1111111111111111,
              "#46039f"
             ],
             [
              0.2222222222222222,
              "#7201a8"
             ],
             [
              0.3333333333333333,
              "#9c179e"
             ],
             [
              0.4444444444444444,
              "#bd3786"
             ],
             [
              0.5555555555555556,
              "#d8576b"
             ],
             [
              0.6666666666666666,
              "#ed7953"
             ],
             [
              0.7777777777777778,
              "#fb9f3a"
             ],
             [
              0.8888888888888888,
              "#fdca26"
             ],
             [
              1,
              "#f0f921"
             ]
            ],
            "type": "contour"
           }
          ],
          "contourcarpet": [
           {
            "colorbar": {
             "outlinewidth": 0,
             "ticks": ""
            },
            "type": "contourcarpet"
           }
          ],
          "heatmap": [
           {
            "colorbar": {
             "outlinewidth": 0,
             "ticks": ""
            },
            "colorscale": [
             [
              0,
              "#0d0887"
             ],
             [
              0.1111111111111111,
              "#46039f"
             ],
             [
              0.2222222222222222,
              "#7201a8"
             ],
             [
              0.3333333333333333,
              "#9c179e"
             ],
             [
              0.4444444444444444,
              "#bd3786"
             ],
             [
              0.5555555555555556,
              "#d8576b"
             ],
             [
              0.6666666666666666,
              "#ed7953"
             ],
             [
              0.7777777777777778,
              "#fb9f3a"
             ],
             [
              0.8888888888888888,
              "#fdca26"
             ],
             [
              1,
              "#f0f921"
             ]
            ],
            "type": "heatmap"
           }
          ],
          "histogram": [
           {
            "marker": {
             "pattern": {
              "fillmode": "overlay",
              "size": 10,
              "solidity": 0.2
             }
            },
            "type": "histogram"
           }
          ],
          "histogram2d": [
           {
            "colorbar": {
             "outlinewidth": 0,
             "ticks": ""
            },
            "colorscale": [
             [
              0,
              "#0d0887"
             ],
             [
              0.1111111111111111,
              "#46039f"
             ],
             [
              0.2222222222222222,
              "#7201a8"
             ],
             [
              0.3333333333333333,
              "#9c179e"
             ],
             [
              0.4444444444444444,
              "#bd3786"
             ],
             [
              0.5555555555555556,
              "#d8576b"
             ],
             [
              0.6666666666666666,
              "#ed7953"
             ],
             [
              0.7777777777777778,
              "#fb9f3a"
             ],
             [
              0.8888888888888888,
              "#fdca26"
             ],
             [
              1,
              "#f0f921"
             ]
            ],
            "type": "histogram2d"
           }
          ],
          "histogram2dcontour": [
           {
            "colorbar": {
             "outlinewidth": 0,
             "ticks": ""
            },
            "colorscale": [
             [
              0,
              "#0d0887"
             ],
             [
              0.1111111111111111,
              "#46039f"
             ],
             [
              0.2222222222222222,
              "#7201a8"
             ],
             [
              0.3333333333333333,
              "#9c179e"
             ],
             [
              0.4444444444444444,
              "#bd3786"
             ],
             [
              0.5555555555555556,
              "#d8576b"
             ],
             [
              0.6666666666666666,
              "#ed7953"
             ],
             [
              0.7777777777777778,
              "#fb9f3a"
             ],
             [
              0.8888888888888888,
              "#fdca26"
             ],
             [
              1,
              "#f0f921"
             ]
            ],
            "type": "histogram2dcontour"
           }
          ],
          "mesh3d": [
           {
            "colorbar": {
             "outlinewidth": 0,
             "ticks": ""
            },
            "type": "mesh3d"
           }
          ],
          "parcoords": [
           {
            "line": {
             "colorbar": {
              "outlinewidth": 0,
              "ticks": ""
             }
            },
            "type": "parcoords"
           }
          ],
          "pie": [
           {
            "automargin": true,
            "type": "pie"
           }
          ],
          "scatter": [
           {
            "fillpattern": {
             "fillmode": "overlay",
             "size": 10,
             "solidity": 0.2
            },
            "type": "scatter"
           }
          ],
          "scatter3d": [
           {
            "line": {
             "colorbar": {
              "outlinewidth": 0,
              "ticks": ""
             }
            },
            "marker": {
             "colorbar": {
              "outlinewidth": 0,
              "ticks": ""
             }
            },
            "type": "scatter3d"
           }
          ],
          "scattercarpet": [
           {
            "marker": {
             "colorbar": {
              "outlinewidth": 0,
              "ticks": ""
             }
            },
            "type": "scattercarpet"
           }
          ],
          "scattergeo": [
           {
            "marker": {
             "colorbar": {
              "outlinewidth": 0,
              "ticks": ""
             }
            },
            "type": "scattergeo"
           }
          ],
          "scattergl": [
           {
            "marker": {
             "colorbar": {
              "outlinewidth": 0,
              "ticks": ""
             }
            },
            "type": "scattergl"
           }
          ],
          "scattermap": [
           {
            "marker": {
             "colorbar": {
              "outlinewidth": 0,
              "ticks": ""
             }
            },
            "type": "scattermap"
           }
          ],
          "scattermapbox": [
           {
            "marker": {
             "colorbar": {
              "outlinewidth": 0,
              "ticks": ""
             }
            },
            "type": "scattermapbox"
           }
          ],
          "scatterpolar": [
           {
            "marker": {
             "colorbar": {
              "outlinewidth": 0,
              "ticks": ""
             }
            },
            "type": "scatterpolar"
           }
          ],
          "scatterpolargl": [
           {
            "marker": {
             "colorbar": {
              "outlinewidth": 0,
              "ticks": ""
             }
            },
            "type": "scatterpolargl"
           }
          ],
          "scatterternary": [
           {
            "marker": {
             "colorbar": {
              "outlinewidth": 0,
              "ticks": ""
             }
            },
            "type": "scatterternary"
           }
          ],
          "surface": [
           {
            "colorbar": {
             "outlinewidth": 0,
             "ticks": ""
            },
            "colorscale": [
             [
              0,
              "#0d0887"
             ],
             [
              0.1111111111111111,
              "#46039f"
             ],
             [
              0.2222222222222222,
              "#7201a8"
             ],
             [
              0.3333333333333333,
              "#9c179e"
             ],
             [
              0.4444444444444444,
              "#bd3786"
             ],
             [
              0.5555555555555556,
              "#d8576b"
             ],
             [
              0.6666666666666666,
              "#ed7953"
             ],
             [
              0.7777777777777778,
              "#fb9f3a"
             ],
             [
              0.8888888888888888,
              "#fdca26"
             ],
             [
              1,
              "#f0f921"
             ]
            ],
            "type": "surface"
           }
          ],
          "table": [
           {
            "cells": {
             "fill": {
              "color": "#EBF0F8"
             },
             "line": {
              "color": "white"
             }
            },
            "header": {
             "fill": {
              "color": "#C8D4E3"
             },
             "line": {
              "color": "white"
             }
            },
            "type": "table"
           }
          ]
         },
         "layout": {
          "annotationdefaults": {
           "arrowcolor": "#2a3f5f",
           "arrowhead": 0,
           "arrowwidth": 1
          },
          "autotypenumbers": "strict",
          "coloraxis": {
           "colorbar": {
            "outlinewidth": 0,
            "ticks": ""
           }
          },
          "colorscale": {
           "diverging": [
            [
             0,
             "#8e0152"
            ],
            [
             0.1,
             "#c51b7d"
            ],
            [
             0.2,
             "#de77ae"
            ],
            [
             0.3,
             "#f1b6da"
            ],
            [
             0.4,
             "#fde0ef"
            ],
            [
             0.5,
             "#f7f7f7"
            ],
            [
             0.6,
             "#e6f5d0"
            ],
            [
             0.7,
             "#b8e186"
            ],
            [
             0.8,
             "#7fbc41"
            ],
            [
             0.9,
             "#4d9221"
            ],
            [
             1,
             "#276419"
            ]
           ],
           "sequential": [
            [
             0,
             "#0d0887"
            ],
            [
             0.1111111111111111,
             "#46039f"
            ],
            [
             0.2222222222222222,
             "#7201a8"
            ],
            [
             0.3333333333333333,
             "#9c179e"
            ],
            [
             0.4444444444444444,
             "#bd3786"
            ],
            [
             0.5555555555555556,
             "#d8576b"
            ],
            [
             0.6666666666666666,
             "#ed7953"
            ],
            [
             0.7777777777777778,
             "#fb9f3a"
            ],
            [
             0.8888888888888888,
             "#fdca26"
            ],
            [
             1,
             "#f0f921"
            ]
           ],
           "sequentialminus": [
            [
             0,
             "#0d0887"
            ],
            [
             0.1111111111111111,
             "#46039f"
            ],
            [
             0.2222222222222222,
             "#7201a8"
            ],
            [
             0.3333333333333333,
             "#9c179e"
            ],
            [
             0.4444444444444444,
             "#bd3786"
            ],
            [
             0.5555555555555556,
             "#d8576b"
            ],
            [
             0.6666666666666666,
             "#ed7953"
            ],
            [
             0.7777777777777778,
             "#fb9f3a"
            ],
            [
             0.8888888888888888,
             "#fdca26"
            ],
            [
             1,
             "#f0f921"
            ]
           ]
          },
          "colorway": [
           "#636efa",
           "#EF553B",
           "#00cc96",
           "#ab63fa",
           "#FFA15A",
           "#19d3f3",
           "#FF6692",
           "#B6E880",
           "#FF97FF",
           "#FECB52"
          ],
          "font": {
           "color": "#2a3f5f"
          },
          "geo": {
           "bgcolor": "white",
           "lakecolor": "white",
           "landcolor": "#E5ECF6",
           "showlakes": true,
           "showland": true,
           "subunitcolor": "white"
          },
          "hoverlabel": {
           "align": "left"
          },
          "hovermode": "closest",
          "mapbox": {
           "style": "light"
          },
          "paper_bgcolor": "white",
          "plot_bgcolor": "#E5ECF6",
          "polar": {
           "angularaxis": {
            "gridcolor": "white",
            "linecolor": "white",
            "ticks": ""
           },
           "bgcolor": "#E5ECF6",
           "radialaxis": {
            "gridcolor": "white",
            "linecolor": "white",
            "ticks": ""
           }
          },
          "scene": {
           "xaxis": {
            "backgroundcolor": "#E5ECF6",
            "gridcolor": "white",
            "gridwidth": 2,
            "linecolor": "white",
            "showbackground": true,
            "ticks": "",
            "zerolinecolor": "white"
           },
           "yaxis": {
            "backgroundcolor": "#E5ECF6",
            "gridcolor": "white",
            "gridwidth": 2,
            "linecolor": "white",
            "showbackground": true,
            "ticks": "",
            "zerolinecolor": "white"
           },
           "zaxis": {
            "backgroundcolor": "#E5ECF6",
            "gridcolor": "white",
            "gridwidth": 2,
            "linecolor": "white",
            "showbackground": true,
            "ticks": "",
            "zerolinecolor": "white"
           }
          },
          "shapedefaults": {
           "line": {
            "color": "#2a3f5f"
           }
          },
          "ternary": {
           "aaxis": {
            "gridcolor": "white",
            "linecolor": "white",
            "ticks": ""
           },
           "baxis": {
            "gridcolor": "white",
            "linecolor": "white",
            "ticks": ""
           },
           "bgcolor": "#E5ECF6",
           "caxis": {
            "gridcolor": "white",
            "linecolor": "white",
            "ticks": ""
           }
          },
          "title": {
           "x": 0.05
          },
          "xaxis": {
           "automargin": true,
           "gridcolor": "white",
           "linecolor": "white",
           "ticks": "",
           "title": {
            "standoff": 15
           },
           "zerolinecolor": "white",
           "zerolinewidth": 2
          },
          "yaxis": {
           "automargin": true,
           "gridcolor": "white",
           "linecolor": "white",
           "ticks": "",
           "title": {
            "standoff": 15
           },
           "zerolinecolor": "white",
           "zerolinewidth": 2
          }
         }
        }
       }
      },
      "image/png": "[encoded data removed]"
     },
     "metadata": {},
     "output_type": "display_data"
    }
   ],
   "source": []
  },
  {
   "cell_type": "code",
   "execution_count": 41,
   "id": "da0ae956-f566-4981-8ac1-f93552419240",
   "metadata": {},
   "outputs": [],
   "source": []
  },
  {
   "cell_type": "code",
   "execution_count": null,
   "id": "35ff3c84-4f4e-46b2-9ded-c66ffc2a5c72",
   "metadata": {},
   "outputs": [],
   "source": []
  }
 ],
 "metadata": {
  "kernelspec": {
   "display_name": "Python 3 (ipykernel)",
   "language": "python",
   "name": "python3"
  },
  "language_info": {
   "codemirror_mode": {
    "name": "ipython",
    "version": 3
   },
   "file_extension": ".py",
   "mimetype": "text/x-python",
   "name": "python",
   "nbconvert_exporter": "python",
   "pygments_lexer": "ipython3",
   "version": "3.13.7"
  }
 },
 "nbformat": 4,
 "nbformat_minor": 5
}
