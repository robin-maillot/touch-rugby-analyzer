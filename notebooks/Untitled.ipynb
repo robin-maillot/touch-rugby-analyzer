{
 "cells": [
  {
   "cell_type": "code",
   "execution_count": 2,
   "id": "09224cce-65bf-438c-9918-b7c98245ec0c",
   "metadata": {},
   "outputs": [],
   "source": [
    "import pandas as pd\n",
    "from pathlib import Path\n",
    "import numpy as np\n",
    "import plotly.express as px\n",
    "import plotly.graph_objects as go\n",
    "from plotly.subplots import make_subplots\n",
    "import rich\n",
    "\n",
    "from touch_rugby_analyzer.constants import ASSETS_ROOT, ROOT, DATA_ROOT\n",
    "\n",
    "def time_to_n_seconds(time_obj):\n",
    "    return 3600*time_obj.hour + 60*time_obj.minute + time_obj.second\n",
    "\n",
    "LOCAL_TEAM_NAME = \"France\"\n",
    "OTHER_TEAM_NAME = \"Ned\""
   ]
  },
  {
   "cell_type": "code",
   "execution_count": 4,
   "id": "c00cc454-a065-4ce0-98d0-6823251e96ca",
   "metadata": {
    "scrolled": true
   },
   "outputs": [
    {
     "name": "stderr",
     "output_type": "stream",
     "text": [
      "C:\\Users\\robin\\AppData\\Local\\Temp\\ipykernel_20324\\947059180.py:8: UserWarning: Could not infer format, so each element will be parsed individually, falling back to `dateutil`. To ensure parsing is consistent and as-expected, please specify a format.\n",
      "  data_df.Time = pd.to_datetime(data_df.Time)\n"
     ]
    },
    {
     "data": {
      "text/html": [
       "<div>\n",
       "<style scoped>\n",
       "    .dataframe tbody tr th:only-of-type {\n",
       "        vertical-align: middle;\n",
       "    }\n",
       "\n",
       "    .dataframe tbody tr th {\n",
       "        vertical-align: top;\n",
       "    }\n",
       "\n",
       "    .dataframe thead th {\n",
       "        text-align: right;\n",
       "    }\n",
       "</style>\n",
       "<table border=\"1\" class=\"dataframe\">\n",
       "  <thead>\n",
       "    <tr style=\"text-align: right;\">\n",
       "      <th></th>\n",
       "      <th>Time</th>\n",
       "      <th>Type</th>\n",
       "      <th>Name</th>\n",
       "      <th>Against France</th>\n",
       "      <th>To Review</th>\n",
       "      <th>Comment</th>\n",
       "      <th>Youtube Link</th>\n",
       "      <th>Team</th>\n",
       "      <th>TeamOld</th>\n",
       "      <th>ball_owner</th>\n",
       "    </tr>\n",
       "  </thead>\n",
       "  <tbody>\n",
       "    <tr>\n",
       "      <th>0</th>\n",
       "      <td>2025-09-14 00:02:14</td>\n",
       "      <td>Game Event</td>\n",
       "      <td>Game Start</td>\n",
       "      <td>True</td>\n",
       "      <td>False</td>\n",
       "      <td>NaN</td>\n",
       "      <td>https://youtu.be/OVdyq3oRq_w?si=UqAu1x62-mD_XZ...</td>\n",
       "      <td>Ned</td>\n",
       "      <td>Ned</td>\n",
       "      <td>Ned</td>\n",
       "    </tr>\n",
       "    <tr>\n",
       "      <th>1</th>\n",
       "      <td>2025-09-14 00:02:45</td>\n",
       "      <td>Try</td>\n",
       "      <td>Try</td>\n",
       "      <td>True</td>\n",
       "      <td>False</td>\n",
       "      <td>NaN</td>\n",
       "      <td>https://youtu.be/OVdyq3oRq_w?si=UqAu1x62-mD_XZ...</td>\n",
       "      <td>Ned</td>\n",
       "      <td>Ned</td>\n",
       "      <td>France</td>\n",
       "    </tr>\n",
       "    <tr>\n",
       "      <th>2</th>\n",
       "      <td>2025-09-14 00:03:54</td>\n",
       "      <td>Turnover</td>\n",
       "      <td>6th Touch</td>\n",
       "      <td>True</td>\n",
       "      <td>False</td>\n",
       "      <td>NaN</td>\n",
       "      <td>https://youtu.be/OVdyq3oRq_w?si=UqAu1x62-mD_XZ...</td>\n",
       "      <td>France</td>\n",
       "      <td>Ned</td>\n",
       "      <td>Ned</td>\n",
       "    </tr>\n",
       "    <tr>\n",
       "      <th>3</th>\n",
       "      <td>2025-09-14 00:04:27</td>\n",
       "      <td>Turnover</td>\n",
       "      <td>Ball Down</td>\n",
       "      <td>False</td>\n",
       "      <td>False</td>\n",
       "      <td>NaN</td>\n",
       "      <td>https://youtu.be/OVdyq3oRq_w?si=UqAu1x62-mD_XZ...</td>\n",
       "      <td>Ned</td>\n",
       "      <td>France</td>\n",
       "      <td>France</td>\n",
       "    </tr>\n",
       "    <tr>\n",
       "      <th>4</th>\n",
       "      <td>2025-09-14 00:04:46</td>\n",
       "      <td>Turnover</td>\n",
       "      <td>6th Touch</td>\n",
       "      <td>True</td>\n",
       "      <td>False</td>\n",
       "      <td>NaN</td>\n",
       "      <td>https://youtu.be/OVdyq3oRq_w?si=UqAu1x62-mD_XZ...</td>\n",
       "      <td>France</td>\n",
       "      <td>Ned</td>\n",
       "      <td>Ned</td>\n",
       "    </tr>\n",
       "    <tr>\n",
       "      <th>...</th>\n",
       "      <td>...</td>\n",
       "      <td>...</td>\n",
       "      <td>...</td>\n",
       "      <td>...</td>\n",
       "      <td>...</td>\n",
       "      <td>...</td>\n",
       "      <td>...</td>\n",
       "      <td>...</td>\n",
       "      <td>...</td>\n",
       "      <td>...</td>\n",
       "    </tr>\n",
       "    <tr>\n",
       "      <th>72</th>\n",
       "      <td>2025-09-14 00:45:35</td>\n",
       "      <td>Turnover</td>\n",
       "      <td>Ball Down</td>\n",
       "      <td>False</td>\n",
       "      <td>False</td>\n",
       "      <td>NaN</td>\n",
       "      <td>https://youtu.be/OVdyq3oRq_w?si=UqAu1x62-mD_XZ...</td>\n",
       "      <td>Ned</td>\n",
       "      <td>France</td>\n",
       "      <td>France</td>\n",
       "    </tr>\n",
       "    <tr>\n",
       "      <th>73</th>\n",
       "      <td>2025-09-14 00:46:08</td>\n",
       "      <td>Try</td>\n",
       "      <td>Try</td>\n",
       "      <td>False</td>\n",
       "      <td>False</td>\n",
       "      <td>NaN</td>\n",
       "      <td>https://youtu.be/OVdyq3oRq_w?si=UqAu1x62-mD_XZ...</td>\n",
       "      <td>France</td>\n",
       "      <td>France</td>\n",
       "      <td>Ned</td>\n",
       "    </tr>\n",
       "    <tr>\n",
       "      <th>74</th>\n",
       "      <td>2025-09-14 00:46:35</td>\n",
       "      <td>To Review</td>\n",
       "      <td>Other</td>\n",
       "      <td>False</td>\n",
       "      <td>True</td>\n",
       "      <td>Seems like the same as the shoulder against Fr...</td>\n",
       "      <td>https://youtu.be/OVdyq3oRq_w?si=UqAu1x62-mD_XZ...</td>\n",
       "      <td>France</td>\n",
       "      <td>France</td>\n",
       "      <td>Ned</td>\n",
       "    </tr>\n",
       "    <tr>\n",
       "      <th>75</th>\n",
       "      <td>2025-09-14 00:46:58</td>\n",
       "      <td>Turnover</td>\n",
       "      <td>6th Touch</td>\n",
       "      <td>False</td>\n",
       "      <td>False</td>\n",
       "      <td>NaN</td>\n",
       "      <td>https://youtu.be/OVdyq3oRq_w?si=UqAu1x62-mD_XZ...</td>\n",
       "      <td>Ned</td>\n",
       "      <td>France</td>\n",
       "      <td>France</td>\n",
       "    </tr>\n",
       "    <tr>\n",
       "      <th>76</th>\n",
       "      <td>2025-09-14 00:47:17</td>\n",
       "      <td>Game Event</td>\n",
       "      <td>Game End</td>\n",
       "      <td>False</td>\n",
       "      <td>False</td>\n",
       "      <td>NaN</td>\n",
       "      <td>https://youtu.be/OVdyq3oRq_w?si=UqAu1x62-mD_XZ...</td>\n",
       "      <td>France</td>\n",
       "      <td>France</td>\n",
       "      <td>France</td>\n",
       "    </tr>\n",
       "  </tbody>\n",
       "</table>\n",
       "<p>77 rows × 10 columns</p>\n",
       "</div>"
      ],
      "text/plain": [
       "                  Time        Type        Name  Against France  To Review  \\\n",
       "0  2025-09-14 00:02:14  Game Event  Game Start            True      False   \n",
       "1  2025-09-14 00:02:45         Try         Try            True      False   \n",
       "2  2025-09-14 00:03:54    Turnover   6th Touch            True      False   \n",
       "3  2025-09-14 00:04:27    Turnover   Ball Down           False      False   \n",
       "4  2025-09-14 00:04:46    Turnover   6th Touch            True      False   \n",
       "..                 ...         ...         ...             ...        ...   \n",
       "72 2025-09-14 00:45:35    Turnover   Ball Down           False      False   \n",
       "73 2025-09-14 00:46:08         Try         Try           False      False   \n",
       "74 2025-09-14 00:46:35   To Review       Other           False       True   \n",
       "75 2025-09-14 00:46:58    Turnover   6th Touch           False      False   \n",
       "76 2025-09-14 00:47:17  Game Event    Game End           False      False   \n",
       "\n",
       "                                              Comment  \\\n",
       "0                                                 NaN   \n",
       "1                                                 NaN   \n",
       "2                                                 NaN   \n",
       "3                                                 NaN   \n",
       "4                                                 NaN   \n",
       "..                                                ...   \n",
       "72                                                NaN   \n",
       "73                                                NaN   \n",
       "74  Seems like the same as the shoulder against Fr...   \n",
       "75                                                NaN   \n",
       "76                                                NaN   \n",
       "\n",
       "                                         Youtube Link    Team TeamOld  \\\n",
       "0   https://youtu.be/OVdyq3oRq_w?si=UqAu1x62-mD_XZ...     Ned     Ned   \n",
       "1   https://youtu.be/OVdyq3oRq_w?si=UqAu1x62-mD_XZ...     Ned     Ned   \n",
       "2   https://youtu.be/OVdyq3oRq_w?si=UqAu1x62-mD_XZ...  France     Ned   \n",
       "3   https://youtu.be/OVdyq3oRq_w?si=UqAu1x62-mD_XZ...     Ned  France   \n",
       "4   https://youtu.be/OVdyq3oRq_w?si=UqAu1x62-mD_XZ...  France     Ned   \n",
       "..                                                ...     ...     ...   \n",
       "72  https://youtu.be/OVdyq3oRq_w?si=UqAu1x62-mD_XZ...     Ned  France   \n",
       "73  https://youtu.be/OVdyq3oRq_w?si=UqAu1x62-mD_XZ...  France  France   \n",
       "74  https://youtu.be/OVdyq3oRq_w?si=UqAu1x62-mD_XZ...  France  France   \n",
       "75  https://youtu.be/OVdyq3oRq_w?si=UqAu1x62-mD_XZ...     Ned  France   \n",
       "76  https://youtu.be/OVdyq3oRq_w?si=UqAu1x62-mD_XZ...  France  France   \n",
       "\n",
       "   ball_owner  \n",
       "0         Ned  \n",
       "1      France  \n",
       "2         Ned  \n",
       "3      France  \n",
       "4         Ned  \n",
       "..        ...  \n",
       "72     France  \n",
       "73        Ned  \n",
       "74        Ned  \n",
       "75     France  \n",
       "76     France  \n",
       "\n",
       "[77 rows x 10 columns]"
      ]
     },
     "execution_count": 4,
     "metadata": {},
     "output_type": "execute_result"
    }
   ],
   "source": [
    "data_path = DATA_ROOT / \"test_data_v2.csv\"\n",
    "output_data_root = DATA_ROOT / \"output\"\n",
    "output_data_root.mkdir(parents=True, exist_ok=True)\n",
    "data_df = pd.read_csv(data_path)\n",
    "\n",
    "data_df = data_df.dropna(axis=0, how=\"all\",subset=\"Time\")\n",
    "# data_df.Time = pd.to_datetime(data_df.Time).dt.time\n",
    "data_df.Time = pd.to_datetime(data_df.Time)\n",
    "data_df[\"Team\"] = data_df.apply(lambda row: LOCAL_TEAM_NAME if ((row[\"Against France\"] and row[\"Type\"] in [\"Penalty\",\"Turnover\"]) or (not row[\"Against France\"]and row[\"Type\"] not in [\"Penalty\",\"Turnover\"])) else OTHER_TEAM_NAME, axis=1)\n",
    "data_df[\"TeamOld\"] = data_df[\"Against France\"].apply(lambda x: OTHER_TEAM_NAME if x else LOCAL_TEAM_NAME)\n",
    "\n",
    "def add_team_after(data_df: pd.DataFrame):\n",
    "    ball_owners = []\n",
    "    for i, row in data_df.iterrows():\n",
    "        against_local = row[\"Against France\"]\n",
    "        if i==0:\n",
    "            new_expected_ball_owner = OTHER_TEAM_NAME if against_local else LOCAL_TEAM_NAME\n",
    "        else:\n",
    "            if row[\"Type\"]==\"Try\":\n",
    "                assert ((against_local and ball_owners[-1]==OTHER_TEAM_NAME) or (not against_local and ball_owners[-1]==LOCAL_TEAM_NAME))\n",
    "                new_expected_ball_owner = LOCAL_TEAM_NAME if against_local else OTHER_TEAM_NAME\n",
    "            elif row[\"Type\"] in [\"Penalty\", \"Turnover\"] and ((against_local and ball_owners[-1]==LOCAL_TEAM_NAME) or (not against_local and ball_owners[-1]==OTHER_TEAM_NAME)):\n",
    "                new_expected_ball_owner = OTHER_TEAM_NAME if against_local else LOCAL_TEAM_NAME    \n",
    "            elif row[\"Type\"] in [\"Game Event\"]:\n",
    "                new_expected_ball_owner = OTHER_TEAM_NAME if against_local else LOCAL_TEAM_NAME\n",
    "            else:\n",
    "                new_expected_ball_owner = ball_owners[-1]\n",
    "        ball_owners.append(new_expected_ball_owner)\n",
    "    data_df[\"ball_owner\"] = ball_owners\n",
    "add_team_after(data_df)\n",
    "data_df"
   ]
  },
  {
   "cell_type": "code",
   "execution_count": 5,
   "id": "46b2b4d4-dc50-45df-816f-1a96c5294ed6",
   "metadata": {},
   "outputs": [
    {
     "data": {
      "application/vnd.plotly.v1+json": {
       "config": {
        "plotlyServerURL": "https://plot.ly"
       },
       "data": [
        {
         "customdata": [
          [
           null
          ],
          [
           null
          ],
          [
           null
          ],
          [
           null
          ]
         ],
         "hovertemplate": "<b>%{hovertext}</b><br><br>Type=Game Event<br>Time=%{x}<br>Team=%{y}<br>Comment=%{customdata[0]}<extra></extra>",
         "hovertext": [
          "Game Start",
          "Game End",
          "Game Start",
          "Game End"
         ],
         "legendgroup": "Game Event",
         "marker": {
          "color": "#636efa",
          "symbol": "circle"
         },
         "mode": "markers",
         "name": "Game Event",
         "orientation": "v",
         "showlegend": true,
         "type": "scatter",
         "x": [
          "2025-09-14T00:02:14.000000000",
          "2025-09-14T00:22:15.000000000",
          "2025-09-14T00:27:13.000000000",
          "2025-09-14T00:47:17.000000000"
         ],
         "xaxis": "x",
         "y": [
          "Ned",
          "France",
          "France",
          "France"
         ],
         "yaxis": "y"
        },
        {
         "customdata": [
          [
           null
          ],
          [
           null
          ],
          [
           null
          ],
          [
           null
          ],
          [
           null
          ],
          [
           null
          ],
          [
           null
          ],
          [
           null
          ],
          [
           null
          ],
          [
           null
          ],
          [
           null
          ],
          [
           null
          ]
         ],
         "hovertemplate": "<b>%{hovertext}</b><br><br>Type=Try<br>Time=%{x}<br>Team=%{y}<br>Comment=%{customdata[0]}<extra></extra>",
         "hovertext": [
          "Try",
          "Try",
          "Try",
          "Try",
          "Try",
          "Try",
          "Try",
          "Try",
          "Try",
          "Try",
          "Try",
          "Try"
         ],
         "legendgroup": "Try",
         "marker": {
          "color": "#EF553B",
          "symbol": "circle"
         },
         "mode": "markers",
         "name": "Try",
         "orientation": "v",
         "showlegend": true,
         "type": "scatter",
         "x": [
          "2025-09-14T00:02:45.000000000",
          "2025-09-14T00:06:51.000000000",
          "2025-09-14T00:09:27.000000000",
          "2025-09-14T00:11:43.000000000",
          "2025-09-14T00:19:57.000000000",
          "2025-09-14T00:28:29.000000000",
          "2025-09-14T00:33:41.000000000",
          "2025-09-14T00:38:14.000000000",
          "2025-09-14T00:40:39.000000000",
          "2025-09-14T00:41:12.000000000",
          "2025-09-14T00:42:24.000000000",
          "2025-09-14T00:46:08.000000000"
         ],
         "xaxis": "x",
         "y": [
          "Ned",
          "Ned",
          "France",
          "France",
          "France",
          "France",
          "Ned",
          "France",
          "Ned",
          "France",
          "Ned",
          "France"
         ],
         "yaxis": "y"
        },
        {
         "customdata": [
          [
           null
          ],
          [
           null
          ],
          [
           null
          ],
          [
           null
          ],
          [
           null
          ],
          [
           null
          ],
          [
           null
          ],
          [
           null
          ],
          [
           null
          ],
          [
           null
          ],
          [
           "Possible Touch and Pass"
          ],
          [
           null
          ],
          [
           null
          ],
          [
           null
          ],
          [
           null
          ],
          [
           null
          ],
          [
           null
          ],
          [
           null
          ],
          [
           null
          ],
          [
           null
          ],
          [
           null
          ],
          [
           null
          ],
          [
           null
          ],
          [
           null
          ],
          [
           null
          ],
          [
           null
          ],
          [
           null
          ],
          [
           null
          ],
          [
           "6 again or not?"
          ],
          [
           null
          ],
          [
           null
          ],
          [
           null
          ],
          [
           null
          ],
          [
           "6 again or not?"
          ],
          [
           null
          ],
          [
           null
          ],
          [
           null
          ],
          [
           null
          ],
          [
           null
          ]
         ],
         "hovertemplate": "<b>%{hovertext}</b><br><br>Type=Turnover<br>Time=%{x}<br>Team=%{y}<br>Comment=%{customdata[0]}<extra></extra>",
         "hovertext": [
          "6th Touch",
          "Ball Down",
          "6th Touch",
          "6th Touch",
          "Ball Down",
          "Ball Down",
          "Ball Down",
          "Ball Down",
          "6th Touch",
          "Dummy Touch",
          "6th Touch",
          "Interception",
          "6th Touch",
          "Ball Down",
          "6th Touch",
          "Ball Down",
          "Ball Down",
          "Ball Down",
          "6th Touch",
          "Ball Down",
          "Ball Down",
          "6th Touch",
          "6th Touch",
          "6th Touch",
          "Ball Down",
          "Ball Down",
          "6 Again",
          "Ball Down",
          "6 Again",
          "6th Touch",
          "Ball Down",
          "Ball Down",
          "Ball Down",
          "6 Again",
          "6th Touch",
          "Ball Down",
          "Ball Down",
          "Ball Down",
          "6th Touch"
         ],
         "legendgroup": "Turnover",
         "marker": {
          "color": "#00cc96",
          "symbol": "circle"
         },
         "mode": "markers",
         "name": "Turnover",
         "orientation": "v",
         "showlegend": true,
         "type": "scatter",
         "x": [
          "2025-09-14T00:03:54.000000000",
          "2025-09-14T00:04:27.000000000",
          "2025-09-14T00:04:46.000000000",
          "2025-09-14T00:05:28.000000000",
          "2025-09-14T00:08:44.000000000",
          "2025-09-14T00:11:03.000000000",
          "2025-09-14T00:12:30.000000000",
          "2025-09-14T00:13:21.000000000",
          "2025-09-14T00:14:00.000000000",
          "2025-09-14T00:14:30.000000000",
          "2025-09-14T00:15:06.000000000",
          "2025-09-14T00:17:00.000000000",
          "2025-09-14T00:17:54.000000000",
          "2025-09-14T00:19:31.000000000",
          "2025-09-14T00:20:47.000000000",
          "2025-09-14T00:21:04.000000000",
          "2025-09-14T00:21:34.000000000",
          "2025-09-14T00:27:22.000000000",
          "2025-09-14T00:29:24.000000000",
          "2025-09-14T00:29:33.000000000",
          "2025-09-14T00:30:33.000000000",
          "2025-09-14T00:31:04.000000000",
          "2025-09-14T00:31:32.000000000",
          "2025-09-14T00:32:06.000000000",
          "2025-09-14T00:32:25.000000000",
          "2025-09-14T00:32:56.000000000",
          "2025-09-14T00:33:26.000000000",
          "2025-09-14T00:34:18.000000000",
          "2025-09-14T00:34:50.000000000",
          "2025-09-14T00:35:43.000000000",
          "2025-09-14T00:36:15.000000000",
          "2025-09-14T00:36:50.000000000",
          "2025-09-14T00:39:28.000000000",
          "2025-09-14T00:41:48.000000000",
          "2025-09-14T00:43:51.000000000",
          "2025-09-14T00:44:19.000000000",
          "2025-09-14T00:44:53.000000000",
          "2025-09-14T00:45:35.000000000",
          "2025-09-14T00:46:58.000000000"
         ],
         "xaxis": "x",
         "y": [
          "France",
          "Ned",
          "France",
          "Ned",
          "Ned",
          "Ned",
          "Ned",
          "France",
          "Ned",
          "France",
          "Ned",
          "Ned",
          "Ned",
          "Ned",
          "Ned",
          "France",
          "Ned",
          "France",
          "Ned",
          "France",
          "Ned",
          "France",
          "Ned",
          "France",
          "Ned",
          "France",
          "France",
          "France",
          "France",
          "Ned",
          "France",
          "Ned",
          "France",
          "France",
          "Ned",
          "France",
          "Ned",
          "Ned",
          "Ned"
         ],
         "yaxis": "y"
        },
        {
         "customdata": [
          [
           "To compare"
          ],
          [
           null
          ],
          [
           "Not sure if offside or not moving up"
          ],
          [
           null
          ],
          [
           "Not sure if offside or early drop"
          ],
          [
           "Harsh ?"
          ],
          [
           null
          ],
          [
           null
          ],
          [
           null
          ],
          [
           null
          ],
          [
           null
          ],
          [
           null
          ],
          [
           null
          ],
          [
           "Not sure which one"
          ],
          [
           "I really don't understand this one, seems more like an overstep"
          ],
          [
           null
          ],
          [
           "When we freeze frame seems like there is an arm"
          ]
         ],
         "hovertemplate": "<b>%{hovertext}</b><br><br>Type=Penalty<br>Time=%{x}<br>Team=%{y}<br>Comment=%{customdata[0]}<extra></extra>",
         "hovertext": [
          "Touch and Pass",
          "Forward Pass",
          "Offside",
          "Forward Pass",
          "Offside",
          "Delay of Play",
          "Hard Touch",
          "Forward Pass",
          "Offside",
          "Forward Pass",
          "In The Ruck",
          "Hard Touch",
          "Forward Pass",
          "Forward Pass",
          "In The Ruck",
          "Forward Pass",
          "Shoulder"
         ],
         "legendgroup": "Penalty",
         "marker": {
          "color": "#ab63fa",
          "symbol": "circle"
         },
         "mode": "markers",
         "name": "Penalty",
         "orientation": "v",
         "showlegend": true,
         "type": "scatter",
         "x": [
          "2025-09-14T00:06:08.000000000",
          "2025-09-14T00:07:43.000000000",
          "2025-09-14T00:13:05.000000000",
          "2025-09-14T00:15:20.000000000",
          "2025-09-14T00:16:05.000000000",
          "2025-09-14T00:17:24.000000000",
          "2025-09-14T00:18:19.000000000",
          "2025-09-14T00:18:55.000000000",
          "2025-09-14T00:21:57.000000000",
          "2025-09-14T00:27:43.000000000",
          "2025-09-14T00:29:52.000000000",
          "2025-09-14T00:37:14.000000000",
          "2025-09-14T00:37:32.000000000",
          "2025-09-14T00:38:44.000000000",
          "2025-09-14T00:39:51.000000000",
          "2025-09-14T00:43:18.000000000",
          "2025-09-14T00:45:04.000000000"
         ],
         "xaxis": "x",
         "y": [
          "France",
          "France",
          "Ned",
          "France",
          "France",
          "France",
          "Ned",
          "France",
          "Ned",
          "Ned",
          "France",
          "Ned",
          "Ned",
          "Ned",
          "France",
          "France",
          "France"
         ],
         "yaxis": "y"
        },
        {
         "customdata": [
          [
           "Missed not over the ball?"
          ],
          [
           "Clear not over the ball"
          ],
          [
           "In the ruck ?"
          ],
          [
           "Off the ball skirmish"
          ],
          [
           "Seems like the same as the shoulder against France above"
          ]
         ],
         "hovertemplate": "<b>%{hovertext}</b><br><br>Type=To Review<br>Time=%{x}<br>Team=%{y}<br>Comment=%{customdata[0]}<extra></extra>",
         "hovertext": [
          "Bad Roll",
          "Bad Roll",
          "In The Ruck",
          "Other",
          "Other"
         ],
         "legendgroup": "To Review",
         "marker": {
          "color": "#FFA15A",
          "symbol": "circle"
         },
         "mode": "markers",
         "name": "To Review",
         "orientation": "v",
         "showlegend": true,
         "type": "scatter",
         "x": [
          "2025-09-14T00:16:20.000000000",
          "2025-09-14T00:17:05.000000000",
          "2025-09-14T00:21:48.000000000",
          "2025-09-14T00:22:03.000000000",
          "2025-09-14T00:46:35.000000000"
         ],
         "xaxis": "x",
         "y": [
          "France",
          "Ned",
          "France",
          "France",
          "France"
         ],
         "yaxis": "y"
        }
       ],
       "layout": {
        "legend": {
         "title": {
          "text": "Type"
         },
         "tracegroupgap": 0
        },
        "margin": {
         "t": 60
        },
        "template": {
         "data": {
          "bar": [
           {
            "error_x": {
             "color": "#2a3f5f"
            },
            "error_y": {
             "color": "#2a3f5f"
            },
            "marker": {
             "line": {
              "color": "#E5ECF6",
              "width": 0.5
             },
             "pattern": {
              "fillmode": "overlay",
              "size": 10,
              "solidity": 0.2
             }
            },
            "type": "bar"
           }
          ],
          "barpolar": [
           {
            "marker": {
             "line": {
              "color": "#E5ECF6",
              "width": 0.5
             },
             "pattern": {
              "fillmode": "overlay",
              "size": 10,
              "solidity": 0.2
             }
            },
            "type": "barpolar"
           }
          ],
          "carpet": [
           {
            "aaxis": {
             "endlinecolor": "#2a3f5f",
             "gridcolor": "white",
             "linecolor": "white",
             "minorgridcolor": "white",
             "startlinecolor": "#2a3f5f"
            },
            "baxis": {
             "endlinecolor": "#2a3f5f",
             "gridcolor": "white",
             "linecolor": "white",
             "minorgridcolor": "white",
             "startlinecolor": "#2a3f5f"
            },
            "type": "carpet"
           }
          ],
          "choropleth": [
           {
            "colorbar": {
             "outlinewidth": 0,
             "ticks": ""
            },
            "type": "choropleth"
           }
          ],
          "contour": [
           {
            "colorbar": {
             "outlinewidth": 0,
             "ticks": ""
            },
            "colorscale": [
             [
              0,
              "#0d0887"
             ],
             [
              0.1111111111111111,
              "#46039f"
             ],
             [
              0.2222222222222222,
              "#7201a8"
             ],
             [
              0.3333333333333333,
              "#9c179e"
             ],
             [
              0.4444444444444444,
              "#bd3786"
             ],
             [
              0.5555555555555556,
              "#d8576b"
             ],
             [
              0.6666666666666666,
              "#ed7953"
             ],
             [
              0.7777777777777778,
              "#fb9f3a"
             ],
             [
              0.8888888888888888,
              "#fdca26"
             ],
             [
              1,
              "#f0f921"
             ]
            ],
            "type": "contour"
           }
          ],
          "contourcarpet": [
           {
            "colorbar": {
             "outlinewidth": 0,
             "ticks": ""
            },
            "type": "contourcarpet"
           }
          ],
          "heatmap": [
           {
            "colorbar": {
             "outlinewidth": 0,
             "ticks": ""
            },
            "colorscale": [
             [
              0,
              "#0d0887"
             ],
             [
              0.1111111111111111,
              "#46039f"
             ],
             [
              0.2222222222222222,
              "#7201a8"
             ],
             [
              0.3333333333333333,
              "#9c179e"
             ],
             [
              0.4444444444444444,
              "#bd3786"
             ],
             [
              0.5555555555555556,
              "#d8576b"
             ],
             [
              0.6666666666666666,
              "#ed7953"
             ],
             [
              0.7777777777777778,
              "#fb9f3a"
             ],
             [
              0.8888888888888888,
              "#fdca26"
             ],
             [
              1,
              "#f0f921"
             ]
            ],
            "type": "heatmap"
           }
          ],
          "histogram": [
           {
            "marker": {
             "pattern": {
              "fillmode": "overlay",
              "size": 10,
              "solidity": 0.2
             }
            },
            "type": "histogram"
           }
          ],
          "histogram2d": [
           {
            "colorbar": {
             "outlinewidth": 0,
             "ticks": ""
            },
            "colorscale": [
             [
              0,
              "#0d0887"
             ],
             [
              0.1111111111111111,
              "#46039f"
             ],
             [
              0.2222222222222222,
              "#7201a8"
             ],
             [
              0.3333333333333333,
              "#9c179e"
             ],
             [
              0.4444444444444444,
              "#bd3786"
             ],
             [
              0.5555555555555556,
              "#d8576b"
             ],
             [
              0.6666666666666666,
              "#ed7953"
             ],
             [
              0.7777777777777778,
              "#fb9f3a"
             ],
             [
              0.8888888888888888,
              "#fdca26"
             ],
             [
              1,
              "#f0f921"
             ]
            ],
            "type": "histogram2d"
           }
          ],
          "histogram2dcontour": [
           {
            "colorbar": {
             "outlinewidth": 0,
             "ticks": ""
            },
            "colorscale": [
             [
              0,
              "#0d0887"
             ],
             [
              0.1111111111111111,
              "#46039f"
             ],
             [
              0.2222222222222222,
              "#7201a8"
             ],
             [
              0.3333333333333333,
              "#9c179e"
             ],
             [
              0.4444444444444444,
              "#bd3786"
             ],
             [
              0.5555555555555556,
              "#d8576b"
             ],
             [
              0.6666666666666666,
              "#ed7953"
             ],
             [
              0.7777777777777778,
              "#fb9f3a"
             ],
             [
              0.8888888888888888,
              "#fdca26"
             ],
             [
              1,
              "#f0f921"
             ]
            ],
            "type": "histogram2dcontour"
           }
          ],
          "mesh3d": [
           {
            "colorbar": {
             "outlinewidth": 0,
             "ticks": ""
            },
            "type": "mesh3d"
           }
          ],
          "parcoords": [
           {
            "line": {
             "colorbar": {
              "outlinewidth": 0,
              "ticks": ""
             }
            },
            "type": "parcoords"
           }
          ],
          "pie": [
           {
            "automargin": true,
            "type": "pie"
           }
          ],
          "scatter": [
           {
            "fillpattern": {
             "fillmode": "overlay",
             "size": 10,
             "solidity": 0.2
            },
            "type": "scatter"
           }
          ],
          "scatter3d": [
           {
            "line": {
             "colorbar": {
              "outlinewidth": 0,
              "ticks": ""
             }
            },
            "marker": {
             "colorbar": {
              "outlinewidth": 0,
              "ticks": ""
             }
            },
            "type": "scatter3d"
           }
          ],
          "scattercarpet": [
           {
            "marker": {
             "colorbar": {
              "outlinewidth": 0,
              "ticks": ""
             }
            },
            "type": "scattercarpet"
           }
          ],
          "scattergeo": [
           {
            "marker": {
             "colorbar": {
              "outlinewidth": 0,
              "ticks": ""
             }
            },
            "type": "scattergeo"
           }
          ],
          "scattergl": [
           {
            "marker": {
             "colorbar": {
              "outlinewidth": 0,
              "ticks": ""
             }
            },
            "type": "scattergl"
           }
          ],
          "scattermap": [
           {
            "marker": {
             "colorbar": {
              "outlinewidth": 0,
              "ticks": ""
             }
            },
            "type": "scattermap"
           }
          ],
          "scattermapbox": [
           {
            "marker": {
             "colorbar": {
              "outlinewidth": 0,
              "ticks": ""
             }
            },
            "type": "scattermapbox"
           }
          ],
          "scatterpolar": [
           {
            "marker": {
             "colorbar": {
              "outlinewidth": 0,
              "ticks": ""
             }
            },
            "type": "scatterpolar"
           }
          ],
          "scatterpolargl": [
           {
            "marker": {
             "colorbar": {
              "outlinewidth": 0,
              "ticks": ""
             }
            },
            "type": "scatterpolargl"
           }
          ],
          "scatterternary": [
           {
            "marker": {
             "colorbar": {
              "outlinewidth": 0,
              "ticks": ""
             }
            },
            "type": "scatterternary"
           }
          ],
          "surface": [
           {
            "colorbar": {
             "outlinewidth": 0,
             "ticks": ""
            },
            "colorscale": [
             [
              0,
              "#0d0887"
             ],
             [
              0.1111111111111111,
              "#46039f"
             ],
             [
              0.2222222222222222,
              "#7201a8"
             ],
             [
              0.3333333333333333,
              "#9c179e"
             ],
             [
              0.4444444444444444,
              "#bd3786"
             ],
             [
              0.5555555555555556,
              "#d8576b"
             ],
             [
              0.6666666666666666,
              "#ed7953"
             ],
             [
              0.7777777777777778,
              "#fb9f3a"
             ],
             [
              0.8888888888888888,
              "#fdca26"
             ],
             [
              1,
              "#f0f921"
             ]
            ],
            "type": "surface"
           }
          ],
          "table": [
           {
            "cells": {
             "fill": {
              "color": "#EBF0F8"
             },
             "line": {
              "color": "white"
             }
            },
            "header": {
             "fill": {
              "color": "#C8D4E3"
             },
             "line": {
              "color": "white"
             }
            },
            "type": "table"
           }
          ]
         },
         "layout": {
          "annotationdefaults": {
           "arrowcolor": "#2a3f5f",
           "arrowhead": 0,
           "arrowwidth": 1
          },
          "autotypenumbers": "strict",
          "coloraxis": {
           "colorbar": {
            "outlinewidth": 0,
            "ticks": ""
           }
          },
          "colorscale": {
           "diverging": [
            [
             0,
             "#8e0152"
            ],
            [
             0.1,
             "#c51b7d"
            ],
            [
             0.2,
             "#de77ae"
            ],
            [
             0.3,
             "#f1b6da"
            ],
            [
             0.4,
             "#fde0ef"
            ],
            [
             0.5,
             "#f7f7f7"
            ],
            [
             0.6,
             "#e6f5d0"
            ],
            [
             0.7,
             "#b8e186"
            ],
            [
             0.8,
             "#7fbc41"
            ],
            [
             0.9,
             "#4d9221"
            ],
            [
             1,
             "#276419"
            ]
           ],
           "sequential": [
            [
             0,
             "#0d0887"
            ],
            [
             0.1111111111111111,
             "#46039f"
            ],
            [
             0.2222222222222222,
             "#7201a8"
            ],
            [
             0.3333333333333333,
             "#9c179e"
            ],
            [
             0.4444444444444444,
             "#bd3786"
            ],
            [
             0.5555555555555556,
             "#d8576b"
            ],
            [
             0.6666666666666666,
             "#ed7953"
            ],
            [
             0.7777777777777778,
             "#fb9f3a"
            ],
            [
             0.8888888888888888,
             "#fdca26"
            ],
            [
             1,
             "#f0f921"
            ]
           ],
           "sequentialminus": [
            [
             0,
             "#0d0887"
            ],
            [
             0.1111111111111111,
             "#46039f"
            ],
            [
             0.2222222222222222,
             "#7201a8"
            ],
            [
             0.3333333333333333,
             "#9c179e"
            ],
            [
             0.4444444444444444,
             "#bd3786"
            ],
            [
             0.5555555555555556,
             "#d8576b"
            ],
            [
             0.6666666666666666,
             "#ed7953"
            ],
            [
             0.7777777777777778,
             "#fb9f3a"
            ],
            [
             0.8888888888888888,
             "#fdca26"
            ],
            [
             1,
             "#f0f921"
            ]
           ]
          },
          "colorway": [
           "#636efa",
           "#EF553B",
           "#00cc96",
           "#ab63fa",
           "#FFA15A",
           "#19d3f3",
           "#FF6692",
           "#B6E880",
           "#FF97FF",
           "#FECB52"
          ],
          "font": {
           "color": "#2a3f5f"
          },
          "geo": {
           "bgcolor": "white",
           "lakecolor": "white",
           "landcolor": "#E5ECF6",
           "showlakes": true,
           "showland": true,
           "subunitcolor": "white"
          },
          "hoverlabel": {
           "align": "left"
          },
          "hovermode": "closest",
          "mapbox": {
           "style": "light"
          },
          "paper_bgcolor": "white",
          "plot_bgcolor": "#E5ECF6",
          "polar": {
           "angularaxis": {
            "gridcolor": "white",
            "linecolor": "white",
            "ticks": ""
           },
           "bgcolor": "#E5ECF6",
           "radialaxis": {
            "gridcolor": "white",
            "linecolor": "white",
            "ticks": ""
           }
          },
          "scene": {
           "xaxis": {
            "backgroundcolor": "#E5ECF6",
            "gridcolor": "white",
            "gridwidth": 2,
            "linecolor": "white",
            "showbackground": true,
            "ticks": "",
            "zerolinecolor": "white"
           },
           "yaxis": {
            "backgroundcolor": "#E5ECF6",
            "gridcolor": "white",
            "gridwidth": 2,
            "linecolor": "white",
            "showbackground": true,
            "ticks": "",
            "zerolinecolor": "white"
           },
           "zaxis": {
            "backgroundcolor": "#E5ECF6",
            "gridcolor": "white",
            "gridwidth": 2,
            "linecolor": "white",
            "showbackground": true,
            "ticks": "",
            "zerolinecolor": "white"
           }
          },
          "shapedefaults": {
           "line": {
            "color": "#2a3f5f"
           }
          },
          "ternary": {
           "aaxis": {
            "gridcolor": "white",
            "linecolor": "white",
            "ticks": ""
           },
           "baxis": {
            "gridcolor": "white",
            "linecolor": "white",
            "ticks": ""
           },
           "bgcolor": "#E5ECF6",
           "caxis": {
            "gridcolor": "white",
            "linecolor": "white",
            "ticks": ""
           }
          },
          "title": {
           "x": 0.05
          },
          "xaxis": {
           "automargin": true,
           "gridcolor": "white",
           "linecolor": "white",
           "ticks": "",
           "title": {
            "standoff": 15
           },
           "zerolinecolor": "white",
           "zerolinewidth": 2
          },
          "yaxis": {
           "automargin": true,
           "gridcolor": "white",
           "linecolor": "white",
           "ticks": "",
           "title": {
            "standoff": 15
           },
           "zerolinecolor": "white",
           "zerolinewidth": 2
          }
         }
        },
        "xaxis": {
         "anchor": "y",
         "domain": [
          0,
          1
         ],
         "title": {
          "text": "Time"
         }
        },
        "yaxis": {
         "anchor": "x",
         "categoryarray": [
          "France",
          "Ned"
         ],
         "categoryorder": "array",
         "domain": [
          0,
          1
         ],
         "title": {
          "text": "Team"
         }
        }
       }
      },
      "image/png": "[encoded data removed]"
     },
     "metadata": {},
     "output_type": "display_data"
    }
   ],
   "source": [
    "fig = px.scatter(\n",
    "    data_df, \n",
    "    x='Time', \n",
    "    y='Team',\n",
    "    hover_name=\"Name\",\n",
    "    hover_data=\"Comment\",\n",
    "    color=\"Type\",\n",
    "    category_orders={\"Team\": [OTHER_TEAM_NAME, \"France\"]}\n",
    ")\n",
    "fig.write_html(output_data_root / \"recap.html\")\n",
    "fig.show()"
   ]
  },
  {
   "cell_type": "code",
   "execution_count": 6,
   "id": "a22d7763-362b-4522-8c40-32fdc581ede0",
   "metadata": {},
   "outputs": [
    {
     "data": {
      "application/vnd.plotly.v1+json": {
       "config": {
        "plotlyServerURL": "https://plot.ly"
       },
       "data": [
        {
         "mode": "markers+lines",
         "name": "France",
         "type": "scatter",
         "x": [
          "2025-09-14T00:02:45.000000000",
          "2025-09-14T00:06:51.000000000",
          "2025-09-14T00:09:27.000000000",
          "2025-09-14T00:11:43.000000000",
          "2025-09-14T00:19:57.000000000",
          "2025-09-14T00:28:29.000000000",
          "2025-09-14T00:33:41.000000000",
          "2025-09-14T00:38:14.000000000",
          "2025-09-14T00:40:39.000000000",
          "2025-09-14T00:41:12.000000000",
          "2025-09-14T00:42:24.000000000",
          "2025-09-14T00:46:08.000000000"
         ],
         "y": {
          "bdata": "AAABAgMEBAUFBgYH",
          "dtype": "i1"
         }
        },
        {
         "mode": "markers+lines",
         "name": "Ned",
         "type": "scatter",
         "x": [
          "2025-09-14T00:02:45.000000000",
          "2025-09-14T00:06:51.000000000",
          "2025-09-14T00:09:27.000000000",
          "2025-09-14T00:11:43.000000000",
          "2025-09-14T00:19:57.000000000",
          "2025-09-14T00:28:29.000000000",
          "2025-09-14T00:33:41.000000000",
          "2025-09-14T00:38:14.000000000",
          "2025-09-14T00:40:39.000000000",
          "2025-09-14T00:41:12.000000000",
          "2025-09-14T00:42:24.000000000",
          "2025-09-14T00:46:08.000000000"
         ],
         "y": {
          "bdata": "AQICAgICAwMEBAUF",
          "dtype": "i1"
         }
        }
       ],
       "layout": {
        "hovermode": "x unified",
        "template": {
         "data": {
          "bar": [
           {
            "error_x": {
             "color": "#2a3f5f"
            },
            "error_y": {
             "color": "#2a3f5f"
            },
            "marker": {
             "line": {
              "color": "#E5ECF6",
              "width": 0.5
             },
             "pattern": {
              "fillmode": "overlay",
              "size": 10,
              "solidity": 0.2
             }
            },
            "type": "bar"
           }
          ],
          "barpolar": [
           {
            "marker": {
             "line": {
              "color": "#E5ECF6",
              "width": 0.5
             },
             "pattern": {
              "fillmode": "overlay",
              "size": 10,
              "solidity": 0.2
             }
            },
            "type": "barpolar"
           }
          ],
          "carpet": [
           {
            "aaxis": {
             "endlinecolor": "#2a3f5f",
             "gridcolor": "white",
             "linecolor": "white",
             "minorgridcolor": "white",
             "startlinecolor": "#2a3f5f"
            },
            "baxis": {
             "endlinecolor": "#2a3f5f",
             "gridcolor": "white",
             "linecolor": "white",
             "minorgridcolor": "white",
             "startlinecolor": "#2a3f5f"
            },
            "type": "carpet"
           }
          ],
          "choropleth": [
           {
            "colorbar": {
             "outlinewidth": 0,
             "ticks": ""
            },
            "type": "choropleth"
           }
          ],
          "contour": [
           {
            "colorbar": {
             "outlinewidth": 0,
             "ticks": ""
            },
            "colorscale": [
             [
              0,
              "#0d0887"
             ],
             [
              0.1111111111111111,
              "#46039f"
             ],
             [
              0.2222222222222222,
              "#7201a8"
             ],
             [
              0.3333333333333333,
              "#9c179e"
             ],
             [
              0.4444444444444444,
              "#bd3786"
             ],
             [
              0.5555555555555556,
              "#d8576b"
             ],
             [
              0.6666666666666666,
              "#ed7953"
             ],
             [
              0.7777777777777778,
              "#fb9f3a"
             ],
             [
              0.8888888888888888,
              "#fdca26"
             ],
             [
              1,
              "#f0f921"
             ]
            ],
            "type": "contour"
           }
          ],
          "contourcarpet": [
           {
            "colorbar": {
             "outlinewidth": 0,
             "ticks": ""
            },
            "type": "contourcarpet"
           }
          ],
          "heatmap": [
           {
            "colorbar": {
             "outlinewidth": 0,
             "ticks": ""
            },
            "colorscale": [
             [
              0,
              "#0d0887"
             ],
             [
              0.1111111111111111,
              "#46039f"
             ],
             [
              0.2222222222222222,
              "#7201a8"
             ],
             [
              0.3333333333333333,
              "#9c179e"
             ],
             [
              0.4444444444444444,
              "#bd3786"
             ],
             [
              0.5555555555555556,
              "#d8576b"
             ],
             [
              0.6666666666666666,
              "#ed7953"
             ],
             [
              0.7777777777777778,
              "#fb9f3a"
             ],
             [
              0.8888888888888888,
              "#fdca26"
             ],
             [
              1,
              "#f0f921"
             ]
            ],
            "type": "heatmap"
           }
          ],
          "histogram": [
           {
            "marker": {
             "pattern": {
              "fillmode": "overlay",
              "size": 10,
              "solidity": 0.2
             }
            },
            "type": "histogram"
           }
          ],
          "histogram2d": [
           {
            "colorbar": {
             "outlinewidth": 0,
             "ticks": ""
            },
            "colorscale": [
             [
              0,
              "#0d0887"
             ],
             [
              0.1111111111111111,
              "#46039f"
             ],
             [
              0.2222222222222222,
              "#7201a8"
             ],
             [
              0.3333333333333333,
              "#9c179e"
             ],
             [
              0.4444444444444444,
              "#bd3786"
             ],
             [
              0.5555555555555556,
              "#d8576b"
             ],
             [
              0.6666666666666666,
              "#ed7953"
             ],
             [
              0.7777777777777778,
              "#fb9f3a"
             ],
             [
              0.8888888888888888,
              "#fdca26"
             ],
             [
              1,
              "#f0f921"
             ]
            ],
            "type": "histogram2d"
           }
          ],
          "histogram2dcontour": [
           {
            "colorbar": {
             "outlinewidth": 0,
             "ticks": ""
            },
            "colorscale": [
             [
              0,
              "#0d0887"
             ],
             [
              0.1111111111111111,
              "#46039f"
             ],
             [
              0.2222222222222222,
              "#7201a8"
             ],
             [
              0.3333333333333333,
              "#9c179e"
             ],
             [
              0.4444444444444444,
              "#bd3786"
             ],
             [
              0.5555555555555556,
              "#d8576b"
             ],
             [
              0.6666666666666666,
              "#ed7953"
             ],
             [
              0.7777777777777778,
              "#fb9f3a"
             ],
             [
              0.8888888888888888,
              "#fdca26"
             ],
             [
              1,
              "#f0f921"
             ]
            ],
            "type": "histogram2dcontour"
           }
          ],
          "mesh3d": [
           {
            "colorbar": {
             "outlinewidth": 0,
             "ticks": ""
            },
            "type": "mesh3d"
           }
          ],
          "parcoords": [
           {
            "line": {
             "colorbar": {
              "outlinewidth": 0,
              "ticks": ""
             }
            },
            "type": "parcoords"
           }
          ],
          "pie": [
           {
            "automargin": true,
            "type": "pie"
           }
          ],
          "scatter": [
           {
            "fillpattern": {
             "fillmode": "overlay",
             "size": 10,
             "solidity": 0.2
            },
            "type": "scatter"
           }
          ],
          "scatter3d": [
           {
            "line": {
             "colorbar": {
              "outlinewidth": 0,
              "ticks": ""
             }
            },
            "marker": {
             "colorbar": {
              "outlinewidth": 0,
              "ticks": ""
             }
            },
            "type": "scatter3d"
           }
          ],
          "scattercarpet": [
           {
            "marker": {
             "colorbar": {
              "outlinewidth": 0,
              "ticks": ""
             }
            },
            "type": "scattercarpet"
           }
          ],
          "scattergeo": [
           {
            "marker": {
             "colorbar": {
              "outlinewidth": 0,
              "ticks": ""
             }
            },
            "type": "scattergeo"
           }
          ],
          "scattergl": [
           {
            "marker": {
             "colorbar": {
              "outlinewidth": 0,
              "ticks": ""
             }
            },
            "type": "scattergl"
           }
          ],
          "scattermap": [
           {
            "marker": {
             "colorbar": {
              "outlinewidth": 0,
              "ticks": ""
             }
            },
            "type": "scattermap"
           }
          ],
          "scattermapbox": [
           {
            "marker": {
             "colorbar": {
              "outlinewidth": 0,
              "ticks": ""
             }
            },
            "type": "scattermapbox"
           }
          ],
          "scatterpolar": [
           {
            "marker": {
             "colorbar": {
              "outlinewidth": 0,
              "ticks": ""
             }
            },
            "type": "scatterpolar"
           }
          ],
          "scatterpolargl": [
           {
            "marker": {
             "colorbar": {
              "outlinewidth": 0,
              "ticks": ""
             }
            },
            "type": "scatterpolargl"
           }
          ],
          "scatterternary": [
           {
            "marker": {
             "colorbar": {
              "outlinewidth": 0,
              "ticks": ""
             }
            },
            "type": "scatterternary"
           }
          ],
          "surface": [
           {
            "colorbar": {
             "outlinewidth": 0,
             "ticks": ""
            },
            "colorscale": [
             [
              0,
              "#0d0887"
             ],
             [
              0.1111111111111111,
              "#46039f"
             ],
             [
              0.2222222222222222,
              "#7201a8"
             ],
             [
              0.3333333333333333,
              "#9c179e"
             ],
             [
              0.4444444444444444,
              "#bd3786"
             ],
             [
              0.5555555555555556,
              "#d8576b"
             ],
             [
              0.6666666666666666,
              "#ed7953"
             ],
             [
              0.7777777777777778,
              "#fb9f3a"
             ],
             [
              0.8888888888888888,
              "#fdca26"
             ],
             [
              1,
              "#f0f921"
             ]
            ],
            "type": "surface"
           }
          ],
          "table": [
           {
            "cells": {
             "fill": {
              "color": "#EBF0F8"
             },
             "line": {
              "color": "white"
             }
            },
            "header": {
             "fill": {
              "color": "#C8D4E3"
             },
             "line": {
              "color": "white"
             }
            },
            "type": "table"
           }
          ]
         },
         "layout": {
          "annotationdefaults": {
           "arrowcolor": "#2a3f5f",
           "arrowhead": 0,
           "arrowwidth": 1
          },
          "autotypenumbers": "strict",
          "coloraxis": {
           "colorbar": {
            "outlinewidth": 0,
            "ticks": ""
           }
          },
          "colorscale": {
           "diverging": [
            [
             0,
             "#8e0152"
            ],
            [
             0.1,
             "#c51b7d"
            ],
            [
             0.2,
             "#de77ae"
            ],
            [
             0.3,
             "#f1b6da"
            ],
            [
             0.4,
             "#fde0ef"
            ],
            [
             0.5,
             "#f7f7f7"
            ],
            [
             0.6,
             "#e6f5d0"
            ],
            [
             0.7,
             "#b8e186"
            ],
            [
             0.8,
             "#7fbc41"
            ],
            [
             0.9,
             "#4d9221"
            ],
            [
             1,
             "#276419"
            ]
           ],
           "sequential": [
            [
             0,
             "#0d0887"
            ],
            [
             0.1111111111111111,
             "#46039f"
            ],
            [
             0.2222222222222222,
             "#7201a8"
            ],
            [
             0.3333333333333333,
             "#9c179e"
            ],
            [
             0.4444444444444444,
             "#bd3786"
            ],
            [
             0.5555555555555556,
             "#d8576b"
            ],
            [
             0.6666666666666666,
             "#ed7953"
            ],
            [
             0.7777777777777778,
             "#fb9f3a"
            ],
            [
             0.8888888888888888,
             "#fdca26"
            ],
            [
             1,
             "#f0f921"
            ]
           ],
           "sequentialminus": [
            [
             0,
             "#0d0887"
            ],
            [
             0.1111111111111111,
             "#46039f"
            ],
            [
             0.2222222222222222,
             "#7201a8"
            ],
            [
             0.3333333333333333,
             "#9c179e"
            ],
            [
             0.4444444444444444,
             "#bd3786"
            ],
            [
             0.5555555555555556,
             "#d8576b"
            ],
            [
             0.6666666666666666,
             "#ed7953"
            ],
            [
             0.7777777777777778,
             "#fb9f3a"
            ],
            [
             0.8888888888888888,
             "#fdca26"
            ],
            [
             1,
             "#f0f921"
            ]
           ]
          },
          "colorway": [
           "#636efa",
           "#EF553B",
           "#00cc96",
           "#ab63fa",
           "#FFA15A",
           "#19d3f3",
           "#FF6692",
           "#B6E880",
           "#FF97FF",
           "#FECB52"
          ],
          "font": {
           "color": "#2a3f5f"
          },
          "geo": {
           "bgcolor": "white",
           "lakecolor": "white",
           "landcolor": "#E5ECF6",
           "showlakes": true,
           "showland": true,
           "subunitcolor": "white"
          },
          "hoverlabel": {
           "align": "left"
          },
          "hovermode": "closest",
          "mapbox": {
           "style": "light"
          },
          "paper_bgcolor": "white",
          "plot_bgcolor": "#E5ECF6",
          "polar": {
           "angularaxis": {
            "gridcolor": "white",
            "linecolor": "white",
            "ticks": ""
           },
           "bgcolor": "#E5ECF6",
           "radialaxis": {
            "gridcolor": "white",
            "linecolor": "white",
            "ticks": ""
           }
          },
          "scene": {
           "xaxis": {
            "backgroundcolor": "#E5ECF6",
            "gridcolor": "white",
            "gridwidth": 2,
            "linecolor": "white",
            "showbackground": true,
            "ticks": "",
            "zerolinecolor": "white"
           },
           "yaxis": {
            "backgroundcolor": "#E5ECF6",
            "gridcolor": "white",
            "gridwidth": 2,
            "linecolor": "white",
            "showbackground": true,
            "ticks": "",
            "zerolinecolor": "white"
           },
           "zaxis": {
            "backgroundcolor": "#E5ECF6",
            "gridcolor": "white",
            "gridwidth": 2,
            "linecolor": "white",
            "showbackground": true,
            "ticks": "",
            "zerolinecolor": "white"
           }
          },
          "shapedefaults": {
           "line": {
            "color": "#2a3f5f"
           }
          },
          "ternary": {
           "aaxis": {
            "gridcolor": "white",
            "linecolor": "white",
            "ticks": ""
           },
           "baxis": {
            "gridcolor": "white",
            "linecolor": "white",
            "ticks": ""
           },
           "bgcolor": "#E5ECF6",
           "caxis": {
            "gridcolor": "white",
            "linecolor": "white",
            "ticks": ""
           }
          },
          "title": {
           "x": 0.05
          },
          "xaxis": {
           "automargin": true,
           "gridcolor": "white",
           "linecolor": "white",
           "ticks": "",
           "title": {
            "standoff": 15
           },
           "zerolinecolor": "white",
           "zerolinewidth": 2
          },
          "yaxis": {
           "automargin": true,
           "gridcolor": "white",
           "linecolor": "white",
           "ticks": "",
           "title": {
            "standoff": 15
           },
           "zerolinecolor": "white",
           "zerolinewidth": 2
          }
         }
        }
       }
      },
      "image/png": "[encoded data removed]"
     },
     "metadata": {},
     "output_type": "display_data"
    }
   ],
   "source": [
    "score_data = []\n",
    "score_local = 0\n",
    "score_other = 0\n",
    "for i, row in data_df[data_df[\"Type\"]==\"Try\"].iterrows():\n",
    "    if row[\"Against France\"]:\n",
    "        score_other += 1\n",
    "    else:\n",
    "        score_local += 1\n",
    "    score_data.append([\n",
    "        row[\"Time\"],\n",
    "        score_local,\n",
    "        score_other]\n",
    "    )\n",
    "score_df = pd.DataFrame(score_data, columns=[\"Time\", f\"Score {LOCAL_TEAM_NAME}\", f\"Score {OTHER_TEAM_NAME}\"])\n",
    "\n",
    "\n",
    "fig = go.Figure()\n",
    "fig.add_scatter(x=score_df[\"Time\"], y=score_df[f\"Score {LOCAL_TEAM_NAME}\"], name=LOCAL_TEAM_NAME, mode='markers+lines')\n",
    "fig.add_scatter(x=score_df[\"Time\"], y=score_df[f\"Score {OTHER_TEAM_NAME}\"], name=OTHER_TEAM_NAME, mode='markers+lines')\n",
    "fig.update_layout(hovermode=\"x unified\")\n",
    "fig.write_html(output_data_root / \"score.html\")\n",
    "fig.show()"
   ]
  },
  {
   "cell_type": "code",
   "execution_count": 7,
   "id": "fb490c53-8666-478b-bc84-ad14cc91c889",
   "metadata": {},
   "outputs": [
    {
     "data": {
      "application/vnd.plotly.v1+json": {
       "config": {
        "plotlyServerURL": "https://plot.ly"
       },
       "data": [
        {
         "mode": "markers+lines",
         "name": "France",
         "type": "scatter",
         "x": [
          "2025-09-14T00:02:45.000000000",
          "2025-09-14T00:06:51.000000000",
          "2025-09-14T00:09:27.000000000",
          "2025-09-14T00:11:43.000000000",
          "2025-09-14T00:19:57.000000000",
          "2025-09-14T00:28:29.000000000",
          "2025-09-14T00:33:41.000000000",
          "2025-09-14T00:38:14.000000000",
          "2025-09-14T00:40:39.000000000",
          "2025-09-14T00:41:12.000000000",
          "2025-09-14T00:42:24.000000000",
          "2025-09-14T00:46:08.000000000"
         ],
         "xaxis": "x",
         "y": {
          "bdata": "AAABAgMEBAUFBgYH",
          "dtype": "i1"
         },
         "yaxis": "y"
        },
        {
         "mode": "markers+lines",
         "name": "Ned",
         "type": "scatter",
         "x": [
          "2025-09-14T00:02:45.000000000",
          "2025-09-14T00:06:51.000000000",
          "2025-09-14T00:09:27.000000000",
          "2025-09-14T00:11:43.000000000",
          "2025-09-14T00:19:57.000000000",
          "2025-09-14T00:28:29.000000000",
          "2025-09-14T00:33:41.000000000",
          "2025-09-14T00:38:14.000000000",
          "2025-09-14T00:40:39.000000000",
          "2025-09-14T00:41:12.000000000",
          "2025-09-14T00:42:24.000000000",
          "2025-09-14T00:46:08.000000000"
         ],
         "xaxis": "x",
         "y": {
          "bdata": "AQICAgICAwMEBAUF",
          "dtype": "i1"
         },
         "yaxis": "y"
        },
        {
         "mode": "markers+lines",
         "name": "France",
         "type": "scatter",
         "x": [
          "2025-09-14T00:03:54.000000000",
          "2025-09-14T00:04:27.000000000",
          "2025-09-14T00:04:46.000000000",
          "2025-09-14T00:05:28.000000000",
          "2025-09-14T00:08:44.000000000",
          "2025-09-14T00:11:03.000000000",
          "2025-09-14T00:12:30.000000000",
          "2025-09-14T00:13:21.000000000",
          "2025-09-14T00:14:00.000000000",
          "2025-09-14T00:14:30.000000000",
          "2025-09-14T00:15:06.000000000",
          "2025-09-14T00:17:00.000000000",
          "2025-09-14T00:17:54.000000000",
          "2025-09-14T00:19:31.000000000",
          "2025-09-14T00:20:47.000000000",
          "2025-09-14T00:21:04.000000000",
          "2025-09-14T00:21:34.000000000",
          "2025-09-14T00:27:22.000000000",
          "2025-09-14T00:29:24.000000000",
          "2025-09-14T00:29:33.000000000",
          "2025-09-14T00:30:33.000000000",
          "2025-09-14T00:31:04.000000000",
          "2025-09-14T00:31:32.000000000",
          "2025-09-14T00:32:06.000000000",
          "2025-09-14T00:32:25.000000000",
          "2025-09-14T00:32:56.000000000",
          "2025-09-14T00:33:26.000000000",
          "2025-09-14T00:34:18.000000000",
          "2025-09-14T00:34:50.000000000",
          "2025-09-14T00:35:43.000000000",
          "2025-09-14T00:36:15.000000000",
          "2025-09-14T00:36:50.000000000",
          "2025-09-14T00:39:28.000000000",
          "2025-09-14T00:41:48.000000000",
          "2025-09-14T00:43:51.000000000",
          "2025-09-14T00:44:19.000000000",
          "2025-09-14T00:44:53.000000000",
          "2025-09-14T00:45:35.000000000",
          "2025-09-14T00:46:58.000000000"
         ],
         "xaxis": "x2",
         "y": {
          "bdata": "AAEBAgMEBQUGBgcICQoLCwwMDQ0ODg8PEBAQEBARERISEhMTFBUW",
          "dtype": "i1"
         },
         "yaxis": "y2"
        },
        {
         "mode": "markers+lines",
         "name": "Ned",
         "type": "scatter",
         "x": [
          "2025-09-14T00:03:54.000000000",
          "2025-09-14T00:04:27.000000000",
          "2025-09-14T00:04:46.000000000",
          "2025-09-14T00:05:28.000000000",
          "2025-09-14T00:08:44.000000000",
          "2025-09-14T00:11:03.000000000",
          "2025-09-14T00:12:30.000000000",
          "2025-09-14T00:13:21.000000000",
          "2025-09-14T00:14:00.000000000",
          "2025-09-14T00:14:30.000000000",
          "2025-09-14T00:15:06.000000000",
          "2025-09-14T00:17:00.000000000",
          "2025-09-14T00:17:54.000000000",
          "2025-09-14T00:19:31.000000000",
          "2025-09-14T00:20:47.000000000",
          "2025-09-14T00:21:04.000000000",
          "2025-09-14T00:21:34.000000000",
          "2025-09-14T00:27:22.000000000",
          "2025-09-14T00:29:24.000000000",
          "2025-09-14T00:29:33.000000000",
          "2025-09-14T00:30:33.000000000",
          "2025-09-14T00:31:04.000000000",
          "2025-09-14T00:31:32.000000000",
          "2025-09-14T00:32:06.000000000",
          "2025-09-14T00:32:25.000000000",
          "2025-09-14T00:32:56.000000000",
          "2025-09-14T00:33:26.000000000",
          "2025-09-14T00:34:18.000000000",
          "2025-09-14T00:34:50.000000000",
          "2025-09-14T00:35:43.000000000",
          "2025-09-14T00:36:15.000000000",
          "2025-09-14T00:36:50.000000000",
          "2025-09-14T00:39:28.000000000",
          "2025-09-14T00:41:48.000000000",
          "2025-09-14T00:43:51.000000000",
          "2025-09-14T00:44:19.000000000",
          "2025-09-14T00:44:53.000000000",
          "2025-09-14T00:45:35.000000000",
          "2025-09-14T00:46:58.000000000"
         ],
         "xaxis": "x2",
         "y": {
          "bdata": "AQECAgICAgMDBAQEBAQEBQUGBgcHCAgJCQoLDA0NDg4PEBARERER",
          "dtype": "i1"
         },
         "yaxis": "y2"
        },
        {
         "mode": "markers+lines",
         "name": "France",
         "type": "scatter",
         "x": [
          "2025-09-14T00:06:08.000000000",
          "2025-09-14T00:07:43.000000000",
          "2025-09-14T00:13:05.000000000",
          "2025-09-14T00:15:20.000000000",
          "2025-09-14T00:16:05.000000000",
          "2025-09-14T00:17:24.000000000",
          "2025-09-14T00:18:19.000000000",
          "2025-09-14T00:18:55.000000000",
          "2025-09-14T00:21:57.000000000",
          "2025-09-14T00:27:43.000000000",
          "2025-09-14T00:29:52.000000000",
          "2025-09-14T00:37:14.000000000",
          "2025-09-14T00:37:32.000000000",
          "2025-09-14T00:38:44.000000000",
          "2025-09-14T00:39:51.000000000",
          "2025-09-14T00:43:18.000000000",
          "2025-09-14T00:45:04.000000000"
         ],
         "xaxis": "x3",
         "y": {
          "bdata": "AAABAQEBAgIDBAQFBgcHBwc=",
          "dtype": "i1"
         },
         "yaxis": "y3"
        },
        {
         "mode": "markers+lines",
         "name": "Ned",
         "type": "scatter",
         "x": [
          "2025-09-14T00:06:08.000000000",
          "2025-09-14T00:07:43.000000000",
          "2025-09-14T00:13:05.000000000",
          "2025-09-14T00:15:20.000000000",
          "2025-09-14T00:16:05.000000000",
          "2025-09-14T00:17:24.000000000",
          "2025-09-14T00:18:19.000000000",
          "2025-09-14T00:18:55.000000000",
          "2025-09-14T00:21:57.000000000",
          "2025-09-14T00:27:43.000000000",
          "2025-09-14T00:29:52.000000000",
          "2025-09-14T00:37:14.000000000",
          "2025-09-14T00:37:32.000000000",
          "2025-09-14T00:38:44.000000000",
          "2025-09-14T00:39:51.000000000",
          "2025-09-14T00:43:18.000000000",
          "2025-09-14T00:45:04.000000000"
         ],
         "xaxis": "x3",
         "y": {
          "bdata": "AQICAwQFBQYGBgcHBwcICQo=",
          "dtype": "i1"
         },
         "yaxis": "y3"
        }
       ],
       "layout": {
        "annotations": [
         {
          "font": {
           "size": 16
          },
          "showarrow": false,
          "text": "Try",
          "x": 0.5,
          "xanchor": "center",
          "xref": "paper",
          "y": 1,
          "yanchor": "bottom",
          "yref": "paper"
         },
         {
          "font": {
           "size": 16
          },
          "showarrow": false,
          "text": "Turnover",
          "x": 0.5,
          "xanchor": "center",
          "xref": "paper",
          "y": 0.6111111111111112,
          "yanchor": "bottom",
          "yref": "paper"
         },
         {
          "font": {
           "size": 16
          },
          "showarrow": false,
          "text": "Penalty",
          "x": 0.5,
          "xanchor": "center",
          "xref": "paper",
          "y": 0.22222222222222224,
          "yanchor": "bottom",
          "yref": "paper"
         }
        ],
        "hovermode": "x unified",
        "template": {
         "data": {
          "bar": [
           {
            "error_x": {
             "color": "#2a3f5f"
            },
            "error_y": {
             "color": "#2a3f5f"
            },
            "marker": {
             "line": {
              "color": "#E5ECF6",
              "width": 0.5
             },
             "pattern": {
              "fillmode": "overlay",
              "size": 10,
              "solidity": 0.2
             }
            },
            "type": "bar"
           }
          ],
          "barpolar": [
           {
            "marker": {
             "line": {
              "color": "#E5ECF6",
              "width": 0.5
             },
             "pattern": {
              "fillmode": "overlay",
              "size": 10,
              "solidity": 0.2
             }
            },
            "type": "barpolar"
           }
          ],
          "carpet": [
           {
            "aaxis": {
             "endlinecolor": "#2a3f5f",
             "gridcolor": "white",
             "linecolor": "white",
             "minorgridcolor": "white",
             "startlinecolor": "#2a3f5f"
            },
            "baxis": {
             "endlinecolor": "#2a3f5f",
             "gridcolor": "white",
             "linecolor": "white",
             "minorgridcolor": "white",
             "startlinecolor": "#2a3f5f"
            },
            "type": "carpet"
           }
          ],
          "choropleth": [
           {
            "colorbar": {
             "outlinewidth": 0,
             "ticks": ""
            },
            "type": "choropleth"
           }
          ],
          "contour": [
           {
            "colorbar": {
             "outlinewidth": 0,
             "ticks": ""
            },
            "colorscale": [
             [
              0,
              "#0d0887"
             ],
             [
              0.1111111111111111,
              "#46039f"
             ],
             [
              0.2222222222222222,
              "#7201a8"
             ],
             [
              0.3333333333333333,
              "#9c179e"
             ],
             [
              0.4444444444444444,
              "#bd3786"
             ],
             [
              0.5555555555555556,
              "#d8576b"
             ],
             [
              0.6666666666666666,
              "#ed7953"
             ],
             [
              0.7777777777777778,
              "#fb9f3a"
             ],
             [
              0.8888888888888888,
              "#fdca26"
             ],
             [
              1,
              "#f0f921"
             ]
            ],
            "type": "contour"
           }
          ],
          "contourcarpet": [
           {
            "colorbar": {
             "outlinewidth": 0,
             "ticks": ""
            },
            "type": "contourcarpet"
           }
          ],
          "heatmap": [
           {
            "colorbar": {
             "outlinewidth": 0,
             "ticks": ""
            },
            "colorscale": [
             [
              0,
              "#0d0887"
             ],
             [
              0.1111111111111111,
              "#46039f"
             ],
             [
              0.2222222222222222,
              "#7201a8"
             ],
             [
              0.3333333333333333,
              "#9c179e"
             ],
             [
              0.4444444444444444,
              "#bd3786"
             ],
             [
              0.5555555555555556,
              "#d8576b"
             ],
             [
              0.6666666666666666,
              "#ed7953"
             ],
             [
              0.7777777777777778,
              "#fb9f3a"
             ],
             [
              0.8888888888888888,
              "#fdca26"
             ],
             [
              1,
              "#f0f921"
             ]
            ],
            "type": "heatmap"
           }
          ],
          "histogram": [
           {
            "marker": {
             "pattern": {
              "fillmode": "overlay",
              "size": 10,
              "solidity": 0.2
             }
            },
            "type": "histogram"
           }
          ],
          "histogram2d": [
           {
            "colorbar": {
             "outlinewidth": 0,
             "ticks": ""
            },
            "colorscale": [
             [
              0,
              "#0d0887"
             ],
             [
              0.1111111111111111,
              "#46039f"
             ],
             [
              0.2222222222222222,
              "#7201a8"
             ],
             [
              0.3333333333333333,
              "#9c179e"
             ],
             [
              0.4444444444444444,
              "#bd3786"
             ],
             [
              0.5555555555555556,
              "#d8576b"
             ],
             [
              0.6666666666666666,
              "#ed7953"
             ],
             [
              0.7777777777777778,
              "#fb9f3a"
             ],
             [
              0.8888888888888888,
              "#fdca26"
             ],
             [
              1,
              "#f0f921"
             ]
            ],
            "type": "histogram2d"
           }
          ],
          "histogram2dcontour": [
           {
            "colorbar": {
             "outlinewidth": 0,
             "ticks": ""
            },
            "colorscale": [
             [
              0,
              "#0d0887"
             ],
             [
              0.1111111111111111,
              "#46039f"
             ],
             [
              0.2222222222222222,
              "#7201a8"
             ],
             [
              0.3333333333333333,
              "#9c179e"
             ],
             [
              0.4444444444444444,
              "#bd3786"
             ],
             [
              0.5555555555555556,
              "#d8576b"
             ],
             [
              0.6666666666666666,
              "#ed7953"
             ],
             [
              0.7777777777777778,
              "#fb9f3a"
             ],
             [
              0.8888888888888888,
              "#fdca26"
             ],
             [
              1,
              "#f0f921"
             ]
            ],
            "type": "histogram2dcontour"
           }
          ],
          "mesh3d": [
           {
            "colorbar": {
             "outlinewidth": 0,
             "ticks": ""
            },
            "type": "mesh3d"
           }
          ],
          "parcoords": [
           {
            "line": {
             "colorbar": {
              "outlinewidth": 0,
              "ticks": ""
             }
            },
            "type": "parcoords"
           }
          ],
          "pie": [
           {
            "automargin": true,
            "type": "pie"
           }
          ],
          "scatter": [
           {
            "fillpattern": {
             "fillmode": "overlay",
             "size": 10,
             "solidity": 0.2
            },
            "type": "scatter"
           }
          ],
          "scatter3d": [
           {
            "line": {
             "colorbar": {
              "outlinewidth": 0,
              "ticks": ""
             }
            },
            "marker": {
             "colorbar": {
              "outlinewidth": 0,
              "ticks": ""
             }
            },
            "type": "scatter3d"
           }
          ],
          "scattercarpet": [
           {
            "marker": {
             "colorbar": {
              "outlinewidth": 0,
              "ticks": ""
             }
            },
            "type": "scattercarpet"
           }
          ],
          "scattergeo": [
           {
            "marker": {
             "colorbar": {
              "outlinewidth": 0,
              "ticks": ""
             }
            },
            "type": "scattergeo"
           }
          ],
          "scattergl": [
           {
            "marker": {
             "colorbar": {
              "outlinewidth": 0,
              "ticks": ""
             }
            },
            "type": "scattergl"
           }
          ],
          "scattermap": [
           {
            "marker": {
             "colorbar": {
              "outlinewidth": 0,
              "ticks": ""
             }
            },
            "type": "scattermap"
           }
          ],
          "scattermapbox": [
           {
            "marker": {
             "colorbar": {
              "outlinewidth": 0,
              "ticks": ""
             }
            },
            "type": "scattermapbox"
           }
          ],
          "scatterpolar": [
           {
            "marker": {
             "colorbar": {
              "outlinewidth": 0,
              "ticks": ""
             }
            },
            "type": "scatterpolar"
           }
          ],
          "scatterpolargl": [
           {
            "marker": {
             "colorbar": {
              "outlinewidth": 0,
              "ticks": ""
             }
            },
            "type": "scatterpolargl"
           }
          ],
          "scatterternary": [
           {
            "marker": {
             "colorbar": {
              "outlinewidth": 0,
              "ticks": ""
             }
            },
            "type": "scatterternary"
           }
          ],
          "surface": [
           {
            "colorbar": {
             "outlinewidth": 0,
             "ticks": ""
            },
            "colorscale": [
             [
              0,
              "#0d0887"
             ],
             [
              0.1111111111111111,
              "#46039f"
             ],
             [
              0.2222222222222222,
              "#7201a8"
             ],
             [
              0.3333333333333333,
              "#9c179e"
             ],
             [
              0.4444444444444444,
              "#bd3786"
             ],
             [
              0.5555555555555556,
              "#d8576b"
             ],
             [
              0.6666666666666666,
              "#ed7953"
             ],
             [
              0.7777777777777778,
              "#fb9f3a"
             ],
             [
              0.8888888888888888,
              "#fdca26"
             ],
             [
              1,
              "#f0f921"
             ]
            ],
            "type": "surface"
           }
          ],
          "table": [
           {
            "cells": {
             "fill": {
              "color": "#EBF0F8"
             },
             "line": {
              "color": "white"
             }
            },
            "header": {
             "fill": {
              "color": "#C8D4E3"
             },
             "line": {
              "color": "white"
             }
            },
            "type": "table"
           }
          ]
         },
         "layout": {
          "annotationdefaults": {
           "arrowcolor": "#2a3f5f",
           "arrowhead": 0,
           "arrowwidth": 1
          },
          "autotypenumbers": "strict",
          "coloraxis": {
           "colorbar": {
            "outlinewidth": 0,
            "ticks": ""
           }
          },
          "colorscale": {
           "diverging": [
            [
             0,
             "#8e0152"
            ],
            [
             0.1,
             "#c51b7d"
            ],
            [
             0.2,
             "#de77ae"
            ],
            [
             0.3,
             "#f1b6da"
            ],
            [
             0.4,
             "#fde0ef"
            ],
            [
             0.5,
             "#f7f7f7"
            ],
            [
             0.6,
             "#e6f5d0"
            ],
            [
             0.7,
             "#b8e186"
            ],
            [
             0.8,
             "#7fbc41"
            ],
            [
             0.9,
             "#4d9221"
            ],
            [
             1,
             "#276419"
            ]
           ],
           "sequential": [
            [
             0,
             "#0d0887"
            ],
            [
             0.1111111111111111,
             "#46039f"
            ],
            [
             0.2222222222222222,
             "#7201a8"
            ],
            [
             0.3333333333333333,
             "#9c179e"
            ],
            [
             0.4444444444444444,
             "#bd3786"
            ],
            [
             0.5555555555555556,
             "#d8576b"
            ],
            [
             0.6666666666666666,
             "#ed7953"
            ],
            [
             0.7777777777777778,
             "#fb9f3a"
            ],
            [
             0.8888888888888888,
             "#fdca26"
            ],
            [
             1,
             "#f0f921"
            ]
           ],
           "sequentialminus": [
            [
             0,
             "#0d0887"
            ],
            [
             0.1111111111111111,
             "#46039f"
            ],
            [
             0.2222222222222222,
             "#7201a8"
            ],
            [
             0.3333333333333333,
             "#9c179e"
            ],
            [
             0.4444444444444444,
             "#bd3786"
            ],
            [
             0.5555555555555556,
             "#d8576b"
            ],
            [
             0.6666666666666666,
             "#ed7953"
            ],
            [
             0.7777777777777778,
             "#fb9f3a"
            ],
            [
             0.8888888888888888,
             "#fdca26"
            ],
            [
             1,
             "#f0f921"
            ]
           ]
          },
          "colorway": [
           "#636efa",
           "#EF553B",
           "#00cc96",
           "#ab63fa",
           "#FFA15A",
           "#19d3f3",
           "#FF6692",
           "#B6E880",
           "#FF97FF",
           "#FECB52"
          ],
          "font": {
           "color": "#2a3f5f"
          },
          "geo": {
           "bgcolor": "white",
           "lakecolor": "white",
           "landcolor": "#E5ECF6",
           "showlakes": true,
           "showland": true,
           "subunitcolor": "white"
          },
          "hoverlabel": {
           "align": "left"
          },
          "hovermode": "closest",
          "mapbox": {
           "style": "light"
          },
          "paper_bgcolor": "white",
          "plot_bgcolor": "#E5ECF6",
          "polar": {
           "angularaxis": {
            "gridcolor": "white",
            "linecolor": "white",
            "ticks": ""
           },
           "bgcolor": "#E5ECF6",
           "radialaxis": {
            "gridcolor": "white",
            "linecolor": "white",
            "ticks": ""
           }
          },
          "scene": {
           "xaxis": {
            "backgroundcolor": "#E5ECF6",
            "gridcolor": "white",
            "gridwidth": 2,
            "linecolor": "white",
            "showbackground": true,
            "ticks": "",
            "zerolinecolor": "white"
           },
           "yaxis": {
            "backgroundcolor": "#E5ECF6",
            "gridcolor": "white",
            "gridwidth": 2,
            "linecolor": "white",
            "showbackground": true,
            "ticks": "",
            "zerolinecolor": "white"
           },
           "zaxis": {
            "backgroundcolor": "#E5ECF6",
            "gridcolor": "white",
            "gridwidth": 2,
            "linecolor": "white",
            "showbackground": true,
            "ticks": "",
            "zerolinecolor": "white"
           }
          },
          "shapedefaults": {
           "line": {
            "color": "#2a3f5f"
           }
          },
          "ternary": {
           "aaxis": {
            "gridcolor": "white",
            "linecolor": "white",
            "ticks": ""
           },
           "baxis": {
            "gridcolor": "white",
            "linecolor": "white",
            "ticks": ""
           },
           "bgcolor": "#E5ECF6",
           "caxis": {
            "gridcolor": "white",
            "linecolor": "white",
            "ticks": ""
           }
          },
          "title": {
           "x": 0.05
          },
          "xaxis": {
           "automargin": true,
           "gridcolor": "white",
           "linecolor": "white",
           "ticks": "",
           "title": {
            "standoff": 15
           },
           "zerolinecolor": "white",
           "zerolinewidth": 2
          },
          "yaxis": {
           "automargin": true,
           "gridcolor": "white",
           "linecolor": "white",
           "ticks": "",
           "title": {
            "standoff": 15
           },
           "zerolinecolor": "white",
           "zerolinewidth": 2
          }
         }
        },
        "xaxis": {
         "anchor": "y",
         "domain": [
          0,
          1
         ]
        },
        "xaxis2": {
         "anchor": "y2",
         "domain": [
          0,
          1
         ]
        },
        "xaxis3": {
         "anchor": "y3",
         "domain": [
          0,
          1
         ]
        },
        "yaxis": {
         "anchor": "x",
         "domain": [
          0.7777777777777778,
          1
         ]
        },
        "yaxis2": {
         "anchor": "x2",
         "domain": [
          0.3888888888888889,
          0.6111111111111112
         ]
        },
        "yaxis3": {
         "anchor": "x3",
         "domain": [
          0,
          0.22222222222222224
         ]
        }
       }
      },
      "image/png": "[encoded data removed]"
     },
     "metadata": {},
     "output_type": "display_data"
    }
   ],
   "source": [
    "events = [\"Try\", \"Turnover\", \"Penalty\"]\n",
    "fig = make_subplots(len(events),1, subplot_titles=events)\n",
    "for i, event_name in enumerate(events):\n",
    "    event_data = []\n",
    "    event_local, event_other = 0, 0\n",
    "    for j, row in data_df[data_df[\"Type\"]==event_name].iterrows():\n",
    "        if row[\"Against France\"]:\n",
    "            event_other += 1\n",
    "        else:\n",
    "            event_local += 1\n",
    "        event_data.append([\n",
    "            row[\"Time\"],\n",
    "            event_local,\n",
    "            event_other]\n",
    "        )\n",
    "    event_df = pd.DataFrame(event_data, columns=[\"Time\", f\"{event_name} {LOCAL_TEAM_NAME}\", f\"{event_name} {OTHER_TEAM_NAME}\"])\n",
    "\n",
    "    fig.add_trace(go.Scatter(\n",
    "        x=event_df[\"Time\"], y=event_df[f\"{event_name} {LOCAL_TEAM_NAME}\"], name=LOCAL_TEAM_NAME, mode='markers+lines'\n",
    "    ), i+1, 1)\n",
    "    fig.add_trace(go.Scatter(x=event_df[\"Time\"], y=event_df[f\"{event_name} {OTHER_TEAM_NAME}\"], name=OTHER_TEAM_NAME, mode='markers+lines'), i+1, 1)\n",
    "fig.update_layout(hovermode=\"x unified\")\n",
    "fig.write_html(output_data_root / \"events.html\")\n",
    "fig.show()"
   ]
  },
  {
   "cell_type": "code",
   "execution_count": 12,
   "id": "462c4156-6c8f-4fca-9b18-78101464030a",
   "metadata": {},
   "outputs": [
    {
     "data": {
      "application/vnd.plotly.v1+json": {
       "config": {
        "plotlyServerURL": "https://plot.ly"
       },
       "data": [
        {
         "legendgroup": "France",
         "marker": {
          "color": "green"
         },
         "mode": "markers+lines+text",
         "name": "France",
         "showlegend": true,
         "text": [
          "<a href='https://youtu.be/OVdyq3oRq_w?si=UqAu1x62-mD_XZPv&t=165'>link</a>",
          "<a href='https://youtu.be/OVdyq3oRq_w?si=UqAu1x62-mD_XZPv&t=411'>link</a>",
          "<a href='https://youtu.be/OVdyq3oRq_w?si=UqAu1x62-mD_XZPv&t=567'>link</a>",
          "<a href='https://youtu.be/OVdyq3oRq_w?si=UqAu1x62-mD_XZPv&t=703'>link</a>",
          "<a href='https://youtu.be/OVdyq3oRq_w?si=UqAu1x62-mD_XZPv&t=1197'>link</a>",
          "<a href='https://youtu.be/OVdyq3oRq_w?si=UqAu1x62-mD_XZPv&t=1709'>link</a>",
          "<a href='https://youtu.be/OVdyq3oRq_w?si=UqAu1x62-mD_XZPv&t=2021'>link</a>",
          "<a href='https://youtu.be/OVdyq3oRq_w?si=UqAu1x62-mD_XZPv&t=2294'>link</a>",
          "<a href='https://youtu.be/OVdyq3oRq_w?si=UqAu1x62-mD_XZPv&t=2439'>link</a>",
          "<a href='https://youtu.be/OVdyq3oRq_w?si=UqAu1x62-mD_XZPv&t=2472'>link</a>",
          "<a href='https://youtu.be/OVdyq3oRq_w?si=UqAu1x62-mD_XZPv&t=2544'>link</a>",
          "<a href='https://youtu.be/OVdyq3oRq_w?si=UqAu1x62-mD_XZPv&t=2768'>link</a>"
         ],
         "textposition": "bottom center",
         "type": "scatter",
         "x": [
          "2025-09-14T00:02:45.000000000",
          "2025-09-14T00:06:51.000000000",
          "2025-09-14T00:09:27.000000000",
          "2025-09-14T00:11:43.000000000",
          "2025-09-14T00:19:57.000000000",
          "2025-09-14T00:28:29.000000000",
          "2025-09-14T00:33:41.000000000",
          "2025-09-14T00:38:14.000000000",
          "2025-09-14T00:40:39.000000000",
          "2025-09-14T00:41:12.000000000",
          "2025-09-14T00:42:24.000000000",
          "2025-09-14T00:46:08.000000000"
         ],
         "xaxis": "x",
         "y": {
          "bdata": "AAABAgMEBAUFBgYH",
          "dtype": "i1"
         },
         "yaxis": "y"
        },
        {
         "legendgroup": "Ned",
         "marker": {
          "color": "red"
         },
         "mode": "markers+lines",
         "name": "Ned",
         "showlegend": true,
         "type": "scatter",
         "x": [
          "2025-09-14T00:02:45.000000000",
          "2025-09-14T00:06:51.000000000",
          "2025-09-14T00:09:27.000000000",
          "2025-09-14T00:11:43.000000000",
          "2025-09-14T00:19:57.000000000",
          "2025-09-14T00:28:29.000000000",
          "2025-09-14T00:33:41.000000000",
          "2025-09-14T00:38:14.000000000",
          "2025-09-14T00:40:39.000000000",
          "2025-09-14T00:41:12.000000000",
          "2025-09-14T00:42:24.000000000",
          "2025-09-14T00:46:08.000000000"
         ],
         "xaxis": "x",
         "y": {
          "bdata": "AQICAgICAwMEBAUF",
          "dtype": "i1"
         },
         "yaxis": "y"
        },
        {
         "legendgroup": "France",
         "marker": {
          "color": "green"
         },
         "mode": "markers+lines+text",
         "name": "France",
         "showlegend": false,
         "text": [
          "<a href='https://youtu.be/OVdyq3oRq_w?si=UqAu1x62-mD_XZPv&t=234'>link</a>",
          "<a href='https://youtu.be/OVdyq3oRq_w?si=UqAu1x62-mD_XZPv&t=267'>link</a>",
          "<a href='https://youtu.be/OVdyq3oRq_w?si=UqAu1x62-mD_XZPv&t=286'>link</a>",
          "<a href='https://youtu.be/OVdyq3oRq_w?si=UqAu1x62-mD_XZPv&t=328'>link</a>",
          "<a href='https://youtu.be/OVdyq3oRq_w?si=UqAu1x62-mD_XZPv&t=524'>link</a>",
          "<a href='https://youtu.be/OVdyq3oRq_w?si=UqAu1x62-mD_XZPv&t=663'>link</a>",
          "<a href='https://youtu.be/OVdyq3oRq_w?si=UqAu1x62-mD_XZPv&t=750'>link</a>",
          "<a href='https://youtu.be/OVdyq3oRq_w?si=UqAu1x62-mD_XZPv&t=801'>link</a>",
          "<a href='https://youtu.be/OVdyq3oRq_w?si=UqAu1x62-mD_XZPv&t=840'>link</a>",
          "<a href='https://youtu.be/OVdyq3oRq_w?si=UqAu1x62-mD_XZPv&t=870'>link</a>",
          "<a href='https://youtu.be/OVdyq3oRq_w?si=UqAu1x62-mD_XZPv&t=906'>link</a>",
          "<a href='https://youtu.be/OVdyq3oRq_w?si=UqAu1x62-mD_XZPv&t=1020'>link</a>",
          "<a href='https://youtu.be/OVdyq3oRq_w?si=UqAu1x62-mD_XZPv&t=1074'>link</a>",
          "<a href='https://youtu.be/OVdyq3oRq_w?si=UqAu1x62-mD_XZPv&t=1171'>link</a>",
          "<a href='https://youtu.be/OVdyq3oRq_w?si=UqAu1x62-mD_XZPv&t=1247'>link</a>",
          "<a href='https://youtu.be/OVdyq3oRq_w?si=UqAu1x62-mD_XZPv&t=1264'>link</a>",
          "<a href='https://youtu.be/OVdyq3oRq_w?si=UqAu1x62-mD_XZPv&t=1294'>link</a>",
          "<a href='https://youtu.be/OVdyq3oRq_w?si=UqAu1x62-mD_XZPv&t=1642'>link</a>",
          "<a href='https://youtu.be/OVdyq3oRq_w?si=UqAu1x62-mD_XZPv&t=1764'>link</a>",
          "<a href='https://youtu.be/OVdyq3oRq_w?si=UqAu1x62-mD_XZPv&t=1773'>link</a>",
          "<a href='https://youtu.be/OVdyq3oRq_w?si=UqAu1x62-mD_XZPv&t=1833'>link</a>",
          "<a href='https://youtu.be/OVdyq3oRq_w?si=UqAu1x62-mD_XZPv&t=1864'>link</a>",
          "<a href='https://youtu.be/OVdyq3oRq_w?si=UqAu1x62-mD_XZPv&t=1892'>link</a>",
          "<a href='https://youtu.be/OVdyq3oRq_w?si=UqAu1x62-mD_XZPv&t=1926'>link</a>",
          "<a href='https://youtu.be/OVdyq3oRq_w?si=UqAu1x62-mD_XZPv&t=1945'>link</a>",
          "<a href='https://youtu.be/OVdyq3oRq_w?si=UqAu1x62-mD_XZPv&t=1976'>link</a>",
          "<a href='https://youtu.be/OVdyq3oRq_w?si=UqAu1x62-mD_XZPv&t=2006'>link</a>",
          "<a href='https://youtu.be/OVdyq3oRq_w?si=UqAu1x62-mD_XZPv&t=2058'>link</a>",
          "<a href='https://youtu.be/OVdyq3oRq_w?si=UqAu1x62-mD_XZPv&t=2090'>link</a>",
          "<a href='https://youtu.be/OVdyq3oRq_w?si=UqAu1x62-mD_XZPv&t=2143'>link</a>",
          "<a href='https://youtu.be/OVdyq3oRq_w?si=UqAu1x62-mD_XZPv&t=2175'>link</a>",
          "<a href='https://youtu.be/OVdyq3oRq_w?si=UqAu1x62-mD_XZPv&t=2210'>link</a>",
          "<a href='https://youtu.be/OVdyq3oRq_w?si=UqAu1x62-mD_XZPv&t=2368'>link</a>",
          "<a href='https://youtu.be/OVdyq3oRq_w?si=UqAu1x62-mD_XZPv&t=2508'>link</a>",
          "<a href='https://youtu.be/OVdyq3oRq_w?si=UqAu1x62-mD_XZPv&t=2631'>link</a>",
          "<a href='https://youtu.be/OVdyq3oRq_w?si=UqAu1x62-mD_XZPv&t=2659'>link</a>",
          "<a href='https://youtu.be/OVdyq3oRq_w?si=UqAu1x62-mD_XZPv&t=2693'>link</a>",
          "<a href='https://youtu.be/OVdyq3oRq_w?si=UqAu1x62-mD_XZPv&t=2735'>link</a>",
          "<a href='https://youtu.be/OVdyq3oRq_w?si=UqAu1x62-mD_XZPv&t=2818'>link</a>"
         ],
         "textposition": "bottom center",
         "type": "scatter",
         "x": [
          "2025-09-14T00:03:54.000000000",
          "2025-09-14T00:04:27.000000000",
          "2025-09-14T00:04:46.000000000",
          "2025-09-14T00:05:28.000000000",
          "2025-09-14T00:08:44.000000000",
          "2025-09-14T00:11:03.000000000",
          "2025-09-14T00:12:30.000000000",
          "2025-09-14T00:13:21.000000000",
          "2025-09-14T00:14:00.000000000",
          "2025-09-14T00:14:30.000000000",
          "2025-09-14T00:15:06.000000000",
          "2025-09-14T00:17:00.000000000",
          "2025-09-14T00:17:54.000000000",
          "2025-09-14T00:19:31.000000000",
          "2025-09-14T00:20:47.000000000",
          "2025-09-14T00:21:04.000000000",
          "2025-09-14T00:21:34.000000000",
          "2025-09-14T00:27:22.000000000",
          "2025-09-14T00:29:24.000000000",
          "2025-09-14T00:29:33.000000000",
          "2025-09-14T00:30:33.000000000",
          "2025-09-14T00:31:04.000000000",
          "2025-09-14T00:31:32.000000000",
          "2025-09-14T00:32:06.000000000",
          "2025-09-14T00:32:25.000000000",
          "2025-09-14T00:32:56.000000000",
          "2025-09-14T00:33:26.000000000",
          "2025-09-14T00:34:18.000000000",
          "2025-09-14T00:34:50.000000000",
          "2025-09-14T00:35:43.000000000",
          "2025-09-14T00:36:15.000000000",
          "2025-09-14T00:36:50.000000000",
          "2025-09-14T00:39:28.000000000",
          "2025-09-14T00:41:48.000000000",
          "2025-09-14T00:43:51.000000000",
          "2025-09-14T00:44:19.000000000",
          "2025-09-14T00:44:53.000000000",
          "2025-09-14T00:45:35.000000000",
          "2025-09-14T00:46:58.000000000"
         ],
         "xaxis": "x2",
         "y": {
          "bdata": "AAEBAgMEBQUGBgcICQoLCwwMDQ0ODg8PEBAQEBARERISEhMTFBUW",
          "dtype": "i1"
         },
         "yaxis": "y2"
        },
        {
         "legendgroup": "Ned",
         "marker": {
          "color": "red"
         },
         "mode": "markers+lines",
         "name": "Ned",
         "showlegend": false,
         "type": "scatter",
         "x": [
          "2025-09-14T00:03:54.000000000",
          "2025-09-14T00:04:27.000000000",
          "2025-09-14T00:04:46.000000000",
          "2025-09-14T00:05:28.000000000",
          "2025-09-14T00:08:44.000000000",
          "2025-09-14T00:11:03.000000000",
          "2025-09-14T00:12:30.000000000",
          "2025-09-14T00:13:21.000000000",
          "2025-09-14T00:14:00.000000000",
          "2025-09-14T00:14:30.000000000",
          "2025-09-14T00:15:06.000000000",
          "2025-09-14T00:17:00.000000000",
          "2025-09-14T00:17:54.000000000",
          "2025-09-14T00:19:31.000000000",
          "2025-09-14T00:20:47.000000000",
          "2025-09-14T00:21:04.000000000",
          "2025-09-14T00:21:34.000000000",
          "2025-09-14T00:27:22.000000000",
          "2025-09-14T00:29:24.000000000",
          "2025-09-14T00:29:33.000000000",
          "2025-09-14T00:30:33.000000000",
          "2025-09-14T00:31:04.000000000",
          "2025-09-14T00:31:32.000000000",
          "2025-09-14T00:32:06.000000000",
          "2025-09-14T00:32:25.000000000",
          "2025-09-14T00:32:56.000000000",
          "2025-09-14T00:33:26.000000000",
          "2025-09-14T00:34:18.000000000",
          "2025-09-14T00:34:50.000000000",
          "2025-09-14T00:35:43.000000000",
          "2025-09-14T00:36:15.000000000",
          "2025-09-14T00:36:50.000000000",
          "2025-09-14T00:39:28.000000000",
          "2025-09-14T00:41:48.000000000",
          "2025-09-14T00:43:51.000000000",
          "2025-09-14T00:44:19.000000000",
          "2025-09-14T00:44:53.000000000",
          "2025-09-14T00:45:35.000000000",
          "2025-09-14T00:46:58.000000000"
         ],
         "xaxis": "x2",
         "y": {
          "bdata": "AQECAgICAgMDBAQEBAQEBQUGBgcHCAgJCQoLDA0NDg4PEBARERER",
          "dtype": "i1"
         },
         "yaxis": "y2"
        },
        {
         "legendgroup": "France",
         "marker": {
          "color": "green"
         },
         "mode": "markers+lines+text",
         "name": "France",
         "showlegend": false,
         "text": [
          "<a href='https://youtu.be/OVdyq3oRq_w?si=UqAu1x62-mD_XZPv&t=368'>link</a>",
          "<a href='https://youtu.be/OVdyq3oRq_w?si=UqAu1x62-mD_XZPv&t=463'>link</a>",
          "<a href='https://youtu.be/OVdyq3oRq_w?si=UqAu1x62-mD_XZPv&t=785'>link</a>",
          "<a href='https://youtu.be/OVdyq3oRq_w?si=UqAu1x62-mD_XZPv&t=920'>link</a>",
          "<a href='https://youtu.be/OVdyq3oRq_w?si=UqAu1x62-mD_XZPv&t=965'>link</a>",
          "<a href='https://youtu.be/OVdyq3oRq_w?si=UqAu1x62-mD_XZPv&t=1044'>link</a>",
          "<a href='https://youtu.be/OVdyq3oRq_w?si=UqAu1x62-mD_XZPv&t=1099'>link</a>",
          "<a href='https://youtu.be/OVdyq3oRq_w?si=UqAu1x62-mD_XZPv&t=1135'>link</a>",
          "<a href='https://youtu.be/OVdyq3oRq_w?si=UqAu1x62-mD_XZPv&t=1317'>link</a>",
          "<a href='https://youtu.be/OVdyq3oRq_w?si=UqAu1x62-mD_XZPv&t=1663'>link</a>",
          "<a href='https://youtu.be/OVdyq3oRq_w?si=UqAu1x62-mD_XZPv&t=1792'>link</a>",
          "<a href='https://youtu.be/OVdyq3oRq_w?si=UqAu1x62-mD_XZPv&t=2234'>link</a>",
          "<a href='https://youtu.be/OVdyq3oRq_w?si=UqAu1x62-mD_XZPv&t=2252'>link</a>",
          "<a href='https://youtu.be/OVdyq3oRq_w?si=UqAu1x62-mD_XZPv&t=2324'>link</a>",
          "<a href='https://youtu.be/OVdyq3oRq_w?si=UqAu1x62-mD_XZPv&t=2391'>link</a>",
          "<a href='https://youtu.be/OVdyq3oRq_w?si=UqAu1x62-mD_XZPv&t=2598'>link</a>",
          "<a href='https://youtu.be/OVdyq3oRq_w?si=UqAu1x62-mD_XZPv&t=2704'>link</a>"
         ],
         "textposition": "bottom center",
         "type": "scatter",
         "x": [
          "2025-09-14T00:06:08.000000000",
          "2025-09-14T00:07:43.000000000",
          "2025-09-14T00:13:05.000000000",
          "2025-09-14T00:15:20.000000000",
          "2025-09-14T00:16:05.000000000",
          "2025-09-14T00:17:24.000000000",
          "2025-09-14T00:18:19.000000000",
          "2025-09-14T00:18:55.000000000",
          "2025-09-14T00:21:57.000000000",
          "2025-09-14T00:27:43.000000000",
          "2025-09-14T00:29:52.000000000",
          "2025-09-14T00:37:14.000000000",
          "2025-09-14T00:37:32.000000000",
          "2025-09-14T00:38:44.000000000",
          "2025-09-14T00:39:51.000000000",
          "2025-09-14T00:43:18.000000000",
          "2025-09-14T00:45:04.000000000"
         ],
         "xaxis": "x3",
         "y": {
          "bdata": "AAABAQEBAgIDBAQFBgcHBwc=",
          "dtype": "i1"
         },
         "yaxis": "y3"
        },
        {
         "legendgroup": "Ned",
         "marker": {
          "color": "red"
         },
         "mode": "markers+lines",
         "name": "Ned",
         "showlegend": false,
         "type": "scatter",
         "x": [
          "2025-09-14T00:06:08.000000000",
          "2025-09-14T00:07:43.000000000",
          "2025-09-14T00:13:05.000000000",
          "2025-09-14T00:15:20.000000000",
          "2025-09-14T00:16:05.000000000",
          "2025-09-14T00:17:24.000000000",
          "2025-09-14T00:18:19.000000000",
          "2025-09-14T00:18:55.000000000",
          "2025-09-14T00:21:57.000000000",
          "2025-09-14T00:27:43.000000000",
          "2025-09-14T00:29:52.000000000",
          "2025-09-14T00:37:14.000000000",
          "2025-09-14T00:37:32.000000000",
          "2025-09-14T00:38:44.000000000",
          "2025-09-14T00:39:51.000000000",
          "2025-09-14T00:43:18.000000000",
          "2025-09-14T00:45:04.000000000"
         ],
         "xaxis": "x3",
         "y": {
          "bdata": "AQICAwQFBQYGBgcHBwcICQo=",
          "dtype": "i1"
         },
         "yaxis": "y3"
        }
       ],
       "layout": {
        "annotations": [
         {
          "font": {
           "size": 16
          },
          "showarrow": false,
          "text": "Try",
          "x": 0.5,
          "xanchor": "center",
          "xref": "paper",
          "y": 1,
          "yanchor": "bottom",
          "yref": "paper"
         },
         {
          "font": {
           "size": 16
          },
          "showarrow": false,
          "text": "Turnover",
          "x": 0.5,
          "xanchor": "center",
          "xref": "paper",
          "y": 0.6111111111111112,
          "yanchor": "bottom",
          "yref": "paper"
         },
         {
          "font": {
           "size": 16
          },
          "showarrow": false,
          "text": "Penalty",
          "x": 0.5,
          "xanchor": "center",
          "xref": "paper",
          "y": 0.22222222222222224,
          "yanchor": "bottom",
          "yref": "paper"
         }
        ],
        "hovermode": "x unified",
        "template": {
         "data": {
          "bar": [
           {
            "error_x": {
             "color": "#2a3f5f"
            },
            "error_y": {
             "color": "#2a3f5f"
            },
            "marker": {
             "line": {
              "color": "#E5ECF6",
              "width": 0.5
             },
             "pattern": {
              "fillmode": "overlay",
              "size": 10,
              "solidity": 0.2
             }
            },
            "type": "bar"
           }
          ],
          "barpolar": [
           {
            "marker": {
             "line": {
              "color": "#E5ECF6",
              "width": 0.5
             },
             "pattern": {
              "fillmode": "overlay",
              "size": 10,
              "solidity": 0.2
             }
            },
            "type": "barpolar"
           }
          ],
          "carpet": [
           {
            "aaxis": {
             "endlinecolor": "#2a3f5f",
             "gridcolor": "white",
             "linecolor": "white",
             "minorgridcolor": "white",
             "startlinecolor": "#2a3f5f"
            },
            "baxis": {
             "endlinecolor": "#2a3f5f",
             "gridcolor": "white",
             "linecolor": "white",
             "minorgridcolor": "white",
             "startlinecolor": "#2a3f5f"
            },
            "type": "carpet"
           }
          ],
          "choropleth": [
           {
            "colorbar": {
             "outlinewidth": 0,
             "ticks": ""
            },
            "type": "choropleth"
           }
          ],
          "contour": [
           {
            "colorbar": {
             "outlinewidth": 0,
             "ticks": ""
            },
            "colorscale": [
             [
              0,
              "#0d0887"
             ],
             [
              0.1111111111111111,
              "#46039f"
             ],
             [
              0.2222222222222222,
              "#7201a8"
             ],
             [
              0.3333333333333333,
              "#9c179e"
             ],
             [
              0.4444444444444444,
              "#bd3786"
             ],
             [
              0.5555555555555556,
              "#d8576b"
             ],
             [
              0.6666666666666666,
              "#ed7953"
             ],
             [
              0.7777777777777778,
              "#fb9f3a"
             ],
             [
              0.8888888888888888,
              "#fdca26"
             ],
             [
              1,
              "#f0f921"
             ]
            ],
            "type": "contour"
           }
          ],
          "contourcarpet": [
           {
            "colorbar": {
             "outlinewidth": 0,
             "ticks": ""
            },
            "type": "contourcarpet"
           }
          ],
          "heatmap": [
           {
            "colorbar": {
             "outlinewidth": 0,
             "ticks": ""
            },
            "colorscale": [
             [
              0,
              "#0d0887"
             ],
             [
              0.1111111111111111,
              "#46039f"
             ],
             [
              0.2222222222222222,
              "#7201a8"
             ],
             [
              0.3333333333333333,
              "#9c179e"
             ],
             [
              0.4444444444444444,
              "#bd3786"
             ],
             [
              0.5555555555555556,
              "#d8576b"
             ],
             [
              0.6666666666666666,
              "#ed7953"
             ],
             [
              0.7777777777777778,
              "#fb9f3a"
             ],
             [
              0.8888888888888888,
              "#fdca26"
             ],
             [
              1,
              "#f0f921"
             ]
            ],
            "type": "heatmap"
           }
          ],
          "histogram": [
           {
            "marker": {
             "pattern": {
              "fillmode": "overlay",
              "size": 10,
              "solidity": 0.2
             }
            },
            "type": "histogram"
           }
          ],
          "histogram2d": [
           {
            "colorbar": {
             "outlinewidth": 0,
             "ticks": ""
            },
            "colorscale": [
             [
              0,
              "#0d0887"
             ],
             [
              0.1111111111111111,
              "#46039f"
             ],
             [
              0.2222222222222222,
              "#7201a8"
             ],
             [
              0.3333333333333333,
              "#9c179e"
             ],
             [
              0.4444444444444444,
              "#bd3786"
             ],
             [
              0.5555555555555556,
              "#d8576b"
             ],
             [
              0.6666666666666666,
              "#ed7953"
             ],
             [
              0.7777777777777778,
              "#fb9f3a"
             ],
             [
              0.8888888888888888,
              "#fdca26"
             ],
             [
              1,
              "#f0f921"
             ]
            ],
            "type": "histogram2d"
           }
          ],
          "histogram2dcontour": [
           {
            "colorbar": {
             "outlinewidth": 0,
             "ticks": ""
            },
            "colorscale": [
             [
              0,
              "#0d0887"
             ],
             [
              0.1111111111111111,
              "#46039f"
             ],
             [
              0.2222222222222222,
              "#7201a8"
             ],
             [
              0.3333333333333333,
              "#9c179e"
             ],
             [
              0.4444444444444444,
              "#bd3786"
             ],
             [
              0.5555555555555556,
              "#d8576b"
             ],
             [
              0.6666666666666666,
              "#ed7953"
             ],
             [
              0.7777777777777778,
              "#fb9f3a"
             ],
             [
              0.8888888888888888,
              "#fdca26"
             ],
             [
              1,
              "#f0f921"
             ]
            ],
            "type": "histogram2dcontour"
           }
          ],
          "mesh3d": [
           {
            "colorbar": {
             "outlinewidth": 0,
             "ticks": ""
            },
            "type": "mesh3d"
           }
          ],
          "parcoords": [
           {
            "line": {
             "colorbar": {
              "outlinewidth": 0,
              "ticks": ""
             }
            },
            "type": "parcoords"
           }
          ],
          "pie": [
           {
            "automargin": true,
            "type": "pie"
           }
          ],
          "scatter": [
           {
            "fillpattern": {
             "fillmode": "overlay",
             "size": 10,
             "solidity": 0.2
            },
            "type": "scatter"
           }
          ],
          "scatter3d": [
           {
            "line": {
             "colorbar": {
              "outlinewidth": 0,
              "ticks": ""
             }
            },
            "marker": {
             "colorbar": {
              "outlinewidth": 0,
              "ticks": ""
             }
            },
            "type": "scatter3d"
           }
          ],
          "scattercarpet": [
           {
            "marker": {
             "colorbar": {
              "outlinewidth": 0,
              "ticks": ""
             }
            },
            "type": "scattercarpet"
           }
          ],
          "scattergeo": [
           {
            "marker": {
             "colorbar": {
              "outlinewidth": 0,
              "ticks": ""
             }
            },
            "type": "scattergeo"
           }
          ],
          "scattergl": [
           {
            "marker": {
             "colorbar": {
              "outlinewidth": 0,
              "ticks": ""
             }
            },
            "type": "scattergl"
           }
          ],
          "scattermap": [
           {
            "marker": {
             "colorbar": {
              "outlinewidth": 0,
              "ticks": ""
             }
            },
            "type": "scattermap"
           }
          ],
          "scattermapbox": [
           {
            "marker": {
             "colorbar": {
              "outlinewidth": 0,
              "ticks": ""
             }
            },
            "type": "scattermapbox"
           }
          ],
          "scatterpolar": [
           {
            "marker": {
             "colorbar": {
              "outlinewidth": 0,
              "ticks": ""
             }
            },
            "type": "scatterpolar"
           }
          ],
          "scatterpolargl": [
           {
            "marker": {
             "colorbar": {
              "outlinewidth": 0,
              "ticks": ""
             }
            },
            "type": "scatterpolargl"
           }
          ],
          "scatterternary": [
           {
            "marker": {
             "colorbar": {
              "outlinewidth": 0,
              "ticks": ""
             }
            },
            "type": "scatterternary"
           }
          ],
          "surface": [
           {
            "colorbar": {
             "outlinewidth": 0,
             "ticks": ""
            },
            "colorscale": [
             [
              0,
              "#0d0887"
             ],
             [
              0.1111111111111111,
              "#46039f"
             ],
             [
              0.2222222222222222,
              "#7201a8"
             ],
             [
              0.3333333333333333,
              "#9c179e"
             ],
             [
              0.4444444444444444,
              "#bd3786"
             ],
             [
              0.5555555555555556,
              "#d8576b"
             ],
             [
              0.6666666666666666,
              "#ed7953"
             ],
             [
              0.7777777777777778,
              "#fb9f3a"
             ],
             [
              0.8888888888888888,
              "#fdca26"
             ],
             [
              1,
              "#f0f921"
             ]
            ],
            "type": "surface"
           }
          ],
          "table": [
           {
            "cells": {
             "fill": {
              "color": "#EBF0F8"
             },
             "line": {
              "color": "white"
             }
            },
            "header": {
             "fill": {
              "color": "#C8D4E3"
             },
             "line": {
              "color": "white"
             }
            },
            "type": "table"
           }
          ]
         },
         "layout": {
          "annotationdefaults": {
           "arrowcolor": "#2a3f5f",
           "arrowhead": 0,
           "arrowwidth": 1
          },
          "autotypenumbers": "strict",
          "coloraxis": {
           "colorbar": {
            "outlinewidth": 0,
            "ticks": ""
           }
          },
          "colorscale": {
           "diverging": [
            [
             0,
             "#8e0152"
            ],
            [
             0.1,
             "#c51b7d"
            ],
            [
             0.2,
             "#de77ae"
            ],
            [
             0.3,
             "#f1b6da"
            ],
            [
             0.4,
             "#fde0ef"
            ],
            [
             0.5,
             "#f7f7f7"
            ],
            [
             0.6,
             "#e6f5d0"
            ],
            [
             0.7,
             "#b8e186"
            ],
            [
             0.8,
             "#7fbc41"
            ],
            [
             0.9,
             "#4d9221"
            ],
            [
             1,
             "#276419"
            ]
           ],
           "sequential": [
            [
             0,
             "#0d0887"
            ],
            [
             0.1111111111111111,
             "#46039f"
            ],
            [
             0.2222222222222222,
             "#7201a8"
            ],
            [
             0.3333333333333333,
             "#9c179e"
            ],
            [
             0.4444444444444444,
             "#bd3786"
            ],
            [
             0.5555555555555556,
             "#d8576b"
            ],
            [
             0.6666666666666666,
             "#ed7953"
            ],
            [
             0.7777777777777778,
             "#fb9f3a"
            ],
            [
             0.8888888888888888,
             "#fdca26"
            ],
            [
             1,
             "#f0f921"
            ]
           ],
           "sequentialminus": [
            [
             0,
             "#0d0887"
            ],
            [
             0.1111111111111111,
             "#46039f"
            ],
            [
             0.2222222222222222,
             "#7201a8"
            ],
            [
             0.3333333333333333,
             "#9c179e"
            ],
            [
             0.4444444444444444,
             "#bd3786"
            ],
            [
             0.5555555555555556,
             "#d8576b"
            ],
            [
             0.6666666666666666,
             "#ed7953"
            ],
            [
             0.7777777777777778,
             "#fb9f3a"
            ],
            [
             0.8888888888888888,
             "#fdca26"
            ],
            [
             1,
             "#f0f921"
            ]
           ]
          },
          "colorway": [
           "#636efa",
           "#EF553B",
           "#00cc96",
           "#ab63fa",
           "#FFA15A",
           "#19d3f3",
           "#FF6692",
           "#B6E880",
           "#FF97FF",
           "#FECB52"
          ],
          "font": {
           "color": "#2a3f5f"
          },
          "geo": {
           "bgcolor": "white",
           "lakecolor": "white",
           "landcolor": "#E5ECF6",
           "showlakes": true,
           "showland": true,
           "subunitcolor": "white"
          },
          "hoverlabel": {
           "align": "left"
          },
          "hovermode": "closest",
          "mapbox": {
           "style": "light"
          },
          "paper_bgcolor": "white",
          "plot_bgcolor": "#E5ECF6",
          "polar": {
           "angularaxis": {
            "gridcolor": "white",
            "linecolor": "white",
            "ticks": ""
           },
           "bgcolor": "#E5ECF6",
           "radialaxis": {
            "gridcolor": "white",
            "linecolor": "white",
            "ticks": ""
           }
          },
          "scene": {
           "xaxis": {
            "backgroundcolor": "#E5ECF6",
            "gridcolor": "white",
            "gridwidth": 2,
            "linecolor": "white",
            "showbackground": true,
            "ticks": "",
            "zerolinecolor": "white"
           },
           "yaxis": {
            "backgroundcolor": "#E5ECF6",
            "gridcolor": "white",
            "gridwidth": 2,
            "linecolor": "white",
            "showbackground": true,
            "ticks": "",
            "zerolinecolor": "white"
           },
           "zaxis": {
            "backgroundcolor": "#E5ECF6",
            "gridcolor": "white",
            "gridwidth": 2,
            "linecolor": "white",
            "showbackground": true,
            "ticks": "",
            "zerolinecolor": "white"
           }
          },
          "shapedefaults": {
           "line": {
            "color": "#2a3f5f"
           }
          },
          "ternary": {
           "aaxis": {
            "gridcolor": "white",
            "linecolor": "white",
            "ticks": ""
           },
           "baxis": {
            "gridcolor": "white",
            "linecolor": "white",
            "ticks": ""
           },
           "bgcolor": "#E5ECF6",
           "caxis": {
            "gridcolor": "white",
            "linecolor": "white",
            "ticks": ""
           }
          },
          "title": {
           "x": 0.05
          },
          "xaxis": {
           "automargin": true,
           "gridcolor": "white",
           "linecolor": "white",
           "ticks": "",
           "title": {
            "standoff": 15
           },
           "zerolinecolor": "white",
           "zerolinewidth": 2
          },
          "yaxis": {
           "automargin": true,
           "gridcolor": "white",
           "linecolor": "white",
           "ticks": "",
           "title": {
            "standoff": 15
           },
           "zerolinecolor": "white",
           "zerolinewidth": 2
          }
         }
        },
        "title": {
         "text": "Statistics for France vs Ned"
        },
        "xaxis": {
         "anchor": "y",
         "domain": [
          0,
          1
         ],
         "matches": "x3",
         "showticklabels": false
        },
        "xaxis2": {
         "anchor": "y2",
         "domain": [
          0,
          1
         ],
         "matches": "x3",
         "showticklabels": false
        },
        "xaxis3": {
         "anchor": "y3",
         "domain": [
          0,
          1
         ]
        },
        "yaxis": {
         "anchor": "x",
         "domain": [
          0.7777777777777778,
          1
         ]
        },
        "yaxis2": {
         "anchor": "x2",
         "domain": [
          0.3888888888888889,
          0.6111111111111112
         ]
        },
        "yaxis3": {
         "anchor": "x3",
         "domain": [
          0,
          0.22222222222222224
         ]
        }
       }
      },
      "image/png": "[encoded data removed]"
     },
     "metadata": {},
     "output_type": "display_data"
    },
    {
     "data": {
      "text/html": [
       "<pre style=\"white-space:pre;overflow-x:auto;line-height:normal;font-family:Menlo,'DejaVu Sans Mono',consolas,'Courier New',monospace\"><span style=\"color: #008080; text-decoration-color: #008080; font-weight: bold\">35.</span>786s <span style=\"font-weight: bold\">(</span><span style=\"color: #008080; text-decoration-color: #008080; font-weight: bold\">28</span> possessions<span style=\"font-weight: bold\">)</span>\n",
       "</pre>\n"
      ],
      "text/plain": [
       "\u001b[1;36m35.\u001b[0m786s \u001b[1m(\u001b[0m\u001b[1;36m28\u001b[0m possessions\u001b[1m)\u001b[0m\n"
      ]
     },
     "metadata": {},
     "output_type": "display_data"
    },
    {
     "data": {
      "text/html": [
       "<pre style=\"white-space:pre;overflow-x:auto;line-height:normal;font-family:Menlo,'DejaVu Sans Mono',consolas,'Courier New',monospace\"><span style=\"color: #008080; text-decoration-color: #008080; font-weight: bold\">45.</span>258s <span style=\"font-weight: bold\">(</span><span style=\"color: #008080; text-decoration-color: #008080; font-weight: bold\">31</span> possessions<span style=\"font-weight: bold\">)</span>\n",
       "</pre>\n"
      ],
      "text/plain": [
       "\u001b[1;36m45.\u001b[0m258s \u001b[1m(\u001b[0m\u001b[1;36m31\u001b[0m possessions\u001b[1m)\u001b[0m\n"
      ]
     },
     "metadata": {},
     "output_type": "display_data"
    }
   ],
   "source": [
    "events = [\"Try\", \"Turnover\", \"Penalty\"]\n",
    "trend_fig = make_subplots(len(events),1, subplot_titles=events, shared_xaxes=True)\n",
    "\n",
    "for i, event_name in enumerate(events):\n",
    "    event_data = []\n",
    "    event_local, event_other = 0, 0\n",
    "    for j, row in data_df[data_df[\"Type\"]==event_name].iterrows():\n",
    "        if row[\"Against France\"]:\n",
    "            event_other += 1\n",
    "        else:\n",
    "            event_local += 1\n",
    "        event_data.append([\n",
    "            row[\"Time\"],\n",
    "            event_local,\n",
    "            event_other,\n",
    "            row['Youtube Link'],\n",
    "        ]\n",
    "        )\n",
    "    event_df = pd.DataFrame(event_data, columns=[\"Time\", f\"{event_name} {LOCAL_TEAM_NAME}\", f\"{event_name} {OTHER_TEAM_NAME}\", \"Link\"])\n",
    "\n",
    "    trend_fig.add_trace(go.Scatter(\n",
    "        x=event_df[\"Time\"], \n",
    "        y=event_df[f\"{event_name} {LOCAL_TEAM_NAME}\"], \n",
    "        name=LOCAL_TEAM_NAME, \n",
    "        mode='markers+lines+text', \n",
    "        marker_color=\"green\",\n",
    "        legendgroup=LOCAL_TEAM_NAME,\n",
    "        showlegend=i==0,\n",
    "        text=[f\"<a href='{row['Link']}'>link</a>\" for i, row in event_df.iterrows()],\n",
    "        textposition=\"bottom center\"\n",
    "    ), i+1, 1)\n",
    "    trend_fig.add_trace(go.Scatter(\n",
    "        x=event_df[\"Time\"], \n",
    "        y=event_df[f\"{event_name} {OTHER_TEAM_NAME}\"], \n",
    "        name=OTHER_TEAM_NAME, \n",
    "        mode='markers+lines', \n",
    "        marker_color=\"red\",\n",
    "        legendgroup=OTHER_TEAM_NAME,\n",
    "        showlegend=i==0,\n",
    "    ), i+1, 1)\n",
    "\n",
    "    \n",
    "score_data = []\n",
    "against_local, prev_time = None, None\n",
    "local_possesion_ts, other_possesion_ts = [], []\n",
    "for i, row in data_df.iterrows():\n",
    "    # rich.print(f\"{row['Type']}-{row['Name']} (Against Local={row['Against France']})\")\n",
    "    \n",
    "    if row[\"Type\"]==\"Game Event\" and row[\"Name\"] == \"Game Start\":\n",
    "        prev_time = None\n",
    "        \n",
    "    if prev_time is None:\n",
    "        prev_time = row[\"Time\"]\n",
    "        against_local = row[\"Against France\"]\n",
    "        ball_owner = OTHER_TEAM_NAME if against_local else LOCAL_TEAM_NAME\n",
    "        points_x = [prev_time]\n",
    "        points_y = [ball_owner]\n",
    "        hovertext = [f\"{row['Type']}-{row['Name']}\"]\n",
    "    else:\n",
    "        new_time = row[\"Time\"]\n",
    "        against_local = row[\"Against France\"]\n",
    "\n",
    "        points_x.append(new_time)\n",
    "        points_y.append(ball_owner)\n",
    "        hovertext.append(f\"{row['Type']}-{row['Name']}\")\n",
    "        \n",
    "        if row[\"Type\"]==\"Try\":\n",
    "            assert ((against_local and ball_owner==OTHER_TEAM_NAME) or (not against_local and ball_owner==LOCAL_TEAM_NAME))\n",
    "            update_plot = True\n",
    "            new_expected_ball_owner = LOCAL_TEAM_NAME if against_local else OTHER_TEAM_NAME\n",
    "        elif row[\"Type\"] in [\"Penalty\", \"Turnover\"] and ((against_local and ball_owner==LOCAL_TEAM_NAME) or (not against_local and ball_owner==OTHER_TEAM_NAME)):\n",
    "            update_plot = True\n",
    "            new_expected_ball_owner = OTHER_TEAM_NAME if against_local else LOCAL_TEAM_NAME    \n",
    "        elif row[\"Type\"] in [\"Game Event\"]:\n",
    "            update_plot = True\n",
    "            new_expected_ball_owner = OTHER_TEAM_NAME if against_local else LOCAL_TEAM_NAME\n",
    "        else:\n",
    "            update_plot = False\n",
    "            new_expected_ball_owner = ball_owner\n",
    "\n",
    "        if update_plot:\n",
    "            possession_duration = time_to_n_seconds(points_x[-1]) - time_to_n_seconds(points_x[0])\n",
    "            if new_expected_ball_owner == OTHER_TEAM_NAME:\n",
    "                local_possesion_ts.append(possession_duration)\n",
    "            else:\n",
    "                other_possesion_ts.append(possession_duration)\n",
    "            prev_time = new_time\n",
    "            \n",
    "            points_x = [prev_time]\n",
    "            points_y = [new_expected_ball_owner]\n",
    "            hovertext = [f\"\"]\n",
    "            ball_owner = new_expected_ball_owner\n",
    "\n",
    "trend_fig.update_layout(hovermode=\"x unified\", title=f\"Statistics for {LOCAL_TEAM_NAME} vs {OTHER_TEAM_NAME}\")\n",
    "trend_fig.write_html(output_data_root / \"events.html\")\n",
    "trend_fig.show()\n",
    "\n",
    "rich.print(f\"{np.mean(local_possesion_ts):.3f}s ({len(local_possesion_ts)} possessions)\")\n",
    "rich.print(f\"{np.mean(other_possesion_ts):.3f}s ({len(other_possesion_ts)} possessions)\")\n"
   ]
  },
  {
   "cell_type": "code",
   "execution_count": 13,
   "id": "293b9add-4927-4c43-b8ff-e82e2c25dc67",
   "metadata": {},
   "outputs": [
    {
     "data": {
      "text/html": [
       "<pre style=\"white-space:pre;overflow-x:auto;line-height:normal;font-family:Menlo,'DejaVu Sans Mono',consolas,'Courier New',monospace\"><span style=\"color: #008080; text-decoration-color: #008080; font-weight: bold\">35.</span>786s <span style=\"font-weight: bold\">(</span><span style=\"color: #008080; text-decoration-color: #008080; font-weight: bold\">28</span> possessions<span style=\"font-weight: bold\">)</span>\n",
       "</pre>\n"
      ],
      "text/plain": [
       "\u001b[1;36m35.\u001b[0m786s \u001b[1m(\u001b[0m\u001b[1;36m28\u001b[0m possessions\u001b[1m)\u001b[0m\n"
      ]
     },
     "metadata": {},
     "output_type": "display_data"
    },
    {
     "data": {
      "text/html": [
       "<pre style=\"white-space:pre;overflow-x:auto;line-height:normal;font-family:Menlo,'DejaVu Sans Mono',consolas,'Courier New',monospace\"><span style=\"color: #008080; text-decoration-color: #008080; font-weight: bold\">45.</span>258s <span style=\"font-weight: bold\">(</span><span style=\"color: #008080; text-decoration-color: #008080; font-weight: bold\">31</span> possessions<span style=\"font-weight: bold\">)</span>\n",
       "</pre>\n"
      ],
      "text/plain": [
       "\u001b[1;36m45.\u001b[0m258s \u001b[1m(\u001b[0m\u001b[1;36m31\u001b[0m possessions\u001b[1m)\u001b[0m\n"
      ]
     },
     "metadata": {},
     "output_type": "display_data"
    },
    {
     "data": {
      "text/html": [
       "<div>\n",
       "<style scoped>\n",
       "    .dataframe tbody tr th:only-of-type {\n",
       "        vertical-align: middle;\n",
       "    }\n",
       "\n",
       "    .dataframe tbody tr th {\n",
       "        vertical-align: top;\n",
       "    }\n",
       "\n",
       "    .dataframe thead th {\n",
       "        text-align: right;\n",
       "    }\n",
       "</style>\n",
       "<table border=\"1\" class=\"dataframe\">\n",
       "  <thead>\n",
       "    <tr style=\"text-align: right;\">\n",
       "      <th></th>\n",
       "      <th>Touch and Pass</th>\n",
       "      <th>Forward Pass</th>\n",
       "      <th>Offside</th>\n",
       "      <th>Delay of Play</th>\n",
       "      <th>Hard Touch</th>\n",
       "      <th>In The Ruck</th>\n",
       "      <th>Shoulder</th>\n",
       "      <th>6th Touch</th>\n",
       "      <th>Ball Down</th>\n",
       "      <th>Dummy Touch</th>\n",
       "      <th>Interception</th>\n",
       "      <th>6 Again</th>\n",
       "      <th>Average Possession Time</th>\n",
       "    </tr>\n",
       "  </thead>\n",
       "  <tbody>\n",
       "    <tr>\n",
       "      <th>France</th>\n",
       "      <td>1</td>\n",
       "      <td>4</td>\n",
       "      <td>1</td>\n",
       "      <td>1</td>\n",
       "      <td>0</td>\n",
       "      <td>2</td>\n",
       "      <td>1</td>\n",
       "      <td>4</td>\n",
       "      <td>9</td>\n",
       "      <td>1</td>\n",
       "      <td>0</td>\n",
       "      <td>3</td>\n",
       "      <td>35.786</td>\n",
       "    </tr>\n",
       "    <tr>\n",
       "      <th>Ned</th>\n",
       "      <td>0</td>\n",
       "      <td>3</td>\n",
       "      <td>2</td>\n",
       "      <td>0</td>\n",
       "      <td>2</td>\n",
       "      <td>0</td>\n",
       "      <td>0</td>\n",
       "      <td>10</td>\n",
       "      <td>11</td>\n",
       "      <td>0</td>\n",
       "      <td>1</td>\n",
       "      <td>0</td>\n",
       "      <td>45.258</td>\n",
       "    </tr>\n",
       "  </tbody>\n",
       "</table>\n",
       "</div>"
      ],
      "text/plain": [
       "        Touch and Pass  Forward Pass  Offside  Delay of Play  Hard Touch  \\\n",
       "France               1             4        1              1           0   \n",
       "Ned                  0             3        2              0           2   \n",
       "\n",
       "        In The Ruck  Shoulder  6th Touch  Ball Down  Dummy Touch  \\\n",
       "France            2         1          4          9            1   \n",
       "Ned               0         0         10         11            0   \n",
       "\n",
       "        Interception  6 Again  Average Possession Time  \n",
       "France             0        3                   35.786  \n",
       "Ned                1        0                   45.258  "
      ]
     },
     "execution_count": 13,
     "metadata": {},
     "output_type": "execute_result"
    }
   ],
   "source": [
    "_data_df = data_df[[\n",
    "    \"Type\",\n",
    "    \"Name\",\n",
    "    \"Team\",\n",
    "]][data_df.Type.isin([\"Penalty\", \"Turnover\"])]\n",
    "output = _data_df.groupby([ \"Type\",\"Team\", \"Name\"]).size()\n",
    "output.to_csv(output_data_root / \"stats.csv\", index=True)\n",
    "\n",
    "penalty_types = list(_data_df[_data_df[\"Type\"]==\"Penalty\"][\"Name\"].unique())\n",
    "turnover_types = list(_data_df[_data_df[\"Type\"]==\"Turnover\"][\"Name\"].unique())\n",
    "column_names = penalty_types + turnover_types\n",
    "\n",
    "new_stats_df = pd.DataFrame(np.zeros((2, len(column_names)), dtype=int), index=[LOCAL_TEAM_NAME, OTHER_TEAM_NAME], columns=column_names)\n",
    "for i, row in _data_df.iterrows():\n",
    "    new_stats_df.loc[row[\"Team\"],row[\"Name\"]]+=1\n",
    "    \n",
    "new_stats_df[\"Average Possession Time\"] = [np.mean(local_possesion_ts).round(3), np.mean(other_possesion_ts).round(3)]\n",
    "rich.print(f\"{np.mean(local_possesion_ts):.3f}s ({len(local_possesion_ts)} possessions)\")\n",
    "rich.print(f\"{np.mean(other_possesion_ts):.3f}s ({len(other_possesion_ts)} possessions)\")\n",
    "# output\n",
    "new_stats_df.to_csv(output_data_root / \"stats_v2.csv\", index=True)\n",
    "new_stats_df"
   ]
  },
  {
   "cell_type": "code",
   "execution_count": 14,
   "id": "6f074a81-5d75-4d9d-b225-5fe81b82f63e",
   "metadata": {},
   "outputs": [
    {
     "data": {
      "application/vnd.plotly.v1+json": {
       "config": {
        "plotlyServerURL": "https://plot.ly"
       },
       "data": [
        {
         "marker": {
          "color": "green"
         },
         "mode": "lines",
         "name": "France",
         "type": "scatter",
         "x": [
          "2025-09-14T00:02:45",
          "2025-09-14T00:03:54",
          null,
          "2025-09-14T00:04:27",
          "2025-09-14T00:04:46",
          null,
          "2025-09-14T00:05:28",
          "2025-09-14T00:06:08",
          null,
          "2025-09-14T00:06:51",
          "2025-09-14T00:07:43",
          null,
          "2025-09-14T00:08:44",
          "2025-09-14T00:09:27",
          null,
          "2025-09-14T00:11:03",
          "2025-09-14T00:11:43",
          null,
          "2025-09-14T00:12:30",
          "2025-09-14T00:13:05",
          "2025-09-14T00:13:21",
          null,
          "2025-09-14T00:14:00",
          "2025-09-14T00:14:30",
          null,
          "2025-09-14T00:15:06",
          "2025-09-14T00:15:20",
          null,
          "2025-09-14T00:17:00",
          "2025-09-14T00:17:05",
          "2025-09-14T00:17:24",
          null,
          "2025-09-14T00:17:54",
          "2025-09-14T00:18:19",
          "2025-09-14T00:18:55",
          null,
          "2025-09-14T00:19:31",
          "2025-09-14T00:19:57",
          null,
          "2025-09-14T00:20:47",
          "2025-09-14T00:21:04",
          null,
          "2025-09-14T00:21:34",
          "2025-09-14T00:21:48",
          "2025-09-14T00:21:57",
          "2025-09-14T00:22:03",
          "2025-09-14T00:22:15",
          "2025-09-14T00:27:13",
          "2025-09-14T00:27:22",
          null,
          "2025-09-14T00:27:43",
          "2025-09-14T00:28:29",
          null,
          "2025-09-14T00:29:24",
          "2025-09-14T00:29:33",
          null,
          "2025-09-14T00:30:33",
          "2025-09-14T00:31:04",
          null,
          "2025-09-14T00:31:32",
          "2025-09-14T00:32:06",
          null,
          "2025-09-14T00:32:25",
          "2025-09-14T00:32:56",
          null,
          "2025-09-14T00:33:41",
          "2025-09-14T00:34:18",
          null,
          "2025-09-14T00:35:43",
          "2025-09-14T00:36:15",
          null,
          "2025-09-14T00:36:50",
          "2025-09-14T00:37:14",
          "2025-09-14T00:37:32",
          "2025-09-14T00:38:14",
          null,
          "2025-09-14T00:38:44",
          "2025-09-14T00:39:28",
          null,
          "2025-09-14T00:40:39",
          "2025-09-14T00:41:12",
          null,
          "2025-09-14T00:42:24",
          "2025-09-14T00:43:18",
          null,
          "2025-09-14T00:43:51",
          "2025-09-14T00:44:19",
          null,
          "2025-09-14T00:44:53",
          "2025-09-14T00:45:04",
          null,
          "2025-09-14T00:45:35",
          "2025-09-14T00:46:08",
          null,
          "2025-09-14T00:46:58",
          "2025-09-14T00:47:17"
         ],
         "y": [
          "France",
          "France",
          null,
          "France",
          "France",
          null,
          "France",
          "France",
          null,
          "France",
          "France",
          null,
          "France",
          "France",
          null,
          "France",
          "France",
          null,
          "France",
          "France",
          "France",
          null,
          "France",
          "France",
          null,
          "France",
          "France",
          null,
          "France",
          "France",
          "France",
          null,
          "France",
          "France",
          "France",
          null,
          "France",
          "France",
          null,
          "France",
          "France",
          null,
          "France",
          "France",
          "France",
          "France",
          "France",
          "France",
          "France",
          null,
          "France",
          "France",
          null,
          "France",
          "France",
          null,
          "France",
          "France",
          null,
          "France",
          "France",
          null,
          "France",
          "France",
          null,
          "France",
          "France",
          null,
          "France",
          "France",
          null,
          "France",
          "France",
          "France",
          "France",
          null,
          "France",
          "France",
          null,
          "France",
          "France",
          null,
          "France",
          "France",
          null,
          "France",
          "France",
          null,
          "France",
          "France",
          null,
          "France",
          "France",
          null,
          "France",
          "France"
         ]
        },
        {
         "marker": {
          "color": "red"
         },
         "mode": "lines",
         "name": "Ned",
         "type": "scatter",
         "x": [
          "2025-09-14T00:02:14",
          "2025-09-14T00:02:45",
          null,
          "2025-09-14T00:03:54",
          "2025-09-14T00:04:27",
          null,
          "2025-09-14T00:04:46",
          "2025-09-14T00:05:28",
          null,
          "2025-09-14T00:06:08",
          "2025-09-14T00:06:51",
          null,
          "2025-09-14T00:07:43",
          "2025-09-14T00:08:44",
          null,
          "2025-09-14T00:09:27",
          "2025-09-14T00:11:03",
          null,
          "2025-09-14T00:11:43",
          "2025-09-14T00:12:30",
          null,
          "2025-09-14T00:13:21",
          "2025-09-14T00:14:00",
          null,
          "2025-09-14T00:14:30",
          "2025-09-14T00:15:06",
          null,
          "2025-09-14T00:15:20",
          "2025-09-14T00:16:05",
          "2025-09-14T00:16:20",
          "2025-09-14T00:17:00",
          null,
          "2025-09-14T00:17:24",
          "2025-09-14T00:17:54",
          null,
          "2025-09-14T00:18:55",
          "2025-09-14T00:19:31",
          null,
          "2025-09-14T00:19:57",
          "2025-09-14T00:20:47",
          null,
          "2025-09-14T00:21:04",
          "2025-09-14T00:21:34",
          null,
          "2025-09-14T00:27:22",
          "2025-09-14T00:27:43",
          null,
          "2025-09-14T00:28:29",
          "2025-09-14T00:29:24",
          null,
          "2025-09-14T00:29:33",
          "2025-09-14T00:29:52",
          "2025-09-14T00:30:33",
          null,
          "2025-09-14T00:31:04",
          "2025-09-14T00:31:32",
          null,
          "2025-09-14T00:32:06",
          "2025-09-14T00:32:25",
          null,
          "2025-09-14T00:32:56",
          "2025-09-14T00:33:26",
          "2025-09-14T00:33:41",
          null,
          "2025-09-14T00:34:18",
          "2025-09-14T00:34:50",
          "2025-09-14T00:35:43",
          null,
          "2025-09-14T00:36:15",
          "2025-09-14T00:36:50",
          null,
          "2025-09-14T00:38:14",
          "2025-09-14T00:38:44",
          null,
          "2025-09-14T00:39:28",
          "2025-09-14T00:39:51",
          "2025-09-14T00:40:39",
          null,
          "2025-09-14T00:41:12",
          "2025-09-14T00:41:48",
          "2025-09-14T00:42:24",
          null,
          "2025-09-14T00:43:18",
          "2025-09-14T00:43:51",
          null,
          "2025-09-14T00:44:19",
          "2025-09-14T00:44:53",
          null,
          "2025-09-14T00:45:04",
          "2025-09-14T00:45:35",
          null,
          "2025-09-14T00:46:08",
          "2025-09-14T00:46:35",
          "2025-09-14T00:46:58",
          null
         ],
         "y": [
          "Ned",
          "Ned",
          null,
          "Ned",
          "Ned",
          null,
          "Ned",
          "Ned",
          null,
          "Ned",
          "Ned",
          null,
          "Ned",
          "Ned",
          null,
          "Ned",
          "Ned",
          null,
          "Ned",
          "Ned",
          null,
          "Ned",
          "Ned",
          null,
          "Ned",
          "Ned",
          null,
          "Ned",
          "Ned",
          "Ned",
          "Ned",
          null,
          "Ned",
          "Ned",
          null,
          "Ned",
          "Ned",
          null,
          "Ned",
          "Ned",
          null,
          "Ned",
          "Ned",
          null,
          "Ned",
          "Ned",
          null,
          "Ned",
          "Ned",
          null,
          "Ned",
          "Ned",
          "Ned",
          null,
          "Ned",
          "Ned",
          null,
          "Ned",
          "Ned",
          null,
          "Ned",
          "Ned",
          "Ned",
          null,
          "Ned",
          "Ned",
          "Ned",
          null,
          "Ned",
          "Ned",
          null,
          "Ned",
          "Ned",
          null,
          "Ned",
          "Ned",
          "Ned",
          null,
          "Ned",
          "Ned",
          "Ned",
          null,
          "Ned",
          "Ned",
          null,
          "Ned",
          "Ned",
          null,
          "Ned",
          "Ned",
          null,
          "Ned",
          "Ned",
          "Ned",
          null
         ]
        },
        {
         "hovertext": "Game Event-Game Start",
         "marker": {
          "color": "black"
         },
         "mode": "markers",
         "showlegend": false,
         "type": "scatter",
         "x": [
          "2025-09-14T00:02:14"
         ],
         "y": [
          "Ned"
         ]
        },
        {
         "hovertext": "Try-Try",
         "marker": {
          "color": "green"
         },
         "mode": "markers",
         "showlegend": false,
         "type": "scatter",
         "x": [
          "2025-09-14T00:02:45"
         ],
         "y": [
          "Ned"
         ]
        },
        {
         "hovertext": "Turnover-6th Touch",
         "marker": {
          "color": "orange"
         },
         "mode": "markers",
         "showlegend": false,
         "type": "scatter",
         "x": [
          "2025-09-14T00:03:54"
         ],
         "y": [
          "France"
         ]
        },
        {
         "hovertext": "Turnover-Ball Down",
         "marker": {
          "color": "orange"
         },
         "mode": "markers",
         "showlegend": false,
         "type": "scatter",
         "x": [
          "2025-09-14T00:04:27"
         ],
         "y": [
          "Ned"
         ]
        },
        {
         "hovertext": "Turnover-6th Touch",
         "marker": {
          "color": "orange"
         },
         "mode": "markers",
         "showlegend": false,
         "type": "scatter",
         "x": [
          "2025-09-14T00:04:46"
         ],
         "y": [
          "France"
         ]
        },
        {
         "hovertext": "Turnover-6th Touch",
         "marker": {
          "color": "orange"
         },
         "mode": "markers",
         "showlegend": false,
         "type": "scatter",
         "x": [
          "2025-09-14T00:05:28"
         ],
         "y": [
          "Ned"
         ]
        },
        {
         "hovertext": "Penalty-Touch and Pass",
         "marker": {
          "color": "red"
         },
         "mode": "markers",
         "showlegend": false,
         "type": "scatter",
         "x": [
          "2025-09-14T00:06:08"
         ],
         "y": [
          "France"
         ]
        },
        {
         "hovertext": "Try-Try",
         "marker": {
          "color": "green"
         },
         "mode": "markers",
         "showlegend": false,
         "type": "scatter",
         "x": [
          "2025-09-14T00:06:51"
         ],
         "y": [
          "Ned"
         ]
        },
        {
         "hovertext": "Penalty-Forward Pass",
         "marker": {
          "color": "red"
         },
         "mode": "markers",
         "showlegend": false,
         "type": "scatter",
         "x": [
          "2025-09-14T00:07:43"
         ],
         "y": [
          "France"
         ]
        },
        {
         "hovertext": "Turnover-Ball Down",
         "marker": {
          "color": "orange"
         },
         "mode": "markers",
         "showlegend": false,
         "type": "scatter",
         "x": [
          "2025-09-14T00:08:44"
         ],
         "y": [
          "Ned"
         ]
        },
        {
         "hovertext": "Try-Try",
         "marker": {
          "color": "green"
         },
         "mode": "markers",
         "showlegend": false,
         "type": "scatter",
         "x": [
          "2025-09-14T00:09:27"
         ],
         "y": [
          "France"
         ]
        },
        {
         "hovertext": "Turnover-Ball Down",
         "marker": {
          "color": "orange"
         },
         "mode": "markers",
         "showlegend": false,
         "type": "scatter",
         "x": [
          "2025-09-14T00:11:03"
         ],
         "y": [
          "Ned"
         ]
        },
        {
         "hovertext": "Try-Try",
         "marker": {
          "color": "green"
         },
         "mode": "markers",
         "showlegend": false,
         "type": "scatter",
         "x": [
          "2025-09-14T00:11:43"
         ],
         "y": [
          "France"
         ]
        },
        {
         "hovertext": "Turnover-Ball Down",
         "marker": {
          "color": "orange"
         },
         "mode": "markers",
         "showlegend": false,
         "type": "scatter",
         "x": [
          "2025-09-14T00:12:30"
         ],
         "y": [
          "Ned"
         ]
        },
        {
         "hovertext": "Penalty-Offside",
         "marker": {
          "color": "red"
         },
         "mode": "markers",
         "showlegend": false,
         "type": "scatter",
         "x": [
          "2025-09-14T00:13:05"
         ],
         "y": [
          "Ned"
         ]
        },
        {
         "hovertext": "Turnover-Ball Down",
         "marker": {
          "color": "orange"
         },
         "mode": "markers",
         "showlegend": false,
         "type": "scatter",
         "x": [
          "2025-09-14T00:13:21"
         ],
         "y": [
          "France"
         ]
        },
        {
         "hovertext": "Turnover-6th Touch",
         "marker": {
          "color": "orange"
         },
         "mode": "markers",
         "showlegend": false,
         "type": "scatter",
         "x": [
          "2025-09-14T00:14:00"
         ],
         "y": [
          "Ned"
         ]
        },
        {
         "hovertext": "Turnover-Dummy Touch",
         "marker": {
          "color": "orange"
         },
         "mode": "markers",
         "showlegend": false,
         "type": "scatter",
         "x": [
          "2025-09-14T00:14:30"
         ],
         "y": [
          "France"
         ]
        },
        {
         "hovertext": "Turnover-6th Touch",
         "marker": {
          "color": "orange"
         },
         "mode": "markers",
         "showlegend": false,
         "type": "scatter",
         "x": [
          "2025-09-14T00:15:06"
         ],
         "y": [
          "Ned"
         ]
        },
        {
         "hovertext": "Penalty-Forward Pass",
         "marker": {
          "color": "red"
         },
         "mode": "markers",
         "showlegend": false,
         "type": "scatter",
         "x": [
          "2025-09-14T00:15:20"
         ],
         "y": [
          "France"
         ]
        },
        {
         "hovertext": "Penalty-Offside",
         "marker": {
          "color": "red"
         },
         "mode": "markers",
         "showlegend": false,
         "type": "scatter",
         "x": [
          "2025-09-14T00:16:05"
         ],
         "y": [
          "France"
         ]
        },
        {
         "hovertext": "To Review-Bad Roll",
         "marker": {
          "color": "green"
         },
         "mode": "markers",
         "showlegend": false,
         "type": "scatter",
         "x": [
          "2025-09-14T00:16:20"
         ],
         "y": [
          "France"
         ]
        },
        {
         "hovertext": "Turnover-Interception",
         "marker": {
          "color": "orange"
         },
         "mode": "markers",
         "showlegend": false,
         "type": "scatter",
         "x": [
          "2025-09-14T00:17:00"
         ],
         "y": [
          "Ned"
         ]
        },
        {
         "hovertext": "To Review-Bad Roll",
         "marker": {
          "color": "green"
         },
         "mode": "markers",
         "showlegend": false,
         "type": "scatter",
         "x": [
          "2025-09-14T00:17:05"
         ],
         "y": [
          "Ned"
         ]
        },
        {
         "hovertext": "Penalty-Delay of Play",
         "marker": {
          "color": "red"
         },
         "mode": "markers",
         "showlegend": false,
         "type": "scatter",
         "x": [
          "2025-09-14T00:17:24"
         ],
         "y": [
          "France"
         ]
        },
        {
         "hovertext": "Turnover-6th Touch",
         "marker": {
          "color": "orange"
         },
         "mode": "markers",
         "showlegend": false,
         "type": "scatter",
         "x": [
          "2025-09-14T00:17:54"
         ],
         "y": [
          "Ned"
         ]
        },
        {
         "hovertext": "Penalty-Hard Touch",
         "marker": {
          "color": "red"
         },
         "mode": "markers",
         "showlegend": false,
         "type": "scatter",
         "x": [
          "2025-09-14T00:18:19"
         ],
         "y": [
          "Ned"
         ]
        },
        {
         "hovertext": "Penalty-Forward Pass",
         "marker": {
          "color": "red"
         },
         "mode": "markers",
         "showlegend": false,
         "type": "scatter",
         "x": [
          "2025-09-14T00:18:55"
         ],
         "y": [
          "France"
         ]
        },
        {
         "hovertext": "Turnover-Ball Down",
         "marker": {
          "color": "orange"
         },
         "mode": "markers",
         "showlegend": false,
         "type": "scatter",
         "x": [
          "2025-09-14T00:19:31"
         ],
         "y": [
          "Ned"
         ]
        },
        {
         "hovertext": "Try-Try",
         "marker": {
          "color": "green"
         },
         "mode": "markers",
         "showlegend": false,
         "type": "scatter",
         "x": [
          "2025-09-14T00:19:57"
         ],
         "y": [
          "France"
         ]
        },
        {
         "hovertext": "Turnover-6th Touch",
         "marker": {
          "color": "orange"
         },
         "mode": "markers",
         "showlegend": false,
         "type": "scatter",
         "x": [
          "2025-09-14T00:20:47"
         ],
         "y": [
          "Ned"
         ]
        },
        {
         "hovertext": "Turnover-Ball Down",
         "marker": {
          "color": "orange"
         },
         "mode": "markers",
         "showlegend": false,
         "type": "scatter",
         "x": [
          "2025-09-14T00:21:04"
         ],
         "y": [
          "France"
         ]
        },
        {
         "hovertext": "Turnover-Ball Down",
         "marker": {
          "color": "orange"
         },
         "mode": "markers",
         "showlegend": false,
         "type": "scatter",
         "x": [
          "2025-09-14T00:21:34"
         ],
         "y": [
          "Ned"
         ]
        },
        {
         "hovertext": "To Review-In The Ruck",
         "marker": {
          "color": "green"
         },
         "mode": "markers",
         "showlegend": false,
         "type": "scatter",
         "x": [
          "2025-09-14T00:21:48"
         ],
         "y": [
          "France"
         ]
        },
        {
         "hovertext": "Penalty-Offside",
         "marker": {
          "color": "red"
         },
         "mode": "markers",
         "showlegend": false,
         "type": "scatter",
         "x": [
          "2025-09-14T00:21:57"
         ],
         "y": [
          "Ned"
         ]
        },
        {
         "hovertext": "To Review-Other",
         "marker": {
          "color": "green"
         },
         "mode": "markers",
         "showlegend": false,
         "type": "scatter",
         "x": [
          "2025-09-14T00:22:03"
         ],
         "y": [
          "France"
         ]
        },
        {
         "hovertext": "Game Event-Game End",
         "marker": {
          "color": "black"
         },
         "mode": "markers",
         "showlegend": false,
         "type": "scatter",
         "x": [
          "2025-09-14T00:22:15"
         ],
         "y": [
          "France"
         ]
        },
        {
         "hovertext": "Game Event-Game Start",
         "marker": {
          "color": "black"
         },
         "mode": "markers",
         "showlegend": false,
         "type": "scatter",
         "x": [
          "2025-09-14T00:27:13"
         ],
         "y": [
          "France"
         ]
        },
        {
         "hovertext": "Turnover-Ball Down",
         "marker": {
          "color": "orange"
         },
         "mode": "markers",
         "showlegend": false,
         "type": "scatter",
         "x": [
          "2025-09-14T00:27:22"
         ],
         "y": [
          "France"
         ]
        },
        {
         "hovertext": "Penalty-Forward Pass",
         "marker": {
          "color": "red"
         },
         "mode": "markers",
         "showlegend": false,
         "type": "scatter",
         "x": [
          "2025-09-14T00:27:43"
         ],
         "y": [
          "Ned"
         ]
        },
        {
         "hovertext": "Try-Try",
         "marker": {
          "color": "green"
         },
         "mode": "markers",
         "showlegend": false,
         "type": "scatter",
         "x": [
          "2025-09-14T00:28:29"
         ],
         "y": [
          "France"
         ]
        },
        {
         "hovertext": "Turnover-6th Touch",
         "marker": {
          "color": "orange"
         },
         "mode": "markers",
         "showlegend": false,
         "type": "scatter",
         "x": [
          "2025-09-14T00:29:24"
         ],
         "y": [
          "Ned"
         ]
        },
        {
         "hovertext": "Turnover-Ball Down",
         "marker": {
          "color": "orange"
         },
         "mode": "markers",
         "showlegend": false,
         "type": "scatter",
         "x": [
          "2025-09-14T00:29:33"
         ],
         "y": [
          "France"
         ]
        },
        {
         "hovertext": "Penalty-In The Ruck",
         "marker": {
          "color": "red"
         },
         "mode": "markers",
         "showlegend": false,
         "type": "scatter",
         "x": [
          "2025-09-14T00:29:52"
         ],
         "y": [
          "France"
         ]
        },
        {
         "hovertext": "Turnover-Ball Down",
         "marker": {
          "color": "orange"
         },
         "mode": "markers",
         "showlegend": false,
         "type": "scatter",
         "x": [
          "2025-09-14T00:30:33"
         ],
         "y": [
          "Ned"
         ]
        },
        {
         "hovertext": "Turnover-6th Touch",
         "marker": {
          "color": "orange"
         },
         "mode": "markers",
         "showlegend": false,
         "type": "scatter",
         "x": [
          "2025-09-14T00:31:04"
         ],
         "y": [
          "France"
         ]
        },
        {
         "hovertext": "Turnover-6th Touch",
         "marker": {
          "color": "orange"
         },
         "mode": "markers",
         "showlegend": false,
         "type": "scatter",
         "x": [
          "2025-09-14T00:31:32"
         ],
         "y": [
          "Ned"
         ]
        },
        {
         "hovertext": "Turnover-6th Touch",
         "marker": {
          "color": "orange"
         },
         "mode": "markers",
         "showlegend": false,
         "type": "scatter",
         "x": [
          "2025-09-14T00:32:06"
         ],
         "y": [
          "France"
         ]
        },
        {
         "hovertext": "Turnover-Ball Down",
         "marker": {
          "color": "orange"
         },
         "mode": "markers",
         "showlegend": false,
         "type": "scatter",
         "x": [
          "2025-09-14T00:32:25"
         ],
         "y": [
          "Ned"
         ]
        },
        {
         "hovertext": "Turnover-Ball Down",
         "marker": {
          "color": "orange"
         },
         "mode": "markers",
         "showlegend": false,
         "type": "scatter",
         "x": [
          "2025-09-14T00:32:56"
         ],
         "y": [
          "France"
         ]
        },
        {
         "hovertext": "Turnover-6 Again",
         "marker": {
          "color": "orange"
         },
         "mode": "markers",
         "showlegend": false,
         "type": "scatter",
         "x": [
          "2025-09-14T00:33:26"
         ],
         "y": [
          "France"
         ]
        },
        {
         "hovertext": "Try-Try",
         "marker": {
          "color": "green"
         },
         "mode": "markers",
         "showlegend": false,
         "type": "scatter",
         "x": [
          "2025-09-14T00:33:41"
         ],
         "y": [
          "Ned"
         ]
        },
        {
         "hovertext": "Turnover-Ball Down",
         "marker": {
          "color": "orange"
         },
         "mode": "markers",
         "showlegend": false,
         "type": "scatter",
         "x": [
          "2025-09-14T00:34:18"
         ],
         "y": [
          "France"
         ]
        },
        {
         "hovertext": "Turnover-6 Again",
         "marker": {
          "color": "orange"
         },
         "mode": "markers",
         "showlegend": false,
         "type": "scatter",
         "x": [
          "2025-09-14T00:34:50"
         ],
         "y": [
          "France"
         ]
        },
        {
         "hovertext": "Turnover-6th Touch",
         "marker": {
          "color": "orange"
         },
         "mode": "markers",
         "showlegend": false,
         "type": "scatter",
         "x": [
          "2025-09-14T00:35:43"
         ],
         "y": [
          "Ned"
         ]
        },
        {
         "hovertext": "Turnover-Ball Down",
         "marker": {
          "color": "orange"
         },
         "mode": "markers",
         "showlegend": false,
         "type": "scatter",
         "x": [
          "2025-09-14T00:36:15"
         ],
         "y": [
          "France"
         ]
        },
        {
         "hovertext": "Turnover-Ball Down",
         "marker": {
          "color": "orange"
         },
         "mode": "markers",
         "showlegend": false,
         "type": "scatter",
         "x": [
          "2025-09-14T00:36:50"
         ],
         "y": [
          "Ned"
         ]
        },
        {
         "hovertext": "Penalty-Hard Touch",
         "marker": {
          "color": "red"
         },
         "mode": "markers",
         "showlegend": false,
         "type": "scatter",
         "x": [
          "2025-09-14T00:37:14"
         ],
         "y": [
          "Ned"
         ]
        },
        {
         "hovertext": "Penalty-Forward Pass",
         "marker": {
          "color": "red"
         },
         "mode": "markers",
         "showlegend": false,
         "type": "scatter",
         "x": [
          "2025-09-14T00:37:32"
         ],
         "y": [
          "Ned"
         ]
        },
        {
         "hovertext": "Try-Try",
         "marker": {
          "color": "green"
         },
         "mode": "markers",
         "showlegend": false,
         "type": "scatter",
         "x": [
          "2025-09-14T00:38:14"
         ],
         "y": [
          "France"
         ]
        },
        {
         "hovertext": "Penalty-Forward Pass",
         "marker": {
          "color": "red"
         },
         "mode": "markers",
         "showlegend": false,
         "type": "scatter",
         "x": [
          "2025-09-14T00:38:44"
         ],
         "y": [
          "Ned"
         ]
        },
        {
         "hovertext": "Turnover-Ball Down",
         "marker": {
          "color": "orange"
         },
         "mode": "markers",
         "showlegend": false,
         "type": "scatter",
         "x": [
          "2025-09-14T00:39:28"
         ],
         "y": [
          "France"
         ]
        },
        {
         "hovertext": "Penalty-In The Ruck",
         "marker": {
          "color": "red"
         },
         "mode": "markers",
         "showlegend": false,
         "type": "scatter",
         "x": [
          "2025-09-14T00:39:51"
         ],
         "y": [
          "France"
         ]
        },
        {
         "hovertext": "Try-Try",
         "marker": {
          "color": "green"
         },
         "mode": "markers",
         "showlegend": false,
         "type": "scatter",
         "x": [
          "2025-09-14T00:40:39"
         ],
         "y": [
          "Ned"
         ]
        },
        {
         "hovertext": "Try-Try",
         "marker": {
          "color": "green"
         },
         "mode": "markers",
         "showlegend": false,
         "type": "scatter",
         "x": [
          "2025-09-14T00:41:12"
         ],
         "y": [
          "France"
         ]
        },
        {
         "hovertext": "Turnover-6 Again",
         "marker": {
          "color": "orange"
         },
         "mode": "markers",
         "showlegend": false,
         "type": "scatter",
         "x": [
          "2025-09-14T00:41:48"
         ],
         "y": [
          "France"
         ]
        },
        {
         "hovertext": "Try-Try",
         "marker": {
          "color": "green"
         },
         "mode": "markers",
         "showlegend": false,
         "type": "scatter",
         "x": [
          "2025-09-14T00:42:24"
         ],
         "y": [
          "Ned"
         ]
        },
        {
         "hovertext": "Penalty-Forward Pass",
         "marker": {
          "color": "red"
         },
         "mode": "markers",
         "showlegend": false,
         "type": "scatter",
         "x": [
          "2025-09-14T00:43:18"
         ],
         "y": [
          "France"
         ]
        },
        {
         "hovertext": "Turnover-6th Touch",
         "marker": {
          "color": "orange"
         },
         "mode": "markers",
         "showlegend": false,
         "type": "scatter",
         "x": [
          "2025-09-14T00:43:51"
         ],
         "y": [
          "Ned"
         ]
        },
        {
         "hovertext": "Turnover-Ball Down",
         "marker": {
          "color": "orange"
         },
         "mode": "markers",
         "showlegend": false,
         "type": "scatter",
         "x": [
          "2025-09-14T00:44:19"
         ],
         "y": [
          "France"
         ]
        },
        {
         "hovertext": "Turnover-Ball Down",
         "marker": {
          "color": "orange"
         },
         "mode": "markers",
         "showlegend": false,
         "type": "scatter",
         "x": [
          "2025-09-14T00:44:53"
         ],
         "y": [
          "Ned"
         ]
        },
        {
         "hovertext": "Penalty-Shoulder",
         "marker": {
          "color": "red"
         },
         "mode": "markers",
         "showlegend": false,
         "type": "scatter",
         "x": [
          "2025-09-14T00:45:04"
         ],
         "y": [
          "France"
         ]
        },
        {
         "hovertext": "Turnover-Ball Down",
         "marker": {
          "color": "orange"
         },
         "mode": "markers",
         "showlegend": false,
         "type": "scatter",
         "x": [
          "2025-09-14T00:45:35"
         ],
         "y": [
          "Ned"
         ]
        },
        {
         "hovertext": "Try-Try",
         "marker": {
          "color": "green"
         },
         "mode": "markers",
         "showlegend": false,
         "type": "scatter",
         "x": [
          "2025-09-14T00:46:08"
         ],
         "y": [
          "France"
         ]
        },
        {
         "hovertext": "To Review-Other",
         "marker": {
          "color": "green"
         },
         "mode": "markers",
         "showlegend": false,
         "type": "scatter",
         "x": [
          "2025-09-14T00:46:35"
         ],
         "y": [
          "France"
         ]
        },
        {
         "hovertext": "Turnover-6th Touch",
         "marker": {
          "color": "orange"
         },
         "mode": "markers",
         "showlegend": false,
         "type": "scatter",
         "x": [
          "2025-09-14T00:46:58"
         ],
         "y": [
          "Ned"
         ]
        },
        {
         "hovertext": "Game Event-Game End",
         "marker": {
          "color": "black"
         },
         "mode": "markers",
         "showlegend": false,
         "type": "scatter",
         "x": [
          "2025-09-14T00:47:17"
         ],
         "y": [
          "France"
         ]
        }
       ],
       "layout": {
        "annotations": [
         {
          "showarrow": false,
          "text": "<a href='https://youtu.be/OVdyq3oRq_w?si=UqAu1x62-mD_XZPv&t=134'>link</a>",
          "x": "2025-09-14T00:02:14",
          "y": "Ned",
          "yshift": 10
         },
         {
          "showarrow": false,
          "text": "<a href='https://youtu.be/OVdyq3oRq_w?si=UqAu1x62-mD_XZPv&t=165'>link</a>",
          "x": "2025-09-14T00:02:45",
          "y": "Ned",
          "yshift": 10
         },
         {
          "showarrow": false,
          "text": "<a href='https://youtu.be/OVdyq3oRq_w?si=UqAu1x62-mD_XZPv&t=234'>link</a>",
          "x": "2025-09-14T00:03:54",
          "y": "France",
          "yshift": 10
         },
         {
          "showarrow": false,
          "text": "<a href='https://youtu.be/OVdyq3oRq_w?si=UqAu1x62-mD_XZPv&t=267'>link</a>",
          "x": "2025-09-14T00:04:27",
          "y": "Ned",
          "yshift": 10
         },
         {
          "showarrow": false,
          "text": "<a href='https://youtu.be/OVdyq3oRq_w?si=UqAu1x62-mD_XZPv&t=286'>link</a>",
          "x": "2025-09-14T00:04:46",
          "y": "France",
          "yshift": 10
         },
         {
          "showarrow": false,
          "text": "<a href='https://youtu.be/OVdyq3oRq_w?si=UqAu1x62-mD_XZPv&t=328'>link</a>",
          "x": "2025-09-14T00:05:28",
          "y": "Ned",
          "yshift": 10
         },
         {
          "showarrow": false,
          "text": "<a href='https://youtu.be/OVdyq3oRq_w?si=UqAu1x62-mD_XZPv&t=368'>link</a>",
          "x": "2025-09-14T00:06:08",
          "y": "France",
          "yshift": 10
         },
         {
          "showarrow": false,
          "text": "<a href='https://youtu.be/OVdyq3oRq_w?si=UqAu1x62-mD_XZPv&t=411'>link</a>",
          "x": "2025-09-14T00:06:51",
          "y": "Ned",
          "yshift": 10
         },
         {
          "showarrow": false,
          "text": "<a href='https://youtu.be/OVdyq3oRq_w?si=UqAu1x62-mD_XZPv&t=463'>link</a>",
          "x": "2025-09-14T00:07:43",
          "y": "France",
          "yshift": 10
         },
         {
          "showarrow": false,
          "text": "<a href='https://youtu.be/OVdyq3oRq_w?si=UqAu1x62-mD_XZPv&t=524'>link</a>",
          "x": "2025-09-14T00:08:44",
          "y": "Ned",
          "yshift": 10
         },
         {
          "showarrow": false,
          "text": "<a href='https://youtu.be/OVdyq3oRq_w?si=UqAu1x62-mD_XZPv&t=567'>link</a>",
          "x": "2025-09-14T00:09:27",
          "y": "France",
          "yshift": 10
         },
         {
          "showarrow": false,
          "text": "<a href='https://youtu.be/OVdyq3oRq_w?si=UqAu1x62-mD_XZPv&t=663'>link</a>",
          "x": "2025-09-14T00:11:03",
          "y": "Ned",
          "yshift": 10
         },
         {
          "showarrow": false,
          "text": "<a href='https://youtu.be/OVdyq3oRq_w?si=UqAu1x62-mD_XZPv&t=703'>link</a>",
          "x": "2025-09-14T00:11:43",
          "y": "France",
          "yshift": 10
         },
         {
          "showarrow": false,
          "text": "<a href='https://youtu.be/OVdyq3oRq_w?si=UqAu1x62-mD_XZPv&t=750'>link</a>",
          "x": "2025-09-14T00:12:30",
          "y": "Ned",
          "yshift": 10
         },
         {
          "showarrow": false,
          "text": "<a href='https://youtu.be/OVdyq3oRq_w?si=UqAu1x62-mD_XZPv&t=785'>link</a>",
          "x": "2025-09-14T00:13:05",
          "y": "Ned",
          "yshift": 10
         },
         {
          "showarrow": false,
          "text": "<a href='https://youtu.be/OVdyq3oRq_w?si=UqAu1x62-mD_XZPv&t=801'>link</a>",
          "x": "2025-09-14T00:13:21",
          "y": "France",
          "yshift": 10
         },
         {
          "showarrow": false,
          "text": "<a href='https://youtu.be/OVdyq3oRq_w?si=UqAu1x62-mD_XZPv&t=840'>link</a>",
          "x": "2025-09-14T00:14:00",
          "y": "Ned",
          "yshift": 10
         },
         {
          "showarrow": false,
          "text": "<a href='https://youtu.be/OVdyq3oRq_w?si=UqAu1x62-mD_XZPv&t=870'>link</a>",
          "x": "2025-09-14T00:14:30",
          "y": "France",
          "yshift": 10
         },
         {
          "showarrow": false,
          "text": "<a href='https://youtu.be/OVdyq3oRq_w?si=UqAu1x62-mD_XZPv&t=906'>link</a>",
          "x": "2025-09-14T00:15:06",
          "y": "Ned",
          "yshift": 10
         },
         {
          "showarrow": false,
          "text": "<a href='https://youtu.be/OVdyq3oRq_w?si=UqAu1x62-mD_XZPv&t=920'>link</a>",
          "x": "2025-09-14T00:15:20",
          "y": "France",
          "yshift": 10
         },
         {
          "showarrow": false,
          "text": "<a href='https://youtu.be/OVdyq3oRq_w?si=UqAu1x62-mD_XZPv&t=965'>link</a>",
          "x": "2025-09-14T00:16:05",
          "y": "France",
          "yshift": 10
         },
         {
          "showarrow": false,
          "text": "<a href='https://youtu.be/OVdyq3oRq_w?si=UqAu1x62-mD_XZPv&t=980'>link</a>",
          "x": "2025-09-14T00:16:20",
          "y": "France",
          "yshift": 10
         },
         {
          "showarrow": false,
          "text": "<a href='https://youtu.be/OVdyq3oRq_w?si=UqAu1x62-mD_XZPv&t=1020'>link</a>",
          "x": "2025-09-14T00:17:00",
          "y": "Ned",
          "yshift": 10
         },
         {
          "showarrow": false,
          "text": "<a href='https://youtu.be/OVdyq3oRq_w?si=UqAu1x62-mD_XZPv&t=1025'>link</a>",
          "x": "2025-09-14T00:17:05",
          "y": "Ned",
          "yshift": 10
         },
         {
          "showarrow": false,
          "text": "<a href='https://youtu.be/OVdyq3oRq_w?si=UqAu1x62-mD_XZPv&t=1044'>link</a>",
          "x": "2025-09-14T00:17:24",
          "y": "France",
          "yshift": 10
         },
         {
          "showarrow": false,
          "text": "<a href='https://youtu.be/OVdyq3oRq_w?si=UqAu1x62-mD_XZPv&t=1074'>link</a>",
          "x": "2025-09-14T00:17:54",
          "y": "Ned",
          "yshift": 10
         },
         {
          "showarrow": false,
          "text": "<a href='https://youtu.be/OVdyq3oRq_w?si=UqAu1x62-mD_XZPv&t=1099'>link</a>",
          "x": "2025-09-14T00:18:19",
          "y": "Ned",
          "yshift": 10
         },
         {
          "showarrow": false,
          "text": "<a href='https://youtu.be/OVdyq3oRq_w?si=UqAu1x62-mD_XZPv&t=1135'>link</a>",
          "x": "2025-09-14T00:18:55",
          "y": "France",
          "yshift": 10
         },
         {
          "showarrow": false,
          "text": "<a href='https://youtu.be/OVdyq3oRq_w?si=UqAu1x62-mD_XZPv&t=1171'>link</a>",
          "x": "2025-09-14T00:19:31",
          "y": "Ned",
          "yshift": 10
         },
         {
          "showarrow": false,
          "text": "<a href='https://youtu.be/OVdyq3oRq_w?si=UqAu1x62-mD_XZPv&t=1197'>link</a>",
          "x": "2025-09-14T00:19:57",
          "y": "France",
          "yshift": 10
         },
         {
          "showarrow": false,
          "text": "<a href='https://youtu.be/OVdyq3oRq_w?si=UqAu1x62-mD_XZPv&t=1247'>link</a>",
          "x": "2025-09-14T00:20:47",
          "y": "Ned",
          "yshift": 10
         },
         {
          "showarrow": false,
          "text": "<a href='https://youtu.be/OVdyq3oRq_w?si=UqAu1x62-mD_XZPv&t=1264'>link</a>",
          "x": "2025-09-14T00:21:04",
          "y": "France",
          "yshift": 10
         },
         {
          "showarrow": false,
          "text": "<a href='https://youtu.be/OVdyq3oRq_w?si=UqAu1x62-mD_XZPv&t=1294'>link</a>",
          "x": "2025-09-14T00:21:34",
          "y": "Ned",
          "yshift": 10
         },
         {
          "showarrow": false,
          "text": "<a href='https://youtu.be/OVdyq3oRq_w?si=UqAu1x62-mD_XZPv&t=1308'>link</a>",
          "x": "2025-09-14T00:21:48",
          "y": "France",
          "yshift": 10
         },
         {
          "showarrow": false,
          "text": "<a href='https://youtu.be/OVdyq3oRq_w?si=UqAu1x62-mD_XZPv&t=1317'>link</a>",
          "x": "2025-09-14T00:21:57",
          "y": "Ned",
          "yshift": 10
         },
         {
          "showarrow": false,
          "text": "<a href='https://youtu.be/OVdyq3oRq_w?si=UqAu1x62-mD_XZPv&t=1323'>link</a>",
          "x": "2025-09-14T00:22:03",
          "y": "France",
          "yshift": 10
         },
         {
          "showarrow": false,
          "text": "<a href='https://youtu.be/OVdyq3oRq_w?si=UqAu1x62-mD_XZPv&t=1335'>link</a>",
          "x": "2025-09-14T00:22:15",
          "y": "France",
          "yshift": 10
         },
         {
          "showarrow": false,
          "text": "<a href='https://youtu.be/OVdyq3oRq_w?si=UqAu1x62-mD_XZPv&t=1633'>link</a>",
          "x": "2025-09-14T00:27:13",
          "y": "France",
          "yshift": 10
         },
         {
          "showarrow": false,
          "text": "<a href='https://youtu.be/OVdyq3oRq_w?si=UqAu1x62-mD_XZPv&t=1642'>link</a>",
          "x": "2025-09-14T00:27:22",
          "y": "France",
          "yshift": 10
         },
         {
          "showarrow": false,
          "text": "<a href='https://youtu.be/OVdyq3oRq_w?si=UqAu1x62-mD_XZPv&t=1663'>link</a>",
          "x": "2025-09-14T00:27:43",
          "y": "Ned",
          "yshift": 10
         },
         {
          "showarrow": false,
          "text": "<a href='https://youtu.be/OVdyq3oRq_w?si=UqAu1x62-mD_XZPv&t=1709'>link</a>",
          "x": "2025-09-14T00:28:29",
          "y": "France",
          "yshift": 10
         },
         {
          "showarrow": false,
          "text": "<a href='https://youtu.be/OVdyq3oRq_w?si=UqAu1x62-mD_XZPv&t=1764'>link</a>",
          "x": "2025-09-14T00:29:24",
          "y": "Ned",
          "yshift": 10
         },
         {
          "showarrow": false,
          "text": "<a href='https://youtu.be/OVdyq3oRq_w?si=UqAu1x62-mD_XZPv&t=1773'>link</a>",
          "x": "2025-09-14T00:29:33",
          "y": "France",
          "yshift": 10
         },
         {
          "showarrow": false,
          "text": "<a href='https://youtu.be/OVdyq3oRq_w?si=UqAu1x62-mD_XZPv&t=1792'>link</a>",
          "x": "2025-09-14T00:29:52",
          "y": "France",
          "yshift": 10
         },
         {
          "showarrow": false,
          "text": "<a href='https://youtu.be/OVdyq3oRq_w?si=UqAu1x62-mD_XZPv&t=1833'>link</a>",
          "x": "2025-09-14T00:30:33",
          "y": "Ned",
          "yshift": 10
         },
         {
          "showarrow": false,
          "text": "<a href='https://youtu.be/OVdyq3oRq_w?si=UqAu1x62-mD_XZPv&t=1864'>link</a>",
          "x": "2025-09-14T00:31:04",
          "y": "France",
          "yshift": 10
         },
         {
          "showarrow": false,
          "text": "<a href='https://youtu.be/OVdyq3oRq_w?si=UqAu1x62-mD_XZPv&t=1892'>link</a>",
          "x": "2025-09-14T00:31:32",
          "y": "Ned",
          "yshift": 10
         },
         {
          "showarrow": false,
          "text": "<a href='https://youtu.be/OVdyq3oRq_w?si=UqAu1x62-mD_XZPv&t=1926'>link</a>",
          "x": "2025-09-14T00:32:06",
          "y": "France",
          "yshift": 10
         },
         {
          "showarrow": false,
          "text": "<a href='https://youtu.be/OVdyq3oRq_w?si=UqAu1x62-mD_XZPv&t=1945'>link</a>",
          "x": "2025-09-14T00:32:25",
          "y": "Ned",
          "yshift": 10
         },
         {
          "showarrow": false,
          "text": "<a href='https://youtu.be/OVdyq3oRq_w?si=UqAu1x62-mD_XZPv&t=1976'>link</a>",
          "x": "2025-09-14T00:32:56",
          "y": "France",
          "yshift": 10
         },
         {
          "showarrow": false,
          "text": "<a href='https://youtu.be/OVdyq3oRq_w?si=UqAu1x62-mD_XZPv&t=2006'>link</a>",
          "x": "2025-09-14T00:33:26",
          "y": "France",
          "yshift": 10
         },
         {
          "showarrow": false,
          "text": "<a href='https://youtu.be/OVdyq3oRq_w?si=UqAu1x62-mD_XZPv&t=2021'>link</a>",
          "x": "2025-09-14T00:33:41",
          "y": "Ned",
          "yshift": 10
         },
         {
          "showarrow": false,
          "text": "<a href='https://youtu.be/OVdyq3oRq_w?si=UqAu1x62-mD_XZPv&t=2058'>link</a>",
          "x": "2025-09-14T00:34:18",
          "y": "France",
          "yshift": 10
         },
         {
          "showarrow": false,
          "text": "<a href='https://youtu.be/OVdyq3oRq_w?si=UqAu1x62-mD_XZPv&t=2090'>link</a>",
          "x": "2025-09-14T00:34:50",
          "y": "France",
          "yshift": 10
         },
         {
          "showarrow": false,
          "text": "<a href='https://youtu.be/OVdyq3oRq_w?si=UqAu1x62-mD_XZPv&t=2143'>link</a>",
          "x": "2025-09-14T00:35:43",
          "y": "Ned",
          "yshift": 10
         },
         {
          "showarrow": false,
          "text": "<a href='https://youtu.be/OVdyq3oRq_w?si=UqAu1x62-mD_XZPv&t=2175'>link</a>",
          "x": "2025-09-14T00:36:15",
          "y": "France",
          "yshift": 10
         },
         {
          "showarrow": false,
          "text": "<a href='https://youtu.be/OVdyq3oRq_w?si=UqAu1x62-mD_XZPv&t=2210'>link</a>",
          "x": "2025-09-14T00:36:50",
          "y": "Ned",
          "yshift": 10
         },
         {
          "showarrow": false,
          "text": "<a href='https://youtu.be/OVdyq3oRq_w?si=UqAu1x62-mD_XZPv&t=2234'>link</a>",
          "x": "2025-09-14T00:37:14",
          "y": "Ned",
          "yshift": 10
         },
         {
          "showarrow": false,
          "text": "<a href='https://youtu.be/OVdyq3oRq_w?si=UqAu1x62-mD_XZPv&t=2252'>link</a>",
          "x": "2025-09-14T00:37:32",
          "y": "Ned",
          "yshift": 10
         },
         {
          "showarrow": false,
          "text": "<a href='https://youtu.be/OVdyq3oRq_w?si=UqAu1x62-mD_XZPv&t=2294'>link</a>",
          "x": "2025-09-14T00:38:14",
          "y": "France",
          "yshift": 10
         },
         {
          "showarrow": false,
          "text": "<a href='https://youtu.be/OVdyq3oRq_w?si=UqAu1x62-mD_XZPv&t=2324'>link</a>",
          "x": "2025-09-14T00:38:44",
          "y": "Ned",
          "yshift": 10
         },
         {
          "showarrow": false,
          "text": "<a href='https://youtu.be/OVdyq3oRq_w?si=UqAu1x62-mD_XZPv&t=2368'>link</a>",
          "x": "2025-09-14T00:39:28",
          "y": "France",
          "yshift": 10
         },
         {
          "showarrow": false,
          "text": "<a href='https://youtu.be/OVdyq3oRq_w?si=UqAu1x62-mD_XZPv&t=2391'>link</a>",
          "x": "2025-09-14T00:39:51",
          "y": "France",
          "yshift": 10
         },
         {
          "showarrow": false,
          "text": "<a href='https://youtu.be/OVdyq3oRq_w?si=UqAu1x62-mD_XZPv&t=2439'>link</a>",
          "x": "2025-09-14T00:40:39",
          "y": "Ned",
          "yshift": 10
         },
         {
          "showarrow": false,
          "text": "<a href='https://youtu.be/OVdyq3oRq_w?si=UqAu1x62-mD_XZPv&t=2472'>link</a>",
          "x": "2025-09-14T00:41:12",
          "y": "France",
          "yshift": 10
         },
         {
          "showarrow": false,
          "text": "<a href='https://youtu.be/OVdyq3oRq_w?si=UqAu1x62-mD_XZPv&t=2508'>link</a>",
          "x": "2025-09-14T00:41:48",
          "y": "France",
          "yshift": 10
         },
         {
          "showarrow": false,
          "text": "<a href='https://youtu.be/OVdyq3oRq_w?si=UqAu1x62-mD_XZPv&t=2544'>link</a>",
          "x": "2025-09-14T00:42:24",
          "y": "Ned",
          "yshift": 10
         },
         {
          "showarrow": false,
          "text": "<a href='https://youtu.be/OVdyq3oRq_w?si=UqAu1x62-mD_XZPv&t=2598'>link</a>",
          "x": "2025-09-14T00:43:18",
          "y": "France",
          "yshift": 10
         },
         {
          "showarrow": false,
          "text": "<a href='https://youtu.be/OVdyq3oRq_w?si=UqAu1x62-mD_XZPv&t=2631'>link</a>",
          "x": "2025-09-14T00:43:51",
          "y": "Ned",
          "yshift": 10
         },
         {
          "showarrow": false,
          "text": "<a href='https://youtu.be/OVdyq3oRq_w?si=UqAu1x62-mD_XZPv&t=2659'>link</a>",
          "x": "2025-09-14T00:44:19",
          "y": "France",
          "yshift": 10
         },
         {
          "showarrow": false,
          "text": "<a href='https://youtu.be/OVdyq3oRq_w?si=UqAu1x62-mD_XZPv&t=2693'>link</a>",
          "x": "2025-09-14T00:44:53",
          "y": "Ned",
          "yshift": 10
         },
         {
          "showarrow": false,
          "text": "<a href='https://youtu.be/OVdyq3oRq_w?si=UqAu1x62-mD_XZPv&t=2704'>link</a>",
          "x": "2025-09-14T00:45:04",
          "y": "France",
          "yshift": 10
         },
         {
          "showarrow": false,
          "text": "<a href='https://youtu.be/OVdyq3oRq_w?si=UqAu1x62-mD_XZPv&t=2735'>link</a>",
          "x": "2025-09-14T00:45:35",
          "y": "Ned",
          "yshift": 10
         },
         {
          "showarrow": false,
          "text": "<a href='https://youtu.be/OVdyq3oRq_w?si=UqAu1x62-mD_XZPv&t=2768'>link</a>",
          "x": "2025-09-14T00:46:08",
          "y": "France",
          "yshift": 10
         },
         {
          "showarrow": false,
          "text": "<a href='https://youtu.be/OVdyq3oRq_w?si=UqAu1x62-mD_XZPv&t=2795'>link</a>",
          "x": "2025-09-14T00:46:35",
          "y": "France",
          "yshift": 10
         },
         {
          "showarrow": false,
          "text": "<a href='https://youtu.be/OVdyq3oRq_w?si=UqAu1x62-mD_XZPv&t=2818'>link</a>",
          "x": "2025-09-14T00:46:58",
          "y": "Ned",
          "yshift": 10
         },
         {
          "showarrow": false,
          "text": "<a href='https://youtu.be/OVdyq3oRq_w?si=UqAu1x62-mD_XZPv&t=2837'>link</a>",
          "x": "2025-09-14T00:47:17",
          "y": "France",
          "yshift": 10
         }
        ],
        "template": {
         "data": {
          "bar": [
           {
            "error_x": {
             "color": "#2a3f5f"
            },
            "error_y": {
             "color": "#2a3f5f"
            },
            "marker": {
             "line": {
              "color": "#E5ECF6",
              "width": 0.5
             },
             "pattern": {
              "fillmode": "overlay",
              "size": 10,
              "solidity": 0.2
             }
            },
            "type": "bar"
           }
          ],
          "barpolar": [
           {
            "marker": {
             "line": {
              "color": "#E5ECF6",
              "width": 0.5
             },
             "pattern": {
              "fillmode": "overlay",
              "size": 10,
              "solidity": 0.2
             }
            },
            "type": "barpolar"
           }
          ],
          "carpet": [
           {
            "aaxis": {
             "endlinecolor": "#2a3f5f",
             "gridcolor": "white",
             "linecolor": "white",
             "minorgridcolor": "white",
             "startlinecolor": "#2a3f5f"
            },
            "baxis": {
             "endlinecolor": "#2a3f5f",
             "gridcolor": "white",
             "linecolor": "white",
             "minorgridcolor": "white",
             "startlinecolor": "#2a3f5f"
            },
            "type": "carpet"
           }
          ],
          "choropleth": [
           {
            "colorbar": {
             "outlinewidth": 0,
             "ticks": ""
            },
            "type": "choropleth"
           }
          ],
          "contour": [
           {
            "colorbar": {
             "outlinewidth": 0,
             "ticks": ""
            },
            "colorscale": [
             [
              0,
              "#0d0887"
             ],
             [
              0.1111111111111111,
              "#46039f"
             ],
             [
              0.2222222222222222,
              "#7201a8"
             ],
             [
              0.3333333333333333,
              "#9c179e"
             ],
             [
              0.4444444444444444,
              "#bd3786"
             ],
             [
              0.5555555555555556,
              "#d8576b"
             ],
             [
              0.6666666666666666,
              "#ed7953"
             ],
             [
              0.7777777777777778,
              "#fb9f3a"
             ],
             [
              0.8888888888888888,
              "#fdca26"
             ],
             [
              1,
              "#f0f921"
             ]
            ],
            "type": "contour"
           }
          ],
          "contourcarpet": [
           {
            "colorbar": {
             "outlinewidth": 0,
             "ticks": ""
            },
            "type": "contourcarpet"
           }
          ],
          "heatmap": [
           {
            "colorbar": {
             "outlinewidth": 0,
             "ticks": ""
            },
            "colorscale": [
             [
              0,
              "#0d0887"
             ],
             [
              0.1111111111111111,
              "#46039f"
             ],
             [
              0.2222222222222222,
              "#7201a8"
             ],
             [
              0.3333333333333333,
              "#9c179e"
             ],
             [
              0.4444444444444444,
              "#bd3786"
             ],
             [
              0.5555555555555556,
              "#d8576b"
             ],
             [
              0.6666666666666666,
              "#ed7953"
             ],
             [
              0.7777777777777778,
              "#fb9f3a"
             ],
             [
              0.8888888888888888,
              "#fdca26"
             ],
             [
              1,
              "#f0f921"
             ]
            ],
            "type": "heatmap"
           }
          ],
          "histogram": [
           {
            "marker": {
             "pattern": {
              "fillmode": "overlay",
              "size": 10,
              "solidity": 0.2
             }
            },
            "type": "histogram"
           }
          ],
          "histogram2d": [
           {
            "colorbar": {
             "outlinewidth": 0,
             "ticks": ""
            },
            "colorscale": [
             [
              0,
              "#0d0887"
             ],
             [
              0.1111111111111111,
              "#46039f"
             ],
             [
              0.2222222222222222,
              "#7201a8"
             ],
             [
              0.3333333333333333,
              "#9c179e"
             ],
             [
              0.4444444444444444,
              "#bd3786"
             ],
             [
              0.5555555555555556,
              "#d8576b"
             ],
             [
              0.6666666666666666,
              "#ed7953"
             ],
             [
              0.7777777777777778,
              "#fb9f3a"
             ],
             [
              0.8888888888888888,
              "#fdca26"
             ],
             [
              1,
              "#f0f921"
             ]
            ],
            "type": "histogram2d"
           }
          ],
          "histogram2dcontour": [
           {
            "colorbar": {
             "outlinewidth": 0,
             "ticks": ""
            },
            "colorscale": [
             [
              0,
              "#0d0887"
             ],
             [
              0.1111111111111111,
              "#46039f"
             ],
             [
              0.2222222222222222,
              "#7201a8"
             ],
             [
              0.3333333333333333,
              "#9c179e"
             ],
             [
              0.4444444444444444,
              "#bd3786"
             ],
             [
              0.5555555555555556,
              "#d8576b"
             ],
             [
              0.6666666666666666,
              "#ed7953"
             ],
             [
              0.7777777777777778,
              "#fb9f3a"
             ],
             [
              0.8888888888888888,
              "#fdca26"
             ],
             [
              1,
              "#f0f921"
             ]
            ],
            "type": "histogram2dcontour"
           }
          ],
          "mesh3d": [
           {
            "colorbar": {
             "outlinewidth": 0,
             "ticks": ""
            },
            "type": "mesh3d"
           }
          ],
          "parcoords": [
           {
            "line": {
             "colorbar": {
              "outlinewidth": 0,
              "ticks": ""
             }
            },
            "type": "parcoords"
           }
          ],
          "pie": [
           {
            "automargin": true,
            "type": "pie"
           }
          ],
          "scatter": [
           {
            "fillpattern": {
             "fillmode": "overlay",
             "size": 10,
             "solidity": 0.2
            },
            "type": "scatter"
           }
          ],
          "scatter3d": [
           {
            "line": {
             "colorbar": {
              "outlinewidth": 0,
              "ticks": ""
             }
            },
            "marker": {
             "colorbar": {
              "outlinewidth": 0,
              "ticks": ""
             }
            },
            "type": "scatter3d"
           }
          ],
          "scattercarpet": [
           {
            "marker": {
             "colorbar": {
              "outlinewidth": 0,
              "ticks": ""
             }
            },
            "type": "scattercarpet"
           }
          ],
          "scattergeo": [
           {
            "marker": {
             "colorbar": {
              "outlinewidth": 0,
              "ticks": ""
             }
            },
            "type": "scattergeo"
           }
          ],
          "scattergl": [
           {
            "marker": {
             "colorbar": {
              "outlinewidth": 0,
              "ticks": ""
             }
            },
            "type": "scattergl"
           }
          ],
          "scattermap": [
           {
            "marker": {
             "colorbar": {
              "outlinewidth": 0,
              "ticks": ""
             }
            },
            "type": "scattermap"
           }
          ],
          "scattermapbox": [
           {
            "marker": {
             "colorbar": {
              "outlinewidth": 0,
              "ticks": ""
             }
            },
            "type": "scattermapbox"
           }
          ],
          "scatterpolar": [
           {
            "marker": {
             "colorbar": {
              "outlinewidth": 0,
              "ticks": ""
             }
            },
            "type": "scatterpolar"
           }
          ],
          "scatterpolargl": [
           {
            "marker": {
             "colorbar": {
              "outlinewidth": 0,
              "ticks": ""
             }
            },
            "type": "scatterpolargl"
           }
          ],
          "scatterternary": [
           {
            "marker": {
             "colorbar": {
              "outlinewidth": 0,
              "ticks": ""
             }
            },
            "type": "scatterternary"
           }
          ],
          "surface": [
           {
            "colorbar": {
             "outlinewidth": 0,
             "ticks": ""
            },
            "colorscale": [
             [
              0,
              "#0d0887"
             ],
             [
              0.1111111111111111,
              "#46039f"
             ],
             [
              0.2222222222222222,
              "#7201a8"
             ],
             [
              0.3333333333333333,
              "#9c179e"
             ],
             [
              0.4444444444444444,
              "#bd3786"
             ],
             [
              0.5555555555555556,
              "#d8576b"
             ],
             [
              0.6666666666666666,
              "#ed7953"
             ],
             [
              0.7777777777777778,
              "#fb9f3a"
             ],
             [
              0.8888888888888888,
              "#fdca26"
             ],
             [
              1,
              "#f0f921"
             ]
            ],
            "type": "surface"
           }
          ],
          "table": [
           {
            "cells": {
             "fill": {
              "color": "#EBF0F8"
             },
             "line": {
              "color": "white"
             }
            },
            "header": {
             "fill": {
              "color": "#C8D4E3"
             },
             "line": {
              "color": "white"
             }
            },
            "type": "table"
           }
          ]
         },
         "layout": {
          "annotationdefaults": {
           "arrowcolor": "#2a3f5f",
           "arrowhead": 0,
           "arrowwidth": 1
          },
          "autotypenumbers": "strict",
          "coloraxis": {
           "colorbar": {
            "outlinewidth": 0,
            "ticks": ""
           }
          },
          "colorscale": {
           "diverging": [
            [
             0,
             "#8e0152"
            ],
            [
             0.1,
             "#c51b7d"
            ],
            [
             0.2,
             "#de77ae"
            ],
            [
             0.3,
             "#f1b6da"
            ],
            [
             0.4,
             "#fde0ef"
            ],
            [
             0.5,
             "#f7f7f7"
            ],
            [
             0.6,
             "#e6f5d0"
            ],
            [
             0.7,
             "#b8e186"
            ],
            [
             0.8,
             "#7fbc41"
            ],
            [
             0.9,
             "#4d9221"
            ],
            [
             1,
             "#276419"
            ]
           ],
           "sequential": [
            [
             0,
             "#0d0887"
            ],
            [
             0.1111111111111111,
             "#46039f"
            ],
            [
             0.2222222222222222,
             "#7201a8"
            ],
            [
             0.3333333333333333,
             "#9c179e"
            ],
            [
             0.4444444444444444,
             "#bd3786"
            ],
            [
             0.5555555555555556,
             "#d8576b"
            ],
            [
             0.6666666666666666,
             "#ed7953"
            ],
            [
             0.7777777777777778,
             "#fb9f3a"
            ],
            [
             0.8888888888888888,
             "#fdca26"
            ],
            [
             1,
             "#f0f921"
            ]
           ],
           "sequentialminus": [
            [
             0,
             "#0d0887"
            ],
            [
             0.1111111111111111,
             "#46039f"
            ],
            [
             0.2222222222222222,
             "#7201a8"
            ],
            [
             0.3333333333333333,
             "#9c179e"
            ],
            [
             0.4444444444444444,
             "#bd3786"
            ],
            [
             0.5555555555555556,
             "#d8576b"
            ],
            [
             0.6666666666666666,
             "#ed7953"
            ],
            [
             0.7777777777777778,
             "#fb9f3a"
            ],
            [
             0.8888888888888888,
             "#fdca26"
            ],
            [
             1,
             "#f0f921"
            ]
           ]
          },
          "colorway": [
           "#636efa",
           "#EF553B",
           "#00cc96",
           "#ab63fa",
           "#FFA15A",
           "#19d3f3",
           "#FF6692",
           "#B6E880",
           "#FF97FF",
           "#FECB52"
          ],
          "font": {
           "color": "#2a3f5f"
          },
          "geo": {
           "bgcolor": "white",
           "lakecolor": "white",
           "landcolor": "#E5ECF6",
           "showlakes": true,
           "showland": true,
           "subunitcolor": "white"
          },
          "hoverlabel": {
           "align": "left"
          },
          "hovermode": "closest",
          "mapbox": {
           "style": "light"
          },
          "paper_bgcolor": "white",
          "plot_bgcolor": "#E5ECF6",
          "polar": {
           "angularaxis": {
            "gridcolor": "white",
            "linecolor": "white",
            "ticks": ""
           },
           "bgcolor": "#E5ECF6",
           "radialaxis": {
            "gridcolor": "white",
            "linecolor": "white",
            "ticks": ""
           }
          },
          "scene": {
           "xaxis": {
            "backgroundcolor": "#E5ECF6",
            "gridcolor": "white",
            "gridwidth": 2,
            "linecolor": "white",
            "showbackground": true,
            "ticks": "",
            "zerolinecolor": "white"
           },
           "yaxis": {
            "backgroundcolor": "#E5ECF6",
            "gridcolor": "white",
            "gridwidth": 2,
            "linecolor": "white",
            "showbackground": true,
            "ticks": "",
            "zerolinecolor": "white"
           },
           "zaxis": {
            "backgroundcolor": "#E5ECF6",
            "gridcolor": "white",
            "gridwidth": 2,
            "linecolor": "white",
            "showbackground": true,
            "ticks": "",
            "zerolinecolor": "white"
           }
          },
          "shapedefaults": {
           "line": {
            "color": "#2a3f5f"
           }
          },
          "ternary": {
           "aaxis": {
            "gridcolor": "white",
            "linecolor": "white",
            "ticks": ""
           },
           "baxis": {
            "gridcolor": "white",
            "linecolor": "white",
            "ticks": ""
           },
           "bgcolor": "#E5ECF6",
           "caxis": {
            "gridcolor": "white",
            "linecolor": "white",
            "ticks": ""
           }
          },
          "title": {
           "x": 0.05
          },
          "xaxis": {
           "automargin": true,
           "gridcolor": "white",
           "linecolor": "white",
           "ticks": "",
           "title": {
            "standoff": 15
           },
           "zerolinecolor": "white",
           "zerolinewidth": 2
          },
          "yaxis": {
           "automargin": true,
           "gridcolor": "white",
           "linecolor": "white",
           "ticks": "",
           "title": {
            "standoff": 15
           },
           "zerolinecolor": "white",
           "zerolinewidth": 2
          }
         }
        }
       }
      },
      "image/png": "[encoded data removed]"
     },
     "metadata": {},
     "output_type": "display_data"
    }
   ],
   "source": [
    "game_fig = go.Figure()\n",
    "score_data = []\n",
    "against_local, prev_time = None, None\n",
    "\n",
    "for n, colour in [(LOCAL_TEAM_NAME, \"green\"), (OTHER_TEAM_NAME, \"red\")]:\n",
    "    points_x, points_y = [], []\n",
    "    for i, row in data_df.iterrows():\n",
    "        if row[\"ball_owner\"] == n:\n",
    "            points_x.append(row[\"Time\"])\n",
    "            points_y.append(n)\n",
    "        else:\n",
    "            if i>0 and data_df.iloc[i-1][\"ball_owner\"] == n:\n",
    "                points_x.append(row[\"Time\"])\n",
    "                points_y.append(n)\n",
    "                points_x.append(None)\n",
    "                points_y.append(None)\n",
    "            else:\n",
    "                continue\n",
    "    game_fig.add_trace(\n",
    "        go.Scatter(\n",
    "            x=points_x, \n",
    "            y=points_y, \n",
    "            mode='lines',\n",
    "            hoverinfo=None,\n",
    "            marker_color=colour,\n",
    "            name=n\n",
    "        )\n",
    "    )\n",
    "\n",
    "annotations = []\n",
    "for i, row in data_df.iterrows():\n",
    "    # rich.print(f\"{row['Type']}-{row['Name']} (Against Local={row['Against France']})\")\n",
    "    \n",
    "    if row[\"Type\"]==\"Penalty\":\n",
    "        color = \"red\"\n",
    "    elif row[\"Type\"]==\"Turnover\":\n",
    "        color = \"orange\"\n",
    "    elif row[\"Type\"]==\"Game Event\":\n",
    "        color = \"black\"\n",
    "    else:\n",
    "        color = \"green\"\n",
    "    hovertext = f\"{row['Type']}-{row['Name']}\"\n",
    "    game_fig.add_trace(go.Scatter(\n",
    "        x=[row[\"Time\"]], \n",
    "        y=[row[\"Team\"]], \n",
    "        mode='markers',\n",
    "        # name=hovertext,\n",
    "        hovertext=hovertext,\n",
    "        marker_color=color,\n",
    "        showlegend=False,\n",
    "    ))\n",
    "    annotations.append(\n",
    "            dict(\n",
    "                x=row[\"Time\"],\n",
    "                y=row[\"Team\"],\n",
    "                text=f\"<a href='{row['Youtube Link']}'>link</a>\",\n",
    "                showarrow=False,\n",
    "                yshift=10,\n",
    "            ))\n",
    "    \n",
    "game_fig.update_layout(annotations=annotations)\n",
    "# fig.update_layout(hovermode=\"x unified\", annotations)\n",
    "game_fig.write_html(output_data_root / \"events_v2.html\")\n",
    "game_fig.show()"
   ]
  },
  {
   "cell_type": "code",
   "execution_count": 18,
   "id": "da0ae956-f566-4981-8ac1-f93552419240",
   "metadata": {},
   "outputs": [],
   "source": [
    "from jinja2 import Template\n",
    "\n",
    "input_template_path=ASSETS_ROOT / \"template.html\"\n",
    "output_html_path=ROOT / \"index.html\"\n",
    "\n",
    "plotly_jinja_data = {\n",
    "    \"game_fig\":    game_fig.to_html(full_html=False),\n",
    "    \"trend_fig\":   trend_fig.to_html(full_html=False),\n",
    "    \"stats_table\": new_stats_df.to_html(),\n",
    "}\n",
    "#consider also defining the include_plotlyjs parameter to point to an external Plotly.js as described above\n",
    "\n",
    "with output_html_path.open(\"w\", encoding=\"utf-8\") as output_file:\n",
    "    with input_template_path.open() as template_file:\n",
    "        j2_template = Template(template_file.read())\n",
    "        output_file.write(j2_template.render(plotly_jinja_data))"
   ]
  },
  {
   "cell_type": "code",
   "execution_count": null,
   "id": "35ff3c84-4f4e-46b2-9ded-c66ffc2a5c72",
   "metadata": {},
   "outputs": [],
   "source": []
  }
 ],
 "metadata": {
  "kernelspec": {
   "display_name": "Python 3 (ipykernel)",
   "language": "python",
   "name": "python3"
  },
  "language_info": {
   "codemirror_mode": {
    "name": "ipython",
    "version": 3
   },
   "file_extension": ".py",
   "mimetype": "text/x-python",
   "name": "python",
   "nbconvert_exporter": "python",
   "pygments_lexer": "ipython3",
   "version": "3.13.7"
  }
 },
 "nbformat": 4,
 "nbformat_minor": 5
}
